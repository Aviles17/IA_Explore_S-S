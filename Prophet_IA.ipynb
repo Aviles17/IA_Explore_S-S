{
 "cells": [
  {
   "cell_type": "markdown",
   "metadata": {},
   "source": [
    "# **Desarrollo de Modelo IA para prevenir perdidas -> PROPHET STOCK**\n",
    "# By: S&S Investments"
   ]
  },
  {
   "cell_type": "markdown",
   "metadata": {},
   "source": [
    "## Creación del entorno (Importación Librerias)"
   ]
  },
  {
   "cell_type": "code",
   "execution_count": 1,
   "metadata": {},
   "outputs": [
    {
     "name": "stderr",
     "output_type": "stream",
     "text": [
      "/home/santiago/Documentos/S&S_Investments/IA_Explore/EDA_SS_IA/lib/python3.12/site-packages/tqdm/auto.py:21: TqdmWarning: IProgress not found. Please update jupyter and ipywidgets. See https://ipywidgets.readthedocs.io/en/stable/user_install.html\n",
      "  from .autonotebook import tqdm as notebook_tqdm\n",
      "Importing plotly failed. Interactive plots will not work.\n"
     ]
    }
   ],
   "source": [
    "import pandas as pd\n",
    "import numpy as np\n",
    "import matplotlib.pyplot as plt\n",
    "%matplotlib inline\n",
    "import os\n",
    "import prophet"
   ]
  },
  {
   "cell_type": "markdown",
   "metadata": {},
   "source": [
    "## Cargar Dataframe de cada stock hasta el dia actual"
   ]
  },
  {
   "cell_type": "markdown",
   "metadata": {},
   "source": [
    "### Función para construir los dataframes con indicadores"
   ]
  },
  {
   "cell_type": "code",
   "execution_count": 2,
   "metadata": {},
   "outputs": [],
   "source": [
    "\n",
    "def ta_sma(source, length, rounded=7) -> float:\n",
    "    sum_length = sum(source)\n",
    "    SMA = round(sum_length/length, rounded)\n",
    "    return SMA\n",
    "\n",
    "def ta_ema(source: pd.Series, length: int, rounded=7, ):\n",
    "    alpha = 2 / (length + 1)\n",
    "    SMA = []\n",
    "    EMA = []\n",
    "    aux = 0\n",
    "    prev_ema = 0\n",
    "    for close_price in source:\n",
    "        aux = aux + 1\n",
    "        if (aux < length):\n",
    "            SMA.append(close_price)\n",
    "            EMA.append(None)\n",
    "            continue\n",
    "        elif (aux == length):\n",
    "            prev_ema = ta_sma(SMA, length)\n",
    "            EMA.append(prev_ema)\n",
    "            continue\n",
    "        elif (aux > length):\n",
    "            close_price = round(close_price, rounded)\n",
    "            prev_ema = round(\n",
    "                (alpha * close_price + (1 - alpha) * prev_ema), rounded)\n",
    "            EMA.append(prev_ema)\n",
    "    return EMA\n",
    "\n",
    "def ta_second_ema(source, length, rounded=7):\n",
    "    alpha = 2 / (length + 1)\n",
    "    SMA = []\n",
    "    EMA2 = []\n",
    "    aux = 0\n",
    "    prev_ema2 = 0\n",
    "    for ema_value in source:\n",
    "        if (ema_value == None):\n",
    "            EMA2.append(None)\n",
    "            continue\n",
    "        elif (ema_value != None):\n",
    "            aux = aux + 1\n",
    "            if (aux < length):\n",
    "                SMA.append(ema_value)\n",
    "                EMA2.append(None)\n",
    "                continue\n",
    "            elif (aux == length):\n",
    "                prev_ema2 = ta_sma(SMA, length)\n",
    "                EMA2.append(prev_ema2)\n",
    "                continue\n",
    "            elif (aux > length):\n",
    "                prev_ema2 = round(\n",
    "                    (alpha * ema_value + (1 - alpha) * prev_ema2), rounded)\n",
    "                EMA2.append(prev_ema2)\n",
    "    return EMA2\n",
    "\n",
    "def dema(df: pd.DataFrame, length: int = 800, rounded=7):\n",
    "    src = df['Close']\n",
    "    e1 = ta_ema(src, length)\n",
    "    e2 = ta_second_ema(e1, length)\n",
    "    dema = []\n",
    "    for a, b in zip(e1, e2):\n",
    "        if a is None or b is None:\n",
    "            dema.append(None)\n",
    "        else:\n",
    "            result = round(2 * a - b, rounded)\n",
    "            dema.append(result)\n",
    "    return dema\n",
    "\n",
    "def update_df(data: pd.DataFrame, test_length: int = 800):\n",
    "    kline = data.iloc[::-1].reset_index(drop=True)\n",
    "    _ema = ta_ema(kline['Close'], test_length)\n",
    "    _dema = dema(kline, test_length)\n",
    "    kline[\"EMA\"] = _ema\n",
    "    kline[\"DEMA800\"] = _dema\n",
    "    FULL_original_order_kline = kline.iloc[::-1].reset_index(drop=True)\n",
    "    return FULL_original_order_kline"
   ]
  },
  {
   "cell_type": "code",
   "execution_count": 3,
   "metadata": {},
   "outputs": [],
   "source": [
    "import requests\n",
    "import pytz\n",
    "import pandas_ta as ta\n",
    "from datetime import datetime\n",
    "\n",
    "def get_historical_data(reg_time:int, symbol:str, interval: str)->pd.DataFrame:\n",
    "    list_registers = []\n",
    "    unix_endtime = None\n",
    "    for i in range(0, 3):\n",
    "        if i == 0:  # Primer llamado: Historial de mercado con tiempo actual\n",
    "            url = 'http://api.bybit.com/v5/market/kline?symbol='+symbol + \\\n",
    "                '&interval='+interval+'&limit=' + \\\n",
    "                str(1000)+'&end='+str(reg_time)\n",
    "            while (True):\n",
    "                try:\n",
    "                    data = requests.get(url).json()\n",
    "                    unix_endtime = data['result'][\"list\"][-1][0]\n",
    "                    break\n",
    "                except requests.exceptions.ConnectionError as e:\n",
    "                    print(\n",
    "                        f\"Connection error occurred: {e}, Retrying in 10 seconds...\\n\")\n",
    "                    time.sleep(10)\n",
    "                except requests.RequestException as e:\n",
    "                    print(\n",
    "                        f\"Connection error occurred: {e}, Retrying in 10 seconds...\\n\")\n",
    "                    time.sleep(10)\n",
    "                except Exception as e:\n",
    "                    print(\n",
    "                        f\"An error occurred: {e}, Retrying in 10 seconds...\\n\")\n",
    "                    time.sleep(10)\n",
    "        if i == 1 and unix_endtime != None:\n",
    "            url = 'http://api.bybit.com/v5/market/kline?symbol='+symbol + \\\n",
    "                '&interval='+interval+'&limit=' + \\\n",
    "                str(1000)+'&end='+str(unix_endtime)\n",
    "            while (True):\n",
    "                try:\n",
    "                    data = requests.get(url).json()\n",
    "                    unix_endtime = data['result'][\"list\"][-1][0]\n",
    "                    break\n",
    "                except requests.exceptions.ConnectionError as e:\n",
    "                    print(\n",
    "                        f\"Connection error occurred: {e}, Retrying in 10 seconds...\\n\")\n",
    "                    time.sleep(10)\n",
    "                except requests.RequestException as e:\n",
    "                    print(\n",
    "                        f\"Connection error occurred: {e}, Retrying in 10 seconds...\\n\")\n",
    "                    time.sleep(10)\n",
    "        if i == 2 and unix_endtime != None:\n",
    "            url = 'http://api.bybit.com/v5/market/kline?symbol='+symbol + \\\n",
    "                '&interval='+interval+'&limit=' + \\\n",
    "                str(200)+'&end='+str(unix_endtime)\n",
    "            while (True):\n",
    "                try:\n",
    "                    data = requests.get(url).json()\n",
    "                    break\n",
    "                except requests.exceptions.ConnectionError as e:\n",
    "                    print(\n",
    "                        f\"Connection error occurred: {e}, Retrying in 10 seconds...\\n\")\n",
    "                    time.sleep(10)\n",
    "                except requests.RequestException as e:\n",
    "                    print(\n",
    "                        f\"Connection error occurred: {e}, Retrying in 10 seconds...\\n\")\n",
    "                    time.sleep(10)\n",
    "        # Crear proto dataframe y añadir a lista\n",
    "        df = pd.DataFrame(data['result'][\"list\"], columns=[\n",
    "                          'Time', 'Open', 'High', 'Low', 'Close', 'Volume', 'Turnover'])\n",
    "        df['Time'] = pd.to_numeric(df['Time'])\n",
    "        df = df.drop_duplicates()\n",
    "        df['Time'] = df['Time'].apply(\n",
    "            lambda x: datetime.fromtimestamp(x / 1000, tz=pytz.UTC))\n",
    "        target_timezone = pytz.timezone('Etc/GMT+5')\n",
    "        df['Time'] = df['Time'].apply(lambda x: x.astimezone(target_timezone))\n",
    "        df = df.drop(columns=['Turnover'])\n",
    "        list_registers.append(df)\n",
    "\n",
    "    concatenated_df = pd.concat(\n",
    "        [list_registers[0], list_registers[1], list_registers[2]], axis=0)\n",
    "    concatenated_df = concatenated_df.reset_index(drop=True)\n",
    "    float_columns = ['Open', 'High', 'Low', 'Close', 'Volume']\n",
    "    concatenated_df[float_columns] = concatenated_df[float_columns].astype(\n",
    "        float)\n",
    "    concatenated_df = concatenated_df.drop_duplicates()\n",
    "    return concatenated_df\n",
    "\n",
    "def CalculateSupertrend(data: pd.DataFrame):\n",
    "    mult = 3\n",
    "    reversed_df = data.iloc[::-1]\n",
    "    Temp_Trend = ta.supertrend(\n",
    "        high=reversed_df['High'],\n",
    "        low=reversed_df['Low'],\n",
    "        close=reversed_df['Close'],\n",
    "        period=10,\n",
    "        multiplier=mult)\n",
    "    \n",
    "    ATR = ta.atr(high=reversed_df['High'], low=reversed_df['Low'], close=reversed_df['Close'], length=14)\n",
    "    ADX = ta.adx(high=reversed_df['High'], low=reversed_df['Low'], close=reversed_df['Close'], length=14)\n",
    "\n",
    "    Temp_Trend = Temp_Trend.rename(columns={f'SUPERT_7_{mult}.0': 'Supertrend', f'SUPERTd_7_{mult}.0': 'Polaridad',\n",
    "                                   f'SUPERTl_7_{mult}.0': 'ST_Inferior', f'SUPERTs_7_{mult}.0': 'ST_Superior'})\n",
    "\n",
    "    df_merge = pd.merge(data, Temp_Trend, left_index=True, right_index=True)\n",
    "    df_merge = pd.merge(df_merge, ATR, left_index=True, right_index=True)\n",
    "    df_merge = pd.merge(df_merge, ADX, left_index=True, right_index=True)\n",
    "\n",
    "    df_merge_ma_final = update_df(df_merge) # Actualizar el dataframe con las medias moviles (EMA , DEMA)\n",
    "    return df_merge_ma_final"
   ]
  },
  {
   "cell_type": "markdown",
   "metadata": {},
   "source": [
    "### Crear dataframes"
   ]
  },
  {
   "cell_type": "code",
   "execution_count": 45,
   "metadata": {},
   "outputs": [
    {
     "name": "stdout",
     "output_type": "stream",
     "text": [
      "Datasets cargados para las historias de las 3 stocks\n"
     ]
    }
   ],
   "source": [
    "reg_time = datetime.now().timestamp() * 1000\n",
    "df_XRPUSDT = get_historical_data(reg_time,'XRPUSDT',\"30\")\n",
    "df_XRPUSDT = CalculateSupertrend(df_XRPUSDT)\n",
    "df_ONEUSDT = get_historical_data(reg_time,'ONEUSDT',\"30\")\n",
    "df_ONEUSDT = CalculateSupertrend(df_ONEUSDT)\n",
    "df_DOTUSDT = get_historical_data(reg_time,'DOTUSDT',\"30\")\n",
    "df_DOTUSDT = CalculateSupertrend(df_DOTUSDT)\n",
    "print(\"Datasets cargados para las historias de las 3 stocks\")"
   ]
  },
  {
   "cell_type": "markdown",
   "metadata": {},
   "source": [
    "## Funciones Auxiliares para Modelos Prophet"
   ]
  },
  {
   "cell_type": "code",
   "execution_count": 19,
   "metadata": {},
   "outputs": [],
   "source": [
    "from sklearn.metrics import mean_absolute_error, mean_squared_error\n",
    "import numpy as np\n",
    "def prepare_dataframe(df: pd.DataFrame, regressors: list)-> pd.DataFrame:\n",
    "    df = df.rename(columns={'Time': 'ds', 'Close': 'y'})\n",
    "    df = df.drop(columns=[\"ST_Superior\", \"ST_Inferior\"])\n",
    "    df = df.sort_values(by='ds')\n",
    "    df['ds'] = df['ds'].dt.tz_localize(None)\n",
    "    df = df.sort_values(by='ds')\n",
    "    if len(regressors) > 0:\n",
    "        df = df.dropna(subset=regressors)\n",
    "    return df\n",
    "\n",
    "def create_train_test_split(lenght_n: int, df: pd.DataFrame):\n",
    "    train_df = df.iloc[:-lenght_n]  # Crear dataset de entreamiento con 96 registros menos\n",
    "    test_df= df.iloc[-lenght_n:] # Crear dataset de validación con 96 registros futuros\n",
    "    return train_df, test_df\n",
    "\n",
    "def create_prophet_model_predictions(lenght_n: int, regressors: list, \n",
    "                                    train_df: pd.DataFrame, test_df: pd.DataFrame):\n",
    "    #Crear y establecer estructura del modelo\n",
    "    model_prof = prophet.Prophet()\n",
    "    if len(regressors) > 0:\n",
    "        for col in regressors:\n",
    "            model_prof.add_regressor(col)\n",
    "    model_prof.fit(train_df)\n",
    "    \n",
    "    #Predecir valores futuros basado en el modelo local\n",
    "    future = model_prof.make_future_dataframe(periods=96, freq='30min')\n",
    "    if len(regressors) > 0:\n",
    "        for col in regressors:\n",
    "            future[col] = train_df.iloc[-1][col] #Usar el ultimo valor conocido\n",
    "    forecast = model_prof.predict(future)\n",
    "    predicted_data = forecast[-n_test:][['ds', 'yhat', 'yhat_lower', 'yhat_upper']]\n",
    "    return pd.merge(test_df, predicted_data, on='ds')\n",
    "\n",
    "def calculate_metrics_prophet(merged_metrics:pd.DataFrame, image_name: str):\n",
    "    PATH = f\"Resources/Reportes_Prophet/{image_name}\"\n",
    "    mae = mean_absolute_error(merged_metrics['y'], merged_metrics['yhat'])\n",
    "    mse = mean_squared_error(merged_metrics['y'], merged_metrics['yhat'])\n",
    "    rmse = np.sqrt(mse)\n",
    "    print(f'MAE: {mae}')\n",
    "    print(f'MSE: {mse}')\n",
    "    print(f'RMSE: {rmse}')\n",
    "    \n",
    "    #Generar y guardar imagen\n",
    "    fig = plt.figure(figsize=(12, 6))\n",
    "    plt.plot(merged_metrics['ds'], merged_metrics['y'], label='Actual Close', color='blue')\n",
    "    plt.plot(merged_metrics['ds'], merged_metrics['yhat'], label='Predicted Close', color='red')\n",
    "    plt.fill_between(merged_metrics['ds'], merged_metrics['yhat_lower'], merged_metrics['yhat_upper'], \n",
    "                     color='gray', alpha=0.3, label='Confidence Interval')\n",
    "    plt.xlabel('Date')\n",
    "    plt.ylabel('Close Price')\n",
    "    plt.title('Actual vs Predicted Close Prices')\n",
    "    plt.legend()\n",
    "    plt.xticks(rotation=45)\n",
    "    plt.grid(True)\n",
    "    plt.tight_layout()\n",
    "    \n",
    "    # Save the figure to an image file\n",
    "    plt.savefig(PATH, format='png')\n",
    "    \n",
    "    # Show the figure (optional)\n",
    "    plt.show()\n",
    "    \n",
    "    return fig\n",
    "    "
   ]
  },
  {
   "cell_type": "markdown",
   "metadata": {},
   "source": [
    "## Modelo Prophet para XRPUSDT"
   ]
  },
  {
   "cell_type": "code",
   "execution_count": 20,
   "metadata": {},
   "outputs": [
    {
     "name": "stdout",
     "output_type": "stream",
     "text": [
      "<class 'pandas.core.frame.DataFrame'>\n",
      "RangeIndex: 2198 entries, 0 to 2197\n",
      "Data columns (total 16 columns):\n",
      " #   Column       Non-Null Count  Dtype                    \n",
      "---  ------       --------------  -----                    \n",
      " 0   Time         2198 non-null   datetime64[ns, Etc/GMT+5]\n",
      " 1   Open         2198 non-null   float64                  \n",
      " 2   High         2198 non-null   float64                  \n",
      " 3   Low          2198 non-null   float64                  \n",
      " 4   Close        2198 non-null   float64                  \n",
      " 5   Volume       2198 non-null   float64                  \n",
      " 6   Supertrend   2192 non-null   float64                  \n",
      " 7   Polaridad    2198 non-null   int64                    \n",
      " 8   ST_Inferior  1269 non-null   float64                  \n",
      " 9   ST_Superior  922 non-null    float64                  \n",
      " 10  ATRr_14      2184 non-null   float64                  \n",
      " 11  ADX_14       2171 non-null   float64                  \n",
      " 12  DMP_14       2184 non-null   float64                  \n",
      " 13  DMN_14       2184 non-null   float64                  \n",
      " 14  EMA          1399 non-null   float64                  \n",
      " 15  DEMA800      600 non-null    float64                  \n",
      "dtypes: datetime64[ns, Etc/GMT+5](1), float64(14), int64(1)\n",
      "memory usage: 274.9 KB\n"
     ]
    }
   ],
   "source": [
    "df_XRPUSDT.info()"
   ]
  },
  {
   "cell_type": "markdown",
   "metadata": {},
   "source": [
    "### Separación y preparación de los datos historicos para adquirir metricas"
   ]
  },
  {
   "cell_type": "code",
   "execution_count": 27,
   "metadata": {},
   "outputs": [
    {
     "name": "stdout",
     "output_type": "stream",
     "text": [
      "Training Data: (2102, 14)\n",
      "Test Data: (96, 14)\n"
     ]
    }
   ],
   "source": [
    "# Ajustar dataset a estructura de entrenamiento\n",
    "regressors = []\n",
    "n_test = 96 #96 representa 2 dias en registros de 30 min\n",
    "clean_XRPUSDT = prepare_dataframe(df_XRPUSDT, regressors)\n",
    "train_XRP, test_XRP = create_train_test_split(n_test, clean_XRPUSDT)\n",
    "print(f'Training Data: {train_XRP.shape}')\n",
    "print(f'Test Data: {test_XRP.shape}')"
   ]
  },
  {
   "cell_type": "markdown",
   "metadata": {},
   "source": [
    "### Entrenamiento del modelo Prophet"
   ]
  },
  {
   "cell_type": "code",
   "execution_count": 28,
   "metadata": {},
   "outputs": [
    {
     "name": "stderr",
     "output_type": "stream",
     "text": [
      "09:56:18 - cmdstanpy - INFO - Chain [1] start processing\n",
      "09:56:23 - cmdstanpy - INFO - Chain [1] done processing\n"
     ]
    },
    {
     "data": {
      "text/html": [
       "<div>\n",
       "<style scoped>\n",
       "    .dataframe tbody tr th:only-of-type {\n",
       "        vertical-align: middle;\n",
       "    }\n",
       "\n",
       "    .dataframe tbody tr th {\n",
       "        vertical-align: top;\n",
       "    }\n",
       "\n",
       "    .dataframe thead th {\n",
       "        text-align: right;\n",
       "    }\n",
       "</style>\n",
       "<table border=\"1\" class=\"dataframe\">\n",
       "  <thead>\n",
       "    <tr style=\"text-align: right;\">\n",
       "      <th></th>\n",
       "      <th>ds</th>\n",
       "      <th>Open</th>\n",
       "      <th>High</th>\n",
       "      <th>Low</th>\n",
       "      <th>y</th>\n",
       "      <th>Volume</th>\n",
       "      <th>Supertrend</th>\n",
       "      <th>Polaridad</th>\n",
       "      <th>ATRr_14</th>\n",
       "      <th>ADX_14</th>\n",
       "      <th>DMP_14</th>\n",
       "      <th>DMN_14</th>\n",
       "      <th>EMA</th>\n",
       "      <th>DEMA800</th>\n",
       "      <th>yhat</th>\n",
       "      <th>yhat_lower</th>\n",
       "      <th>yhat_upper</th>\n",
       "    </tr>\n",
       "  </thead>\n",
       "  <tbody>\n",
       "    <tr>\n",
       "      <th>0</th>\n",
       "      <td>2024-10-19 10:00:00</td>\n",
       "      <td>0.5454</td>\n",
       "      <td>0.5455</td>\n",
       "      <td>0.5447</td>\n",
       "      <td>0.5450</td>\n",
       "      <td>1287815.0</td>\n",
       "      <td>0.548092</td>\n",
       "      <td>-1</td>\n",
       "      <td>0.001524</td>\n",
       "      <td>21.522951</td>\n",
       "      <td>10.714267</td>\n",
       "      <td>15.634755</td>\n",
       "      <td>0.547136</td>\n",
       "      <td>0.538111</td>\n",
       "      <td>0.551875</td>\n",
       "      <td>0.544281</td>\n",
       "      <td>0.560192</td>\n",
       "    </tr>\n",
       "    <tr>\n",
       "      <th>1</th>\n",
       "      <td>2024-10-19 10:30:00</td>\n",
       "      <td>0.5450</td>\n",
       "      <td>0.5452</td>\n",
       "      <td>0.5439</td>\n",
       "      <td>0.5444</td>\n",
       "      <td>2460206.0</td>\n",
       "      <td>0.548092</td>\n",
       "      <td>-1</td>\n",
       "      <td>0.001508</td>\n",
       "      <td>22.091464</td>\n",
       "      <td>10.054459</td>\n",
       "      <td>18.461605</td>\n",
       "      <td>0.547129</td>\n",
       "      <td>0.538120</td>\n",
       "      <td>0.552089</td>\n",
       "      <td>0.544249</td>\n",
       "      <td>0.559523</td>\n",
       "    </tr>\n",
       "    <tr>\n",
       "      <th>2</th>\n",
       "      <td>2024-10-19 11:00:00</td>\n",
       "      <td>0.5444</td>\n",
       "      <td>0.5444</td>\n",
       "      <td>0.5433</td>\n",
       "      <td>0.5436</td>\n",
       "      <td>2127043.0</td>\n",
       "      <td>0.547900</td>\n",
       "      <td>-1</td>\n",
       "      <td>0.001479</td>\n",
       "      <td>23.107627</td>\n",
       "      <td>9.520220</td>\n",
       "      <td>20.378906</td>\n",
       "      <td>0.547120</td>\n",
       "      <td>0.538125</td>\n",
       "      <td>0.552360</td>\n",
       "      <td>0.544646</td>\n",
       "      <td>0.559645</td>\n",
       "    </tr>\n",
       "    <tr>\n",
       "      <th>3</th>\n",
       "      <td>2024-10-19 11:30:00</td>\n",
       "      <td>0.5436</td>\n",
       "      <td>0.5442</td>\n",
       "      <td>0.5398</td>\n",
       "      <td>0.5409</td>\n",
       "      <td>9494761.0</td>\n",
       "      <td>0.547357</td>\n",
       "      <td>-1</td>\n",
       "      <td>0.001687</td>\n",
       "      <td>25.772789</td>\n",
       "      <td>7.747023</td>\n",
       "      <td>31.399022</td>\n",
       "      <td>0.547105</td>\n",
       "      <td>0.538117</td>\n",
       "      <td>0.552681</td>\n",
       "      <td>0.544742</td>\n",
       "      <td>0.560009</td>\n",
       "    </tr>\n",
       "    <tr>\n",
       "      <th>4</th>\n",
       "      <td>2024-10-19 12:00:00</td>\n",
       "      <td>0.5409</td>\n",
       "      <td>0.5424</td>\n",
       "      <td>0.5407</td>\n",
       "      <td>0.5416</td>\n",
       "      <td>3267951.0</td>\n",
       "      <td>0.546870</td>\n",
       "      <td>-1</td>\n",
       "      <td>0.001688</td>\n",
       "      <td>28.247582</td>\n",
       "      <td>7.189825</td>\n",
       "      <td>29.140676</td>\n",
       "      <td>0.547091</td>\n",
       "      <td>0.538112</td>\n",
       "      <td>0.553032</td>\n",
       "      <td>0.545588</td>\n",
       "      <td>0.560326</td>\n",
       "    </tr>\n",
       "    <tr>\n",
       "      <th>...</th>\n",
       "      <td>...</td>\n",
       "      <td>...</td>\n",
       "      <td>...</td>\n",
       "      <td>...</td>\n",
       "      <td>...</td>\n",
       "      <td>...</td>\n",
       "      <td>...</td>\n",
       "      <td>...</td>\n",
       "      <td>...</td>\n",
       "      <td>...</td>\n",
       "      <td>...</td>\n",
       "      <td>...</td>\n",
       "      <td>...</td>\n",
       "      <td>...</td>\n",
       "      <td>...</td>\n",
       "      <td>...</td>\n",
       "      <td>...</td>\n",
       "    </tr>\n",
       "    <tr>\n",
       "      <th>91</th>\n",
       "      <td>2024-10-21 07:30:00</td>\n",
       "      <td>0.5523</td>\n",
       "      <td>0.5524</td>\n",
       "      <td>0.5495</td>\n",
       "      <td>0.5510</td>\n",
       "      <td>9371541.0</td>\n",
       "      <td>0.546833</td>\n",
       "      <td>1</td>\n",
       "      <td>0.003371</td>\n",
       "      <td>32.328451</td>\n",
       "      <td>25.287084</td>\n",
       "      <td>18.783605</td>\n",
       "      <td>0.546731</td>\n",
       "      <td>0.539230</td>\n",
       "      <td>0.553655</td>\n",
       "      <td>0.536214</td>\n",
       "      <td>0.570906</td>\n",
       "    </tr>\n",
       "    <tr>\n",
       "      <th>92</th>\n",
       "      <td>2024-10-21 08:00:00</td>\n",
       "      <td>0.5510</td>\n",
       "      <td>0.5520</td>\n",
       "      <td>0.5462</td>\n",
       "      <td>0.5494</td>\n",
       "      <td>22308306.0</td>\n",
       "      <td>0.546833</td>\n",
       "      <td>1</td>\n",
       "      <td>0.003545</td>\n",
       "      <td>30.161411</td>\n",
       "      <td>22.331501</td>\n",
       "      <td>23.238290</td>\n",
       "      <td>0.546738</td>\n",
       "      <td>0.539262</td>\n",
       "      <td>0.553806</td>\n",
       "      <td>0.537774</td>\n",
       "      <td>0.571854</td>\n",
       "    </tr>\n",
       "    <tr>\n",
       "      <th>93</th>\n",
       "      <td>2024-10-21 08:30:00</td>\n",
       "      <td>0.5494</td>\n",
       "      <td>0.5495</td>\n",
       "      <td>0.5421</td>\n",
       "      <td>0.5441</td>\n",
       "      <td>23246569.0</td>\n",
       "      <td>0.559389</td>\n",
       "      <td>-1</td>\n",
       "      <td>0.003820</td>\n",
       "      <td>29.292799</td>\n",
       "      <td>19.241419</td>\n",
       "      <td>27.689357</td>\n",
       "      <td>0.546732</td>\n",
       "      <td>0.539268</td>\n",
       "      <td>0.553948</td>\n",
       "      <td>0.536539</td>\n",
       "      <td>0.571594</td>\n",
       "    </tr>\n",
       "    <tr>\n",
       "      <th>94</th>\n",
       "      <td>2024-10-21 09:00:00</td>\n",
       "      <td>0.5441</td>\n",
       "      <td>0.5464</td>\n",
       "      <td>0.5435</td>\n",
       "      <td>0.5454</td>\n",
       "      <td>9028872.0</td>\n",
       "      <td>0.557841</td>\n",
       "      <td>-1</td>\n",
       "      <td>0.003754</td>\n",
       "      <td>28.486231</td>\n",
       "      <td>18.179746</td>\n",
       "      <td>26.161557</td>\n",
       "      <td>0.546728</td>\n",
       "      <td>0.539280</td>\n",
       "      <td>0.554095</td>\n",
       "      <td>0.536080</td>\n",
       "      <td>0.573242</td>\n",
       "    </tr>\n",
       "    <tr>\n",
       "      <th>95</th>\n",
       "      <td>2024-10-21 09:30:00</td>\n",
       "      <td>0.5454</td>\n",
       "      <td>0.5475</td>\n",
       "      <td>0.5432</td>\n",
       "      <td>0.5470</td>\n",
       "      <td>12811370.0</td>\n",
       "      <td>0.557841</td>\n",
       "      <td>-1</td>\n",
       "      <td>0.003793</td>\n",
       "      <td>27.329567</td>\n",
       "      <td>18.779076</td>\n",
       "      <td>24.043191</td>\n",
       "      <td>0.546729</td>\n",
       "      <td>0.539300</td>\n",
       "      <td>0.554265</td>\n",
       "      <td>0.536386</td>\n",
       "      <td>0.574448</td>\n",
       "    </tr>\n",
       "  </tbody>\n",
       "</table>\n",
       "<p>96 rows × 17 columns</p>\n",
       "</div>"
      ],
      "text/plain": [
       "                    ds    Open    High     Low       y      Volume  \\\n",
       "0  2024-10-19 10:00:00  0.5454  0.5455  0.5447  0.5450   1287815.0   \n",
       "1  2024-10-19 10:30:00  0.5450  0.5452  0.5439  0.5444   2460206.0   \n",
       "2  2024-10-19 11:00:00  0.5444  0.5444  0.5433  0.5436   2127043.0   \n",
       "3  2024-10-19 11:30:00  0.5436  0.5442  0.5398  0.5409   9494761.0   \n",
       "4  2024-10-19 12:00:00  0.5409  0.5424  0.5407  0.5416   3267951.0   \n",
       "..                 ...     ...     ...     ...     ...         ...   \n",
       "91 2024-10-21 07:30:00  0.5523  0.5524  0.5495  0.5510   9371541.0   \n",
       "92 2024-10-21 08:00:00  0.5510  0.5520  0.5462  0.5494  22308306.0   \n",
       "93 2024-10-21 08:30:00  0.5494  0.5495  0.5421  0.5441  23246569.0   \n",
       "94 2024-10-21 09:00:00  0.5441  0.5464  0.5435  0.5454   9028872.0   \n",
       "95 2024-10-21 09:30:00  0.5454  0.5475  0.5432  0.5470  12811370.0   \n",
       "\n",
       "    Supertrend  Polaridad   ATRr_14     ADX_14     DMP_14     DMN_14  \\\n",
       "0     0.548092         -1  0.001524  21.522951  10.714267  15.634755   \n",
       "1     0.548092         -1  0.001508  22.091464  10.054459  18.461605   \n",
       "2     0.547900         -1  0.001479  23.107627   9.520220  20.378906   \n",
       "3     0.547357         -1  0.001687  25.772789   7.747023  31.399022   \n",
       "4     0.546870         -1  0.001688  28.247582   7.189825  29.140676   \n",
       "..         ...        ...       ...        ...        ...        ...   \n",
       "91    0.546833          1  0.003371  32.328451  25.287084  18.783605   \n",
       "92    0.546833          1  0.003545  30.161411  22.331501  23.238290   \n",
       "93    0.559389         -1  0.003820  29.292799  19.241419  27.689357   \n",
       "94    0.557841         -1  0.003754  28.486231  18.179746  26.161557   \n",
       "95    0.557841         -1  0.003793  27.329567  18.779076  24.043191   \n",
       "\n",
       "         EMA   DEMA800      yhat  yhat_lower  yhat_upper  \n",
       "0   0.547136  0.538111  0.551875    0.544281    0.560192  \n",
       "1   0.547129  0.538120  0.552089    0.544249    0.559523  \n",
       "2   0.547120  0.538125  0.552360    0.544646    0.559645  \n",
       "3   0.547105  0.538117  0.552681    0.544742    0.560009  \n",
       "4   0.547091  0.538112  0.553032    0.545588    0.560326  \n",
       "..       ...       ...       ...         ...         ...  \n",
       "91  0.546731  0.539230  0.553655    0.536214    0.570906  \n",
       "92  0.546738  0.539262  0.553806    0.537774    0.571854  \n",
       "93  0.546732  0.539268  0.553948    0.536539    0.571594  \n",
       "94  0.546728  0.539280  0.554095    0.536080    0.573242  \n",
       "95  0.546729  0.539300  0.554265    0.536386    0.574448  \n",
       "\n",
       "[96 rows x 17 columns]"
      ]
     },
     "execution_count": 28,
     "metadata": {},
     "output_type": "execute_result"
    }
   ],
   "source": [
    "df_forecast = create_prophet_model_predictions(n_test,regressors, train_XRP, test_XRP)\n",
    "df_forecast"
   ]
  },
  {
   "cell_type": "markdown",
   "metadata": {},
   "source": [
    "### Calcular metricas del modelo"
   ]
  },
  {
   "cell_type": "code",
   "execution_count": 29,
   "metadata": {},
   "outputs": [
    {
     "name": "stdout",
     "output_type": "stream",
     "text": [
      "MAE: 0.008231757909152362\n",
      "MSE: 8.40039578615015e-05\n",
      "RMSE: 0.00916536730641503\n"
     ]
    },
    {
     "data": {
      "image/png": "[encoded data removed]",
      "text/plain": [
       "<Figure size 1200x600 with 1 Axes>"
      ]
     },
     "metadata": {},
     "output_type": "display_data"
    }
   ],
   "source": [
    "file_name = \"XRPUSDT_Prophet_NR.png\"\n",
    "plot = calculate_metrics_prophet(df_forecast, file_name)"
   ]
  },
  {
   "cell_type": "markdown",
   "metadata": {},
   "source": [
    "## Modelo Prophet para ONEUSDT"
   ]
  },
  {
   "cell_type": "code",
   "execution_count": 30,
   "metadata": {},
   "outputs": [
    {
     "name": "stdout",
     "output_type": "stream",
     "text": [
      "<class 'pandas.core.frame.DataFrame'>\n",
      "RangeIndex: 2198 entries, 0 to 2197\n",
      "Data columns (total 16 columns):\n",
      " #   Column       Non-Null Count  Dtype                    \n",
      "---  ------       --------------  -----                    \n",
      " 0   Time         2198 non-null   datetime64[ns, Etc/GMT+5]\n",
      " 1   Open         2198 non-null   float64                  \n",
      " 2   High         2198 non-null   float64                  \n",
      " 3   Low          2198 non-null   float64                  \n",
      " 4   Close        2198 non-null   float64                  \n",
      " 5   Volume       2198 non-null   float64                  \n",
      " 6   Supertrend   2192 non-null   float64                  \n",
      " 7   Polaridad    2198 non-null   int64                    \n",
      " 8   ST_Inferior  1227 non-null   float64                  \n",
      " 9   ST_Superior  964 non-null    float64                  \n",
      " 10  ATRr_14      2184 non-null   float64                  \n",
      " 11  ADX_14       2171 non-null   float64                  \n",
      " 12  DMP_14       2184 non-null   float64                  \n",
      " 13  DMN_14       2184 non-null   float64                  \n",
      " 14  EMA          1399 non-null   float64                  \n",
      " 15  DEMA800      600 non-null    float64                  \n",
      "dtypes: datetime64[ns, Etc/GMT+5](1), float64(14), int64(1)\n",
      "memory usage: 274.9 KB\n"
     ]
    }
   ],
   "source": [
    "df_ONEUSDT.info()"
   ]
  },
  {
   "cell_type": "code",
   "execution_count": 37,
   "metadata": {},
   "outputs": [
    {
     "name": "stdout",
     "output_type": "stream",
     "text": [
      "Training Data: (2075, 14)\n",
      "Test Data: (96, 14)\n"
     ]
    }
   ],
   "source": [
    "# Ajustar dataset a estructura de entrenamiento\n",
    "regressors = [\"ADX_14\", \"ATRr_14\"]\n",
    "n_test = 96 #96 representa 2 dias en registros de 30 min\n",
    "clean_ONEUSDT = prepare_dataframe(df_ONEUSDT, regressors)\n",
    "train_ONE, test_ONE = create_train_test_split(n_test, clean_ONEUSDT)\n",
    "print(f'Training Data: {train_ONE.shape}')\n",
    "print(f'Test Data: {test_ONE.shape}')"
   ]
  },
  {
   "cell_type": "code",
   "execution_count": 38,
   "metadata": {},
   "outputs": [
    {
     "name": "stderr",
     "output_type": "stream",
     "text": [
      "10:07:09 - cmdstanpy - INFO - Chain [1] start processing\n",
      "10:07:15 - cmdstanpy - INFO - Chain [1] done processing\n"
     ]
    },
    {
     "data": {
      "text/html": [
       "<div>\n",
       "<style scoped>\n",
       "    .dataframe tbody tr th:only-of-type {\n",
       "        vertical-align: middle;\n",
       "    }\n",
       "\n",
       "    .dataframe tbody tr th {\n",
       "        vertical-align: top;\n",
       "    }\n",
       "\n",
       "    .dataframe thead th {\n",
       "        text-align: right;\n",
       "    }\n",
       "</style>\n",
       "<table border=\"1\" class=\"dataframe\">\n",
       "  <thead>\n",
       "    <tr style=\"text-align: right;\">\n",
       "      <th></th>\n",
       "      <th>ds</th>\n",
       "      <th>Open</th>\n",
       "      <th>High</th>\n",
       "      <th>Low</th>\n",
       "      <th>y</th>\n",
       "      <th>Volume</th>\n",
       "      <th>Supertrend</th>\n",
       "      <th>Polaridad</th>\n",
       "      <th>ATRr_14</th>\n",
       "      <th>ADX_14</th>\n",
       "      <th>DMP_14</th>\n",
       "      <th>DMN_14</th>\n",
       "      <th>EMA</th>\n",
       "      <th>DEMA800</th>\n",
       "      <th>yhat</th>\n",
       "      <th>yhat_lower</th>\n",
       "      <th>yhat_upper</th>\n",
       "    </tr>\n",
       "  </thead>\n",
       "  <tbody>\n",
       "    <tr>\n",
       "      <th>0</th>\n",
       "      <td>2024-10-19 10:00:00</td>\n",
       "      <td>0.01411</td>\n",
       "      <td>0.01412</td>\n",
       "      <td>0.01402</td>\n",
       "      <td>0.01406</td>\n",
       "      <td>910211.0</td>\n",
       "      <td>0.014304</td>\n",
       "      <td>-1</td>\n",
       "      <td>0.000099</td>\n",
       "      <td>27.656579</td>\n",
       "      <td>18.467652</td>\n",
       "      <td>32.732101</td>\n",
       "      <td>0.013283</td>\n",
       "      <td>0.013587</td>\n",
       "      <td>0.014330</td>\n",
       "      <td>0.014067</td>\n",
       "      <td>0.014587</td>\n",
       "    </tr>\n",
       "    <tr>\n",
       "      <th>1</th>\n",
       "      <td>2024-10-19 10:30:00</td>\n",
       "      <td>0.01406</td>\n",
       "      <td>0.01406</td>\n",
       "      <td>0.01399</td>\n",
       "      <td>0.01401</td>\n",
       "      <td>920893.0</td>\n",
       "      <td>0.014298</td>\n",
       "      <td>-1</td>\n",
       "      <td>0.000097</td>\n",
       "      <td>27.894686</td>\n",
       "      <td>17.518511</td>\n",
       "      <td>33.252476</td>\n",
       "      <td>0.013284</td>\n",
       "      <td>0.013590</td>\n",
       "      <td>0.014336</td>\n",
       "      <td>0.014065</td>\n",
       "      <td>0.014611</td>\n",
       "    </tr>\n",
       "    <tr>\n",
       "      <th>2</th>\n",
       "      <td>2024-10-19 11:00:00</td>\n",
       "      <td>0.01401</td>\n",
       "      <td>0.01403</td>\n",
       "      <td>0.01396</td>\n",
       "      <td>0.01399</td>\n",
       "      <td>3113385.0</td>\n",
       "      <td>0.014259</td>\n",
       "      <td>-1</td>\n",
       "      <td>0.000095</td>\n",
       "      <td>28.335806</td>\n",
       "      <td>16.599744</td>\n",
       "      <td>33.756197</td>\n",
       "      <td>0.013286</td>\n",
       "      <td>0.013593</td>\n",
       "      <td>0.014343</td>\n",
       "      <td>0.014062</td>\n",
       "      <td>0.014604</td>\n",
       "    </tr>\n",
       "    <tr>\n",
       "      <th>3</th>\n",
       "      <td>2024-10-19 11:30:00</td>\n",
       "      <td>0.01399</td>\n",
       "      <td>0.01402</td>\n",
       "      <td>0.01388</td>\n",
       "      <td>0.01388</td>\n",
       "      <td>4494790.0</td>\n",
       "      <td>0.014236</td>\n",
       "      <td>-1</td>\n",
       "      <td>0.000099</td>\n",
       "      <td>29.280482</td>\n",
       "      <td>14.914958</td>\n",
       "      <td>36.129819</td>\n",
       "      <td>0.013288</td>\n",
       "      <td>0.013595</td>\n",
       "      <td>0.014350</td>\n",
       "      <td>0.014075</td>\n",
       "      <td>0.014609</td>\n",
       "    </tr>\n",
       "    <tr>\n",
       "      <th>4</th>\n",
       "      <td>2024-10-19 12:00:00</td>\n",
       "      <td>0.01388</td>\n",
       "      <td>0.01395</td>\n",
       "      <td>0.01387</td>\n",
       "      <td>0.01393</td>\n",
       "      <td>867479.0</td>\n",
       "      <td>0.014190</td>\n",
       "      <td>-1</td>\n",
       "      <td>0.000097</td>\n",
       "      <td>30.220564</td>\n",
       "      <td>14.038159</td>\n",
       "      <td>34.740703</td>\n",
       "      <td>0.013289</td>\n",
       "      <td>0.013597</td>\n",
       "      <td>0.014355</td>\n",
       "      <td>0.014085</td>\n",
       "      <td>0.014615</td>\n",
       "    </tr>\n",
       "    <tr>\n",
       "      <th>...</th>\n",
       "      <td>...</td>\n",
       "      <td>...</td>\n",
       "      <td>...</td>\n",
       "      <td>...</td>\n",
       "      <td>...</td>\n",
       "      <td>...</td>\n",
       "      <td>...</td>\n",
       "      <td>...</td>\n",
       "      <td>...</td>\n",
       "      <td>...</td>\n",
       "      <td>...</td>\n",
       "      <td>...</td>\n",
       "      <td>...</td>\n",
       "      <td>...</td>\n",
       "      <td>...</td>\n",
       "      <td>...</td>\n",
       "      <td>...</td>\n",
       "    </tr>\n",
       "    <tr>\n",
       "      <th>91</th>\n",
       "      <td>2024-10-21 07:30:00</td>\n",
       "      <td>0.01466</td>\n",
       "      <td>0.01468</td>\n",
       "      <td>0.01456</td>\n",
       "      <td>0.01464</td>\n",
       "      <td>1895055.0</td>\n",
       "      <td>0.014989</td>\n",
       "      <td>-1</td>\n",
       "      <td>0.000127</td>\n",
       "      <td>30.137062</td>\n",
       "      <td>10.797972</td>\n",
       "      <td>25.919544</td>\n",
       "      <td>0.013544</td>\n",
       "      <td>0.014022</td>\n",
       "      <td>0.014922</td>\n",
       "      <td>0.014372</td>\n",
       "      <td>0.015398</td>\n",
       "    </tr>\n",
       "    <tr>\n",
       "      <th>92</th>\n",
       "      <td>2024-10-21 08:00:00</td>\n",
       "      <td>0.01464</td>\n",
       "      <td>0.01467</td>\n",
       "      <td>0.01441</td>\n",
       "      <td>0.01459</td>\n",
       "      <td>12920581.0</td>\n",
       "      <td>0.014969</td>\n",
       "      <td>-1</td>\n",
       "      <td>0.000137</td>\n",
       "      <td>31.757608</td>\n",
       "      <td>9.332331</td>\n",
       "      <td>30.232157</td>\n",
       "      <td>0.013546</td>\n",
       "      <td>0.014026</td>\n",
       "      <td>0.014926</td>\n",
       "      <td>0.014373</td>\n",
       "      <td>0.015443</td>\n",
       "    </tr>\n",
       "    <tr>\n",
       "      <th>93</th>\n",
       "      <td>2024-10-21 08:30:00</td>\n",
       "      <td>0.01459</td>\n",
       "      <td>0.01459</td>\n",
       "      <td>0.01433</td>\n",
       "      <td>0.01442</td>\n",
       "      <td>6162286.0</td>\n",
       "      <td>0.014939</td>\n",
       "      <td>-1</td>\n",
       "      <td>0.000146</td>\n",
       "      <td>33.606361</td>\n",
       "      <td>8.142159</td>\n",
       "      <td>30.300651</td>\n",
       "      <td>0.013548</td>\n",
       "      <td>0.014030</td>\n",
       "      <td>0.014932</td>\n",
       "      <td>0.014403</td>\n",
       "      <td>0.015377</td>\n",
       "    </tr>\n",
       "    <tr>\n",
       "      <th>94</th>\n",
       "      <td>2024-10-21 09:00:00</td>\n",
       "      <td>0.01442</td>\n",
       "      <td>0.01457</td>\n",
       "      <td>0.01438</td>\n",
       "      <td>0.01453</td>\n",
       "      <td>4023150.0</td>\n",
       "      <td>0.014939</td>\n",
       "      <td>-1</td>\n",
       "      <td>0.000149</td>\n",
       "      <td>35.323060</td>\n",
       "      <td>7.399504</td>\n",
       "      <td>27.536896</td>\n",
       "      <td>0.013551</td>\n",
       "      <td>0.014033</td>\n",
       "      <td>0.014938</td>\n",
       "      <td>0.014420</td>\n",
       "      <td>0.015431</td>\n",
       "    </tr>\n",
       "    <tr>\n",
       "      <th>95</th>\n",
       "      <td>2024-10-21 09:30:00</td>\n",
       "      <td>0.01453</td>\n",
       "      <td>0.01453</td>\n",
       "      <td>0.01442</td>\n",
       "      <td>0.01446</td>\n",
       "      <td>4791007.0</td>\n",
       "      <td>0.014939</td>\n",
       "      <td>-1</td>\n",
       "      <td>0.000146</td>\n",
       "      <td>36.917138</td>\n",
       "      <td>7.001348</td>\n",
       "      <td>26.055179</td>\n",
       "      <td>0.013553</td>\n",
       "      <td>0.014037</td>\n",
       "      <td>0.014947</td>\n",
       "      <td>0.014411</td>\n",
       "      <td>0.015480</td>\n",
       "    </tr>\n",
       "  </tbody>\n",
       "</table>\n",
       "<p>96 rows × 17 columns</p>\n",
       "</div>"
      ],
      "text/plain": [
       "                    ds     Open     High      Low        y      Volume  \\\n",
       "0  2024-10-19 10:00:00  0.01411  0.01412  0.01402  0.01406    910211.0   \n",
       "1  2024-10-19 10:30:00  0.01406  0.01406  0.01399  0.01401    920893.0   \n",
       "2  2024-10-19 11:00:00  0.01401  0.01403  0.01396  0.01399   3113385.0   \n",
       "3  2024-10-19 11:30:00  0.01399  0.01402  0.01388  0.01388   4494790.0   \n",
       "4  2024-10-19 12:00:00  0.01388  0.01395  0.01387  0.01393    867479.0   \n",
       "..                 ...      ...      ...      ...      ...         ...   \n",
       "91 2024-10-21 07:30:00  0.01466  0.01468  0.01456  0.01464   1895055.0   \n",
       "92 2024-10-21 08:00:00  0.01464  0.01467  0.01441  0.01459  12920581.0   \n",
       "93 2024-10-21 08:30:00  0.01459  0.01459  0.01433  0.01442   6162286.0   \n",
       "94 2024-10-21 09:00:00  0.01442  0.01457  0.01438  0.01453   4023150.0   \n",
       "95 2024-10-21 09:30:00  0.01453  0.01453  0.01442  0.01446   4791007.0   \n",
       "\n",
       "    Supertrend  Polaridad   ATRr_14     ADX_14     DMP_14     DMN_14  \\\n",
       "0     0.014304         -1  0.000099  27.656579  18.467652  32.732101   \n",
       "1     0.014298         -1  0.000097  27.894686  17.518511  33.252476   \n",
       "2     0.014259         -1  0.000095  28.335806  16.599744  33.756197   \n",
       "3     0.014236         -1  0.000099  29.280482  14.914958  36.129819   \n",
       "4     0.014190         -1  0.000097  30.220564  14.038159  34.740703   \n",
       "..         ...        ...       ...        ...        ...        ...   \n",
       "91    0.014989         -1  0.000127  30.137062  10.797972  25.919544   \n",
       "92    0.014969         -1  0.000137  31.757608   9.332331  30.232157   \n",
       "93    0.014939         -1  0.000146  33.606361   8.142159  30.300651   \n",
       "94    0.014939         -1  0.000149  35.323060   7.399504  27.536896   \n",
       "95    0.014939         -1  0.000146  36.917138   7.001348  26.055179   \n",
       "\n",
       "         EMA   DEMA800      yhat  yhat_lower  yhat_upper  \n",
       "0   0.013283  0.013587  0.014330    0.014067    0.014587  \n",
       "1   0.013284  0.013590  0.014336    0.014065    0.014611  \n",
       "2   0.013286  0.013593  0.014343    0.014062    0.014604  \n",
       "3   0.013288  0.013595  0.014350    0.014075    0.014609  \n",
       "4   0.013289  0.013597  0.014355    0.014085    0.014615  \n",
       "..       ...       ...       ...         ...         ...  \n",
       "91  0.013544  0.014022  0.014922    0.014372    0.015398  \n",
       "92  0.013546  0.014026  0.014926    0.014373    0.015443  \n",
       "93  0.013548  0.014030  0.014932    0.014403    0.015377  \n",
       "94  0.013551  0.014033  0.014938    0.014420    0.015431  \n",
       "95  0.013553  0.014037  0.014947    0.014411    0.015480  \n",
       "\n",
       "[96 rows x 17 columns]"
      ]
     },
     "execution_count": 38,
     "metadata": {},
     "output_type": "execute_result"
    }
   ],
   "source": [
    "df_forecast = create_prophet_model_predictions(n_test,regressors, train_ONE, test_ONE)\n",
    "df_forecast"
   ]
  },
  {
   "cell_type": "code",
   "execution_count": 39,
   "metadata": {},
   "outputs": [
    {
     "name": "stdout",
     "output_type": "stream",
     "text": [
      "MAE: 0.00027492300415733295\n",
      "MSE: 9.889082346328639e-08\n",
      "RMSE: 0.0003144691136873165\n"
     ]
    },
    {
     "data": {
      "image/png": "[encoded data removed]",
      "text/plain": [
       "<Figure size 1200x600 with 1 Axes>"
      ]
     },
     "metadata": {},
     "output_type": "display_data"
    }
   ],
   "source": [
    "file_name = \"ONEUSDT_Prophet_R-ADX14_ATR14.png\"\n",
    "plot = calculate_metrics_prophet(df_forecast, file_name)"
   ]
  },
  {
   "cell_type": "markdown",
   "metadata": {},
   "source": [
    "## Modelo Prophet para DOTUSDT"
   ]
  },
  {
   "cell_type": "code",
   "execution_count": 46,
   "metadata": {},
   "outputs": [
    {
     "name": "stdout",
     "output_type": "stream",
     "text": [
      "<class 'pandas.core.frame.DataFrame'>\n",
      "RangeIndex: 2198 entries, 0 to 2197\n",
      "Data columns (total 16 columns):\n",
      " #   Column       Non-Null Count  Dtype                    \n",
      "---  ------       --------------  -----                    \n",
      " 0   Time         2198 non-null   datetime64[ns, Etc/GMT+5]\n",
      " 1   Open         2198 non-null   float64                  \n",
      " 2   High         2198 non-null   float64                  \n",
      " 3   Low          2198 non-null   float64                  \n",
      " 4   Close        2198 non-null   float64                  \n",
      " 5   Volume       2198 non-null   float64                  \n",
      " 6   Supertrend   2192 non-null   float64                  \n",
      " 7   Polaridad    2198 non-null   int64                    \n",
      " 8   ST_Inferior  1150 non-null   float64                  \n",
      " 9   ST_Superior  1041 non-null   float64                  \n",
      " 10  ATRr_14      2184 non-null   float64                  \n",
      " 11  ADX_14       2171 non-null   float64                  \n",
      " 12  DMP_14       2184 non-null   float64                  \n",
      " 13  DMN_14       2184 non-null   float64                  \n",
      " 14  EMA          1399 non-null   float64                  \n",
      " 15  DEMA800      600 non-null    float64                  \n",
      "dtypes: datetime64[ns, Etc/GMT+5](1), float64(14), int64(1)\n",
      "memory usage: 274.9 KB\n"
     ]
    }
   ],
   "source": [
    "df_DOTUSDT.info()"
   ]
  },
  {
   "cell_type": "code",
   "execution_count": 53,
   "metadata": {},
   "outputs": [
    {
     "name": "stdout",
     "output_type": "stream",
     "text": [
      "Training Data: (2102, 14)\n",
      "Test Data: (96, 14)\n"
     ]
    }
   ],
   "source": [
    "# Ajustar dataset a estructura de entrenamiento\n",
    "regressors = [\"Volume\", \"High\", \"Low\"]\n",
    "n_test = 96 #96 representa 2 dias en registros de 30 min\n",
    "clean_DOTUSDT = prepare_dataframe(df_DOTUSDT, regressors)\n",
    "train_DOT, test_DOT = create_train_test_split(n_test, clean_DOTUSDT)\n",
    "print(f'Training Data: {train_DOT.shape}')\n",
    "print(f'Test Data: {test_DOT.shape}')"
   ]
  },
  {
   "cell_type": "code",
   "execution_count": 54,
   "metadata": {},
   "outputs": [
    {
     "name": "stderr",
     "output_type": "stream",
     "text": [
      "10:58:25 - cmdstanpy - INFO - Chain [1] start processing\n",
      "10:58:26 - cmdstanpy - INFO - Chain [1] done processing\n"
     ]
    },
    {
     "data": {
      "text/html": [
       "<div>\n",
       "<style scoped>\n",
       "    .dataframe tbody tr th:only-of-type {\n",
       "        vertical-align: middle;\n",
       "    }\n",
       "\n",
       "    .dataframe tbody tr th {\n",
       "        vertical-align: top;\n",
       "    }\n",
       "\n",
       "    .dataframe thead th {\n",
       "        text-align: right;\n",
       "    }\n",
       "</style>\n",
       "<table border=\"1\" class=\"dataframe\">\n",
       "  <thead>\n",
       "    <tr style=\"text-align: right;\">\n",
       "      <th></th>\n",
       "      <th>ds</th>\n",
       "      <th>Open</th>\n",
       "      <th>High</th>\n",
       "      <th>Low</th>\n",
       "      <th>y</th>\n",
       "      <th>Volume</th>\n",
       "      <th>Supertrend</th>\n",
       "      <th>Polaridad</th>\n",
       "      <th>ATRr_14</th>\n",
       "      <th>ADX_14</th>\n",
       "      <th>DMP_14</th>\n",
       "      <th>DMN_14</th>\n",
       "      <th>EMA</th>\n",
       "      <th>DEMA800</th>\n",
       "      <th>yhat</th>\n",
       "      <th>yhat_lower</th>\n",
       "      <th>yhat_upper</th>\n",
       "    </tr>\n",
       "  </thead>\n",
       "  <tbody>\n",
       "    <tr>\n",
       "      <th>0</th>\n",
       "      <td>2024-10-19 11:00:00</td>\n",
       "      <td>4.403</td>\n",
       "      <td>4.408</td>\n",
       "      <td>4.382</td>\n",
       "      <td>4.406</td>\n",
       "      <td>107312.4</td>\n",
       "      <td>4.406961</td>\n",
       "      <td>-1</td>\n",
       "      <td>0.023243</td>\n",
       "      <td>18.096980</td>\n",
       "      <td>26.206136</td>\n",
       "      <td>19.352069</td>\n",
       "      <td>4.267608</td>\n",
       "      <td>4.245980</td>\n",
       "      <td>4.397345</td>\n",
       "      <td>4.385009</td>\n",
       "      <td>4.410116</td>\n",
       "    </tr>\n",
       "    <tr>\n",
       "      <th>1</th>\n",
       "      <td>2024-10-19 11:30:00</td>\n",
       "      <td>4.406</td>\n",
       "      <td>4.429</td>\n",
       "      <td>4.397</td>\n",
       "      <td>4.399</td>\n",
       "      <td>240746.4</td>\n",
       "      <td>4.406961</td>\n",
       "      <td>-1</td>\n",
       "      <td>0.023869</td>\n",
       "      <td>18.682146</td>\n",
       "      <td>29.980988</td>\n",
       "      <td>17.498865</td>\n",
       "      <td>4.267936</td>\n",
       "      <td>4.246689</td>\n",
       "      <td>4.397264</td>\n",
       "      <td>4.384498</td>\n",
       "      <td>4.409838</td>\n",
       "    </tr>\n",
       "    <tr>\n",
       "      <th>2</th>\n",
       "      <td>2024-10-19 12:00:00</td>\n",
       "      <td>4.399</td>\n",
       "      <td>4.425</td>\n",
       "      <td>4.399</td>\n",
       "      <td>4.420</td>\n",
       "      <td>155778.3</td>\n",
       "      <td>4.338506</td>\n",
       "      <td>1</td>\n",
       "      <td>0.024021</td>\n",
       "      <td>19.225514</td>\n",
       "      <td>27.663039</td>\n",
       "      <td>16.145959</td>\n",
       "      <td>4.268316</td>\n",
       "      <td>4.247501</td>\n",
       "      <td>4.397112</td>\n",
       "      <td>4.384636</td>\n",
       "      <td>4.410133</td>\n",
       "    </tr>\n",
       "    <tr>\n",
       "      <th>3</th>\n",
       "      <td>2024-10-19 12:30:00</td>\n",
       "      <td>4.420</td>\n",
       "      <td>4.423</td>\n",
       "      <td>4.394</td>\n",
       "      <td>4.402</td>\n",
       "      <td>95773.6</td>\n",
       "      <td>4.338506</td>\n",
       "      <td>1</td>\n",
       "      <td>0.024376</td>\n",
       "      <td>19.411999</td>\n",
       "      <td>25.312329</td>\n",
       "      <td>16.239044</td>\n",
       "      <td>4.268650</td>\n",
       "      <td>4.248219</td>\n",
       "      <td>4.396898</td>\n",
       "      <td>4.383967</td>\n",
       "      <td>4.408854</td>\n",
       "    </tr>\n",
       "    <tr>\n",
       "      <th>4</th>\n",
       "      <td>2024-10-19 13:00:00</td>\n",
       "      <td>4.402</td>\n",
       "      <td>4.428</td>\n",
       "      <td>4.400</td>\n",
       "      <td>4.414</td>\n",
       "      <td>88730.5</td>\n",
       "      <td>4.338506</td>\n",
       "      <td>1</td>\n",
       "      <td>0.024635</td>\n",
       "      <td>19.789414</td>\n",
       "      <td>24.707084</td>\n",
       "      <td>14.920688</td>\n",
       "      <td>4.269013</td>\n",
       "      <td>4.248995</td>\n",
       "      <td>4.396651</td>\n",
       "      <td>4.384658</td>\n",
       "      <td>4.409981</td>\n",
       "    </tr>\n",
       "    <tr>\n",
       "      <th>...</th>\n",
       "      <td>...</td>\n",
       "      <td>...</td>\n",
       "      <td>...</td>\n",
       "      <td>...</td>\n",
       "      <td>...</td>\n",
       "      <td>...</td>\n",
       "      <td>...</td>\n",
       "      <td>...</td>\n",
       "      <td>...</td>\n",
       "      <td>...</td>\n",
       "      <td>...</td>\n",
       "      <td>...</td>\n",
       "      <td>...</td>\n",
       "      <td>...</td>\n",
       "      <td>...</td>\n",
       "      <td>...</td>\n",
       "      <td>...</td>\n",
       "    </tr>\n",
       "    <tr>\n",
       "      <th>91</th>\n",
       "      <td>2024-10-21 08:30:00</td>\n",
       "      <td>4.429</td>\n",
       "      <td>4.429</td>\n",
       "      <td>4.355</td>\n",
       "      <td>4.377</td>\n",
       "      <td>480892.3</td>\n",
       "      <td>4.501383</td>\n",
       "      <td>-1</td>\n",
       "      <td>0.031316</td>\n",
       "      <td>31.011973</td>\n",
       "      <td>8.721847</td>\n",
       "      <td>39.998047</td>\n",
       "      <td>4.309836</td>\n",
       "      <td>4.330743</td>\n",
       "      <td>4.397797</td>\n",
       "      <td>4.385218</td>\n",
       "      <td>4.410781</td>\n",
       "    </tr>\n",
       "    <tr>\n",
       "      <th>92</th>\n",
       "      <td>2024-10-21 09:00:00</td>\n",
       "      <td>4.377</td>\n",
       "      <td>4.405</td>\n",
       "      <td>4.373</td>\n",
       "      <td>4.394</td>\n",
       "      <td>255150.0</td>\n",
       "      <td>4.496471</td>\n",
       "      <td>-1</td>\n",
       "      <td>0.031365</td>\n",
       "      <td>33.382258</td>\n",
       "      <td>8.086235</td>\n",
       "      <td>37.083158</td>\n",
       "      <td>4.310046</td>\n",
       "      <td>4.331110</td>\n",
       "      <td>4.397846</td>\n",
       "      <td>4.384608</td>\n",
       "      <td>4.410753</td>\n",
       "    </tr>\n",
       "    <tr>\n",
       "      <th>93</th>\n",
       "      <td>2024-10-21 09:30:00</td>\n",
       "      <td>4.394</td>\n",
       "      <td>4.397</td>\n",
       "      <td>4.372</td>\n",
       "      <td>4.394</td>\n",
       "      <td>106300.5</td>\n",
       "      <td>4.487332</td>\n",
       "      <td>-1</td>\n",
       "      <td>0.030910</td>\n",
       "      <td>35.597047</td>\n",
       "      <td>7.619081</td>\n",
       "      <td>35.171892</td>\n",
       "      <td>4.310256</td>\n",
       "      <td>4.331476</td>\n",
       "      <td>4.397906</td>\n",
       "      <td>4.385192</td>\n",
       "      <td>4.409861</td>\n",
       "    </tr>\n",
       "    <tr>\n",
       "      <th>94</th>\n",
       "      <td>2024-10-21 10:00:00</td>\n",
       "      <td>4.394</td>\n",
       "      <td>4.394</td>\n",
       "      <td>4.357</td>\n",
       "      <td>4.364</td>\n",
       "      <td>123161.7</td>\n",
       "      <td>4.479499</td>\n",
       "      <td>-1</td>\n",
       "      <td>0.031345</td>\n",
       "      <td>37.857729</td>\n",
       "      <td>6.976675</td>\n",
       "      <td>35.624551</td>\n",
       "      <td>4.310390</td>\n",
       "      <td>4.331691</td>\n",
       "      <td>4.397965</td>\n",
       "      <td>4.384815</td>\n",
       "      <td>4.410385</td>\n",
       "    </tr>\n",
       "    <tr>\n",
       "      <th>95</th>\n",
       "      <td>2024-10-21 10:30:00</td>\n",
       "      <td>4.364</td>\n",
       "      <td>4.376</td>\n",
       "      <td>4.358</td>\n",
       "      <td>4.371</td>\n",
       "      <td>29233.8</td>\n",
       "      <td>4.463856</td>\n",
       "      <td>-1</td>\n",
       "      <td>0.030392</td>\n",
       "      <td>39.956934</td>\n",
       "      <td>6.681529</td>\n",
       "      <td>34.117463</td>\n",
       "      <td>4.310541</td>\n",
       "      <td>4.331940</td>\n",
       "      <td>4.398003</td>\n",
       "      <td>4.385232</td>\n",
       "      <td>4.411750</td>\n",
       "    </tr>\n",
       "  </tbody>\n",
       "</table>\n",
       "<p>96 rows × 17 columns</p>\n",
       "</div>"
      ],
      "text/plain": [
       "                    ds   Open   High    Low      y    Volume  Supertrend  \\\n",
       "0  2024-10-19 11:00:00  4.403  4.408  4.382  4.406  107312.4    4.406961   \n",
       "1  2024-10-19 11:30:00  4.406  4.429  4.397  4.399  240746.4    4.406961   \n",
       "2  2024-10-19 12:00:00  4.399  4.425  4.399  4.420  155778.3    4.338506   \n",
       "3  2024-10-19 12:30:00  4.420  4.423  4.394  4.402   95773.6    4.338506   \n",
       "4  2024-10-19 13:00:00  4.402  4.428  4.400  4.414   88730.5    4.338506   \n",
       "..                 ...    ...    ...    ...    ...       ...         ...   \n",
       "91 2024-10-21 08:30:00  4.429  4.429  4.355  4.377  480892.3    4.501383   \n",
       "92 2024-10-21 09:00:00  4.377  4.405  4.373  4.394  255150.0    4.496471   \n",
       "93 2024-10-21 09:30:00  4.394  4.397  4.372  4.394  106300.5    4.487332   \n",
       "94 2024-10-21 10:00:00  4.394  4.394  4.357  4.364  123161.7    4.479499   \n",
       "95 2024-10-21 10:30:00  4.364  4.376  4.358  4.371   29233.8    4.463856   \n",
       "\n",
       "    Polaridad   ATRr_14     ADX_14     DMP_14     DMN_14       EMA   DEMA800  \\\n",
       "0          -1  0.023243  18.096980  26.206136  19.352069  4.267608  4.245980   \n",
       "1          -1  0.023869  18.682146  29.980988  17.498865  4.267936  4.246689   \n",
       "2           1  0.024021  19.225514  27.663039  16.145959  4.268316  4.247501   \n",
       "3           1  0.024376  19.411999  25.312329  16.239044  4.268650  4.248219   \n",
       "4           1  0.024635  19.789414  24.707084  14.920688  4.269013  4.248995   \n",
       "..        ...       ...        ...        ...        ...       ...       ...   \n",
       "91         -1  0.031316  31.011973   8.721847  39.998047  4.309836  4.330743   \n",
       "92         -1  0.031365  33.382258   8.086235  37.083158  4.310046  4.331110   \n",
       "93         -1  0.030910  35.597047   7.619081  35.171892  4.310256  4.331476   \n",
       "94         -1  0.031345  37.857729   6.976675  35.624551  4.310390  4.331691   \n",
       "95         -1  0.030392  39.956934   6.681529  34.117463  4.310541  4.331940   \n",
       "\n",
       "        yhat  yhat_lower  yhat_upper  \n",
       "0   4.397345    4.385009    4.410116  \n",
       "1   4.397264    4.384498    4.409838  \n",
       "2   4.397112    4.384636    4.410133  \n",
       "3   4.396898    4.383967    4.408854  \n",
       "4   4.396651    4.384658    4.409981  \n",
       "..       ...         ...         ...  \n",
       "91  4.397797    4.385218    4.410781  \n",
       "92  4.397846    4.384608    4.410753  \n",
       "93  4.397906    4.385192    4.409861  \n",
       "94  4.397965    4.384815    4.410385  \n",
       "95  4.398003    4.385232    4.411750  \n",
       "\n",
       "[96 rows x 17 columns]"
      ]
     },
     "execution_count": 54,
     "metadata": {},
     "output_type": "execute_result"
    }
   ],
   "source": [
    "df_forecast = create_prophet_model_predictions(n_test,regressors, train_DOT, test_DOT)\n",
    "df_forecast"
   ]
  },
  {
   "cell_type": "code",
   "execution_count": 55,
   "metadata": {},
   "outputs": [
    {
     "name": "stdout",
     "output_type": "stream",
     "text": [
      "MAE: 0.07531626940374164\n",
      "MSE: 0.009749258264884276\n",
      "RMSE: 0.09873833229746326\n"
     ]
    },
    {
     "data": {
      "image/png": "[encoded data removed]",
      "text/plain": [
       "<Figure size 1200x600 with 1 Axes>"
      ]
     },
     "metadata": {},
     "output_type": "display_data"
    }
   ],
   "source": [
    "file_name = \"DOTUSDT_Prophet_R-V_H_L.png\"\n",
    "plot = calculate_metrics_prophet(df_forecast, file_name)"
   ]
  },
  {
   "cell_type": "markdown",
   "metadata": {},
   "source": [
    "## Modelo Prophet implementado a ordenes\n",
    "\n",
    "El objetivo es usar el archivo de ordenes simuladas, crear las correspondientes ventanas de tiempo y determinar si el modelo es capaz de reducir las perdidas generales de la estrategia"
   ]
  },
  {
   "cell_type": "markdown",
   "metadata": {},
   "source": [
    "### Zona de analitica Inicial"
   ]
  },
  {
   "cell_type": "code",
   "execution_count": 60,
   "metadata": {},
   "outputs": [
    {
     "data": {
      "text/html": [
       "<div>\n",
       "<style scoped>\n",
       "    .dataframe tbody tr th:only-of-type {\n",
       "        vertical-align: middle;\n",
       "    }\n",
       "\n",
       "    .dataframe tbody tr th {\n",
       "        vertical-align: top;\n",
       "    }\n",
       "\n",
       "    .dataframe thead th {\n",
       "        text-align: right;\n",
       "    }\n",
       "</style>\n",
       "<table border=\"1\" class=\"dataframe\">\n",
       "  <thead>\n",
       "    <tr style=\"text-align: right;\">\n",
       "      <th></th>\n",
       "      <th>Time</th>\n",
       "      <th>Symbol</th>\n",
       "      <th>Open</th>\n",
       "      <th>High</th>\n",
       "      <th>Low</th>\n",
       "      <th>Close</th>\n",
       "      <th>Volume</th>\n",
       "      <th>Supertrend</th>\n",
       "      <th>Polaridad</th>\n",
       "      <th>DEMA800</th>\n",
       "      <th>Half-Order</th>\n",
       "      <th>Profit</th>\n",
       "      <th>Stoploss-Reached</th>\n",
       "      <th>Exit-Price</th>\n",
       "      <th>ATR</th>\n",
       "      <th>ADX</th>\n",
       "      <th>P&amp;L</th>\n",
       "    </tr>\n",
       "  </thead>\n",
       "  <tbody>\n",
       "    <tr>\n",
       "      <th>44</th>\n",
       "      <td>2022-01-01 23:30:00-05:00</td>\n",
       "      <td>XRPUSDT</td>\n",
       "      <td>0.8450</td>\n",
       "      <td>0.8460</td>\n",
       "      <td>0.8375</td>\n",
       "      <td>0.8394</td>\n",
       "      <td>4414373.0</td>\n",
       "      <td>0.853392</td>\n",
       "      <td>Sell</td>\n",
       "      <td>0.858293</td>\n",
       "      <td>False</td>\n",
       "      <td>False</td>\n",
       "      <td>True</td>\n",
       "      <td>0.853392</td>\n",
       "      <td>0.003937</td>\n",
       "      <td>19.388368</td>\n",
       "      <td>-0.2268</td>\n",
       "    </tr>\n",
       "    <tr>\n",
       "      <th>45</th>\n",
       "      <td>2022-01-02 22:30:00-05:00</td>\n",
       "      <td>XRPUSDT</td>\n",
       "      <td>0.8499</td>\n",
       "      <td>0.8500</td>\n",
       "      <td>0.8440</td>\n",
       "      <td>0.8459</td>\n",
       "      <td>1757438.0</td>\n",
       "      <td>0.859168</td>\n",
       "      <td>Sell</td>\n",
       "      <td>0.854829</td>\n",
       "      <td>True</td>\n",
       "      <td>True</td>\n",
       "      <td>False</td>\n",
       "      <td>0.842400</td>\n",
       "      <td>0.004050</td>\n",
       "      <td>21.994251</td>\n",
       "      <td>0.1421</td>\n",
       "    </tr>\n",
       "    <tr>\n",
       "      <th>46</th>\n",
       "      <td>2022-01-04 13:00:00-05:00</td>\n",
       "      <td>XRPUSDT</td>\n",
       "      <td>0.8292</td>\n",
       "      <td>0.8310</td>\n",
       "      <td>0.8265</td>\n",
       "      <td>0.8274</td>\n",
       "      <td>3164956.0</td>\n",
       "      <td>0.843072</td>\n",
       "      <td>Sell</td>\n",
       "      <td>0.845364</td>\n",
       "      <td>True</td>\n",
       "      <td>True</td>\n",
       "      <td>False</td>\n",
       "      <td>0.773400</td>\n",
       "      <td>0.004677</td>\n",
       "      <td>17.204269</td>\n",
       "      <td>0.5859</td>\n",
       "    </tr>\n",
       "    <tr>\n",
       "      <th>47</th>\n",
       "      <td>2022-01-06 21:30:00-05:00</td>\n",
       "      <td>XRPUSDT</td>\n",
       "      <td>0.7694</td>\n",
       "      <td>0.7697</td>\n",
       "      <td>0.7631</td>\n",
       "      <td>0.7636</td>\n",
       "      <td>1609111.0</td>\n",
       "      <td>0.782929</td>\n",
       "      <td>Sell</td>\n",
       "      <td>0.816084</td>\n",
       "      <td>True</td>\n",
       "      <td>False</td>\n",
       "      <td>False</td>\n",
       "      <td>0.763600</td>\n",
       "      <td>0.006254</td>\n",
       "      <td>24.509269</td>\n",
       "      <td>0.1330</td>\n",
       "    </tr>\n",
       "    <tr>\n",
       "      <th>48</th>\n",
       "      <td>2022-01-08 10:00:00-05:00</td>\n",
       "      <td>XRPUSDT</td>\n",
       "      <td>0.7604</td>\n",
       "      <td>0.7618</td>\n",
       "      <td>0.7500</td>\n",
       "      <td>0.7554</td>\n",
       "      <td>6189295.0</td>\n",
       "      <td>0.772334</td>\n",
       "      <td>Sell</td>\n",
       "      <td>0.794400</td>\n",
       "      <td>True</td>\n",
       "      <td>False</td>\n",
       "      <td>False</td>\n",
       "      <td>0.755400</td>\n",
       "      <td>0.005361</td>\n",
       "      <td>20.871693</td>\n",
       "      <td>0.1421</td>\n",
       "    </tr>\n",
       "  </tbody>\n",
       "</table>\n",
       "</div>"
      ],
      "text/plain": [
       "                         Time   Symbol    Open    High     Low   Close  \\\n",
       "44  2022-01-01 23:30:00-05:00  XRPUSDT  0.8450  0.8460  0.8375  0.8394   \n",
       "45  2022-01-02 22:30:00-05:00  XRPUSDT  0.8499  0.8500  0.8440  0.8459   \n",
       "46  2022-01-04 13:00:00-05:00  XRPUSDT  0.8292  0.8310  0.8265  0.8274   \n",
       "47  2022-01-06 21:30:00-05:00  XRPUSDT  0.7694  0.7697  0.7631  0.7636   \n",
       "48  2022-01-08 10:00:00-05:00  XRPUSDT  0.7604  0.7618  0.7500  0.7554   \n",
       "\n",
       "       Volume  Supertrend Polaridad   DEMA800  Half-Order  Profit  \\\n",
       "44  4414373.0    0.853392      Sell  0.858293       False   False   \n",
       "45  1757438.0    0.859168      Sell  0.854829        True    True   \n",
       "46  3164956.0    0.843072      Sell  0.845364        True    True   \n",
       "47  1609111.0    0.782929      Sell  0.816084        True   False   \n",
       "48  6189295.0    0.772334      Sell  0.794400        True   False   \n",
       "\n",
       "    Stoploss-Reached  Exit-Price       ATR        ADX     P&L  \n",
       "44              True    0.853392  0.003937  19.388368 -0.2268  \n",
       "45             False    0.842400  0.004050  21.994251  0.1421  \n",
       "46             False    0.773400  0.004677  17.204269  0.5859  \n",
       "47             False    0.763600  0.006254  24.509269  0.1330  \n",
       "48             False    0.755400  0.005361  20.871693  0.1421  "
      ]
     },
     "execution_count": 60,
     "metadata": {},
     "output_type": "execute_result"
    }
   ],
   "source": [
    "df_simulacion = pd.read_csv('Resources/Activos/history_SP3_DEMA800_30M_3Y.csv')\n",
    "df_simulacion = df_simulacion[df_simulacion['Time'] >= '2022-01-01']\n",
    "df_simulacion.head(5)"
   ]
  },
  {
   "cell_type": "code",
   "execution_count": 61,
   "metadata": {},
   "outputs": [
    {
     "data": {
      "image/png": "[encoded data removed]",
      "text/plain": [
       "<Figure size 640x480 with 1 Axes>"
      ]
     },
     "metadata": {},
     "output_type": "display_data"
    }
   ],
   "source": [
    "# Count the occurrences of stoploss_reached per stock symbol\n",
    "grouped = df_simulacion.groupby(['Symbol', 'Stoploss-Reached']).size().unstack(fill_value=0)\n",
    "\n",
    "# Plot\n",
    "grouped.plot(kind='bar', width=0.7)\n",
    "plt.title(\"Orders by Stoploss Status for Each Stock\")\n",
    "plt.xlabel(\"Stock Symbol\")\n",
    "plt.ylabel(\"Number of Orders\")\n",
    "plt.xticks(rotation=0)\n",
    "plt.legend(title='Stoploss Reached', labels=['No', 'Yes'])\n",
    "\n",
    "plt.show()"
   ]
  },
  {
   "cell_type": "markdown",
   "metadata": {},
   "source": [
    "### Zona de Simulación"
   ]
  },
  {
   "cell_type": "code",
   "execution_count": 75,
   "metadata": {},
   "outputs": [
    {
     "name": "stdout",
     "output_type": "stream",
     "text": [
      "Procesando registro/orden 659...\n"
     ]
    },
    {
     "name": "stderr",
     "output_type": "stream",
     "text": [
      "17:22:22 - cmdstanpy - INFO - Chain [1] start processing\n",
      "17:22:24 - cmdstanpy - INFO - Chain [1] done processing\n"
     ]
    },
    {
     "name": "stdout",
     "output_type": "stream",
     "text": [
      "Procesando registro/orden 660...\n"
     ]
    },
    {
     "name": "stderr",
     "output_type": "stream",
     "text": [
      "17:22:28 - cmdstanpy - INFO - Chain [1] start processing\n",
      "17:22:30 - cmdstanpy - INFO - Chain [1] done processing\n"
     ]
    },
    {
     "name": "stdout",
     "output_type": "stream",
     "text": [
      "Procesando registro/orden 661...\n"
     ]
    },
    {
     "name": "stderr",
     "output_type": "stream",
     "text": [
      "17:22:36 - cmdstanpy - INFO - Chain [1] start processing\n",
      "17:22:38 - cmdstanpy - INFO - Chain [1] done processing\n"
     ]
    },
    {
     "name": "stdout",
     "output_type": "stream",
     "text": [
      "Procesando registro/orden 662...\n"
     ]
    },
    {
     "name": "stderr",
     "output_type": "stream",
     "text": [
      "17:22:42 - cmdstanpy - INFO - Chain [1] start processing\n",
      "17:22:46 - cmdstanpy - INFO - Chain [1] done processing\n"
     ]
    },
    {
     "name": "stdout",
     "output_type": "stream",
     "text": [
      "Procesando registro/orden 663...\n"
     ]
    },
    {
     "name": "stderr",
     "output_type": "stream",
     "text": [
      "17:22:52 - cmdstanpy - INFO - Chain [1] start processing\n",
      "17:22:54 - cmdstanpy - INFO - Chain [1] done processing\n"
     ]
    },
    {
     "name": "stdout",
     "output_type": "stream",
     "text": [
      "Procesando registro/orden 664...\n"
     ]
    },
    {
     "name": "stderr",
     "output_type": "stream",
     "text": [
      "17:22:59 - cmdstanpy - INFO - Chain [1] start processing\n",
      "17:23:02 - cmdstanpy - INFO - Chain [1] done processing\n"
     ]
    },
    {
     "name": "stdout",
     "output_type": "stream",
     "text": [
      "Procesando registro/orden 665...\n"
     ]
    },
    {
     "name": "stderr",
     "output_type": "stream",
     "text": [
      "17:23:08 - cmdstanpy - INFO - Chain [1] start processing\n",
      "17:23:10 - cmdstanpy - INFO - Chain [1] done processing\n"
     ]
    },
    {
     "name": "stdout",
     "output_type": "stream",
     "text": [
      "Procesando registro/orden 666...\n"
     ]
    },
    {
     "name": "stderr",
     "output_type": "stream",
     "text": [
      "17:23:15 - cmdstanpy - INFO - Chain [1] start processing\n",
      "17:23:17 - cmdstanpy - INFO - Chain [1] done processing\n"
     ]
    },
    {
     "name": "stdout",
     "output_type": "stream",
     "text": [
      "Procesando registro/orden 667...\n"
     ]
    },
    {
     "name": "stderr",
     "output_type": "stream",
     "text": [
      "17:23:23 - cmdstanpy - INFO - Chain [1] start processing\n",
      "17:23:25 - cmdstanpy - INFO - Chain [1] done processing\n"
     ]
    },
    {
     "name": "stdout",
     "output_type": "stream",
     "text": [
      "Procesando registro/orden 668...\n"
     ]
    },
    {
     "name": "stderr",
     "output_type": "stream",
     "text": [
      "17:23:32 - cmdstanpy - INFO - Chain [1] start processing\n",
      "17:23:33 - cmdstanpy - INFO - Chain [1] done processing\n"
     ]
    },
    {
     "name": "stdout",
     "output_type": "stream",
     "text": [
      "Procesando registro/orden 669...\n"
     ]
    },
    {
     "name": "stderr",
     "output_type": "stream",
     "text": [
      "17:23:38 - cmdstanpy - INFO - Chain [1] start processing\n",
      "17:23:39 - cmdstanpy - INFO - Chain [1] done processing\n"
     ]
    },
    {
     "name": "stdout",
     "output_type": "stream",
     "text": [
      "Procesando registro/orden 670...\n"
     ]
    },
    {
     "name": "stderr",
     "output_type": "stream",
     "text": [
      "17:23:45 - cmdstanpy - INFO - Chain [1] start processing\n",
      "17:23:47 - cmdstanpy - INFO - Chain [1] done processing\n"
     ]
    },
    {
     "name": "stdout",
     "output_type": "stream",
     "text": [
      "Procesando registro/orden 671...\n"
     ]
    },
    {
     "name": "stderr",
     "output_type": "stream",
     "text": [
      "17:23:51 - cmdstanpy - INFO - Chain [1] start processing\n",
      "17:23:52 - cmdstanpy - INFO - Chain [1] done processing\n"
     ]
    },
    {
     "name": "stdout",
     "output_type": "stream",
     "text": [
      "Procesando registro/orden 672...\n"
     ]
    },
    {
     "name": "stderr",
     "output_type": "stream",
     "text": [
      "17:23:57 - cmdstanpy - INFO - Chain [1] start processing\n",
      "17:23:59 - cmdstanpy - INFO - Chain [1] done processing\n"
     ]
    },
    {
     "name": "stdout",
     "output_type": "stream",
     "text": [
      "Procesando registro/orden 673...\n"
     ]
    },
    {
     "name": "stderr",
     "output_type": "stream",
     "text": [
      "17:24:05 - cmdstanpy - INFO - Chain [1] start processing\n",
      "17:24:06 - cmdstanpy - INFO - Chain [1] done processing\n"
     ]
    },
    {
     "name": "stdout",
     "output_type": "stream",
     "text": [
      "Procesando registro/orden 674...\n"
     ]
    },
    {
     "name": "stderr",
     "output_type": "stream",
     "text": [
      "17:24:11 - cmdstanpy - INFO - Chain [1] start processing\n",
      "17:24:12 - cmdstanpy - INFO - Chain [1] done processing\n"
     ]
    },
    {
     "name": "stdout",
     "output_type": "stream",
     "text": [
      "Procesando registro/orden 675...\n"
     ]
    },
    {
     "name": "stderr",
     "output_type": "stream",
     "text": [
      "17:24:17 - cmdstanpy - INFO - Chain [1] start processing\n",
      "17:24:19 - cmdstanpy - INFO - Chain [1] done processing\n"
     ]
    },
    {
     "name": "stdout",
     "output_type": "stream",
     "text": [
      "Procesando registro/orden 676...\n"
     ]
    },
    {
     "name": "stderr",
     "output_type": "stream",
     "text": [
      "17:24:23 - cmdstanpy - INFO - Chain [1] start processing\n",
      "17:24:24 - cmdstanpy - INFO - Chain [1] done processing\n"
     ]
    },
    {
     "name": "stdout",
     "output_type": "stream",
     "text": [
      "Procesando registro/orden 677...\n"
     ]
    },
    {
     "name": "stderr",
     "output_type": "stream",
     "text": [
      "17:24:29 - cmdstanpy - INFO - Chain [1] start processing\n",
      "17:24:31 - cmdstanpy - INFO - Chain [1] done processing\n"
     ]
    },
    {
     "name": "stdout",
     "output_type": "stream",
     "text": [
      "Procesando registro/orden 678...\n"
     ]
    },
    {
     "name": "stderr",
     "output_type": "stream",
     "text": [
      "17:24:37 - cmdstanpy - INFO - Chain [1] start processing\n",
      "17:24:38 - cmdstanpy - INFO - Chain [1] done processing\n"
     ]
    },
    {
     "name": "stdout",
     "output_type": "stream",
     "text": [
      "Procesando registro/orden 679...\n"
     ]
    },
    {
     "name": "stderr",
     "output_type": "stream",
     "text": [
      "17:24:44 - cmdstanpy - INFO - Chain [1] start processing\n",
      "17:24:46 - cmdstanpy - INFO - Chain [1] done processing\n"
     ]
    },
    {
     "name": "stdout",
     "output_type": "stream",
     "text": [
      "Procesando registro/orden 680...\n"
     ]
    },
    {
     "name": "stderr",
     "output_type": "stream",
     "text": [
      "17:24:52 - cmdstanpy - INFO - Chain [1] start processing\n",
      "17:24:54 - cmdstanpy - INFO - Chain [1] done processing\n"
     ]
    },
    {
     "name": "stdout",
     "output_type": "stream",
     "text": [
      "Procesando registro/orden 681...\n"
     ]
    },
    {
     "name": "stderr",
     "output_type": "stream",
     "text": [
      "17:24:58 - cmdstanpy - INFO - Chain [1] start processing\n",
      "17:25:00 - cmdstanpy - INFO - Chain [1] done processing\n"
     ]
    },
    {
     "name": "stdout",
     "output_type": "stream",
     "text": [
      "Procesando registro/orden 682...\n"
     ]
    },
    {
     "name": "stderr",
     "output_type": "stream",
     "text": [
      "17:25:05 - cmdstanpy - INFO - Chain [1] start processing\n",
      "17:25:06 - cmdstanpy - INFO - Chain [1] done processing\n"
     ]
    },
    {
     "name": "stdout",
     "output_type": "stream",
     "text": [
      "Procesando registro/orden 683...\n"
     ]
    },
    {
     "name": "stderr",
     "output_type": "stream",
     "text": [
      "17:25:11 - cmdstanpy - INFO - Chain [1] start processing\n",
      "17:25:13 - cmdstanpy - INFO - Chain [1] done processing\n"
     ]
    },
    {
     "name": "stdout",
     "output_type": "stream",
     "text": [
      "Procesando registro/orden 684...\n"
     ]
    },
    {
     "name": "stderr",
     "output_type": "stream",
     "text": [
      "17:25:17 - cmdstanpy - INFO - Chain [1] start processing\n",
      "17:25:18 - cmdstanpy - INFO - Chain [1] done processing\n"
     ]
    },
    {
     "name": "stdout",
     "output_type": "stream",
     "text": [
      "Procesando registro/orden 685...\n"
     ]
    },
    {
     "name": "stderr",
     "output_type": "stream",
     "text": [
      "17:25:23 - cmdstanpy - INFO - Chain [1] start processing\n",
      "17:25:25 - cmdstanpy - INFO - Chain [1] done processing\n"
     ]
    },
    {
     "name": "stdout",
     "output_type": "stream",
     "text": [
      "Procesando registro/orden 686...\n"
     ]
    },
    {
     "name": "stderr",
     "output_type": "stream",
     "text": [
      "17:25:30 - cmdstanpy - INFO - Chain [1] start processing\n",
      "17:25:31 - cmdstanpy - INFO - Chain [1] done processing\n"
     ]
    },
    {
     "name": "stdout",
     "output_type": "stream",
     "text": [
      "Procesando registro/orden 687...\n"
     ]
    },
    {
     "name": "stderr",
     "output_type": "stream",
     "text": [
      "17:25:37 - cmdstanpy - INFO - Chain [1] start processing\n",
      "17:25:39 - cmdstanpy - INFO - Chain [1] done processing\n"
     ]
    },
    {
     "name": "stdout",
     "output_type": "stream",
     "text": [
      "Procesando registro/orden 688...\n"
     ]
    },
    {
     "name": "stderr",
     "output_type": "stream",
     "text": [
      "17:25:45 - cmdstanpy - INFO - Chain [1] start processing\n",
      "17:25:47 - cmdstanpy - INFO - Chain [1] done processing\n"
     ]
    },
    {
     "name": "stdout",
     "output_type": "stream",
     "text": [
      "Procesando registro/orden 689...\n"
     ]
    },
    {
     "name": "stderr",
     "output_type": "stream",
     "text": [
      "17:25:51 - cmdstanpy - INFO - Chain [1] start processing\n",
      "17:25:52 - cmdstanpy - INFO - Chain [1] done processing\n"
     ]
    },
    {
     "name": "stdout",
     "output_type": "stream",
     "text": [
      "Procesando registro/orden 690...\n"
     ]
    },
    {
     "name": "stderr",
     "output_type": "stream",
     "text": [
      "17:25:57 - cmdstanpy - INFO - Chain [1] start processing\n",
      "17:25:59 - cmdstanpy - INFO - Chain [1] done processing\n"
     ]
    },
    {
     "name": "stdout",
     "output_type": "stream",
     "text": [
      "Procesando registro/orden 691...\n"
     ]
    },
    {
     "name": "stderr",
     "output_type": "stream",
     "text": [
      "17:26:05 - cmdstanpy - INFO - Chain [1] start processing\n",
      "17:26:07 - cmdstanpy - INFO - Chain [1] done processing\n"
     ]
    },
    {
     "name": "stdout",
     "output_type": "stream",
     "text": [
      "Procesando registro/orden 692...\n"
     ]
    },
    {
     "name": "stderr",
     "output_type": "stream",
     "text": [
      "17:26:11 - cmdstanpy - INFO - Chain [1] start processing\n",
      "17:26:12 - cmdstanpy - INFO - Chain [1] done processing\n"
     ]
    },
    {
     "name": "stdout",
     "output_type": "stream",
     "text": [
      "Procesando registro/orden 693...\n"
     ]
    },
    {
     "name": "stderr",
     "output_type": "stream",
     "text": [
      "17:26:18 - cmdstanpy - INFO - Chain [1] start processing\n",
      "17:26:20 - cmdstanpy - INFO - Chain [1] done processing\n"
     ]
    },
    {
     "name": "stdout",
     "output_type": "stream",
     "text": [
      "Procesando registro/orden 694...\n"
     ]
    },
    {
     "name": "stderr",
     "output_type": "stream",
     "text": [
      "17:26:24 - cmdstanpy - INFO - Chain [1] start processing\n",
      "17:26:26 - cmdstanpy - INFO - Chain [1] done processing\n"
     ]
    },
    {
     "name": "stdout",
     "output_type": "stream",
     "text": [
      "Procesando registro/orden 695...\n"
     ]
    },
    {
     "name": "stderr",
     "output_type": "stream",
     "text": [
      "17:26:30 - cmdstanpy - INFO - Chain [1] start processing\n",
      "17:26:33 - cmdstanpy - INFO - Chain [1] done processing\n"
     ]
    },
    {
     "name": "stdout",
     "output_type": "stream",
     "text": [
      "Procesando registro/orden 696...\n"
     ]
    },
    {
     "name": "stderr",
     "output_type": "stream",
     "text": [
      "17:26:38 - cmdstanpy - INFO - Chain [1] start processing\n",
      "17:26:40 - cmdstanpy - INFO - Chain [1] done processing\n"
     ]
    },
    {
     "name": "stdout",
     "output_type": "stream",
     "text": [
      "Procesando registro/orden 697...\n"
     ]
    },
    {
     "name": "stderr",
     "output_type": "stream",
     "text": [
      "17:26:46 - cmdstanpy - INFO - Chain [1] start processing\n",
      "17:26:48 - cmdstanpy - INFO - Chain [1] done processing\n"
     ]
    },
    {
     "name": "stdout",
     "output_type": "stream",
     "text": [
      "Procesando registro/orden 698...\n"
     ]
    },
    {
     "name": "stderr",
     "output_type": "stream",
     "text": [
      "17:26:53 - cmdstanpy - INFO - Chain [1] start processing\n",
      "17:26:55 - cmdstanpy - INFO - Chain [1] done processing\n"
     ]
    },
    {
     "name": "stdout",
     "output_type": "stream",
     "text": [
      "Procesando registro/orden 699...\n"
     ]
    },
    {
     "name": "stderr",
     "output_type": "stream",
     "text": [
      "17:26:59 - cmdstanpy - INFO - Chain [1] start processing\n",
      "17:27:01 - cmdstanpy - INFO - Chain [1] done processing\n"
     ]
    },
    {
     "name": "stdout",
     "output_type": "stream",
     "text": [
      "Procesando registro/orden 700...\n"
     ]
    },
    {
     "name": "stderr",
     "output_type": "stream",
     "text": [
      "17:27:05 - cmdstanpy - INFO - Chain [1] start processing\n",
      "17:27:06 - cmdstanpy - INFO - Chain [1] done processing\n"
     ]
    },
    {
     "name": "stdout",
     "output_type": "stream",
     "text": [
      "Procesando registro/orden 701...\n"
     ]
    },
    {
     "name": "stderr",
     "output_type": "stream",
     "text": [
      "17:27:11 - cmdstanpy - INFO - Chain [1] start processing\n",
      "17:27:13 - cmdstanpy - INFO - Chain [1] done processing\n"
     ]
    },
    {
     "name": "stdout",
     "output_type": "stream",
     "text": [
      "Procesando registro/orden 702...\n"
     ]
    },
    {
     "name": "stderr",
     "output_type": "stream",
     "text": [
      "17:27:19 - cmdstanpy - INFO - Chain [1] start processing\n",
      "17:27:21 - cmdstanpy - INFO - Chain [1] done processing\n"
     ]
    },
    {
     "name": "stdout",
     "output_type": "stream",
     "text": [
      "Procesando registro/orden 703...\n"
     ]
    },
    {
     "name": "stderr",
     "output_type": "stream",
     "text": [
      "17:27:26 - cmdstanpy - INFO - Chain [1] start processing\n",
      "17:27:28 - cmdstanpy - INFO - Chain [1] done processing\n"
     ]
    },
    {
     "name": "stdout",
     "output_type": "stream",
     "text": [
      "Procesando registro/orden 704...\n"
     ]
    },
    {
     "name": "stderr",
     "output_type": "stream",
     "text": [
      "17:27:33 - cmdstanpy - INFO - Chain [1] start processing\n",
      "17:27:35 - cmdstanpy - INFO - Chain [1] done processing\n"
     ]
    },
    {
     "name": "stdout",
     "output_type": "stream",
     "text": [
      "Procesando registro/orden 705...\n"
     ]
    },
    {
     "name": "stderr",
     "output_type": "stream",
     "text": [
      "17:27:39 - cmdstanpy - INFO - Chain [1] start processing\n",
      "17:27:41 - cmdstanpy - INFO - Chain [1] done processing\n"
     ]
    },
    {
     "name": "stdout",
     "output_type": "stream",
     "text": [
      "Procesando registro/orden 706...\n"
     ]
    },
    {
     "name": "stderr",
     "output_type": "stream",
     "text": [
      "17:27:47 - cmdstanpy - INFO - Chain [1] start processing\n",
      "17:27:48 - cmdstanpy - INFO - Chain [1] done processing\n"
     ]
    },
    {
     "name": "stdout",
     "output_type": "stream",
     "text": [
      "Procesando registro/orden 707...\n"
     ]
    },
    {
     "name": "stderr",
     "output_type": "stream",
     "text": [
      "17:27:54 - cmdstanpy - INFO - Chain [1] start processing\n",
      "17:27:56 - cmdstanpy - INFO - Chain [1] done processing\n"
     ]
    },
    {
     "name": "stdout",
     "output_type": "stream",
     "text": [
      "Procesando registro/orden 708...\n"
     ]
    },
    {
     "name": "stderr",
     "output_type": "stream",
     "text": [
      "17:28:01 - cmdstanpy - INFO - Chain [1] start processing\n",
      "17:28:02 - cmdstanpy - INFO - Chain [1] done processing\n"
     ]
    },
    {
     "name": "stdout",
     "output_type": "stream",
     "text": [
      "Procesando registro/orden 709...\n"
     ]
    },
    {
     "name": "stderr",
     "output_type": "stream",
     "text": [
      "17:28:07 - cmdstanpy - INFO - Chain [1] start processing\n",
      "17:28:09 - cmdstanpy - INFO - Chain [1] done processing\n"
     ]
    },
    {
     "name": "stdout",
     "output_type": "stream",
     "text": [
      "Procesando registro/orden 710...\n"
     ]
    },
    {
     "name": "stderr",
     "output_type": "stream",
     "text": [
      "17:28:15 - cmdstanpy - INFO - Chain [1] start processing\n",
      "17:28:16 - cmdstanpy - INFO - Chain [1] done processing\n"
     ]
    },
    {
     "name": "stdout",
     "output_type": "stream",
     "text": [
      "Procesando registro/orden 711...\n"
     ]
    },
    {
     "name": "stderr",
     "output_type": "stream",
     "text": [
      "17:28:21 - cmdstanpy - INFO - Chain [1] start processing\n",
      "17:28:23 - cmdstanpy - INFO - Chain [1] done processing\n"
     ]
    },
    {
     "name": "stdout",
     "output_type": "stream",
     "text": [
      "Procesando registro/orden 712...\n"
     ]
    },
    {
     "name": "stderr",
     "output_type": "stream",
     "text": [
      "17:28:28 - cmdstanpy - INFO - Chain [1] start processing\n",
      "17:28:30 - cmdstanpy - INFO - Chain [1] done processing\n"
     ]
    },
    {
     "name": "stdout",
     "output_type": "stream",
     "text": [
      "Procesando registro/orden 713...\n"
     ]
    },
    {
     "name": "stderr",
     "output_type": "stream",
     "text": [
      "17:28:35 - cmdstanpy - INFO - Chain [1] start processing\n",
      "17:28:37 - cmdstanpy - INFO - Chain [1] done processing\n"
     ]
    },
    {
     "name": "stdout",
     "output_type": "stream",
     "text": [
      "Procesando registro/orden 714...\n"
     ]
    },
    {
     "name": "stderr",
     "output_type": "stream",
     "text": [
      "17:28:41 - cmdstanpy - INFO - Chain [1] start processing\n",
      "17:28:42 - cmdstanpy - INFO - Chain [1] done processing\n"
     ]
    },
    {
     "name": "stdout",
     "output_type": "stream",
     "text": [
      "Procesando registro/orden 715...\n"
     ]
    },
    {
     "name": "stderr",
     "output_type": "stream",
     "text": [
      "17:28:47 - cmdstanpy - INFO - Chain [1] start processing\n",
      "17:28:49 - cmdstanpy - INFO - Chain [1] done processing\n"
     ]
    },
    {
     "name": "stdout",
     "output_type": "stream",
     "text": [
      "Procesando registro/orden 716...\n"
     ]
    },
    {
     "name": "stderr",
     "output_type": "stream",
     "text": [
      "17:28:54 - cmdstanpy - INFO - Chain [1] start processing\n",
      "17:28:57 - cmdstanpy - INFO - Chain [1] done processing\n"
     ]
    },
    {
     "name": "stdout",
     "output_type": "stream",
     "text": [
      "Procesando registro/orden 717...\n"
     ]
    },
    {
     "name": "stderr",
     "output_type": "stream",
     "text": [
      "17:29:02 - cmdstanpy - INFO - Chain [1] start processing\n",
      "17:29:04 - cmdstanpy - INFO - Chain [1] done processing\n"
     ]
    },
    {
     "name": "stdout",
     "output_type": "stream",
     "text": [
      "Procesando registro/orden 718...\n"
     ]
    },
    {
     "name": "stderr",
     "output_type": "stream",
     "text": [
      "17:29:09 - cmdstanpy - INFO - Chain [1] start processing\n",
      "17:29:10 - cmdstanpy - INFO - Chain [1] done processing\n"
     ]
    },
    {
     "name": "stdout",
     "output_type": "stream",
     "text": [
      "Procesando registro/orden 719...\n"
     ]
    },
    {
     "name": "stderr",
     "output_type": "stream",
     "text": [
      "17:29:14 - cmdstanpy - INFO - Chain [1] start processing\n",
      "17:29:16 - cmdstanpy - INFO - Chain [1] done processing\n"
     ]
    },
    {
     "name": "stdout",
     "output_type": "stream",
     "text": [
      "Procesando registro/orden 720...\n"
     ]
    },
    {
     "name": "stderr",
     "output_type": "stream",
     "text": [
      "17:29:20 - cmdstanpy - INFO - Chain [1] start processing\n",
      "17:29:22 - cmdstanpy - INFO - Chain [1] done processing\n"
     ]
    },
    {
     "name": "stdout",
     "output_type": "stream",
     "text": [
      "Procesando registro/orden 721...\n"
     ]
    },
    {
     "name": "stderr",
     "output_type": "stream",
     "text": [
      "17:29:27 - cmdstanpy - INFO - Chain [1] start processing\n",
      "17:29:28 - cmdstanpy - INFO - Chain [1] done processing\n"
     ]
    },
    {
     "name": "stdout",
     "output_type": "stream",
     "text": [
      "Procesando registro/orden 722...\n"
     ]
    },
    {
     "name": "stderr",
     "output_type": "stream",
     "text": [
      "17:29:34 - cmdstanpy - INFO - Chain [1] start processing\n",
      "17:29:35 - cmdstanpy - INFO - Chain [1] done processing\n"
     ]
    },
    {
     "name": "stdout",
     "output_type": "stream",
     "text": [
      "Procesando registro/orden 723...\n"
     ]
    },
    {
     "name": "stderr",
     "output_type": "stream",
     "text": [
      "17:29:39 - cmdstanpy - INFO - Chain [1] start processing\n",
      "17:29:40 - cmdstanpy - INFO - Chain [1] done processing\n"
     ]
    },
    {
     "name": "stdout",
     "output_type": "stream",
     "text": [
      "Procesando registro/orden 724...\n"
     ]
    },
    {
     "name": "stderr",
     "output_type": "stream",
     "text": [
      "17:29:45 - cmdstanpy - INFO - Chain [1] start processing\n",
      "17:29:47 - cmdstanpy - INFO - Chain [1] done processing\n"
     ]
    },
    {
     "name": "stdout",
     "output_type": "stream",
     "text": [
      "Procesando registro/orden 725...\n"
     ]
    },
    {
     "name": "stderr",
     "output_type": "stream",
     "text": [
      "17:29:52 - cmdstanpy - INFO - Chain [1] start processing\n",
      "17:29:53 - cmdstanpy - INFO - Chain [1] done processing\n"
     ]
    },
    {
     "name": "stdout",
     "output_type": "stream",
     "text": [
      "Procesando registro/orden 726...\n"
     ]
    },
    {
     "name": "stderr",
     "output_type": "stream",
     "text": [
      "17:29:58 - cmdstanpy - INFO - Chain [1] start processing\n",
      "17:30:00 - cmdstanpy - INFO - Chain [1] done processing\n"
     ]
    },
    {
     "name": "stdout",
     "output_type": "stream",
     "text": [
      "Procesando registro/orden 727...\n"
     ]
    },
    {
     "name": "stderr",
     "output_type": "stream",
     "text": [
      "17:30:06 - cmdstanpy - INFO - Chain [1] start processing\n",
      "17:30:07 - cmdstanpy - INFO - Chain [1] done processing\n"
     ]
    },
    {
     "name": "stdout",
     "output_type": "stream",
     "text": [
      "Procesando registro/orden 728...\n"
     ]
    },
    {
     "name": "stderr",
     "output_type": "stream",
     "text": [
      "17:30:12 - cmdstanpy - INFO - Chain [1] start processing\n",
      "17:30:15 - cmdstanpy - INFO - Chain [1] done processing\n"
     ]
    },
    {
     "name": "stdout",
     "output_type": "stream",
     "text": [
      "Procesando registro/orden 729...\n"
     ]
    },
    {
     "name": "stderr",
     "output_type": "stream",
     "text": [
      "17:30:19 - cmdstanpy - INFO - Chain [1] start processing\n",
      "17:30:21 - cmdstanpy - INFO - Chain [1] done processing\n"
     ]
    },
    {
     "name": "stdout",
     "output_type": "stream",
     "text": [
      "Procesando registro/orden 730...\n"
     ]
    },
    {
     "name": "stderr",
     "output_type": "stream",
     "text": [
      "17:30:26 - cmdstanpy - INFO - Chain [1] start processing\n",
      "17:30:27 - cmdstanpy - INFO - Chain [1] done processing\n"
     ]
    },
    {
     "name": "stdout",
     "output_type": "stream",
     "text": [
      "Procesando registro/orden 731...\n"
     ]
    },
    {
     "name": "stderr",
     "output_type": "stream",
     "text": [
      "17:30:31 - cmdstanpy - INFO - Chain [1] start processing\n",
      "17:30:33 - cmdstanpy - INFO - Chain [1] done processing\n"
     ]
    },
    {
     "name": "stdout",
     "output_type": "stream",
     "text": [
      "Procesando registro/orden 732...\n"
     ]
    },
    {
     "name": "stderr",
     "output_type": "stream",
     "text": [
      "17:30:38 - cmdstanpy - INFO - Chain [1] start processing\n",
      "17:30:39 - cmdstanpy - INFO - Chain [1] done processing\n"
     ]
    },
    {
     "name": "stdout",
     "output_type": "stream",
     "text": [
      "Procesando registro/orden 733...\n"
     ]
    },
    {
     "name": "stderr",
     "output_type": "stream",
     "text": [
      "17:30:45 - cmdstanpy - INFO - Chain [1] start processing\n",
      "17:30:47 - cmdstanpy - INFO - Chain [1] done processing\n"
     ]
    },
    {
     "name": "stdout",
     "output_type": "stream",
     "text": [
      "Procesando registro/orden 734...\n"
     ]
    },
    {
     "name": "stderr",
     "output_type": "stream",
     "text": [
      "17:30:52 - cmdstanpy - INFO - Chain [1] start processing\n",
      "17:30:53 - cmdstanpy - INFO - Chain [1] done processing\n"
     ]
    },
    {
     "name": "stdout",
     "output_type": "stream",
     "text": [
      "Procesando registro/orden 735...\n"
     ]
    },
    {
     "name": "stderr",
     "output_type": "stream",
     "text": [
      "17:30:58 - cmdstanpy - INFO - Chain [1] start processing\n",
      "17:31:00 - cmdstanpy - INFO - Chain [1] done processing\n"
     ]
    },
    {
     "name": "stdout",
     "output_type": "stream",
     "text": [
      "Procesando registro/orden 736...\n"
     ]
    },
    {
     "name": "stderr",
     "output_type": "stream",
     "text": [
      "17:31:06 - cmdstanpy - INFO - Chain [1] start processing\n",
      "17:31:07 - cmdstanpy - INFO - Chain [1] done processing\n"
     ]
    },
    {
     "name": "stdout",
     "output_type": "stream",
     "text": [
      "Procesando registro/orden 737...\n"
     ]
    },
    {
     "name": "stderr",
     "output_type": "stream",
     "text": [
      "17:31:13 - cmdstanpy - INFO - Chain [1] start processing\n",
      "17:31:15 - cmdstanpy - INFO - Chain [1] done processing\n"
     ]
    },
    {
     "name": "stdout",
     "output_type": "stream",
     "text": [
      "Procesando registro/orden 738...\n"
     ]
    },
    {
     "name": "stderr",
     "output_type": "stream",
     "text": [
      "17:31:20 - cmdstanpy - INFO - Chain [1] start processing\n",
      "17:31:22 - cmdstanpy - INFO - Chain [1] done processing\n"
     ]
    },
    {
     "name": "stdout",
     "output_type": "stream",
     "text": [
      "Procesando registro/orden 739...\n"
     ]
    },
    {
     "name": "stderr",
     "output_type": "stream",
     "text": [
      "17:31:26 - cmdstanpy - INFO - Chain [1] start processing\n",
      "17:31:28 - cmdstanpy - INFO - Chain [1] done processing\n"
     ]
    },
    {
     "name": "stdout",
     "output_type": "stream",
     "text": [
      "Procesando registro/orden 740...\n"
     ]
    },
    {
     "name": "stderr",
     "output_type": "stream",
     "text": [
      "17:31:34 - cmdstanpy - INFO - Chain [1] start processing\n",
      "17:31:36 - cmdstanpy - INFO - Chain [1] done processing\n"
     ]
    },
    {
     "name": "stdout",
     "output_type": "stream",
     "text": [
      "Procesando registro/orden 741...\n"
     ]
    },
    {
     "name": "stderr",
     "output_type": "stream",
     "text": [
      "17:31:42 - cmdstanpy - INFO - Chain [1] start processing\n",
      "17:31:44 - cmdstanpy - INFO - Chain [1] done processing\n"
     ]
    },
    {
     "name": "stdout",
     "output_type": "stream",
     "text": [
      "Procesando registro/orden 742...\n"
     ]
    },
    {
     "name": "stderr",
     "output_type": "stream",
     "text": [
      "17:31:53 - cmdstanpy - INFO - Chain [1] start processing\n",
      "17:31:56 - cmdstanpy - INFO - Chain [1] done processing\n"
     ]
    },
    {
     "name": "stdout",
     "output_type": "stream",
     "text": [
      "Procesando registro/orden 743...\n"
     ]
    },
    {
     "name": "stderr",
     "output_type": "stream",
     "text": [
      "17:32:01 - cmdstanpy - INFO - Chain [1] start processing\n",
      "17:32:03 - cmdstanpy - INFO - Chain [1] done processing\n"
     ]
    },
    {
     "name": "stdout",
     "output_type": "stream",
     "text": [
      "Procesando registro/orden 744...\n"
     ]
    },
    {
     "name": "stderr",
     "output_type": "stream",
     "text": [
      "17:32:09 - cmdstanpy - INFO - Chain [1] start processing\n",
      "17:32:11 - cmdstanpy - INFO - Chain [1] done processing\n"
     ]
    },
    {
     "name": "stdout",
     "output_type": "stream",
     "text": [
      "Procesando registro/orden 745...\n"
     ]
    },
    {
     "name": "stderr",
     "output_type": "stream",
     "text": [
      "17:32:17 - cmdstanpy - INFO - Chain [1] start processing\n",
      "17:32:18 - cmdstanpy - INFO - Chain [1] done processing\n"
     ]
    },
    {
     "name": "stdout",
     "output_type": "stream",
     "text": [
      "Procesando registro/orden 746...\n"
     ]
    },
    {
     "name": "stderr",
     "output_type": "stream",
     "text": [
      "17:32:23 - cmdstanpy - INFO - Chain [1] start processing\n",
      "17:32:25 - cmdstanpy - INFO - Chain [1] done processing\n"
     ]
    },
    {
     "name": "stdout",
     "output_type": "stream",
     "text": [
      "Procesando registro/orden 747...\n"
     ]
    },
    {
     "name": "stderr",
     "output_type": "stream",
     "text": [
      "17:32:31 - cmdstanpy - INFO - Chain [1] start processing\n",
      "17:32:32 - cmdstanpy - INFO - Chain [1] done processing\n"
     ]
    },
    {
     "name": "stdout",
     "output_type": "stream",
     "text": [
      "Procesando registro/orden 748...\n"
     ]
    },
    {
     "name": "stderr",
     "output_type": "stream",
     "text": [
      "17:32:37 - cmdstanpy - INFO - Chain [1] start processing\n",
      "17:32:39 - cmdstanpy - INFO - Chain [1] done processing\n"
     ]
    },
    {
     "name": "stdout",
     "output_type": "stream",
     "text": [
      "Procesando registro/orden 749...\n"
     ]
    },
    {
     "name": "stderr",
     "output_type": "stream",
     "text": [
      "17:32:45 - cmdstanpy - INFO - Chain [1] start processing\n",
      "17:32:47 - cmdstanpy - INFO - Chain [1] done processing\n"
     ]
    },
    {
     "name": "stdout",
     "output_type": "stream",
     "text": [
      "Procesando registro/orden 750...\n"
     ]
    },
    {
     "name": "stderr",
     "output_type": "stream",
     "text": [
      "17:32:52 - cmdstanpy - INFO - Chain [1] start processing\n",
      "17:32:54 - cmdstanpy - INFO - Chain [1] done processing\n"
     ]
    },
    {
     "name": "stdout",
     "output_type": "stream",
     "text": [
      "Procesando registro/orden 751...\n"
     ]
    },
    {
     "name": "stderr",
     "output_type": "stream",
     "text": [
      "17:32:58 - cmdstanpy - INFO - Chain [1] start processing\n",
      "17:32:59 - cmdstanpy - INFO - Chain [1] done processing\n"
     ]
    },
    {
     "name": "stdout",
     "output_type": "stream",
     "text": [
      "Procesando registro/orden 752...\n"
     ]
    },
    {
     "name": "stderr",
     "output_type": "stream",
     "text": [
      "17:33:05 - cmdstanpy - INFO - Chain [1] start processing\n",
      "17:33:07 - cmdstanpy - INFO - Chain [1] done processing\n"
     ]
    },
    {
     "name": "stdout",
     "output_type": "stream",
     "text": [
      "Procesando registro/orden 753...\n"
     ]
    },
    {
     "name": "stderr",
     "output_type": "stream",
     "text": [
      "17:33:12 - cmdstanpy - INFO - Chain [1] start processing\n",
      "17:33:15 - cmdstanpy - INFO - Chain [1] done processing\n"
     ]
    },
    {
     "name": "stdout",
     "output_type": "stream",
     "text": [
      "Procesando registro/orden 754...\n"
     ]
    },
    {
     "name": "stderr",
     "output_type": "stream",
     "text": [
      "17:33:20 - cmdstanpy - INFO - Chain [1] start processing\n",
      "17:33:22 - cmdstanpy - INFO - Chain [1] done processing\n"
     ]
    },
    {
     "name": "stdout",
     "output_type": "stream",
     "text": [
      "Procesando registro/orden 755...\n"
     ]
    },
    {
     "name": "stderr",
     "output_type": "stream",
     "text": [
      "17:33:28 - cmdstanpy - INFO - Chain [1] start processing\n",
      "17:33:29 - cmdstanpy - INFO - Chain [1] done processing\n"
     ]
    },
    {
     "name": "stdout",
     "output_type": "stream",
     "text": [
      "Procesando registro/orden 756...\n"
     ]
    },
    {
     "name": "stderr",
     "output_type": "stream",
     "text": [
      "17:33:34 - cmdstanpy - INFO - Chain [1] start processing\n",
      "17:33:35 - cmdstanpy - INFO - Chain [1] done processing\n"
     ]
    },
    {
     "name": "stdout",
     "output_type": "stream",
     "text": [
      "Procesando registro/orden 757...\n"
     ]
    },
    {
     "name": "stderr",
     "output_type": "stream",
     "text": [
      "17:33:40 - cmdstanpy - INFO - Chain [1] start processing\n",
      "17:33:41 - cmdstanpy - INFO - Chain [1] done processing\n"
     ]
    },
    {
     "name": "stdout",
     "output_type": "stream",
     "text": [
      "Procesando registro/orden 758...\n"
     ]
    },
    {
     "name": "stderr",
     "output_type": "stream",
     "text": [
      "17:33:46 - cmdstanpy - INFO - Chain [1] start processing\n",
      "17:33:48 - cmdstanpy - INFO - Chain [1] done processing\n"
     ]
    },
    {
     "name": "stdout",
     "output_type": "stream",
     "text": [
      "Procesando registro/orden 759...\n"
     ]
    },
    {
     "name": "stderr",
     "output_type": "stream",
     "text": [
      "17:33:54 - cmdstanpy - INFO - Chain [1] start processing\n",
      "17:33:56 - cmdstanpy - INFO - Chain [1] done processing\n"
     ]
    },
    {
     "name": "stdout",
     "output_type": "stream",
     "text": [
      "Procesando registro/orden 760...\n"
     ]
    },
    {
     "name": "stderr",
     "output_type": "stream",
     "text": [
      "17:34:00 - cmdstanpy - INFO - Chain [1] start processing\n",
      "17:34:02 - cmdstanpy - INFO - Chain [1] done processing\n"
     ]
    },
    {
     "name": "stdout",
     "output_type": "stream",
     "text": [
      "Procesando registro/orden 761...\n"
     ]
    },
    {
     "name": "stderr",
     "output_type": "stream",
     "text": [
      "17:34:06 - cmdstanpy - INFO - Chain [1] start processing\n",
      "17:34:08 - cmdstanpy - INFO - Chain [1] done processing\n"
     ]
    },
    {
     "name": "stdout",
     "output_type": "stream",
     "text": [
      "Procesando registro/orden 762...\n"
     ]
    },
    {
     "name": "stderr",
     "output_type": "stream",
     "text": [
      "17:34:13 - cmdstanpy - INFO - Chain [1] start processing\n",
      "17:34:14 - cmdstanpy - INFO - Chain [1] done processing\n"
     ]
    },
    {
     "name": "stdout",
     "output_type": "stream",
     "text": [
      "Procesando registro/orden 763...\n"
     ]
    },
    {
     "name": "stderr",
     "output_type": "stream",
     "text": [
      "17:34:20 - cmdstanpy - INFO - Chain [1] start processing\n",
      "17:34:22 - cmdstanpy - INFO - Chain [1] done processing\n"
     ]
    },
    {
     "name": "stdout",
     "output_type": "stream",
     "text": [
      "Procesando registro/orden 764...\n"
     ]
    },
    {
     "name": "stderr",
     "output_type": "stream",
     "text": [
      "17:34:27 - cmdstanpy - INFO - Chain [1] start processing\n",
      "17:34:29 - cmdstanpy - INFO - Chain [1] done processing\n"
     ]
    },
    {
     "name": "stdout",
     "output_type": "stream",
     "text": [
      "Procesando registro/orden 765...\n"
     ]
    },
    {
     "name": "stderr",
     "output_type": "stream",
     "text": [
      "17:34:33 - cmdstanpy - INFO - Chain [1] start processing\n",
      "17:34:35 - cmdstanpy - INFO - Chain [1] done processing\n"
     ]
    },
    {
     "name": "stdout",
     "output_type": "stream",
     "text": [
      "Procesando registro/orden 766...\n"
     ]
    },
    {
     "name": "stderr",
     "output_type": "stream",
     "text": [
      "17:34:39 - cmdstanpy - INFO - Chain [1] start processing\n",
      "17:34:41 - cmdstanpy - INFO - Chain [1] done processing\n"
     ]
    },
    {
     "name": "stdout",
     "output_type": "stream",
     "text": [
      "Procesando registro/orden 767...\n"
     ]
    },
    {
     "name": "stderr",
     "output_type": "stream",
     "text": [
      "17:34:46 - cmdstanpy - INFO - Chain [1] start processing\n",
      "17:34:48 - cmdstanpy - INFO - Chain [1] done processing\n"
     ]
    },
    {
     "name": "stdout",
     "output_type": "stream",
     "text": [
      "Procesando registro/orden 768...\n"
     ]
    },
    {
     "name": "stderr",
     "output_type": "stream",
     "text": [
      "17:34:53 - cmdstanpy - INFO - Chain [1] start processing\n",
      "17:34:55 - cmdstanpy - INFO - Chain [1] done processing\n"
     ]
    },
    {
     "name": "stdout",
     "output_type": "stream",
     "text": [
      "Procesando registro/orden 769...\n"
     ]
    },
    {
     "name": "stderr",
     "output_type": "stream",
     "text": [
      "17:34:59 - cmdstanpy - INFO - Chain [1] start processing\n",
      "17:35:01 - cmdstanpy - INFO - Chain [1] done processing\n"
     ]
    },
    {
     "name": "stdout",
     "output_type": "stream",
     "text": [
      "Procesando registro/orden 770...\n"
     ]
    },
    {
     "name": "stderr",
     "output_type": "stream",
     "text": [
      "17:35:06 - cmdstanpy - INFO - Chain [1] start processing\n",
      "17:35:08 - cmdstanpy - INFO - Chain [1] done processing\n"
     ]
    },
    {
     "name": "stdout",
     "output_type": "stream",
     "text": [
      "Procesando registro/orden 771...\n"
     ]
    },
    {
     "name": "stderr",
     "output_type": "stream",
     "text": [
      "17:35:12 - cmdstanpy - INFO - Chain [1] start processing\n",
      "17:35:14 - cmdstanpy - INFO - Chain [1] done processing\n"
     ]
    },
    {
     "name": "stdout",
     "output_type": "stream",
     "text": [
      "Procesando registro/orden 772...\n"
     ]
    },
    {
     "name": "stderr",
     "output_type": "stream",
     "text": [
      "17:35:20 - cmdstanpy - INFO - Chain [1] start processing\n",
      "17:35:21 - cmdstanpy - INFO - Chain [1] done processing\n"
     ]
    },
    {
     "name": "stdout",
     "output_type": "stream",
     "text": [
      "Procesando registro/orden 773...\n"
     ]
    },
    {
     "name": "stderr",
     "output_type": "stream",
     "text": [
      "17:35:27 - cmdstanpy - INFO - Chain [1] start processing\n",
      "17:35:29 - cmdstanpy - INFO - Chain [1] done processing\n"
     ]
    },
    {
     "name": "stdout",
     "output_type": "stream",
     "text": [
      "Procesando registro/orden 774...\n"
     ]
    },
    {
     "name": "stderr",
     "output_type": "stream",
     "text": [
      "17:35:34 - cmdstanpy - INFO - Chain [1] start processing\n",
      "17:35:36 - cmdstanpy - INFO - Chain [1] done processing\n"
     ]
    },
    {
     "name": "stdout",
     "output_type": "stream",
     "text": [
      "Procesando registro/orden 775...\n"
     ]
    },
    {
     "name": "stderr",
     "output_type": "stream",
     "text": [
      "17:35:39 - cmdstanpy - INFO - Chain [1] start processing\n",
      "17:35:41 - cmdstanpy - INFO - Chain [1] done processing\n"
     ]
    },
    {
     "name": "stdout",
     "output_type": "stream",
     "text": [
      "Procesando registro/orden 776...\n"
     ]
    },
    {
     "name": "stderr",
     "output_type": "stream",
     "text": [
      "17:35:45 - cmdstanpy - INFO - Chain [1] start processing\n",
      "17:35:46 - cmdstanpy - INFO - Chain [1] done processing\n"
     ]
    },
    {
     "name": "stdout",
     "output_type": "stream",
     "text": [
      "Procesando registro/orden 777...\n"
     ]
    },
    {
     "name": "stderr",
     "output_type": "stream",
     "text": [
      "17:35:52 - cmdstanpy - INFO - Chain [1] start processing\n",
      "17:35:53 - cmdstanpy - INFO - Chain [1] done processing\n"
     ]
    },
    {
     "name": "stdout",
     "output_type": "stream",
     "text": [
      "Procesando registro/orden 778...\n"
     ]
    },
    {
     "name": "stderr",
     "output_type": "stream",
     "text": [
      "17:35:58 - cmdstanpy - INFO - Chain [1] start processing\n",
      "17:36:00 - cmdstanpy - INFO - Chain [1] done processing\n"
     ]
    },
    {
     "name": "stdout",
     "output_type": "stream",
     "text": [
      "Procesando registro/orden 779...\n"
     ]
    },
    {
     "name": "stderr",
     "output_type": "stream",
     "text": [
      "17:36:04 - cmdstanpy - INFO - Chain [1] start processing\n",
      "17:36:06 - cmdstanpy - INFO - Chain [1] done processing\n"
     ]
    },
    {
     "name": "stdout",
     "output_type": "stream",
     "text": [
      "Procesando registro/orden 780...\n"
     ]
    },
    {
     "name": "stderr",
     "output_type": "stream",
     "text": [
      "17:36:10 - cmdstanpy - INFO - Chain [1] start processing\n",
      "17:36:11 - cmdstanpy - INFO - Chain [1] done processing\n"
     ]
    },
    {
     "name": "stdout",
     "output_type": "stream",
     "text": [
      "Procesando registro/orden 781...\n"
     ]
    },
    {
     "name": "stderr",
     "output_type": "stream",
     "text": [
      "17:36:16 - cmdstanpy - INFO - Chain [1] start processing\n",
      "17:36:18 - cmdstanpy - INFO - Chain [1] done processing\n"
     ]
    },
    {
     "name": "stdout",
     "output_type": "stream",
     "text": [
      "Procesando registro/orden 782...\n"
     ]
    },
    {
     "name": "stderr",
     "output_type": "stream",
     "text": [
      "17:36:22 - cmdstanpy - INFO - Chain [1] start processing\n",
      "17:36:24 - cmdstanpy - INFO - Chain [1] done processing\n"
     ]
    },
    {
     "name": "stdout",
     "output_type": "stream",
     "text": [
      "Procesando registro/orden 783...\n"
     ]
    },
    {
     "name": "stderr",
     "output_type": "stream",
     "text": [
      "17:36:30 - cmdstanpy - INFO - Chain [1] start processing\n",
      "17:36:32 - cmdstanpy - INFO - Chain [1] done processing\n"
     ]
    },
    {
     "name": "stdout",
     "output_type": "stream",
     "text": [
      "Procesando registro/orden 784...\n"
     ]
    },
    {
     "name": "stderr",
     "output_type": "stream",
     "text": [
      "17:36:37 - cmdstanpy - INFO - Chain [1] start processing\n",
      "17:36:39 - cmdstanpy - INFO - Chain [1] done processing\n"
     ]
    },
    {
     "name": "stdout",
     "output_type": "stream",
     "text": [
      "Procesando registro/orden 785...\n"
     ]
    },
    {
     "name": "stderr",
     "output_type": "stream",
     "text": [
      "17:36:45 - cmdstanpy - INFO - Chain [1] start processing\n",
      "17:36:46 - cmdstanpy - INFO - Chain [1] done processing\n"
     ]
    },
    {
     "name": "stdout",
     "output_type": "stream",
     "text": [
      "Procesando registro/orden 786...\n"
     ]
    },
    {
     "name": "stderr",
     "output_type": "stream",
     "text": [
      "17:36:52 - cmdstanpy - INFO - Chain [1] start processing\n",
      "17:36:53 - cmdstanpy - INFO - Chain [1] done processing\n"
     ]
    },
    {
     "name": "stdout",
     "output_type": "stream",
     "text": [
      "Procesando registro/orden 787...\n"
     ]
    },
    {
     "name": "stderr",
     "output_type": "stream",
     "text": [
      "17:36:59 - cmdstanpy - INFO - Chain [1] start processing\n",
      "17:37:01 - cmdstanpy - INFO - Chain [1] done processing\n"
     ]
    },
    {
     "name": "stdout",
     "output_type": "stream",
     "text": [
      "Procesando registro/orden 788...\n"
     ]
    },
    {
     "name": "stderr",
     "output_type": "stream",
     "text": [
      "17:37:05 - cmdstanpy - INFO - Chain [1] start processing\n",
      "17:37:06 - cmdstanpy - INFO - Chain [1] done processing\n"
     ]
    },
    {
     "name": "stdout",
     "output_type": "stream",
     "text": [
      "Procesando registro/orden 789...\n"
     ]
    },
    {
     "name": "stderr",
     "output_type": "stream",
     "text": [
      "17:37:10 - cmdstanpy - INFO - Chain [1] start processing\n",
      "17:37:12 - cmdstanpy - INFO - Chain [1] done processing\n"
     ]
    },
    {
     "name": "stdout",
     "output_type": "stream",
     "text": [
      "Procesando registro/orden 790...\n"
     ]
    },
    {
     "name": "stderr",
     "output_type": "stream",
     "text": [
      "17:37:17 - cmdstanpy - INFO - Chain [1] start processing\n",
      "17:37:18 - cmdstanpy - INFO - Chain [1] done processing\n"
     ]
    },
    {
     "name": "stdout",
     "output_type": "stream",
     "text": [
      "Procesando registro/orden 791...\n"
     ]
    },
    {
     "name": "stderr",
     "output_type": "stream",
     "text": [
      "17:37:24 - cmdstanpy - INFO - Chain [1] start processing\n",
      "17:37:26 - cmdstanpy - INFO - Chain [1] done processing\n"
     ]
    },
    {
     "name": "stdout",
     "output_type": "stream",
     "text": [
      "Procesando registro/orden 792...\n"
     ]
    },
    {
     "name": "stderr",
     "output_type": "stream",
     "text": [
      "17:37:32 - cmdstanpy - INFO - Chain [1] start processing\n",
      "17:37:33 - cmdstanpy - INFO - Chain [1] done processing\n"
     ]
    },
    {
     "name": "stdout",
     "output_type": "stream",
     "text": [
      "Procesando registro/orden 793...\n"
     ]
    },
    {
     "name": "stderr",
     "output_type": "stream",
     "text": [
      "17:37:37 - cmdstanpy - INFO - Chain [1] start processing\n",
      "17:37:39 - cmdstanpy - INFO - Chain [1] done processing\n"
     ]
    },
    {
     "name": "stdout",
     "output_type": "stream",
     "text": [
      "Procesando registro/orden 794...\n"
     ]
    },
    {
     "name": "stderr",
     "output_type": "stream",
     "text": [
      "17:37:43 - cmdstanpy - INFO - Chain [1] start processing\n",
      "17:37:45 - cmdstanpy - INFO - Chain [1] done processing\n"
     ]
    },
    {
     "name": "stdout",
     "output_type": "stream",
     "text": [
      "Procesando registro/orden 795...\n"
     ]
    },
    {
     "name": "stderr",
     "output_type": "stream",
     "text": [
      "17:37:51 - cmdstanpy - INFO - Chain [1] start processing\n",
      "17:37:52 - cmdstanpy - INFO - Chain [1] done processing\n"
     ]
    },
    {
     "name": "stdout",
     "output_type": "stream",
     "text": [
      "Procesando registro/orden 796...\n"
     ]
    },
    {
     "name": "stderr",
     "output_type": "stream",
     "text": [
      "17:37:57 - cmdstanpy - INFO - Chain [1] start processing\n",
      "17:37:58 - cmdstanpy - INFO - Chain [1] done processing\n"
     ]
    },
    {
     "name": "stdout",
     "output_type": "stream",
     "text": [
      "Procesando registro/orden 797...\n"
     ]
    },
    {
     "name": "stderr",
     "output_type": "stream",
     "text": [
      "17:38:03 - cmdstanpy - INFO - Chain [1] start processing\n",
      "17:38:04 - cmdstanpy - INFO - Chain [1] done processing\n"
     ]
    },
    {
     "name": "stdout",
     "output_type": "stream",
     "text": [
      "Procesando registro/orden 798...\n"
     ]
    },
    {
     "name": "stderr",
     "output_type": "stream",
     "text": [
      "17:38:09 - cmdstanpy - INFO - Chain [1] start processing\n",
      "17:38:10 - cmdstanpy - INFO - Chain [1] done processing\n"
     ]
    },
    {
     "name": "stdout",
     "output_type": "stream",
     "text": [
      "Procesando registro/orden 799...\n"
     ]
    },
    {
     "name": "stderr",
     "output_type": "stream",
     "text": [
      "17:38:15 - cmdstanpy - INFO - Chain [1] start processing\n",
      "17:38:17 - cmdstanpy - INFO - Chain [1] done processing\n"
     ]
    },
    {
     "name": "stdout",
     "output_type": "stream",
     "text": [
      "Procesando registro/orden 800...\n"
     ]
    },
    {
     "name": "stderr",
     "output_type": "stream",
     "text": [
      "17:38:22 - cmdstanpy - INFO - Chain [1] start processing\n",
      "17:38:23 - cmdstanpy - INFO - Chain [1] done processing\n"
     ]
    },
    {
     "name": "stdout",
     "output_type": "stream",
     "text": [
      "Procesando registro/orden 801...\n"
     ]
    },
    {
     "name": "stderr",
     "output_type": "stream",
     "text": [
      "17:38:27 - cmdstanpy - INFO - Chain [1] start processing\n",
      "17:38:28 - cmdstanpy - INFO - Chain [1] done processing\n"
     ]
    },
    {
     "name": "stdout",
     "output_type": "stream",
     "text": [
      "Procesando registro/orden 802...\n"
     ]
    },
    {
     "name": "stderr",
     "output_type": "stream",
     "text": [
      "17:38:33 - cmdstanpy - INFO - Chain [1] start processing\n",
      "17:38:34 - cmdstanpy - INFO - Chain [1] done processing\n"
     ]
    },
    {
     "name": "stdout",
     "output_type": "stream",
     "text": [
      "Procesando registro/orden 803...\n"
     ]
    },
    {
     "name": "stderr",
     "output_type": "stream",
     "text": [
      "17:38:39 - cmdstanpy - INFO - Chain [1] start processing\n",
      "17:38:40 - cmdstanpy - INFO - Chain [1] done processing\n"
     ]
    },
    {
     "name": "stdout",
     "output_type": "stream",
     "text": [
      "Procesando registro/orden 804...\n"
     ]
    },
    {
     "name": "stderr",
     "output_type": "stream",
     "text": [
      "17:38:46 - cmdstanpy - INFO - Chain [1] start processing\n",
      "17:38:47 - cmdstanpy - INFO - Chain [1] done processing\n"
     ]
    },
    {
     "name": "stdout",
     "output_type": "stream",
     "text": [
      "Procesando registro/orden 805...\n"
     ]
    },
    {
     "name": "stderr",
     "output_type": "stream",
     "text": [
      "17:38:52 - cmdstanpy - INFO - Chain [1] start processing\n",
      "17:38:53 - cmdstanpy - INFO - Chain [1] done processing\n"
     ]
    },
    {
     "name": "stdout",
     "output_type": "stream",
     "text": [
      "Procesando registro/orden 806...\n"
     ]
    },
    {
     "name": "stderr",
     "output_type": "stream",
     "text": [
      "17:38:58 - cmdstanpy - INFO - Chain [1] start processing\n",
      "17:39:00 - cmdstanpy - INFO - Chain [1] done processing\n"
     ]
    },
    {
     "name": "stdout",
     "output_type": "stream",
     "text": [
      "Procesando registro/orden 807...\n"
     ]
    },
    {
     "name": "stderr",
     "output_type": "stream",
     "text": [
      "17:39:04 - cmdstanpy - INFO - Chain [1] start processing\n",
      "17:39:05 - cmdstanpy - INFO - Chain [1] done processing\n"
     ]
    },
    {
     "name": "stdout",
     "output_type": "stream",
     "text": [
      "Procesando registro/orden 808...\n"
     ]
    },
    {
     "name": "stderr",
     "output_type": "stream",
     "text": [
      "17:39:10 - cmdstanpy - INFO - Chain [1] start processing\n",
      "17:39:11 - cmdstanpy - INFO - Chain [1] done processing\n"
     ]
    },
    {
     "name": "stdout",
     "output_type": "stream",
     "text": [
      "Procesando registro/orden 809...\n"
     ]
    },
    {
     "name": "stderr",
     "output_type": "stream",
     "text": [
      "17:39:17 - cmdstanpy - INFO - Chain [1] start processing\n",
      "17:39:18 - cmdstanpy - INFO - Chain [1] done processing\n"
     ]
    },
    {
     "name": "stdout",
     "output_type": "stream",
     "text": [
      "Procesando registro/orden 810...\n"
     ]
    },
    {
     "name": "stderr",
     "output_type": "stream",
     "text": [
      "17:39:23 - cmdstanpy - INFO - Chain [1] start processing\n",
      "17:39:25 - cmdstanpy - INFO - Chain [1] done processing\n"
     ]
    },
    {
     "name": "stdout",
     "output_type": "stream",
     "text": [
      "Procesando registro/orden 811...\n"
     ]
    },
    {
     "name": "stderr",
     "output_type": "stream",
     "text": [
      "17:39:30 - cmdstanpy - INFO - Chain [1] start processing\n",
      "17:39:31 - cmdstanpy - INFO - Chain [1] done processing\n"
     ]
    },
    {
     "name": "stdout",
     "output_type": "stream",
     "text": [
      "Procesando registro/orden 812...\n"
     ]
    },
    {
     "name": "stderr",
     "output_type": "stream",
     "text": [
      "17:39:35 - cmdstanpy - INFO - Chain [1] start processing\n",
      "17:39:37 - cmdstanpy - INFO - Chain [1] done processing\n"
     ]
    },
    {
     "name": "stdout",
     "output_type": "stream",
     "text": [
      "Procesando registro/orden 813...\n"
     ]
    },
    {
     "name": "stderr",
     "output_type": "stream",
     "text": [
      "17:39:41 - cmdstanpy - INFO - Chain [1] start processing\n",
      "17:39:43 - cmdstanpy - INFO - Chain [1] done processing\n"
     ]
    },
    {
     "name": "stdout",
     "output_type": "stream",
     "text": [
      "Procesando registro/orden 814...\n"
     ]
    },
    {
     "name": "stderr",
     "output_type": "stream",
     "text": [
      "17:39:48 - cmdstanpy - INFO - Chain [1] start processing\n",
      "17:39:49 - cmdstanpy - INFO - Chain [1] done processing\n"
     ]
    },
    {
     "name": "stdout",
     "output_type": "stream",
     "text": [
      "Procesando registro/orden 815...\n"
     ]
    },
    {
     "name": "stderr",
     "output_type": "stream",
     "text": [
      "17:39:54 - cmdstanpy - INFO - Chain [1] start processing\n",
      "17:39:55 - cmdstanpy - INFO - Chain [1] done processing\n"
     ]
    },
    {
     "name": "stdout",
     "output_type": "stream",
     "text": [
      "Procesando registro/orden 816...\n"
     ]
    },
    {
     "name": "stderr",
     "output_type": "stream",
     "text": [
      "17:40:01 - cmdstanpy - INFO - Chain [1] start processing\n",
      "17:40:02 - cmdstanpy - INFO - Chain [1] done processing\n"
     ]
    },
    {
     "name": "stdout",
     "output_type": "stream",
     "text": [
      "Procesando registro/orden 817...\n"
     ]
    },
    {
     "name": "stderr",
     "output_type": "stream",
     "text": [
      "17:40:07 - cmdstanpy - INFO - Chain [1] start processing\n",
      "17:40:09 - cmdstanpy - INFO - Chain [1] done processing\n"
     ]
    },
    {
     "name": "stdout",
     "output_type": "stream",
     "text": [
      "Procesando registro/orden 818...\n"
     ]
    },
    {
     "name": "stderr",
     "output_type": "stream",
     "text": [
      "17:40:13 - cmdstanpy - INFO - Chain [1] start processing\n",
      "17:40:15 - cmdstanpy - INFO - Chain [1] done processing\n"
     ]
    },
    {
     "name": "stdout",
     "output_type": "stream",
     "text": [
      "Procesando registro/orden 819...\n"
     ]
    },
    {
     "name": "stderr",
     "output_type": "stream",
     "text": [
      "17:40:19 - cmdstanpy - INFO - Chain [1] start processing\n",
      "17:40:21 - cmdstanpy - INFO - Chain [1] done processing\n"
     ]
    },
    {
     "name": "stdout",
     "output_type": "stream",
     "text": [
      "Procesando registro/orden 820...\n"
     ]
    },
    {
     "name": "stderr",
     "output_type": "stream",
     "text": [
      "17:40:25 - cmdstanpy - INFO - Chain [1] start processing\n",
      "17:40:27 - cmdstanpy - INFO - Chain [1] done processing\n"
     ]
    },
    {
     "name": "stdout",
     "output_type": "stream",
     "text": [
      "Procesando registro/orden 821...\n"
     ]
    },
    {
     "name": "stderr",
     "output_type": "stream",
     "text": [
      "17:40:33 - cmdstanpy - INFO - Chain [1] start processing\n",
      "17:40:35 - cmdstanpy - INFO - Chain [1] done processing\n"
     ]
    },
    {
     "name": "stdout",
     "output_type": "stream",
     "text": [
      "Procesando registro/orden 822...\n"
     ]
    },
    {
     "name": "stderr",
     "output_type": "stream",
     "text": [
      "17:40:41 - cmdstanpy - INFO - Chain [1] start processing\n",
      "17:40:42 - cmdstanpy - INFO - Chain [1] done processing\n"
     ]
    },
    {
     "name": "stdout",
     "output_type": "stream",
     "text": [
      "Procesando registro/orden 823...\n"
     ]
    },
    {
     "name": "stderr",
     "output_type": "stream",
     "text": [
      "17:40:47 - cmdstanpy - INFO - Chain [1] start processing\n",
      "17:40:48 - cmdstanpy - INFO - Chain [1] done processing\n"
     ]
    },
    {
     "name": "stdout",
     "output_type": "stream",
     "text": [
      "Procesando registro/orden 824...\n"
     ]
    },
    {
     "name": "stderr",
     "output_type": "stream",
     "text": [
      "17:40:55 - cmdstanpy - INFO - Chain [1] start processing\n",
      "17:40:57 - cmdstanpy - INFO - Chain [1] done processing\n"
     ]
    },
    {
     "name": "stdout",
     "output_type": "stream",
     "text": [
      "Procesando registro/orden 825...\n"
     ]
    },
    {
     "name": "stderr",
     "output_type": "stream",
     "text": [
      "17:41:03 - cmdstanpy - INFO - Chain [1] start processing\n",
      "17:41:05 - cmdstanpy - INFO - Chain [1] done processing\n"
     ]
    },
    {
     "name": "stdout",
     "output_type": "stream",
     "text": [
      "Procesando registro/orden 826...\n"
     ]
    },
    {
     "name": "stderr",
     "output_type": "stream",
     "text": [
      "17:41:12 - cmdstanpy - INFO - Chain [1] start processing\n",
      "17:41:13 - cmdstanpy - INFO - Chain [1] done processing\n"
     ]
    },
    {
     "name": "stdout",
     "output_type": "stream",
     "text": [
      "Procesando registro/orden 827...\n"
     ]
    },
    {
     "name": "stderr",
     "output_type": "stream",
     "text": [
      "17:41:18 - cmdstanpy - INFO - Chain [1] start processing\n",
      "17:41:19 - cmdstanpy - INFO - Chain [1] done processing\n"
     ]
    },
    {
     "name": "stdout",
     "output_type": "stream",
     "text": [
      "Procesando registro/orden 828...\n"
     ]
    },
    {
     "name": "stderr",
     "output_type": "stream",
     "text": [
      "17:41:25 - cmdstanpy - INFO - Chain [1] start processing\n",
      "17:41:27 - cmdstanpy - INFO - Chain [1] done processing\n"
     ]
    },
    {
     "name": "stdout",
     "output_type": "stream",
     "text": [
      "Procesando registro/orden 829...\n"
     ]
    },
    {
     "name": "stderr",
     "output_type": "stream",
     "text": [
      "17:41:31 - cmdstanpy - INFO - Chain [1] start processing\n",
      "17:41:33 - cmdstanpy - INFO - Chain [1] done processing\n"
     ]
    },
    {
     "name": "stdout",
     "output_type": "stream",
     "text": [
      "Procesando registro/orden 830...\n"
     ]
    },
    {
     "name": "stderr",
     "output_type": "stream",
     "text": [
      "17:41:37 - cmdstanpy - INFO - Chain [1] start processing\n",
      "17:41:39 - cmdstanpy - INFO - Chain [1] done processing\n"
     ]
    },
    {
     "name": "stdout",
     "output_type": "stream",
     "text": [
      "Procesando registro/orden 831...\n"
     ]
    },
    {
     "name": "stderr",
     "output_type": "stream",
     "text": [
      "17:41:44 - cmdstanpy - INFO - Chain [1] start processing\n",
      "17:41:46 - cmdstanpy - INFO - Chain [1] done processing\n"
     ]
    },
    {
     "name": "stdout",
     "output_type": "stream",
     "text": [
      "Procesando registro/orden 832...\n"
     ]
    },
    {
     "name": "stderr",
     "output_type": "stream",
     "text": [
      "17:41:51 - cmdstanpy - INFO - Chain [1] start processing\n",
      "17:41:53 - cmdstanpy - INFO - Chain [1] done processing\n"
     ]
    },
    {
     "name": "stdout",
     "output_type": "stream",
     "text": [
      "Procesando registro/orden 833...\n"
     ]
    },
    {
     "name": "stderr",
     "output_type": "stream",
     "text": [
      "17:41:58 - cmdstanpy - INFO - Chain [1] start processing\n",
      "17:42:00 - cmdstanpy - INFO - Chain [1] done processing\n"
     ]
    },
    {
     "name": "stdout",
     "output_type": "stream",
     "text": [
      "Procesando registro/orden 834...\n"
     ]
    },
    {
     "name": "stderr",
     "output_type": "stream",
     "text": [
      "17:42:06 - cmdstanpy - INFO - Chain [1] start processing\n",
      "17:42:09 - cmdstanpy - INFO - Chain [1] done processing\n"
     ]
    },
    {
     "name": "stdout",
     "output_type": "stream",
     "text": [
      "Procesando registro/orden 835...\n"
     ]
    },
    {
     "name": "stderr",
     "output_type": "stream",
     "text": [
      "17:42:14 - cmdstanpy - INFO - Chain [1] start processing\n",
      "17:42:16 - cmdstanpy - INFO - Chain [1] done processing\n"
     ]
    },
    {
     "name": "stdout",
     "output_type": "stream",
     "text": [
      "Procesando registro/orden 836...\n"
     ]
    },
    {
     "name": "stderr",
     "output_type": "stream",
     "text": [
      "17:42:20 - cmdstanpy - INFO - Chain [1] start processing\n",
      "17:42:22 - cmdstanpy - INFO - Chain [1] done processing\n"
     ]
    },
    {
     "name": "stdout",
     "output_type": "stream",
     "text": [
      "Procesando registro/orden 837...\n"
     ]
    },
    {
     "name": "stderr",
     "output_type": "stream",
     "text": [
      "17:42:28 - cmdstanpy - INFO - Chain [1] start processing\n",
      "17:42:30 - cmdstanpy - INFO - Chain [1] done processing\n"
     ]
    },
    {
     "name": "stdout",
     "output_type": "stream",
     "text": [
      "Procesando registro/orden 838...\n"
     ]
    },
    {
     "name": "stderr",
     "output_type": "stream",
     "text": [
      "17:42:35 - cmdstanpy - INFO - Chain [1] start processing\n",
      "17:42:36 - cmdstanpy - INFO - Chain [1] done processing\n"
     ]
    },
    {
     "name": "stdout",
     "output_type": "stream",
     "text": [
      "Procesando registro/orden 839...\n"
     ]
    },
    {
     "name": "stderr",
     "output_type": "stream",
     "text": [
      "17:42:41 - cmdstanpy - INFO - Chain [1] start processing\n",
      "17:42:43 - cmdstanpy - INFO - Chain [1] done processing\n"
     ]
    },
    {
     "name": "stdout",
     "output_type": "stream",
     "text": [
      "Procesando registro/orden 840...\n"
     ]
    },
    {
     "name": "stderr",
     "output_type": "stream",
     "text": [
      "17:42:48 - cmdstanpy - INFO - Chain [1] start processing\n",
      "17:42:50 - cmdstanpy - INFO - Chain [1] done processing\n"
     ]
    },
    {
     "name": "stdout",
     "output_type": "stream",
     "text": [
      "Procesando registro/orden 841...\n"
     ]
    },
    {
     "name": "stderr",
     "output_type": "stream",
     "text": [
      "17:42:54 - cmdstanpy - INFO - Chain [1] start processing\n",
      "17:42:56 - cmdstanpy - INFO - Chain [1] done processing\n"
     ]
    },
    {
     "name": "stdout",
     "output_type": "stream",
     "text": [
      "Procesando registro/orden 842...\n"
     ]
    },
    {
     "name": "stderr",
     "output_type": "stream",
     "text": [
      "17:43:00 - cmdstanpy - INFO - Chain [1] start processing\n",
      "17:43:02 - cmdstanpy - INFO - Chain [1] done processing\n"
     ]
    },
    {
     "name": "stdout",
     "output_type": "stream",
     "text": [
      "Procesando registro/orden 843...\n"
     ]
    },
    {
     "name": "stderr",
     "output_type": "stream",
     "text": [
      "17:43:07 - cmdstanpy - INFO - Chain [1] start processing\n",
      "17:43:08 - cmdstanpy - INFO - Chain [1] done processing\n"
     ]
    },
    {
     "name": "stdout",
     "output_type": "stream",
     "text": [
      "Procesando registro/orden 844...\n"
     ]
    },
    {
     "name": "stderr",
     "output_type": "stream",
     "text": [
      "17:43:14 - cmdstanpy - INFO - Chain [1] start processing\n",
      "17:43:15 - cmdstanpy - INFO - Chain [1] done processing\n"
     ]
    },
    {
     "name": "stdout",
     "output_type": "stream",
     "text": [
      "Procesando registro/orden 845...\n"
     ]
    },
    {
     "name": "stderr",
     "output_type": "stream",
     "text": [
      "17:43:22 - cmdstanpy - INFO - Chain [1] start processing\n",
      "17:43:24 - cmdstanpy - INFO - Chain [1] done processing\n"
     ]
    },
    {
     "name": "stdout",
     "output_type": "stream",
     "text": [
      "Procesando registro/orden 846...\n"
     ]
    },
    {
     "name": "stderr",
     "output_type": "stream",
     "text": [
      "17:43:29 - cmdstanpy - INFO - Chain [1] start processing\n",
      "17:43:31 - cmdstanpy - INFO - Chain [1] done processing\n"
     ]
    },
    {
     "name": "stdout",
     "output_type": "stream",
     "text": [
      "Procesando registro/orden 847...\n"
     ]
    },
    {
     "name": "stderr",
     "output_type": "stream",
     "text": [
      "17:43:37 - cmdstanpy - INFO - Chain [1] start processing\n",
      "17:43:38 - cmdstanpy - INFO - Chain [1] done processing\n"
     ]
    },
    {
     "name": "stdout",
     "output_type": "stream",
     "text": [
      "Procesando registro/orden 848...\n"
     ]
    },
    {
     "name": "stderr",
     "output_type": "stream",
     "text": [
      "17:43:43 - cmdstanpy - INFO - Chain [1] start processing\n",
      "17:43:45 - cmdstanpy - INFO - Chain [1] done processing\n"
     ]
    },
    {
     "name": "stdout",
     "output_type": "stream",
     "text": [
      "Procesando registro/orden 849...\n"
     ]
    },
    {
     "name": "stderr",
     "output_type": "stream",
     "text": [
      "17:43:50 - cmdstanpy - INFO - Chain [1] start processing\n",
      "17:43:51 - cmdstanpy - INFO - Chain [1] done processing\n"
     ]
    },
    {
     "name": "stdout",
     "output_type": "stream",
     "text": [
      "Procesando registro/orden 850...\n"
     ]
    },
    {
     "name": "stderr",
     "output_type": "stream",
     "text": [
      "17:43:57 - cmdstanpy - INFO - Chain [1] start processing\n",
      "17:43:59 - cmdstanpy - INFO - Chain [1] done processing\n"
     ]
    },
    {
     "name": "stdout",
     "output_type": "stream",
     "text": [
      "Procesando registro/orden 851...\n"
     ]
    },
    {
     "name": "stderr",
     "output_type": "stream",
     "text": [
      "17:44:03 - cmdstanpy - INFO - Chain [1] start processing\n",
      "17:44:05 - cmdstanpy - INFO - Chain [1] done processing\n"
     ]
    },
    {
     "name": "stdout",
     "output_type": "stream",
     "text": [
      "Procesando registro/orden 852...\n"
     ]
    },
    {
     "name": "stderr",
     "output_type": "stream",
     "text": [
      "17:44:10 - cmdstanpy - INFO - Chain [1] start processing\n",
      "17:44:11 - cmdstanpy - INFO - Chain [1] done processing\n"
     ]
    },
    {
     "name": "stdout",
     "output_type": "stream",
     "text": [
      "Procesando registro/orden 853...\n"
     ]
    },
    {
     "name": "stderr",
     "output_type": "stream",
     "text": [
      "17:44:17 - cmdstanpy - INFO - Chain [1] start processing\n",
      "17:44:18 - cmdstanpy - INFO - Chain [1] done processing\n"
     ]
    },
    {
     "name": "stdout",
     "output_type": "stream",
     "text": [
      "Procesando registro/orden 854...\n"
     ]
    },
    {
     "name": "stderr",
     "output_type": "stream",
     "text": [
      "17:44:23 - cmdstanpy - INFO - Chain [1] start processing\n",
      "17:44:24 - cmdstanpy - INFO - Chain [1] done processing\n"
     ]
    },
    {
     "name": "stdout",
     "output_type": "stream",
     "text": [
      "Procesando registro/orden 855...\n"
     ]
    },
    {
     "name": "stderr",
     "output_type": "stream",
     "text": [
      "17:44:30 - cmdstanpy - INFO - Chain [1] start processing\n",
      "17:44:31 - cmdstanpy - INFO - Chain [1] done processing\n"
     ]
    },
    {
     "name": "stdout",
     "output_type": "stream",
     "text": [
      "Procesando registro/orden 856...\n"
     ]
    },
    {
     "name": "stderr",
     "output_type": "stream",
     "text": [
      "17:44:36 - cmdstanpy - INFO - Chain [1] start processing\n",
      "17:44:38 - cmdstanpy - INFO - Chain [1] done processing\n"
     ]
    },
    {
     "name": "stdout",
     "output_type": "stream",
     "text": [
      "Procesando registro/orden 857...\n"
     ]
    },
    {
     "name": "stderr",
     "output_type": "stream",
     "text": [
      "17:44:42 - cmdstanpy - INFO - Chain [1] start processing\n",
      "17:44:44 - cmdstanpy - INFO - Chain [1] done processing\n"
     ]
    },
    {
     "name": "stdout",
     "output_type": "stream",
     "text": [
      "Procesando registro/orden 858...\n"
     ]
    },
    {
     "name": "stderr",
     "output_type": "stream",
     "text": [
      "17:44:50 - cmdstanpy - INFO - Chain [1] start processing\n",
      "17:44:51 - cmdstanpy - INFO - Chain [1] done processing\n"
     ]
    },
    {
     "name": "stdout",
     "output_type": "stream",
     "text": [
      "Procesando registro/orden 859...\n"
     ]
    },
    {
     "name": "stderr",
     "output_type": "stream",
     "text": [
      "17:44:57 - cmdstanpy - INFO - Chain [1] start processing\n",
      "17:44:59 - cmdstanpy - INFO - Chain [1] done processing\n"
     ]
    },
    {
     "name": "stdout",
     "output_type": "stream",
     "text": [
      "Procesando registro/orden 860...\n"
     ]
    },
    {
     "name": "stderr",
     "output_type": "stream",
     "text": [
      "17:45:04 - cmdstanpy - INFO - Chain [1] start processing\n",
      "17:45:06 - cmdstanpy - INFO - Chain [1] done processing\n"
     ]
    },
    {
     "name": "stdout",
     "output_type": "stream",
     "text": [
      "Procesando registro/orden 861...\n"
     ]
    },
    {
     "name": "stderr",
     "output_type": "stream",
     "text": [
      "17:45:11 - cmdstanpy - INFO - Chain [1] start processing\n",
      "17:45:13 - cmdstanpy - INFO - Chain [1] done processing\n"
     ]
    },
    {
     "name": "stdout",
     "output_type": "stream",
     "text": [
      "Procesando registro/orden 862...\n"
     ]
    },
    {
     "name": "stderr",
     "output_type": "stream",
     "text": [
      "17:45:17 - cmdstanpy - INFO - Chain [1] start processing\n",
      "17:45:18 - cmdstanpy - INFO - Chain [1] done processing\n"
     ]
    },
    {
     "name": "stdout",
     "output_type": "stream",
     "text": [
      "Procesando registro/orden 863...\n"
     ]
    },
    {
     "name": "stderr",
     "output_type": "stream",
     "text": [
      "17:45:26 - cmdstanpy - INFO - Chain [1] start processing\n",
      "17:45:27 - cmdstanpy - INFO - Chain [1] done processing\n"
     ]
    },
    {
     "name": "stdout",
     "output_type": "stream",
     "text": [
      "Procesando registro/orden 864...\n"
     ]
    },
    {
     "name": "stderr",
     "output_type": "stream",
     "text": [
      "17:45:33 - cmdstanpy - INFO - Chain [1] start processing\n",
      "17:45:34 - cmdstanpy - INFO - Chain [1] done processing\n"
     ]
    },
    {
     "name": "stdout",
     "output_type": "stream",
     "text": [
      "Procesando registro/orden 865...\n"
     ]
    },
    {
     "name": "stderr",
     "output_type": "stream",
     "text": [
      "17:45:40 - cmdstanpy - INFO - Chain [1] start processing\n",
      "17:45:42 - cmdstanpy - INFO - Chain [1] done processing\n"
     ]
    },
    {
     "name": "stdout",
     "output_type": "stream",
     "text": [
      "Procesando registro/orden 866...\n"
     ]
    },
    {
     "name": "stderr",
     "output_type": "stream",
     "text": [
      "17:45:47 - cmdstanpy - INFO - Chain [1] start processing\n",
      "17:45:48 - cmdstanpy - INFO - Chain [1] done processing\n"
     ]
    },
    {
     "name": "stdout",
     "output_type": "stream",
     "text": [
      "Procesando registro/orden 867...\n"
     ]
    },
    {
     "name": "stderr",
     "output_type": "stream",
     "text": [
      "17:45:54 - cmdstanpy - INFO - Chain [1] start processing\n",
      "17:45:55 - cmdstanpy - INFO - Chain [1] done processing\n"
     ]
    },
    {
     "name": "stdout",
     "output_type": "stream",
     "text": [
      "Procesando registro/orden 868...\n"
     ]
    },
    {
     "name": "stderr",
     "output_type": "stream",
     "text": [
      "17:46:00 - cmdstanpy - INFO - Chain [1] start processing\n",
      "17:46:01 - cmdstanpy - INFO - Chain [1] done processing\n"
     ]
    },
    {
     "name": "stdout",
     "output_type": "stream",
     "text": [
      "Procesando registro/orden 869...\n"
     ]
    },
    {
     "name": "stderr",
     "output_type": "stream",
     "text": [
      "17:46:06 - cmdstanpy - INFO - Chain [1] start processing\n",
      "17:46:08 - cmdstanpy - INFO - Chain [1] done processing\n"
     ]
    },
    {
     "name": "stdout",
     "output_type": "stream",
     "text": [
      "Procesando registro/orden 870...\n"
     ]
    },
    {
     "name": "stderr",
     "output_type": "stream",
     "text": [
      "17:46:12 - cmdstanpy - INFO - Chain [1] start processing\n",
      "17:46:14 - cmdstanpy - INFO - Chain [1] done processing\n"
     ]
    },
    {
     "name": "stdout",
     "output_type": "stream",
     "text": [
      "Procesando registro/orden 871...\n"
     ]
    },
    {
     "name": "stderr",
     "output_type": "stream",
     "text": [
      "17:46:20 - cmdstanpy - INFO - Chain [1] start processing\n",
      "17:46:22 - cmdstanpy - INFO - Chain [1] done processing\n"
     ]
    },
    {
     "name": "stdout",
     "output_type": "stream",
     "text": [
      "Procesando registro/orden 872...\n"
     ]
    },
    {
     "name": "stderr",
     "output_type": "stream",
     "text": [
      "17:46:26 - cmdstanpy - INFO - Chain [1] start processing\n",
      "17:46:27 - cmdstanpy - INFO - Chain [1] done processing\n"
     ]
    },
    {
     "name": "stdout",
     "output_type": "stream",
     "text": [
      "Procesando registro/orden 873...\n"
     ]
    },
    {
     "name": "stderr",
     "output_type": "stream",
     "text": [
      "17:46:32 - cmdstanpy - INFO - Chain [1] start processing\n",
      "17:46:33 - cmdstanpy - INFO - Chain [1] done processing\n"
     ]
    },
    {
     "name": "stdout",
     "output_type": "stream",
     "text": [
      "Procesando registro/orden 874...\n"
     ]
    },
    {
     "name": "stderr",
     "output_type": "stream",
     "text": [
      "17:46:38 - cmdstanpy - INFO - Chain [1] start processing\n",
      "17:46:39 - cmdstanpy - INFO - Chain [1] done processing\n"
     ]
    },
    {
     "name": "stdout",
     "output_type": "stream",
     "text": [
      "Procesando registro/orden 875...\n"
     ]
    },
    {
     "name": "stderr",
     "output_type": "stream",
     "text": [
      "17:46:43 - cmdstanpy - INFO - Chain [1] start processing\n",
      "17:46:45 - cmdstanpy - INFO - Chain [1] done processing\n"
     ]
    },
    {
     "name": "stdout",
     "output_type": "stream",
     "text": [
      "Procesando registro/orden 876...\n"
     ]
    },
    {
     "name": "stderr",
     "output_type": "stream",
     "text": [
      "17:46:49 - cmdstanpy - INFO - Chain [1] start processing\n",
      "17:46:50 - cmdstanpy - INFO - Chain [1] done processing\n"
     ]
    },
    {
     "name": "stdout",
     "output_type": "stream",
     "text": [
      "Procesando registro/orden 877...\n"
     ]
    },
    {
     "name": "stderr",
     "output_type": "stream",
     "text": [
      "17:46:54 - cmdstanpy - INFO - Chain [1] start processing\n",
      "17:46:55 - cmdstanpy - INFO - Chain [1] done processing\n"
     ]
    },
    {
     "name": "stdout",
     "output_type": "stream",
     "text": [
      "Procesando registro/orden 878...\n"
     ]
    },
    {
     "name": "stderr",
     "output_type": "stream",
     "text": [
      "17:46:59 - cmdstanpy - INFO - Chain [1] start processing\n",
      "17:47:00 - cmdstanpy - INFO - Chain [1] done processing\n"
     ]
    },
    {
     "name": "stdout",
     "output_type": "stream",
     "text": [
      "Procesando registro/orden 879...\n"
     ]
    },
    {
     "name": "stderr",
     "output_type": "stream",
     "text": [
      "17:47:04 - cmdstanpy - INFO - Chain [1] start processing\n",
      "17:47:05 - cmdstanpy - INFO - Chain [1] done processing\n"
     ]
    },
    {
     "name": "stdout",
     "output_type": "stream",
     "text": [
      "Procesando registro/orden 880...\n"
     ]
    },
    {
     "name": "stderr",
     "output_type": "stream",
     "text": [
      "17:47:09 - cmdstanpy - INFO - Chain [1] start processing\n",
      "17:47:09 - cmdstanpy - INFO - Chain [1] done processing\n"
     ]
    },
    {
     "name": "stdout",
     "output_type": "stream",
     "text": [
      "Procesando registro/orden 881...\n"
     ]
    },
    {
     "name": "stderr",
     "output_type": "stream",
     "text": [
      "17:47:13 - cmdstanpy - INFO - Chain [1] start processing\n",
      "17:47:14 - cmdstanpy - INFO - Chain [1] done processing\n"
     ]
    },
    {
     "name": "stdout",
     "output_type": "stream",
     "text": [
      "Procesando registro/orden 882...\n"
     ]
    },
    {
     "name": "stderr",
     "output_type": "stream",
     "text": [
      "17:47:18 - cmdstanpy - INFO - Chain [1] start processing\n",
      "17:47:19 - cmdstanpy - INFO - Chain [1] done processing\n"
     ]
    },
    {
     "name": "stdout",
     "output_type": "stream",
     "text": [
      "Procesando registro/orden 883...\n"
     ]
    },
    {
     "name": "stderr",
     "output_type": "stream",
     "text": [
      "17:47:26 - cmdstanpy - INFO - Chain [1] start processing\n",
      "17:47:26 - cmdstanpy - INFO - Chain [1] done processing\n"
     ]
    },
    {
     "name": "stdout",
     "output_type": "stream",
     "text": [
      "Procesando registro/orden 884...\n"
     ]
    },
    {
     "name": "stderr",
     "output_type": "stream",
     "text": [
      "17:47:32 - cmdstanpy - INFO - Chain [1] start processing\n",
      "17:47:33 - cmdstanpy - INFO - Chain [1] done processing\n"
     ]
    },
    {
     "name": "stdout",
     "output_type": "stream",
     "text": [
      "Procesando registro/orden 885...\n"
     ]
    },
    {
     "name": "stderr",
     "output_type": "stream",
     "text": [
      "17:47:37 - cmdstanpy - INFO - Chain [1] start processing\n",
      "17:47:38 - cmdstanpy - INFO - Chain [1] done processing\n"
     ]
    },
    {
     "name": "stdout",
     "output_type": "stream",
     "text": [
      "Procesando registro/orden 886...\n"
     ]
    },
    {
     "name": "stderr",
     "output_type": "stream",
     "text": [
      "17:47:44 - cmdstanpy - INFO - Chain [1] start processing\n",
      "17:47:45 - cmdstanpy - INFO - Chain [1] done processing\n"
     ]
    },
    {
     "name": "stdout",
     "output_type": "stream",
     "text": [
      "Procesando registro/orden 887...\n"
     ]
    },
    {
     "name": "stderr",
     "output_type": "stream",
     "text": [
      "17:47:50 - cmdstanpy - INFO - Chain [1] start processing\n",
      "17:47:51 - cmdstanpy - INFO - Chain [1] done processing\n"
     ]
    },
    {
     "name": "stdout",
     "output_type": "stream",
     "text": [
      "Procesando registro/orden 888...\n"
     ]
    },
    {
     "name": "stderr",
     "output_type": "stream",
     "text": [
      "17:47:56 - cmdstanpy - INFO - Chain [1] start processing\n",
      "17:47:57 - cmdstanpy - INFO - Chain [1] done processing\n"
     ]
    },
    {
     "name": "stdout",
     "output_type": "stream",
     "text": [
      "Procesando registro/orden 889...\n"
     ]
    },
    {
     "name": "stderr",
     "output_type": "stream",
     "text": [
      "17:48:00 - cmdstanpy - INFO - Chain [1] start processing\n",
      "17:48:02 - cmdstanpy - INFO - Chain [1] done processing\n"
     ]
    },
    {
     "name": "stdout",
     "output_type": "stream",
     "text": [
      "Procesando registro/orden 890...\n"
     ]
    },
    {
     "name": "stderr",
     "output_type": "stream",
     "text": [
      "17:48:06 - cmdstanpy - INFO - Chain [1] start processing\n",
      "17:48:07 - cmdstanpy - INFO - Chain [1] done processing\n"
     ]
    },
    {
     "name": "stdout",
     "output_type": "stream",
     "text": [
      "Procesando registro/orden 891...\n"
     ]
    },
    {
     "name": "stderr",
     "output_type": "stream",
     "text": [
      "17:48:13 - cmdstanpy - INFO - Chain [1] start processing\n",
      "17:48:14 - cmdstanpy - INFO - Chain [1] done processing\n"
     ]
    },
    {
     "name": "stdout",
     "output_type": "stream",
     "text": [
      "Procesando registro/orden 892...\n"
     ]
    },
    {
     "name": "stderr",
     "output_type": "stream",
     "text": [
      "17:48:19 - cmdstanpy - INFO - Chain [1] start processing\n",
      "17:48:20 - cmdstanpy - INFO - Chain [1] done processing\n"
     ]
    },
    {
     "name": "stdout",
     "output_type": "stream",
     "text": [
      "Procesando registro/orden 893...\n"
     ]
    },
    {
     "name": "stderr",
     "output_type": "stream",
     "text": [
      "17:48:24 - cmdstanpy - INFO - Chain [1] start processing\n",
      "17:48:25 - cmdstanpy - INFO - Chain [1] done processing\n"
     ]
    },
    {
     "name": "stdout",
     "output_type": "stream",
     "text": [
      "Procesando registro/orden 894...\n"
     ]
    },
    {
     "name": "stderr",
     "output_type": "stream",
     "text": [
      "17:48:31 - cmdstanpy - INFO - Chain [1] start processing\n",
      "17:48:32 - cmdstanpy - INFO - Chain [1] done processing\n"
     ]
    },
    {
     "name": "stdout",
     "output_type": "stream",
     "text": [
      "Procesando registro/orden 895...\n"
     ]
    },
    {
     "name": "stderr",
     "output_type": "stream",
     "text": [
      "17:48:38 - cmdstanpy - INFO - Chain [1] start processing\n",
      "17:48:40 - cmdstanpy - INFO - Chain [1] done processing\n"
     ]
    },
    {
     "name": "stdout",
     "output_type": "stream",
     "text": [
      "Procesando registro/orden 896...\n"
     ]
    },
    {
     "name": "stderr",
     "output_type": "stream",
     "text": [
      "17:48:45 - cmdstanpy - INFO - Chain [1] start processing\n",
      "17:48:45 - cmdstanpy - INFO - Chain [1] done processing\n"
     ]
    },
    {
     "name": "stdout",
     "output_type": "stream",
     "text": [
      "Procesando registro/orden 897...\n"
     ]
    },
    {
     "name": "stderr",
     "output_type": "stream",
     "text": [
      "17:48:51 - cmdstanpy - INFO - Chain [1] start processing\n",
      "17:48:52 - cmdstanpy - INFO - Chain [1] done processing\n"
     ]
    },
    {
     "name": "stdout",
     "output_type": "stream",
     "text": [
      "Procesando registro/orden 898...\n"
     ]
    },
    {
     "name": "stderr",
     "output_type": "stream",
     "text": [
      "17:48:56 - cmdstanpy - INFO - Chain [1] start processing\n",
      "17:48:58 - cmdstanpy - INFO - Chain [1] done processing\n"
     ]
    },
    {
     "name": "stdout",
     "output_type": "stream",
     "text": [
      "Procesando registro/orden 899...\n"
     ]
    },
    {
     "name": "stderr",
     "output_type": "stream",
     "text": [
      "17:49:03 - cmdstanpy - INFO - Chain [1] start processing\n",
      "17:49:04 - cmdstanpy - INFO - Chain [1] done processing\n"
     ]
    },
    {
     "name": "stdout",
     "output_type": "stream",
     "text": [
      "Procesando registro/orden 900...\n"
     ]
    },
    {
     "name": "stderr",
     "output_type": "stream",
     "text": [
      "17:49:10 - cmdstanpy - INFO - Chain [1] start processing\n",
      "17:49:11 - cmdstanpy - INFO - Chain [1] done processing\n"
     ]
    },
    {
     "name": "stdout",
     "output_type": "stream",
     "text": [
      "Procesando registro/orden 901...\n"
     ]
    },
    {
     "name": "stderr",
     "output_type": "stream",
     "text": [
      "17:49:16 - cmdstanpy - INFO - Chain [1] start processing\n",
      "17:49:17 - cmdstanpy - INFO - Chain [1] done processing\n"
     ]
    },
    {
     "name": "stdout",
     "output_type": "stream",
     "text": [
      "Procesando registro/orden 902...\n"
     ]
    },
    {
     "name": "stderr",
     "output_type": "stream",
     "text": [
      "17:49:21 - cmdstanpy - INFO - Chain [1] start processing\n",
      "17:49:22 - cmdstanpy - INFO - Chain [1] done processing\n"
     ]
    },
    {
     "name": "stdout",
     "output_type": "stream",
     "text": [
      "Procesando registro/orden 903...\n"
     ]
    },
    {
     "name": "stderr",
     "output_type": "stream",
     "text": [
      "17:49:27 - cmdstanpy - INFO - Chain [1] start processing\n",
      "17:49:28 - cmdstanpy - INFO - Chain [1] done processing\n"
     ]
    },
    {
     "name": "stdout",
     "output_type": "stream",
     "text": [
      "Procesando registro/orden 904...\n"
     ]
    },
    {
     "name": "stderr",
     "output_type": "stream",
     "text": [
      "17:49:35 - cmdstanpy - INFO - Chain [1] start processing\n",
      "17:49:36 - cmdstanpy - INFO - Chain [1] done processing\n"
     ]
    },
    {
     "name": "stdout",
     "output_type": "stream",
     "text": [
      "Procesando registro/orden 905...\n"
     ]
    },
    {
     "name": "stderr",
     "output_type": "stream",
     "text": [
      "17:49:42 - cmdstanpy - INFO - Chain [1] start processing\n",
      "17:49:42 - cmdstanpy - INFO - Chain [1] done processing\n"
     ]
    },
    {
     "name": "stdout",
     "output_type": "stream",
     "text": [
      "Procesando registro/orden 906...\n"
     ]
    },
    {
     "name": "stderr",
     "output_type": "stream",
     "text": [
      "17:49:47 - cmdstanpy - INFO - Chain [1] start processing\n",
      "17:49:48 - cmdstanpy - INFO - Chain [1] done processing\n"
     ]
    },
    {
     "name": "stdout",
     "output_type": "stream",
     "text": [
      "Procesando registro/orden 907...\n"
     ]
    },
    {
     "name": "stderr",
     "output_type": "stream",
     "text": [
      "17:49:54 - cmdstanpy - INFO - Chain [1] start processing\n",
      "17:49:54 - cmdstanpy - INFO - Chain [1] done processing\n"
     ]
    },
    {
     "name": "stdout",
     "output_type": "stream",
     "text": [
      "Procesando registro/orden 908...\n"
     ]
    },
    {
     "name": "stderr",
     "output_type": "stream",
     "text": [
      "17:49:59 - cmdstanpy - INFO - Chain [1] start processing\n",
      "17:49:59 - cmdstanpy - INFO - Chain [1] done processing\n"
     ]
    },
    {
     "name": "stdout",
     "output_type": "stream",
     "text": [
      "Procesando registro/orden 909...\n"
     ]
    },
    {
     "name": "stderr",
     "output_type": "stream",
     "text": [
      "17:50:04 - cmdstanpy - INFO - Chain [1] start processing\n",
      "17:50:05 - cmdstanpy - INFO - Chain [1] done processing\n"
     ]
    },
    {
     "name": "stdout",
     "output_type": "stream",
     "text": [
      "Procesando registro/orden 910...\n"
     ]
    },
    {
     "name": "stderr",
     "output_type": "stream",
     "text": [
      "17:50:09 - cmdstanpy - INFO - Chain [1] start processing\n",
      "17:50:10 - cmdstanpy - INFO - Chain [1] done processing\n"
     ]
    },
    {
     "name": "stdout",
     "output_type": "stream",
     "text": [
      "Procesando registro/orden 911...\n"
     ]
    },
    {
     "name": "stderr",
     "output_type": "stream",
     "text": [
      "17:50:15 - cmdstanpy - INFO - Chain [1] start processing\n",
      "17:50:16 - cmdstanpy - INFO - Chain [1] done processing\n"
     ]
    },
    {
     "name": "stdout",
     "output_type": "stream",
     "text": [
      "Procesando registro/orden 912...\n"
     ]
    },
    {
     "name": "stderr",
     "output_type": "stream",
     "text": [
      "17:50:20 - cmdstanpy - INFO - Chain [1] start processing\n",
      "17:50:21 - cmdstanpy - INFO - Chain [1] done processing\n"
     ]
    },
    {
     "name": "stdout",
     "output_type": "stream",
     "text": [
      "Procesando registro/orden 913...\n"
     ]
    },
    {
     "name": "stderr",
     "output_type": "stream",
     "text": [
      "17:50:25 - cmdstanpy - INFO - Chain [1] start processing\n",
      "17:50:26 - cmdstanpy - INFO - Chain [1] done processing\n"
     ]
    },
    {
     "name": "stdout",
     "output_type": "stream",
     "text": [
      "Procesando registro/orden 914...\n"
     ]
    },
    {
     "name": "stderr",
     "output_type": "stream",
     "text": [
      "17:50:33 - cmdstanpy - INFO - Chain [1] start processing\n",
      "17:50:34 - cmdstanpy - INFO - Chain [1] done processing\n"
     ]
    },
    {
     "name": "stdout",
     "output_type": "stream",
     "text": [
      "Procesando registro/orden 915...\n"
     ]
    },
    {
     "name": "stderr",
     "output_type": "stream",
     "text": [
      "17:50:39 - cmdstanpy - INFO - Chain [1] start processing\n",
      "17:50:40 - cmdstanpy - INFO - Chain [1] done processing\n"
     ]
    },
    {
     "name": "stdout",
     "output_type": "stream",
     "text": [
      "Procesando registro/orden 916...\n"
     ]
    },
    {
     "name": "stderr",
     "output_type": "stream",
     "text": [
      "17:50:46 - cmdstanpy - INFO - Chain [1] start processing\n",
      "17:50:47 - cmdstanpy - INFO - Chain [1] done processing\n"
     ]
    },
    {
     "name": "stdout",
     "output_type": "stream",
     "text": [
      "Procesando registro/orden 917...\n"
     ]
    },
    {
     "name": "stderr",
     "output_type": "stream",
     "text": [
      "17:50:51 - cmdstanpy - INFO - Chain [1] start processing\n",
      "17:50:53 - cmdstanpy - INFO - Chain [1] done processing\n"
     ]
    },
    {
     "name": "stdout",
     "output_type": "stream",
     "text": [
      "Procesando registro/orden 918...\n"
     ]
    },
    {
     "name": "stderr",
     "output_type": "stream",
     "text": [
      "17:50:57 - cmdstanpy - INFO - Chain [1] start processing\n",
      "17:50:58 - cmdstanpy - INFO - Chain [1] done processing\n"
     ]
    },
    {
     "name": "stdout",
     "output_type": "stream",
     "text": [
      "Procesando registro/orden 919...\n"
     ]
    },
    {
     "name": "stderr",
     "output_type": "stream",
     "text": [
      "17:51:02 - cmdstanpy - INFO - Chain [1] start processing\n",
      "17:51:02 - cmdstanpy - INFO - Chain [1] done processing\n"
     ]
    },
    {
     "name": "stdout",
     "output_type": "stream",
     "text": [
      "Procesando registro/orden 920...\n"
     ]
    },
    {
     "name": "stderr",
     "output_type": "stream",
     "text": [
      "17:51:08 - cmdstanpy - INFO - Chain [1] start processing\n",
      "17:51:09 - cmdstanpy - INFO - Chain [1] done processing\n"
     ]
    },
    {
     "name": "stdout",
     "output_type": "stream",
     "text": [
      "Procesando registro/orden 921...\n"
     ]
    },
    {
     "name": "stderr",
     "output_type": "stream",
     "text": [
      "17:51:13 - cmdstanpy - INFO - Chain [1] start processing\n",
      "17:51:15 - cmdstanpy - INFO - Chain [1] done processing\n"
     ]
    },
    {
     "name": "stdout",
     "output_type": "stream",
     "text": [
      "Procesando registro/orden 922...\n"
     ]
    },
    {
     "name": "stderr",
     "output_type": "stream",
     "text": [
      "17:51:19 - cmdstanpy - INFO - Chain [1] start processing\n",
      "17:51:21 - cmdstanpy - INFO - Chain [1] done processing\n"
     ]
    },
    {
     "name": "stdout",
     "output_type": "stream",
     "text": [
      "Procesando registro/orden 923...\n"
     ]
    },
    {
     "name": "stderr",
     "output_type": "stream",
     "text": [
      "17:51:25 - cmdstanpy - INFO - Chain [1] start processing\n",
      "17:51:26 - cmdstanpy - INFO - Chain [1] done processing\n"
     ]
    },
    {
     "name": "stdout",
     "output_type": "stream",
     "text": [
      "Procesando registro/orden 924...\n"
     ]
    },
    {
     "name": "stderr",
     "output_type": "stream",
     "text": [
      "17:51:31 - cmdstanpy - INFO - Chain [1] start processing\n",
      "17:51:32 - cmdstanpy - INFO - Chain [1] done processing\n"
     ]
    },
    {
     "name": "stdout",
     "output_type": "stream",
     "text": [
      "Procesando registro/orden 925...\n"
     ]
    },
    {
     "name": "stderr",
     "output_type": "stream",
     "text": [
      "17:51:36 - cmdstanpy - INFO - Chain [1] start processing\n",
      "17:51:37 - cmdstanpy - INFO - Chain [1] done processing\n"
     ]
    },
    {
     "name": "stdout",
     "output_type": "stream",
     "text": [
      "Procesando registro/orden 926...\n"
     ]
    },
    {
     "name": "stderr",
     "output_type": "stream",
     "text": [
      "17:51:44 - cmdstanpy - INFO - Chain [1] start processing\n",
      "17:51:44 - cmdstanpy - INFO - Chain [1] done processing\n"
     ]
    },
    {
     "name": "stdout",
     "output_type": "stream",
     "text": [
      "Procesando registro/orden 927...\n"
     ]
    },
    {
     "name": "stderr",
     "output_type": "stream",
     "text": [
      "17:51:50 - cmdstanpy - INFO - Chain [1] start processing\n",
      "17:51:51 - cmdstanpy - INFO - Chain [1] done processing\n"
     ]
    },
    {
     "name": "stdout",
     "output_type": "stream",
     "text": [
      "Procesando registro/orden 928...\n"
     ]
    },
    {
     "name": "stderr",
     "output_type": "stream",
     "text": [
      "17:51:56 - cmdstanpy - INFO - Chain [1] start processing\n",
      "17:51:57 - cmdstanpy - INFO - Chain [1] done processing\n"
     ]
    },
    {
     "name": "stdout",
     "output_type": "stream",
     "text": [
      "Procesando registro/orden 929...\n"
     ]
    },
    {
     "name": "stderr",
     "output_type": "stream",
     "text": [
      "17:52:02 - cmdstanpy - INFO - Chain [1] start processing\n",
      "17:52:03 - cmdstanpy - INFO - Chain [1] done processing\n"
     ]
    },
    {
     "name": "stdout",
     "output_type": "stream",
     "text": [
      "Procesando registro/orden 930...\n"
     ]
    },
    {
     "name": "stderr",
     "output_type": "stream",
     "text": [
      "17:52:07 - cmdstanpy - INFO - Chain [1] start processing\n",
      "17:52:09 - cmdstanpy - INFO - Chain [1] done processing\n"
     ]
    },
    {
     "name": "stdout",
     "output_type": "stream",
     "text": [
      "Procesando registro/orden 931...\n"
     ]
    },
    {
     "name": "stderr",
     "output_type": "stream",
     "text": [
      "17:52:14 - cmdstanpy - INFO - Chain [1] start processing\n",
      "17:52:15 - cmdstanpy - INFO - Chain [1] done processing\n"
     ]
    },
    {
     "name": "stdout",
     "output_type": "stream",
     "text": [
      "Procesando registro/orden 932...\n"
     ]
    },
    {
     "name": "stderr",
     "output_type": "stream",
     "text": [
      "17:52:20 - cmdstanpy - INFO - Chain [1] start processing\n",
      "17:52:22 - cmdstanpy - INFO - Chain [1] done processing\n"
     ]
    },
    {
     "name": "stdout",
     "output_type": "stream",
     "text": [
      "Procesando registro/orden 933...\n"
     ]
    },
    {
     "name": "stderr",
     "output_type": "stream",
     "text": [
      "17:52:26 - cmdstanpy - INFO - Chain [1] start processing\n",
      "17:52:28 - cmdstanpy - INFO - Chain [1] done processing\n"
     ]
    },
    {
     "name": "stdout",
     "output_type": "stream",
     "text": [
      "Procesando registro/orden 934...\n"
     ]
    },
    {
     "name": "stderr",
     "output_type": "stream",
     "text": [
      "17:52:32 - cmdstanpy - INFO - Chain [1] start processing\n",
      "17:52:33 - cmdstanpy - INFO - Chain [1] done processing\n"
     ]
    },
    {
     "name": "stdout",
     "output_type": "stream",
     "text": [
      "Procesando registro/orden 935...\n"
     ]
    },
    {
     "name": "stderr",
     "output_type": "stream",
     "text": [
      "17:52:37 - cmdstanpy - INFO - Chain [1] start processing\n",
      "17:52:38 - cmdstanpy - INFO - Chain [1] done processing\n"
     ]
    },
    {
     "name": "stdout",
     "output_type": "stream",
     "text": [
      "Procesando registro/orden 936...\n"
     ]
    },
    {
     "name": "stderr",
     "output_type": "stream",
     "text": [
      "17:52:45 - cmdstanpy - INFO - Chain [1] start processing\n",
      "17:52:46 - cmdstanpy - INFO - Chain [1] done processing\n"
     ]
    },
    {
     "name": "stdout",
     "output_type": "stream",
     "text": [
      "Procesando registro/orden 937...\n"
     ]
    },
    {
     "name": "stderr",
     "output_type": "stream",
     "text": [
      "17:52:51 - cmdstanpy - INFO - Chain [1] start processing\n",
      "17:52:52 - cmdstanpy - INFO - Chain [1] done processing\n"
     ]
    },
    {
     "name": "stdout",
     "output_type": "stream",
     "text": [
      "Procesando registro/orden 938...\n"
     ]
    },
    {
     "name": "stderr",
     "output_type": "stream",
     "text": [
      "17:52:57 - cmdstanpy - INFO - Chain [1] start processing\n",
      "17:52:58 - cmdstanpy - INFO - Chain [1] done processing\n"
     ]
    },
    {
     "name": "stdout",
     "output_type": "stream",
     "text": [
      "Procesando registro/orden 939...\n"
     ]
    },
    {
     "name": "stderr",
     "output_type": "stream",
     "text": [
      "17:53:02 - cmdstanpy - INFO - Chain [1] start processing\n",
      "17:53:04 - cmdstanpy - INFO - Chain [1] done processing\n"
     ]
    },
    {
     "name": "stdout",
     "output_type": "stream",
     "text": [
      "Procesando registro/orden 940...\n"
     ]
    },
    {
     "name": "stderr",
     "output_type": "stream",
     "text": [
      "17:53:08 - cmdstanpy - INFO - Chain [1] start processing\n",
      "17:53:09 - cmdstanpy - INFO - Chain [1] done processing\n"
     ]
    },
    {
     "name": "stdout",
     "output_type": "stream",
     "text": [
      "Procesando registro/orden 941...\n"
     ]
    },
    {
     "name": "stderr",
     "output_type": "stream",
     "text": [
      "17:53:14 - cmdstanpy - INFO - Chain [1] start processing\n",
      "17:53:15 - cmdstanpy - INFO - Chain [1] done processing\n"
     ]
    },
    {
     "name": "stdout",
     "output_type": "stream",
     "text": [
      "Procesando registro/orden 942...\n"
     ]
    },
    {
     "name": "stderr",
     "output_type": "stream",
     "text": [
      "17:53:20 - cmdstanpy - INFO - Chain [1] start processing\n",
      "17:53:21 - cmdstanpy - INFO - Chain [1] done processing\n"
     ]
    },
    {
     "name": "stdout",
     "output_type": "stream",
     "text": [
      "Procesando registro/orden 943...\n"
     ]
    },
    {
     "name": "stderr",
     "output_type": "stream",
     "text": [
      "17:53:26 - cmdstanpy - INFO - Chain [1] start processing\n",
      "17:53:27 - cmdstanpy - INFO - Chain [1] done processing\n"
     ]
    },
    {
     "name": "stdout",
     "output_type": "stream",
     "text": [
      "Procesando registro/orden 944...\n"
     ]
    },
    {
     "name": "stderr",
     "output_type": "stream",
     "text": [
      "17:53:33 - cmdstanpy - INFO - Chain [1] start processing\n",
      "17:53:34 - cmdstanpy - INFO - Chain [1] done processing\n"
     ]
    },
    {
     "name": "stdout",
     "output_type": "stream",
     "text": [
      "Procesando registro/orden 945...\n"
     ]
    },
    {
     "name": "stderr",
     "output_type": "stream",
     "text": [
      "17:53:39 - cmdstanpy - INFO - Chain [1] start processing\n",
      "17:53:40 - cmdstanpy - INFO - Chain [1] done processing\n"
     ]
    },
    {
     "name": "stdout",
     "output_type": "stream",
     "text": [
      "Procesando registro/orden 946...\n"
     ]
    },
    {
     "name": "stderr",
     "output_type": "stream",
     "text": [
      "17:53:45 - cmdstanpy - INFO - Chain [1] start processing\n",
      "17:53:46 - cmdstanpy - INFO - Chain [1] done processing\n"
     ]
    },
    {
     "name": "stdout",
     "output_type": "stream",
     "text": [
      "Procesando registro/orden 947...\n"
     ]
    },
    {
     "name": "stderr",
     "output_type": "stream",
     "text": [
      "17:53:51 - cmdstanpy - INFO - Chain [1] start processing\n",
      "17:53:53 - cmdstanpy - INFO - Chain [1] done processing\n"
     ]
    },
    {
     "name": "stdout",
     "output_type": "stream",
     "text": [
      "Procesando registro/orden 948...\n"
     ]
    },
    {
     "name": "stderr",
     "output_type": "stream",
     "text": [
      "17:53:57 - cmdstanpy - INFO - Chain [1] start processing\n",
      "17:53:58 - cmdstanpy - INFO - Chain [1] done processing\n"
     ]
    },
    {
     "name": "stdout",
     "output_type": "stream",
     "text": [
      "Procesando registro/orden 949...\n"
     ]
    },
    {
     "name": "stderr",
     "output_type": "stream",
     "text": [
      "17:54:03 - cmdstanpy - INFO - Chain [1] start processing\n",
      "17:54:04 - cmdstanpy - INFO - Chain [1] done processing\n"
     ]
    },
    {
     "name": "stdout",
     "output_type": "stream",
     "text": [
      "Procesando registro/orden 950...\n"
     ]
    },
    {
     "name": "stderr",
     "output_type": "stream",
     "text": [
      "17:54:08 - cmdstanpy - INFO - Chain [1] start processing\n",
      "17:54:09 - cmdstanpy - INFO - Chain [1] done processing\n"
     ]
    },
    {
     "name": "stdout",
     "output_type": "stream",
     "text": [
      "Procesando registro/orden 951...\n"
     ]
    },
    {
     "name": "stderr",
     "output_type": "stream",
     "text": [
      "17:54:14 - cmdstanpy - INFO - Chain [1] start processing\n",
      "17:54:15 - cmdstanpy - INFO - Chain [1] done processing\n"
     ]
    },
    {
     "name": "stdout",
     "output_type": "stream",
     "text": [
      "Procesando registro/orden 952...\n"
     ]
    },
    {
     "name": "stderr",
     "output_type": "stream",
     "text": [
      "17:54:20 - cmdstanpy - INFO - Chain [1] start processing\n",
      "17:54:21 - cmdstanpy - INFO - Chain [1] done processing\n"
     ]
    },
    {
     "name": "stdout",
     "output_type": "stream",
     "text": [
      "Procesando registro/orden 953...\n"
     ]
    },
    {
     "name": "stderr",
     "output_type": "stream",
     "text": [
      "17:54:26 - cmdstanpy - INFO - Chain [1] start processing\n",
      "17:54:27 - cmdstanpy - INFO - Chain [1] done processing\n"
     ]
    },
    {
     "name": "stdout",
     "output_type": "stream",
     "text": [
      "Procesando registro/orden 954...\n"
     ]
    },
    {
     "name": "stderr",
     "output_type": "stream",
     "text": [
      "17:54:32 - cmdstanpy - INFO - Chain [1] start processing\n",
      "17:54:33 - cmdstanpy - INFO - Chain [1] done processing\n"
     ]
    },
    {
     "name": "stdout",
     "output_type": "stream",
     "text": [
      "Procesando registro/orden 955...\n"
     ]
    },
    {
     "name": "stderr",
     "output_type": "stream",
     "text": [
      "17:54:39 - cmdstanpy - INFO - Chain [1] start processing\n",
      "17:54:40 - cmdstanpy - INFO - Chain [1] done processing\n"
     ]
    },
    {
     "name": "stdout",
     "output_type": "stream",
     "text": [
      "Procesando registro/orden 956...\n"
     ]
    },
    {
     "name": "stderr",
     "output_type": "stream",
     "text": [
      "17:54:46 - cmdstanpy - INFO - Chain [1] start processing\n",
      "17:54:48 - cmdstanpy - INFO - Chain [1] done processing\n"
     ]
    },
    {
     "name": "stdout",
     "output_type": "stream",
     "text": [
      "Procesando registro/orden 957...\n"
     ]
    },
    {
     "name": "stderr",
     "output_type": "stream",
     "text": [
      "17:54:52 - cmdstanpy - INFO - Chain [1] start processing\n",
      "17:54:53 - cmdstanpy - INFO - Chain [1] done processing\n"
     ]
    },
    {
     "name": "stdout",
     "output_type": "stream",
     "text": [
      "Procesando registro/orden 958...\n"
     ]
    },
    {
     "name": "stderr",
     "output_type": "stream",
     "text": [
      "17:54:58 - cmdstanpy - INFO - Chain [1] start processing\n",
      "17:55:00 - cmdstanpy - INFO - Chain [1] done processing\n"
     ]
    },
    {
     "name": "stdout",
     "output_type": "stream",
     "text": [
      "Procesando registro/orden 959...\n"
     ]
    },
    {
     "name": "stderr",
     "output_type": "stream",
     "text": [
      "17:55:04 - cmdstanpy - INFO - Chain [1] start processing\n",
      "17:55:05 - cmdstanpy - INFO - Chain [1] done processing\n"
     ]
    },
    {
     "name": "stdout",
     "output_type": "stream",
     "text": [
      "Procesando registro/orden 960...\n"
     ]
    },
    {
     "name": "stderr",
     "output_type": "stream",
     "text": [
      "17:55:10 - cmdstanpy - INFO - Chain [1] start processing\n",
      "17:55:11 - cmdstanpy - INFO - Chain [1] done processing\n"
     ]
    },
    {
     "name": "stdout",
     "output_type": "stream",
     "text": [
      "Procesando registro/orden 961...\n"
     ]
    },
    {
     "name": "stderr",
     "output_type": "stream",
     "text": [
      "17:55:15 - cmdstanpy - INFO - Chain [1] start processing\n",
      "17:55:16 - cmdstanpy - INFO - Chain [1] done processing\n"
     ]
    },
    {
     "name": "stdout",
     "output_type": "stream",
     "text": [
      "Procesando registro/orden 962...\n"
     ]
    },
    {
     "name": "stderr",
     "output_type": "stream",
     "text": [
      "17:55:21 - cmdstanpy - INFO - Chain [1] start processing\n",
      "17:55:23 - cmdstanpy - INFO - Chain [1] done processing\n"
     ]
    },
    {
     "name": "stdout",
     "output_type": "stream",
     "text": [
      "Procesando registro/orden 963...\n"
     ]
    },
    {
     "name": "stderr",
     "output_type": "stream",
     "text": [
      "17:55:28 - cmdstanpy - INFO - Chain [1] start processing\n",
      "17:55:29 - cmdstanpy - INFO - Chain [1] done processing\n"
     ]
    },
    {
     "name": "stdout",
     "output_type": "stream",
     "text": [
      "Procesando registro/orden 964...\n"
     ]
    },
    {
     "name": "stderr",
     "output_type": "stream",
     "text": [
      "17:55:32 - cmdstanpy - INFO - Chain [1] start processing\n",
      "17:55:34 - cmdstanpy - INFO - Chain [1] done processing\n"
     ]
    },
    {
     "name": "stdout",
     "output_type": "stream",
     "text": [
      "Procesando registro/orden 965...\n"
     ]
    },
    {
     "name": "stderr",
     "output_type": "stream",
     "text": [
      "17:55:38 - cmdstanpy - INFO - Chain [1] start processing\n",
      "17:55:39 - cmdstanpy - INFO - Chain [1] done processing\n"
     ]
    },
    {
     "name": "stdout",
     "output_type": "stream",
     "text": [
      "Procesando registro/orden 966...\n"
     ]
    },
    {
     "name": "stderr",
     "output_type": "stream",
     "text": [
      "17:55:45 - cmdstanpy - INFO - Chain [1] start processing\n",
      "17:55:46 - cmdstanpy - INFO - Chain [1] done processing\n"
     ]
    },
    {
     "name": "stdout",
     "output_type": "stream",
     "text": [
      "Procesando registro/orden 967...\n"
     ]
    },
    {
     "name": "stderr",
     "output_type": "stream",
     "text": [
      "17:55:52 - cmdstanpy - INFO - Chain [1] start processing\n",
      "17:55:53 - cmdstanpy - INFO - Chain [1] done processing\n"
     ]
    },
    {
     "name": "stdout",
     "output_type": "stream",
     "text": [
      "Procesando registro/orden 968...\n"
     ]
    },
    {
     "name": "stderr",
     "output_type": "stream",
     "text": [
      "17:55:57 - cmdstanpy - INFO - Chain [1] start processing\n",
      "17:55:58 - cmdstanpy - INFO - Chain [1] done processing\n"
     ]
    },
    {
     "name": "stdout",
     "output_type": "stream",
     "text": [
      "Procesando registro/orden 969...\n"
     ]
    },
    {
     "name": "stderr",
     "output_type": "stream",
     "text": [
      "17:56:03 - cmdstanpy - INFO - Chain [1] start processing\n",
      "17:56:04 - cmdstanpy - INFO - Chain [1] done processing\n"
     ]
    },
    {
     "name": "stdout",
     "output_type": "stream",
     "text": [
      "Procesando registro/orden 970...\n"
     ]
    },
    {
     "name": "stderr",
     "output_type": "stream",
     "text": [
      "17:56:09 - cmdstanpy - INFO - Chain [1] start processing\n",
      "17:56:10 - cmdstanpy - INFO - Chain [1] done processing\n"
     ]
    },
    {
     "name": "stdout",
     "output_type": "stream",
     "text": [
      "Procesando registro/orden 971...\n"
     ]
    },
    {
     "name": "stderr",
     "output_type": "stream",
     "text": [
      "17:56:16 - cmdstanpy - INFO - Chain [1] start processing\n",
      "17:56:17 - cmdstanpy - INFO - Chain [1] done processing\n"
     ]
    },
    {
     "name": "stdout",
     "output_type": "stream",
     "text": [
      "Procesando registro/orden 972...\n"
     ]
    },
    {
     "name": "stderr",
     "output_type": "stream",
     "text": [
      "17:56:21 - cmdstanpy - INFO - Chain [1] start processing\n",
      "17:56:22 - cmdstanpy - INFO - Chain [1] done processing\n"
     ]
    },
    {
     "name": "stdout",
     "output_type": "stream",
     "text": [
      "Procesando registro/orden 973...\n"
     ]
    },
    {
     "name": "stderr",
     "output_type": "stream",
     "text": [
      "17:56:26 - cmdstanpy - INFO - Chain [1] start processing\n",
      "17:56:27 - cmdstanpy - INFO - Chain [1] done processing\n"
     ]
    },
    {
     "name": "stdout",
     "output_type": "stream",
     "text": [
      "Procesando registro/orden 974...\n"
     ]
    },
    {
     "name": "stderr",
     "output_type": "stream",
     "text": [
      "17:56:31 - cmdstanpy - INFO - Chain [1] start processing\n",
      "17:56:32 - cmdstanpy - INFO - Chain [1] done processing\n"
     ]
    },
    {
     "name": "stdout",
     "output_type": "stream",
     "text": [
      "Procesando registro/orden 975...\n"
     ]
    },
    {
     "name": "stderr",
     "output_type": "stream",
     "text": [
      "17:56:36 - cmdstanpy - INFO - Chain [1] start processing\n",
      "17:56:36 - cmdstanpy - INFO - Chain [1] done processing\n"
     ]
    },
    {
     "name": "stdout",
     "output_type": "stream",
     "text": [
      "Procesando registro/orden 976...\n"
     ]
    },
    {
     "name": "stderr",
     "output_type": "stream",
     "text": [
      "17:56:41 - cmdstanpy - INFO - Chain [1] start processing\n",
      "17:56:43 - cmdstanpy - INFO - Chain [1] done processing\n"
     ]
    },
    {
     "name": "stdout",
     "output_type": "stream",
     "text": [
      "Procesando registro/orden 977...\n"
     ]
    },
    {
     "name": "stderr",
     "output_type": "stream",
     "text": [
      "17:56:47 - cmdstanpy - INFO - Chain [1] start processing\n",
      "17:56:48 - cmdstanpy - INFO - Chain [1] done processing\n"
     ]
    },
    {
     "name": "stdout",
     "output_type": "stream",
     "text": [
      "Procesando registro/orden 978...\n"
     ]
    },
    {
     "name": "stderr",
     "output_type": "stream",
     "text": [
      "17:56:52 - cmdstanpy - INFO - Chain [1] start processing\n",
      "17:56:53 - cmdstanpy - INFO - Chain [1] done processing\n"
     ]
    },
    {
     "name": "stdout",
     "output_type": "stream",
     "text": [
      "Procesando registro/orden 979...\n"
     ]
    },
    {
     "name": "stderr",
     "output_type": "stream",
     "text": [
      "17:56:59 - cmdstanpy - INFO - Chain [1] start processing\n",
      "17:57:00 - cmdstanpy - INFO - Chain [1] done processing\n"
     ]
    },
    {
     "name": "stdout",
     "output_type": "stream",
     "text": [
      "Procesando registro/orden 980...\n"
     ]
    },
    {
     "name": "stderr",
     "output_type": "stream",
     "text": [
      "17:57:06 - cmdstanpy - INFO - Chain [1] start processing\n",
      "17:57:07 - cmdstanpy - INFO - Chain [1] done processing\n"
     ]
    },
    {
     "name": "stdout",
     "output_type": "stream",
     "text": [
      "Procesando registro/orden 981...\n"
     ]
    },
    {
     "name": "stderr",
     "output_type": "stream",
     "text": [
      "17:57:11 - cmdstanpy - INFO - Chain [1] start processing\n",
      "17:57:12 - cmdstanpy - INFO - Chain [1] done processing\n"
     ]
    },
    {
     "name": "stdout",
     "output_type": "stream",
     "text": [
      "Procesando registro/orden 982...\n"
     ]
    },
    {
     "name": "stderr",
     "output_type": "stream",
     "text": [
      "17:57:17 - cmdstanpy - INFO - Chain [1] start processing\n",
      "17:57:19 - cmdstanpy - INFO - Chain [1] done processing\n"
     ]
    },
    {
     "name": "stdout",
     "output_type": "stream",
     "text": [
      "Procesando registro/orden 983...\n"
     ]
    },
    {
     "name": "stderr",
     "output_type": "stream",
     "text": [
      "17:57:23 - cmdstanpy - INFO - Chain [1] start processing\n",
      "17:57:24 - cmdstanpy - INFO - Chain [1] done processing\n"
     ]
    },
    {
     "name": "stdout",
     "output_type": "stream",
     "text": [
      "Procesando registro/orden 984...\n"
     ]
    },
    {
     "name": "stderr",
     "output_type": "stream",
     "text": [
      "17:57:28 - cmdstanpy - INFO - Chain [1] start processing\n",
      "17:57:30 - cmdstanpy - INFO - Chain [1] done processing\n"
     ]
    },
    {
     "name": "stdout",
     "output_type": "stream",
     "text": [
      "Procesando registro/orden 985...\n"
     ]
    },
    {
     "name": "stderr",
     "output_type": "stream",
     "text": [
      "17:57:34 - cmdstanpy - INFO - Chain [1] start processing\n",
      "17:57:36 - cmdstanpy - INFO - Chain [1] done processing\n"
     ]
    },
    {
     "name": "stdout",
     "output_type": "stream",
     "text": [
      "Procesando registro/orden 986...\n"
     ]
    },
    {
     "name": "stderr",
     "output_type": "stream",
     "text": [
      "17:57:41 - cmdstanpy - INFO - Chain [1] start processing\n",
      "17:57:41 - cmdstanpy - INFO - Chain [1] done processing\n"
     ]
    },
    {
     "name": "stdout",
     "output_type": "stream",
     "text": [
      "Procesando registro/orden 987...\n"
     ]
    },
    {
     "name": "stderr",
     "output_type": "stream",
     "text": [
      "17:57:48 - cmdstanpy - INFO - Chain [1] start processing\n",
      "17:57:49 - cmdstanpy - INFO - Chain [1] done processing\n"
     ]
    },
    {
     "name": "stdout",
     "output_type": "stream",
     "text": [
      "Procesando registro/orden 988...\n"
     ]
    },
    {
     "name": "stderr",
     "output_type": "stream",
     "text": [
      "17:57:55 - cmdstanpy - INFO - Chain [1] start processing\n",
      "17:57:56 - cmdstanpy - INFO - Chain [1] done processing\n"
     ]
    },
    {
     "name": "stdout",
     "output_type": "stream",
     "text": [
      "Procesando registro/orden 989...\n"
     ]
    },
    {
     "name": "stderr",
     "output_type": "stream",
     "text": [
      "17:58:02 - cmdstanpy - INFO - Chain [1] start processing\n",
      "17:58:03 - cmdstanpy - INFO - Chain [1] done processing\n"
     ]
    },
    {
     "name": "stdout",
     "output_type": "stream",
     "text": [
      "Procesando registro/orden 990...\n"
     ]
    },
    {
     "name": "stderr",
     "output_type": "stream",
     "text": [
      "17:58:08 - cmdstanpy - INFO - Chain [1] start processing\n",
      "17:58:09 - cmdstanpy - INFO - Chain [1] done processing\n"
     ]
    },
    {
     "name": "stdout",
     "output_type": "stream",
     "text": [
      "Procesando registro/orden 991...\n"
     ]
    },
    {
     "name": "stderr",
     "output_type": "stream",
     "text": [
      "17:58:13 - cmdstanpy - INFO - Chain [1] start processing\n",
      "17:58:14 - cmdstanpy - INFO - Chain [1] done processing\n"
     ]
    },
    {
     "name": "stdout",
     "output_type": "stream",
     "text": [
      "Procesando registro/orden 992...\n"
     ]
    },
    {
     "name": "stderr",
     "output_type": "stream",
     "text": [
      "17:58:20 - cmdstanpy - INFO - Chain [1] start processing\n",
      "17:58:21 - cmdstanpy - INFO - Chain [1] done processing\n"
     ]
    },
    {
     "name": "stdout",
     "output_type": "stream",
     "text": [
      "Procesando registro/orden 993...\n"
     ]
    },
    {
     "name": "stderr",
     "output_type": "stream",
     "text": [
      "17:58:26 - cmdstanpy - INFO - Chain [1] start processing\n",
      "17:58:27 - cmdstanpy - INFO - Chain [1] done processing\n"
     ]
    },
    {
     "name": "stdout",
     "output_type": "stream",
     "text": [
      "Procesando registro/orden 994...\n"
     ]
    },
    {
     "name": "stderr",
     "output_type": "stream",
     "text": [
      "17:58:33 - cmdstanpy - INFO - Chain [1] start processing\n",
      "17:58:34 - cmdstanpy - INFO - Chain [1] done processing\n"
     ]
    },
    {
     "name": "stdout",
     "output_type": "stream",
     "text": [
      "Procesando registro/orden 995...\n"
     ]
    },
    {
     "name": "stderr",
     "output_type": "stream",
     "text": [
      "17:58:40 - cmdstanpy - INFO - Chain [1] start processing\n",
      "17:58:41 - cmdstanpy - INFO - Chain [1] done processing\n"
     ]
    },
    {
     "name": "stdout",
     "output_type": "stream",
     "text": [
      "Procesando registro/orden 996...\n"
     ]
    },
    {
     "name": "stderr",
     "output_type": "stream",
     "text": [
      "17:58:45 - cmdstanpy - INFO - Chain [1] start processing\n",
      "17:58:47 - cmdstanpy - INFO - Chain [1] done processing\n"
     ]
    },
    {
     "name": "stdout",
     "output_type": "stream",
     "text": [
      "Procesando registro/orden 997...\n"
     ]
    },
    {
     "name": "stderr",
     "output_type": "stream",
     "text": [
      "17:58:51 - cmdstanpy - INFO - Chain [1] start processing\n",
      "17:58:52 - cmdstanpy - INFO - Chain [1] done processing\n"
     ]
    },
    {
     "name": "stdout",
     "output_type": "stream",
     "text": [
      "Procesando registro/orden 998...\n"
     ]
    },
    {
     "name": "stderr",
     "output_type": "stream",
     "text": [
      "17:58:56 - cmdstanpy - INFO - Chain [1] start processing\n",
      "17:58:57 - cmdstanpy - INFO - Chain [1] done processing\n"
     ]
    },
    {
     "name": "stdout",
     "output_type": "stream",
     "text": [
      "Procesando registro/orden 999...\n"
     ]
    },
    {
     "name": "stderr",
     "output_type": "stream",
     "text": [
      "17:59:02 - cmdstanpy - INFO - Chain [1] start processing\n",
      "17:59:03 - cmdstanpy - INFO - Chain [1] done processing\n"
     ]
    },
    {
     "name": "stdout",
     "output_type": "stream",
     "text": [
      "Procesando registro/orden 1000...\n"
     ]
    },
    {
     "name": "stderr",
     "output_type": "stream",
     "text": [
      "17:59:09 - cmdstanpy - INFO - Chain [1] start processing\n",
      "17:59:10 - cmdstanpy - INFO - Chain [1] done processing\n"
     ]
    },
    {
     "name": "stdout",
     "output_type": "stream",
     "text": [
      "Procesando registro/orden 1001...\n"
     ]
    },
    {
     "name": "stderr",
     "output_type": "stream",
     "text": [
      "17:59:15 - cmdstanpy - INFO - Chain [1] start processing\n",
      "17:59:16 - cmdstanpy - INFO - Chain [1] done processing\n"
     ]
    },
    {
     "name": "stdout",
     "output_type": "stream",
     "text": [
      "Procesando registro/orden 1002...\n"
     ]
    },
    {
     "name": "stderr",
     "output_type": "stream",
     "text": [
      "17:59:20 - cmdstanpy - INFO - Chain [1] start processing\n",
      "17:59:21 - cmdstanpy - INFO - Chain [1] done processing\n"
     ]
    },
    {
     "name": "stdout",
     "output_type": "stream",
     "text": [
      "Procesando registro/orden 1003...\n"
     ]
    },
    {
     "name": "stderr",
     "output_type": "stream",
     "text": [
      "17:59:25 - cmdstanpy - INFO - Chain [1] start processing\n",
      "17:59:26 - cmdstanpy - INFO - Chain [1] done processing\n"
     ]
    },
    {
     "name": "stdout",
     "output_type": "stream",
     "text": [
      "Procesando registro/orden 1004...\n"
     ]
    },
    {
     "name": "stderr",
     "output_type": "stream",
     "text": [
      "17:59:31 - cmdstanpy - INFO - Chain [1] start processing\n",
      "17:59:32 - cmdstanpy - INFO - Chain [1] done processing\n"
     ]
    },
    {
     "name": "stdout",
     "output_type": "stream",
     "text": [
      "Procesando registro/orden 1005...\n"
     ]
    },
    {
     "name": "stderr",
     "output_type": "stream",
     "text": [
      "17:59:36 - cmdstanpy - INFO - Chain [1] start processing\n",
      "17:59:37 - cmdstanpy - INFO - Chain [1] done processing\n"
     ]
    },
    {
     "name": "stdout",
     "output_type": "stream",
     "text": [
      "Procesando registro/orden 1006...\n"
     ]
    },
    {
     "name": "stderr",
     "output_type": "stream",
     "text": [
      "17:59:41 - cmdstanpy - INFO - Chain [1] start processing\n",
      "17:59:42 - cmdstanpy - INFO - Chain [1] done processing\n"
     ]
    },
    {
     "name": "stdout",
     "output_type": "stream",
     "text": [
      "Procesando registro/orden 1007...\n"
     ]
    },
    {
     "name": "stderr",
     "output_type": "stream",
     "text": [
      "17:59:47 - cmdstanpy - INFO - Chain [1] start processing\n",
      "17:59:48 - cmdstanpy - INFO - Chain [1] done processing\n"
     ]
    },
    {
     "name": "stdout",
     "output_type": "stream",
     "text": [
      "Procesando registro/orden 1008...\n"
     ]
    },
    {
     "name": "stderr",
     "output_type": "stream",
     "text": [
      "17:59:54 - cmdstanpy - INFO - Chain [1] start processing\n",
      "17:59:55 - cmdstanpy - INFO - Chain [1] done processing\n"
     ]
    },
    {
     "name": "stdout",
     "output_type": "stream",
     "text": [
      "Procesando registro/orden 1009...\n"
     ]
    },
    {
     "name": "stderr",
     "output_type": "stream",
     "text": [
      "18:00:00 - cmdstanpy - INFO - Chain [1] start processing\n",
      "18:00:01 - cmdstanpy - INFO - Chain [1] done processing\n"
     ]
    },
    {
     "name": "stdout",
     "output_type": "stream",
     "text": [
      "Procesando registro/orden 1010...\n"
     ]
    },
    {
     "name": "stderr",
     "output_type": "stream",
     "text": [
      "18:00:05 - cmdstanpy - INFO - Chain [1] start processing\n",
      "18:00:06 - cmdstanpy - INFO - Chain [1] done processing\n"
     ]
    },
    {
     "name": "stdout",
     "output_type": "stream",
     "text": [
      "Procesando registro/orden 1011...\n"
     ]
    },
    {
     "name": "stderr",
     "output_type": "stream",
     "text": [
      "18:00:11 - cmdstanpy - INFO - Chain [1] start processing\n",
      "18:00:12 - cmdstanpy - INFO - Chain [1] done processing\n"
     ]
    },
    {
     "name": "stdout",
     "output_type": "stream",
     "text": [
      "Procesando registro/orden 1012...\n"
     ]
    },
    {
     "name": "stderr",
     "output_type": "stream",
     "text": [
      "18:00:17 - cmdstanpy - INFO - Chain [1] start processing\n",
      "18:00:18 - cmdstanpy - INFO - Chain [1] done processing\n"
     ]
    },
    {
     "name": "stdout",
     "output_type": "stream",
     "text": [
      "Procesando registro/orden 1013...\n"
     ]
    },
    {
     "name": "stderr",
     "output_type": "stream",
     "text": [
      "18:00:23 - cmdstanpy - INFO - Chain [1] start processing\n",
      "18:00:24 - cmdstanpy - INFO - Chain [1] done processing\n"
     ]
    },
    {
     "name": "stdout",
     "output_type": "stream",
     "text": [
      "Procesando registro/orden 1014...\n"
     ]
    },
    {
     "name": "stderr",
     "output_type": "stream",
     "text": [
      "18:00:28 - cmdstanpy - INFO - Chain [1] start processing\n",
      "18:00:30 - cmdstanpy - INFO - Chain [1] done processing\n"
     ]
    },
    {
     "name": "stdout",
     "output_type": "stream",
     "text": [
      "Procesando registro/orden 1015...\n"
     ]
    },
    {
     "name": "stderr",
     "output_type": "stream",
     "text": [
      "18:00:35 - cmdstanpy - INFO - Chain [1] start processing\n",
      "18:00:36 - cmdstanpy - INFO - Chain [1] done processing\n"
     ]
    },
    {
     "name": "stdout",
     "output_type": "stream",
     "text": [
      "Procesando registro/orden 1016...\n"
     ]
    },
    {
     "name": "stderr",
     "output_type": "stream",
     "text": [
      "18:00:41 - cmdstanpy - INFO - Chain [1] start processing\n",
      "18:00:42 - cmdstanpy - INFO - Chain [1] done processing\n"
     ]
    },
    {
     "name": "stdout",
     "output_type": "stream",
     "text": [
      "Procesando registro/orden 1017...\n"
     ]
    },
    {
     "name": "stderr",
     "output_type": "stream",
     "text": [
      "18:00:47 - cmdstanpy - INFO - Chain [1] start processing\n",
      "18:00:48 - cmdstanpy - INFO - Chain [1] done processing\n"
     ]
    },
    {
     "name": "stdout",
     "output_type": "stream",
     "text": [
      "Procesando registro/orden 1018...\n"
     ]
    },
    {
     "name": "stderr",
     "output_type": "stream",
     "text": [
      "18:00:53 - cmdstanpy - INFO - Chain [1] start processing\n",
      "18:00:54 - cmdstanpy - INFO - Chain [1] done processing\n"
     ]
    },
    {
     "name": "stdout",
     "output_type": "stream",
     "text": [
      "Procesando registro/orden 1019...\n"
     ]
    },
    {
     "name": "stderr",
     "output_type": "stream",
     "text": [
      "18:01:00 - cmdstanpy - INFO - Chain [1] start processing\n",
      "18:01:01 - cmdstanpy - INFO - Chain [1] done processing\n"
     ]
    },
    {
     "name": "stdout",
     "output_type": "stream",
     "text": [
      "Procesando registro/orden 1020...\n"
     ]
    },
    {
     "name": "stderr",
     "output_type": "stream",
     "text": [
      "18:01:06 - cmdstanpy - INFO - Chain [1] start processing\n",
      "18:01:06 - cmdstanpy - INFO - Chain [1] done processing\n"
     ]
    },
    {
     "name": "stdout",
     "output_type": "stream",
     "text": [
      "Procesando registro/orden 1021...\n"
     ]
    },
    {
     "name": "stderr",
     "output_type": "stream",
     "text": [
      "18:01:12 - cmdstanpy - INFO - Chain [1] start processing\n",
      "18:01:13 - cmdstanpy - INFO - Chain [1] done processing\n"
     ]
    },
    {
     "name": "stdout",
     "output_type": "stream",
     "text": [
      "Procesando registro/orden 1022...\n"
     ]
    },
    {
     "name": "stderr",
     "output_type": "stream",
     "text": [
      "18:01:23 - cmdstanpy - INFO - Chain [1] start processing\n",
      "18:01:24 - cmdstanpy - INFO - Chain [1] done processing\n"
     ]
    },
    {
     "name": "stdout",
     "output_type": "stream",
     "text": [
      "Procesando registro/orden 1023...\n"
     ]
    },
    {
     "name": "stderr",
     "output_type": "stream",
     "text": [
      "18:01:29 - cmdstanpy - INFO - Chain [1] start processing\n",
      "18:01:30 - cmdstanpy - INFO - Chain [1] done processing\n"
     ]
    },
    {
     "name": "stdout",
     "output_type": "stream",
     "text": [
      "Procesando registro/orden 1024...\n"
     ]
    },
    {
     "name": "stderr",
     "output_type": "stream",
     "text": [
      "18:01:36 - cmdstanpy - INFO - Chain [1] start processing\n",
      "18:01:38 - cmdstanpy - INFO - Chain [1] done processing\n"
     ]
    },
    {
     "name": "stdout",
     "output_type": "stream",
     "text": [
      "Procesando registro/orden 1025...\n"
     ]
    },
    {
     "name": "stderr",
     "output_type": "stream",
     "text": [
      "18:01:42 - cmdstanpy - INFO - Chain [1] start processing\n",
      "18:01:42 - cmdstanpy - INFO - Chain [1] done processing\n"
     ]
    },
    {
     "name": "stdout",
     "output_type": "stream",
     "text": [
      "Procesando registro/orden 1026...\n"
     ]
    },
    {
     "name": "stderr",
     "output_type": "stream",
     "text": [
      "18:01:46 - cmdstanpy - INFO - Chain [1] start processing\n",
      "18:01:47 - cmdstanpy - INFO - Chain [1] done processing\n"
     ]
    },
    {
     "name": "stdout",
     "output_type": "stream",
     "text": [
      "Procesando registro/orden 1027...\n"
     ]
    },
    {
     "name": "stderr",
     "output_type": "stream",
     "text": [
      "18:01:51 - cmdstanpy - INFO - Chain [1] start processing\n",
      "18:01:53 - cmdstanpy - INFO - Chain [1] done processing\n"
     ]
    },
    {
     "name": "stdout",
     "output_type": "stream",
     "text": [
      "Procesando registro/orden 1028...\n"
     ]
    },
    {
     "name": "stderr",
     "output_type": "stream",
     "text": [
      "18:01:58 - cmdstanpy - INFO - Chain [1] start processing\n",
      "18:01:59 - cmdstanpy - INFO - Chain [1] done processing\n"
     ]
    },
    {
     "name": "stdout",
     "output_type": "stream",
     "text": [
      "Procesando registro/orden 1029...\n"
     ]
    },
    {
     "name": "stderr",
     "output_type": "stream",
     "text": [
      "18:02:04 - cmdstanpy - INFO - Chain [1] start processing\n",
      "18:02:05 - cmdstanpy - INFO - Chain [1] done processing\n"
     ]
    },
    {
     "name": "stdout",
     "output_type": "stream",
     "text": [
      "Procesando registro/orden 1030...\n"
     ]
    },
    {
     "name": "stderr",
     "output_type": "stream",
     "text": [
      "18:02:09 - cmdstanpy - INFO - Chain [1] start processing\n",
      "18:02:10 - cmdstanpy - INFO - Chain [1] done processing\n"
     ]
    },
    {
     "name": "stdout",
     "output_type": "stream",
     "text": [
      "Procesando registro/orden 1031...\n"
     ]
    },
    {
     "name": "stderr",
     "output_type": "stream",
     "text": [
      "18:02:16 - cmdstanpy - INFO - Chain [1] start processing\n",
      "18:02:17 - cmdstanpy - INFO - Chain [1] done processing\n"
     ]
    },
    {
     "name": "stdout",
     "output_type": "stream",
     "text": [
      "Procesando registro/orden 1032...\n"
     ]
    },
    {
     "name": "stderr",
     "output_type": "stream",
     "text": [
      "18:02:20 - cmdstanpy - INFO - Chain [1] start processing\n",
      "18:02:21 - cmdstanpy - INFO - Chain [1] done processing\n"
     ]
    },
    {
     "name": "stdout",
     "output_type": "stream",
     "text": [
      "Procesando registro/orden 1033...\n"
     ]
    },
    {
     "name": "stderr",
     "output_type": "stream",
     "text": [
      "18:02:27 - cmdstanpy - INFO - Chain [1] start processing\n",
      "18:02:28 - cmdstanpy - INFO - Chain [1] done processing\n"
     ]
    },
    {
     "name": "stdout",
     "output_type": "stream",
     "text": [
      "Procesando registro/orden 1034...\n"
     ]
    },
    {
     "name": "stderr",
     "output_type": "stream",
     "text": [
      "18:02:32 - cmdstanpy - INFO - Chain [1] start processing\n",
      "18:02:33 - cmdstanpy - INFO - Chain [1] done processing\n"
     ]
    },
    {
     "name": "stdout",
     "output_type": "stream",
     "text": [
      "Procesando registro/orden 1035...\n"
     ]
    },
    {
     "name": "stderr",
     "output_type": "stream",
     "text": [
      "18:02:39 - cmdstanpy - INFO - Chain [1] start processing\n",
      "18:02:40 - cmdstanpy - INFO - Chain [1] done processing\n"
     ]
    },
    {
     "name": "stdout",
     "output_type": "stream",
     "text": [
      "Procesando registro/orden 1036...\n"
     ]
    },
    {
     "name": "stderr",
     "output_type": "stream",
     "text": [
      "18:02:45 - cmdstanpy - INFO - Chain [1] start processing\n",
      "18:02:45 - cmdstanpy - INFO - Chain [1] done processing\n"
     ]
    },
    {
     "name": "stdout",
     "output_type": "stream",
     "text": [
      "Procesando registro/orden 1037...\n"
     ]
    },
    {
     "name": "stderr",
     "output_type": "stream",
     "text": [
      "18:02:50 - cmdstanpy - INFO - Chain [1] start processing\n",
      "18:02:50 - cmdstanpy - INFO - Chain [1] done processing\n"
     ]
    },
    {
     "name": "stdout",
     "output_type": "stream",
     "text": [
      "Procesando registro/orden 1038...\n"
     ]
    },
    {
     "name": "stderr",
     "output_type": "stream",
     "text": [
      "18:02:55 - cmdstanpy - INFO - Chain [1] start processing\n",
      "18:02:56 - cmdstanpy - INFO - Chain [1] done processing\n"
     ]
    },
    {
     "name": "stdout",
     "output_type": "stream",
     "text": [
      "Procesando registro/orden 1039...\n"
     ]
    },
    {
     "name": "stderr",
     "output_type": "stream",
     "text": [
      "18:03:01 - cmdstanpy - INFO - Chain [1] start processing\n",
      "18:03:02 - cmdstanpy - INFO - Chain [1] done processing\n"
     ]
    },
    {
     "name": "stdout",
     "output_type": "stream",
     "text": [
      "Procesando registro/orden 1040...\n"
     ]
    },
    {
     "name": "stderr",
     "output_type": "stream",
     "text": [
      "18:03:07 - cmdstanpy - INFO - Chain [1] start processing\n",
      "18:03:08 - cmdstanpy - INFO - Chain [1] done processing\n"
     ]
    },
    {
     "name": "stdout",
     "output_type": "stream",
     "text": [
      "Procesando registro/orden 1041...\n"
     ]
    },
    {
     "name": "stderr",
     "output_type": "stream",
     "text": [
      "18:03:14 - cmdstanpy - INFO - Chain [1] start processing\n",
      "18:03:15 - cmdstanpy - INFO - Chain [1] done processing\n"
     ]
    },
    {
     "name": "stdout",
     "output_type": "stream",
     "text": [
      "Procesando registro/orden 1042...\n"
     ]
    },
    {
     "name": "stderr",
     "output_type": "stream",
     "text": [
      "18:03:20 - cmdstanpy - INFO - Chain [1] start processing\n",
      "18:03:21 - cmdstanpy - INFO - Chain [1] done processing\n"
     ]
    },
    {
     "name": "stdout",
     "output_type": "stream",
     "text": [
      "Procesando registro/orden 1043...\n"
     ]
    },
    {
     "name": "stderr",
     "output_type": "stream",
     "text": [
      "18:03:27 - cmdstanpy - INFO - Chain [1] start processing\n",
      "18:03:27 - cmdstanpy - INFO - Chain [1] done processing\n"
     ]
    },
    {
     "name": "stdout",
     "output_type": "stream",
     "text": [
      "Procesando registro/orden 1044...\n"
     ]
    },
    {
     "name": "stderr",
     "output_type": "stream",
     "text": [
      "18:03:35 - cmdstanpy - INFO - Chain [1] start processing\n",
      "18:03:36 - cmdstanpy - INFO - Chain [1] done processing\n"
     ]
    },
    {
     "name": "stdout",
     "output_type": "stream",
     "text": [
      "Procesando registro/orden 1045...\n"
     ]
    },
    {
     "name": "stderr",
     "output_type": "stream",
     "text": [
      "18:03:41 - cmdstanpy - INFO - Chain [1] start processing\n",
      "18:03:42 - cmdstanpy - INFO - Chain [1] done processing\n"
     ]
    },
    {
     "name": "stdout",
     "output_type": "stream",
     "text": [
      "Procesando registro/orden 1046...\n"
     ]
    },
    {
     "name": "stderr",
     "output_type": "stream",
     "text": [
      "18:03:47 - cmdstanpy - INFO - Chain [1] start processing\n",
      "18:03:47 - cmdstanpy - INFO - Chain [1] done processing\n"
     ]
    },
    {
     "name": "stdout",
     "output_type": "stream",
     "text": [
      "Procesando registro/orden 1047...\n"
     ]
    },
    {
     "name": "stderr",
     "output_type": "stream",
     "text": [
      "18:03:53 - cmdstanpy - INFO - Chain [1] start processing\n",
      "18:03:53 - cmdstanpy - INFO - Chain [1] done processing\n"
     ]
    },
    {
     "name": "stdout",
     "output_type": "stream",
     "text": [
      "Procesando registro/orden 1048...\n"
     ]
    },
    {
     "name": "stderr",
     "output_type": "stream",
     "text": [
      "18:03:59 - cmdstanpy - INFO - Chain [1] start processing\n",
      "18:04:00 - cmdstanpy - INFO - Chain [1] done processing\n"
     ]
    },
    {
     "name": "stdout",
     "output_type": "stream",
     "text": [
      "Procesando registro/orden 1049...\n"
     ]
    },
    {
     "name": "stderr",
     "output_type": "stream",
     "text": [
      "18:04:04 - cmdstanpy - INFO - Chain [1] start processing\n",
      "18:04:05 - cmdstanpy - INFO - Chain [1] done processing\n"
     ]
    },
    {
     "name": "stdout",
     "output_type": "stream",
     "text": [
      "Procesando registro/orden 1050...\n"
     ]
    },
    {
     "name": "stderr",
     "output_type": "stream",
     "text": [
      "18:04:08 - cmdstanpy - INFO - Chain [1] start processing\n",
      "18:04:09 - cmdstanpy - INFO - Chain [1] done processing\n"
     ]
    },
    {
     "name": "stdout",
     "output_type": "stream",
     "text": [
      "Procesando registro/orden 1051...\n"
     ]
    },
    {
     "name": "stderr",
     "output_type": "stream",
     "text": [
      "18:04:14 - cmdstanpy - INFO - Chain [1] start processing\n",
      "18:04:15 - cmdstanpy - INFO - Chain [1] done processing\n"
     ]
    },
    {
     "name": "stdout",
     "output_type": "stream",
     "text": [
      "Procesando registro/orden 1052...\n"
     ]
    },
    {
     "name": "stderr",
     "output_type": "stream",
     "text": [
      "18:04:19 - cmdstanpy - INFO - Chain [1] start processing\n",
      "18:04:20 - cmdstanpy - INFO - Chain [1] done processing\n"
     ]
    },
    {
     "name": "stdout",
     "output_type": "stream",
     "text": [
      "Procesando registro/orden 1053...\n"
     ]
    },
    {
     "name": "stderr",
     "output_type": "stream",
     "text": [
      "18:04:24 - cmdstanpy - INFO - Chain [1] start processing\n",
      "18:04:25 - cmdstanpy - INFO - Chain [1] done processing\n"
     ]
    },
    {
     "name": "stdout",
     "output_type": "stream",
     "text": [
      "Procesando registro/orden 1054...\n"
     ]
    },
    {
     "name": "stderr",
     "output_type": "stream",
     "text": [
      "18:04:31 - cmdstanpy - INFO - Chain [1] start processing\n",
      "18:04:32 - cmdstanpy - INFO - Chain [1] done processing\n"
     ]
    },
    {
     "name": "stdout",
     "output_type": "stream",
     "text": [
      "Procesando registro/orden 1055...\n"
     ]
    },
    {
     "name": "stderr",
     "output_type": "stream",
     "text": [
      "18:04:37 - cmdstanpy - INFO - Chain [1] start processing\n",
      "18:04:38 - cmdstanpy - INFO - Chain [1] done processing\n"
     ]
    },
    {
     "name": "stdout",
     "output_type": "stream",
     "text": [
      "Procesando registro/orden 1056...\n"
     ]
    },
    {
     "name": "stderr",
     "output_type": "stream",
     "text": [
      "18:04:44 - cmdstanpy - INFO - Chain [1] start processing\n",
      "18:04:45 - cmdstanpy - INFO - Chain [1] done processing\n"
     ]
    },
    {
     "name": "stdout",
     "output_type": "stream",
     "text": [
      "Procesando registro/orden 1057...\n"
     ]
    },
    {
     "name": "stderr",
     "output_type": "stream",
     "text": [
      "18:04:49 - cmdstanpy - INFO - Chain [1] start processing\n",
      "18:04:50 - cmdstanpy - INFO - Chain [1] done processing\n"
     ]
    },
    {
     "name": "stdout",
     "output_type": "stream",
     "text": [
      "Procesando registro/orden 1058...\n"
     ]
    },
    {
     "name": "stderr",
     "output_type": "stream",
     "text": [
      "18:04:56 - cmdstanpy - INFO - Chain [1] start processing\n",
      "18:04:56 - cmdstanpy - INFO - Chain [1] done processing\n"
     ]
    },
    {
     "name": "stdout",
     "output_type": "stream",
     "text": [
      "Procesando registro/orden 1059...\n"
     ]
    },
    {
     "name": "stderr",
     "output_type": "stream",
     "text": [
      "18:05:02 - cmdstanpy - INFO - Chain [1] start processing\n",
      "18:05:03 - cmdstanpy - INFO - Chain [1] done processing\n"
     ]
    },
    {
     "name": "stdout",
     "output_type": "stream",
     "text": [
      "Procesando registro/orden 1060...\n"
     ]
    },
    {
     "name": "stderr",
     "output_type": "stream",
     "text": [
      "18:05:08 - cmdstanpy - INFO - Chain [1] start processing\n",
      "18:05:09 - cmdstanpy - INFO - Chain [1] done processing\n"
     ]
    },
    {
     "name": "stdout",
     "output_type": "stream",
     "text": [
      "Procesando registro/orden 1061...\n"
     ]
    },
    {
     "name": "stderr",
     "output_type": "stream",
     "text": [
      "18:05:15 - cmdstanpy - INFO - Chain [1] start processing\n",
      "18:05:16 - cmdstanpy - INFO - Chain [1] done processing\n"
     ]
    },
    {
     "name": "stdout",
     "output_type": "stream",
     "text": [
      "Procesando registro/orden 1062...\n"
     ]
    },
    {
     "name": "stderr",
     "output_type": "stream",
     "text": [
      "18:05:22 - cmdstanpy - INFO - Chain [1] start processing\n",
      "18:05:23 - cmdstanpy - INFO - Chain [1] done processing\n"
     ]
    },
    {
     "name": "stdout",
     "output_type": "stream",
     "text": [
      "Procesando registro/orden 1063...\n"
     ]
    },
    {
     "name": "stderr",
     "output_type": "stream",
     "text": [
      "18:05:28 - cmdstanpy - INFO - Chain [1] start processing\n",
      "18:05:30 - cmdstanpy - INFO - Chain [1] done processing\n"
     ]
    },
    {
     "name": "stdout",
     "output_type": "stream",
     "text": [
      "Procesando registro/orden 1064...\n"
     ]
    },
    {
     "name": "stderr",
     "output_type": "stream",
     "text": [
      "18:05:35 - cmdstanpy - INFO - Chain [1] start processing\n",
      "18:05:36 - cmdstanpy - INFO - Chain [1] done processing\n"
     ]
    },
    {
     "name": "stdout",
     "output_type": "stream",
     "text": [
      "Procesando registro/orden 1065...\n"
     ]
    },
    {
     "name": "stderr",
     "output_type": "stream",
     "text": [
      "18:05:40 - cmdstanpy - INFO - Chain [1] start processing\n",
      "18:05:42 - cmdstanpy - INFO - Chain [1] done processing\n"
     ]
    },
    {
     "name": "stdout",
     "output_type": "stream",
     "text": [
      "Procesando registro/orden 1066...\n"
     ]
    },
    {
     "name": "stderr",
     "output_type": "stream",
     "text": [
      "18:05:46 - cmdstanpy - INFO - Chain [1] start processing\n",
      "18:05:47 - cmdstanpy - INFO - Chain [1] done processing\n"
     ]
    },
    {
     "name": "stdout",
     "output_type": "stream",
     "text": [
      "Procesando registro/orden 1067...\n"
     ]
    },
    {
     "name": "stderr",
     "output_type": "stream",
     "text": [
      "18:05:52 - cmdstanpy - INFO - Chain [1] start processing\n",
      "18:05:53 - cmdstanpy - INFO - Chain [1] done processing\n"
     ]
    },
    {
     "name": "stdout",
     "output_type": "stream",
     "text": [
      "Procesando registro/orden 1068...\n"
     ]
    },
    {
     "name": "stderr",
     "output_type": "stream",
     "text": [
      "18:05:59 - cmdstanpy - INFO - Chain [1] start processing\n",
      "18:06:00 - cmdstanpy - INFO - Chain [1] done processing\n"
     ]
    },
    {
     "name": "stdout",
     "output_type": "stream",
     "text": [
      "Procesando registro/orden 1069...\n"
     ]
    },
    {
     "name": "stderr",
     "output_type": "stream",
     "text": [
      "18:06:05 - cmdstanpy - INFO - Chain [1] start processing\n",
      "18:06:06 - cmdstanpy - INFO - Chain [1] done processing\n"
     ]
    },
    {
     "name": "stdout",
     "output_type": "stream",
     "text": [
      "Procesando registro/orden 1070...\n"
     ]
    },
    {
     "name": "stderr",
     "output_type": "stream",
     "text": [
      "18:06:12 - cmdstanpy - INFO - Chain [1] start processing\n",
      "18:06:13 - cmdstanpy - INFO - Chain [1] done processing\n"
     ]
    },
    {
     "name": "stdout",
     "output_type": "stream",
     "text": [
      "Procesando registro/orden 1071...\n"
     ]
    },
    {
     "name": "stderr",
     "output_type": "stream",
     "text": [
      "18:06:17 - cmdstanpy - INFO - Chain [1] start processing\n",
      "18:06:18 - cmdstanpy - INFO - Chain [1] done processing\n"
     ]
    },
    {
     "name": "stdout",
     "output_type": "stream",
     "text": [
      "Procesando registro/orden 1072...\n"
     ]
    },
    {
     "name": "stderr",
     "output_type": "stream",
     "text": [
      "18:06:22 - cmdstanpy - INFO - Chain [1] start processing\n",
      "18:06:23 - cmdstanpy - INFO - Chain [1] done processing\n"
     ]
    },
    {
     "name": "stdout",
     "output_type": "stream",
     "text": [
      "Procesando registro/orden 1073...\n"
     ]
    },
    {
     "name": "stderr",
     "output_type": "stream",
     "text": [
      "18:06:30 - cmdstanpy - INFO - Chain [1] start processing\n",
      "18:06:31 - cmdstanpy - INFO - Chain [1] done processing\n"
     ]
    },
    {
     "name": "stdout",
     "output_type": "stream",
     "text": [
      "Procesando registro/orden 1074...\n"
     ]
    },
    {
     "name": "stderr",
     "output_type": "stream",
     "text": [
      "18:06:35 - cmdstanpy - INFO - Chain [1] start processing\n",
      "18:06:36 - cmdstanpy - INFO - Chain [1] done processing\n"
     ]
    },
    {
     "name": "stdout",
     "output_type": "stream",
     "text": [
      "Procesando registro/orden 1075...\n"
     ]
    },
    {
     "name": "stderr",
     "output_type": "stream",
     "text": [
      "18:06:42 - cmdstanpy - INFO - Chain [1] start processing\n",
      "18:06:42 - cmdstanpy - INFO - Chain [1] done processing\n"
     ]
    },
    {
     "name": "stdout",
     "output_type": "stream",
     "text": [
      "Procesando registro/orden 1076...\n"
     ]
    },
    {
     "name": "stderr",
     "output_type": "stream",
     "text": [
      "18:06:47 - cmdstanpy - INFO - Chain [1] start processing\n",
      "18:06:49 - cmdstanpy - INFO - Chain [1] done processing\n"
     ]
    },
    {
     "name": "stdout",
     "output_type": "stream",
     "text": [
      "Procesando registro/orden 1077...\n"
     ]
    },
    {
     "name": "stderr",
     "output_type": "stream",
     "text": [
      "18:06:54 - cmdstanpy - INFO - Chain [1] start processing\n",
      "18:06:55 - cmdstanpy - INFO - Chain [1] done processing\n"
     ]
    },
    {
     "name": "stdout",
     "output_type": "stream",
     "text": [
      "Procesando registro/orden 1078...\n"
     ]
    },
    {
     "name": "stderr",
     "output_type": "stream",
     "text": [
      "18:06:59 - cmdstanpy - INFO - Chain [1] start processing\n",
      "18:07:00 - cmdstanpy - INFO - Chain [1] done processing\n"
     ]
    },
    {
     "name": "stdout",
     "output_type": "stream",
     "text": [
      "Procesando registro/orden 1079...\n"
     ]
    },
    {
     "name": "stderr",
     "output_type": "stream",
     "text": [
      "18:07:04 - cmdstanpy - INFO - Chain [1] start processing\n",
      "18:07:05 - cmdstanpy - INFO - Chain [1] done processing\n"
     ]
    },
    {
     "name": "stdout",
     "output_type": "stream",
     "text": [
      "Procesando registro/orden 1080...\n"
     ]
    },
    {
     "name": "stderr",
     "output_type": "stream",
     "text": [
      "18:07:09 - cmdstanpy - INFO - Chain [1] start processing\n",
      "18:07:09 - cmdstanpy - INFO - Chain [1] done processing\n"
     ]
    },
    {
     "name": "stdout",
     "output_type": "stream",
     "text": [
      "Procesando registro/orden 1081...\n"
     ]
    },
    {
     "name": "stderr",
     "output_type": "stream",
     "text": [
      "18:07:13 - cmdstanpy - INFO - Chain [1] start processing\n",
      "18:07:14 - cmdstanpy - INFO - Chain [1] done processing\n"
     ]
    },
    {
     "name": "stdout",
     "output_type": "stream",
     "text": [
      "Procesando registro/orden 1082...\n"
     ]
    },
    {
     "name": "stderr",
     "output_type": "stream",
     "text": [
      "18:07:19 - cmdstanpy - INFO - Chain [1] start processing\n",
      "18:07:20 - cmdstanpy - INFO - Chain [1] done processing\n"
     ]
    },
    {
     "name": "stdout",
     "output_type": "stream",
     "text": [
      "Procesando registro/orden 1083...\n"
     ]
    },
    {
     "name": "stderr",
     "output_type": "stream",
     "text": [
      "18:07:24 - cmdstanpy - INFO - Chain [1] start processing\n",
      "18:07:25 - cmdstanpy - INFO - Chain [1] done processing\n"
     ]
    },
    {
     "name": "stdout",
     "output_type": "stream",
     "text": [
      "Procesando registro/orden 1084...\n"
     ]
    },
    {
     "name": "stderr",
     "output_type": "stream",
     "text": [
      "18:07:30 - cmdstanpy - INFO - Chain [1] start processing\n",
      "18:07:31 - cmdstanpy - INFO - Chain [1] done processing\n"
     ]
    },
    {
     "name": "stdout",
     "output_type": "stream",
     "text": [
      "Procesando registro/orden 1085...\n"
     ]
    },
    {
     "name": "stderr",
     "output_type": "stream",
     "text": [
      "18:07:35 - cmdstanpy - INFO - Chain [1] start processing\n",
      "18:07:36 - cmdstanpy - INFO - Chain [1] done processing\n"
     ]
    },
    {
     "name": "stdout",
     "output_type": "stream",
     "text": [
      "Procesando registro/orden 1086...\n"
     ]
    },
    {
     "name": "stderr",
     "output_type": "stream",
     "text": [
      "18:07:42 - cmdstanpy - INFO - Chain [1] start processing\n",
      "18:07:44 - cmdstanpy - INFO - Chain [1] done processing\n"
     ]
    },
    {
     "name": "stdout",
     "output_type": "stream",
     "text": [
      "Procesando registro/orden 1087...\n"
     ]
    },
    {
     "name": "stderr",
     "output_type": "stream",
     "text": [
      "18:07:49 - cmdstanpy - INFO - Chain [1] start processing\n",
      "18:07:51 - cmdstanpy - INFO - Chain [1] done processing\n"
     ]
    },
    {
     "name": "stdout",
     "output_type": "stream",
     "text": [
      "Procesando registro/orden 1088...\n"
     ]
    },
    {
     "name": "stderr",
     "output_type": "stream",
     "text": [
      "18:07:56 - cmdstanpy - INFO - Chain [1] start processing\n",
      "18:07:57 - cmdstanpy - INFO - Chain [1] done processing\n"
     ]
    },
    {
     "name": "stdout",
     "output_type": "stream",
     "text": [
      "Procesando registro/orden 1089...\n"
     ]
    },
    {
     "name": "stderr",
     "output_type": "stream",
     "text": [
      "18:08:01 - cmdstanpy - INFO - Chain [1] start processing\n",
      "18:08:02 - cmdstanpy - INFO - Chain [1] done processing\n"
     ]
    },
    {
     "name": "stdout",
     "output_type": "stream",
     "text": [
      "Procesando registro/orden 1090...\n"
     ]
    },
    {
     "name": "stderr",
     "output_type": "stream",
     "text": [
      "18:08:07 - cmdstanpy - INFO - Chain [1] start processing\n",
      "18:08:08 - cmdstanpy - INFO - Chain [1] done processing\n"
     ]
    },
    {
     "name": "stdout",
     "output_type": "stream",
     "text": [
      "Procesando registro/orden 1091...\n"
     ]
    },
    {
     "name": "stderr",
     "output_type": "stream",
     "text": [
      "18:08:12 - cmdstanpy - INFO - Chain [1] start processing\n",
      "18:08:13 - cmdstanpy - INFO - Chain [1] done processing\n"
     ]
    },
    {
     "name": "stdout",
     "output_type": "stream",
     "text": [
      "Procesando registro/orden 1092...\n"
     ]
    },
    {
     "name": "stderr",
     "output_type": "stream",
     "text": [
      "18:08:17 - cmdstanpy - INFO - Chain [1] start processing\n",
      "18:08:18 - cmdstanpy - INFO - Chain [1] done processing\n"
     ]
    },
    {
     "name": "stdout",
     "output_type": "stream",
     "text": [
      "Procesando registro/orden 1093...\n"
     ]
    },
    {
     "name": "stderr",
     "output_type": "stream",
     "text": [
      "18:08:22 - cmdstanpy - INFO - Chain [1] start processing\n",
      "18:08:24 - cmdstanpy - INFO - Chain [1] done processing\n"
     ]
    },
    {
     "name": "stdout",
     "output_type": "stream",
     "text": [
      "Procesando registro/orden 1094...\n"
     ]
    },
    {
     "name": "stderr",
     "output_type": "stream",
     "text": [
      "18:08:29 - cmdstanpy - INFO - Chain [1] start processing\n",
      "18:08:30 - cmdstanpy - INFO - Chain [1] done processing\n"
     ]
    },
    {
     "name": "stdout",
     "output_type": "stream",
     "text": [
      "Procesando registro/orden 1095...\n"
     ]
    },
    {
     "name": "stderr",
     "output_type": "stream",
     "text": [
      "18:08:35 - cmdstanpy - INFO - Chain [1] start processing\n",
      "18:08:36 - cmdstanpy - INFO - Chain [1] done processing\n"
     ]
    },
    {
     "name": "stdout",
     "output_type": "stream",
     "text": [
      "Procesando registro/orden 1096...\n"
     ]
    },
    {
     "name": "stderr",
     "output_type": "stream",
     "text": [
      "18:08:41 - cmdstanpy - INFO - Chain [1] start processing\n",
      "18:08:42 - cmdstanpy - INFO - Chain [1] done processing\n"
     ]
    },
    {
     "name": "stdout",
     "output_type": "stream",
     "text": [
      "Procesando registro/orden 1097...\n"
     ]
    },
    {
     "name": "stderr",
     "output_type": "stream",
     "text": [
      "18:08:46 - cmdstanpy - INFO - Chain [1] start processing\n",
      "18:08:48 - cmdstanpy - INFO - Chain [1] done processing\n"
     ]
    },
    {
     "name": "stdout",
     "output_type": "stream",
     "text": [
      "Procesando registro/orden 1098...\n"
     ]
    },
    {
     "name": "stderr",
     "output_type": "stream",
     "text": [
      "18:08:53 - cmdstanpy - INFO - Chain [1] start processing\n",
      "18:08:54 - cmdstanpy - INFO - Chain [1] done processing\n"
     ]
    },
    {
     "name": "stdout",
     "output_type": "stream",
     "text": [
      "Procesando registro/orden 1099...\n"
     ]
    },
    {
     "name": "stderr",
     "output_type": "stream",
     "text": [
      "18:08:58 - cmdstanpy - INFO - Chain [1] start processing\n",
      "18:09:00 - cmdstanpy - INFO - Chain [1] done processing\n"
     ]
    },
    {
     "name": "stdout",
     "output_type": "stream",
     "text": [
      "Procesando registro/orden 1100...\n"
     ]
    },
    {
     "name": "stderr",
     "output_type": "stream",
     "text": [
      "18:09:04 - cmdstanpy - INFO - Chain [1] start processing\n",
      "18:09:06 - cmdstanpy - INFO - Chain [1] done processing\n"
     ]
    },
    {
     "name": "stdout",
     "output_type": "stream",
     "text": [
      "Procesando registro/orden 1101...\n"
     ]
    },
    {
     "name": "stderr",
     "output_type": "stream",
     "text": [
      "18:09:10 - cmdstanpy - INFO - Chain [1] start processing\n",
      "18:09:11 - cmdstanpy - INFO - Chain [1] done processing\n"
     ]
    },
    {
     "name": "stdout",
     "output_type": "stream",
     "text": [
      "Procesando registro/orden 1102...\n"
     ]
    },
    {
     "name": "stderr",
     "output_type": "stream",
     "text": [
      "18:09:15 - cmdstanpy - INFO - Chain [1] start processing\n",
      "18:09:16 - cmdstanpy - INFO - Chain [1] done processing\n"
     ]
    },
    {
     "name": "stdout",
     "output_type": "stream",
     "text": [
      "Procesando registro/orden 1103...\n"
     ]
    },
    {
     "name": "stderr",
     "output_type": "stream",
     "text": [
      "18:09:21 - cmdstanpy - INFO - Chain [1] start processing\n",
      "18:09:22 - cmdstanpy - INFO - Chain [1] done processing\n"
     ]
    },
    {
     "name": "stdout",
     "output_type": "stream",
     "text": [
      "Procesando registro/orden 1104...\n"
     ]
    },
    {
     "name": "stderr",
     "output_type": "stream",
     "text": [
      "18:09:27 - cmdstanpy - INFO - Chain [1] start processing\n",
      "18:09:29 - cmdstanpy - INFO - Chain [1] done processing\n"
     ]
    },
    {
     "name": "stdout",
     "output_type": "stream",
     "text": [
      "Procesando registro/orden 1105...\n"
     ]
    },
    {
     "name": "stderr",
     "output_type": "stream",
     "text": [
      "18:09:34 - cmdstanpy - INFO - Chain [1] start processing\n",
      "18:09:35 - cmdstanpy - INFO - Chain [1] done processing\n"
     ]
    },
    {
     "name": "stdout",
     "output_type": "stream",
     "text": [
      "Procesando registro/orden 1106...\n"
     ]
    },
    {
     "name": "stderr",
     "output_type": "stream",
     "text": [
      "18:09:39 - cmdstanpy - INFO - Chain [1] start processing\n",
      "18:09:41 - cmdstanpy - INFO - Chain [1] done processing\n"
     ]
    },
    {
     "name": "stdout",
     "output_type": "stream",
     "text": [
      "Procesando registro/orden 1107...\n"
     ]
    },
    {
     "name": "stderr",
     "output_type": "stream",
     "text": [
      "18:09:44 - cmdstanpy - INFO - Chain [1] start processing\n",
      "18:09:46 - cmdstanpy - INFO - Chain [1] done processing\n"
     ]
    },
    {
     "name": "stdout",
     "output_type": "stream",
     "text": [
      "Procesando registro/orden 1108...\n"
     ]
    },
    {
     "name": "stderr",
     "output_type": "stream",
     "text": [
      "18:09:50 - cmdstanpy - INFO - Chain [1] start processing\n",
      "18:09:51 - cmdstanpy - INFO - Chain [1] done processing\n"
     ]
    },
    {
     "name": "stdout",
     "output_type": "stream",
     "text": [
      "Procesando registro/orden 1109...\n"
     ]
    },
    {
     "name": "stderr",
     "output_type": "stream",
     "text": [
      "18:09:56 - cmdstanpy - INFO - Chain [1] start processing\n",
      "18:09:58 - cmdstanpy - INFO - Chain [1] done processing\n"
     ]
    },
    {
     "name": "stdout",
     "output_type": "stream",
     "text": [
      "Procesando registro/orden 1110...\n"
     ]
    },
    {
     "name": "stderr",
     "output_type": "stream",
     "text": [
      "18:10:04 - cmdstanpy - INFO - Chain [1] start processing\n",
      "18:10:06 - cmdstanpy - INFO - Chain [1] done processing\n"
     ]
    },
    {
     "name": "stdout",
     "output_type": "stream",
     "text": [
      "Procesando registro/orden 1111...\n"
     ]
    },
    {
     "name": "stderr",
     "output_type": "stream",
     "text": [
      "18:10:11 - cmdstanpy - INFO - Chain [1] start processing\n",
      "18:10:12 - cmdstanpy - INFO - Chain [1] done processing\n"
     ]
    },
    {
     "name": "stdout",
     "output_type": "stream",
     "text": [
      "Procesando registro/orden 1112...\n"
     ]
    },
    {
     "name": "stderr",
     "output_type": "stream",
     "text": [
      "18:10:17 - cmdstanpy - INFO - Chain [1] start processing\n",
      "18:10:18 - cmdstanpy - INFO - Chain [1] done processing\n"
     ]
    },
    {
     "name": "stdout",
     "output_type": "stream",
     "text": [
      "Procesando registro/orden 1113...\n"
     ]
    },
    {
     "name": "stderr",
     "output_type": "stream",
     "text": [
      "18:10:23 - cmdstanpy - INFO - Chain [1] start processing\n",
      "18:10:24 - cmdstanpy - INFO - Chain [1] done processing\n"
     ]
    },
    {
     "name": "stdout",
     "output_type": "stream",
     "text": [
      "Procesando registro/orden 1114...\n"
     ]
    },
    {
     "name": "stderr",
     "output_type": "stream",
     "text": [
      "18:10:29 - cmdstanpy - INFO - Chain [1] start processing\n",
      "18:10:30 - cmdstanpy - INFO - Chain [1] done processing\n"
     ]
    },
    {
     "name": "stdout",
     "output_type": "stream",
     "text": [
      "Procesando registro/orden 1115...\n"
     ]
    },
    {
     "name": "stderr",
     "output_type": "stream",
     "text": [
      "18:10:35 - cmdstanpy - INFO - Chain [1] start processing\n",
      "18:10:37 - cmdstanpy - INFO - Chain [1] done processing\n"
     ]
    },
    {
     "name": "stdout",
     "output_type": "stream",
     "text": [
      "Procesando registro/orden 1116...\n"
     ]
    },
    {
     "name": "stderr",
     "output_type": "stream",
     "text": [
      "18:10:40 - cmdstanpy - INFO - Chain [1] start processing\n",
      "18:10:41 - cmdstanpy - INFO - Chain [1] done processing\n"
     ]
    },
    {
     "name": "stdout",
     "output_type": "stream",
     "text": [
      "Procesando registro/orden 1117...\n"
     ]
    },
    {
     "name": "stderr",
     "output_type": "stream",
     "text": [
      "18:10:46 - cmdstanpy - INFO - Chain [1] start processing\n",
      "18:10:47 - cmdstanpy - INFO - Chain [1] done processing\n"
     ]
    },
    {
     "name": "stdout",
     "output_type": "stream",
     "text": [
      "Procesando registro/orden 1118...\n"
     ]
    },
    {
     "name": "stderr",
     "output_type": "stream",
     "text": [
      "18:10:52 - cmdstanpy - INFO - Chain [1] start processing\n",
      "18:10:54 - cmdstanpy - INFO - Chain [1] done processing\n"
     ]
    },
    {
     "name": "stdout",
     "output_type": "stream",
     "text": [
      "Procesando registro/orden 1119...\n"
     ]
    },
    {
     "name": "stderr",
     "output_type": "stream",
     "text": [
      "18:10:58 - cmdstanpy - INFO - Chain [1] start processing\n",
      "18:10:59 - cmdstanpy - INFO - Chain [1] done processing\n"
     ]
    },
    {
     "name": "stdout",
     "output_type": "stream",
     "text": [
      "Procesando registro/orden 1120...\n"
     ]
    },
    {
     "name": "stderr",
     "output_type": "stream",
     "text": [
      "18:11:04 - cmdstanpy - INFO - Chain [1] start processing\n",
      "18:11:04 - cmdstanpy - INFO - Chain [1] done processing\n"
     ]
    },
    {
     "name": "stdout",
     "output_type": "stream",
     "text": [
      "Procesando registro/orden 1121...\n"
     ]
    },
    {
     "name": "stderr",
     "output_type": "stream",
     "text": [
      "18:11:08 - cmdstanpy - INFO - Chain [1] start processing\n",
      "18:11:09 - cmdstanpy - INFO - Chain [1] done processing\n"
     ]
    },
    {
     "name": "stdout",
     "output_type": "stream",
     "text": [
      "Procesando registro/orden 1122...\n"
     ]
    },
    {
     "name": "stderr",
     "output_type": "stream",
     "text": [
      "18:11:13 - cmdstanpy - INFO - Chain [1] start processing\n",
      "18:11:14 - cmdstanpy - INFO - Chain [1] done processing\n"
     ]
    },
    {
     "name": "stdout",
     "output_type": "stream",
     "text": [
      "Procesando registro/orden 1123...\n"
     ]
    },
    {
     "name": "stderr",
     "output_type": "stream",
     "text": [
      "18:11:19 - cmdstanpy - INFO - Chain [1] start processing\n",
      "18:11:20 - cmdstanpy - INFO - Chain [1] done processing\n"
     ]
    },
    {
     "name": "stdout",
     "output_type": "stream",
     "text": [
      "Procesando registro/orden 1124...\n"
     ]
    },
    {
     "name": "stderr",
     "output_type": "stream",
     "text": [
      "18:11:25 - cmdstanpy - INFO - Chain [1] start processing\n",
      "18:11:26 - cmdstanpy - INFO - Chain [1] done processing\n"
     ]
    },
    {
     "name": "stdout",
     "output_type": "stream",
     "text": [
      "Procesando registro/orden 1125...\n"
     ]
    },
    {
     "name": "stderr",
     "output_type": "stream",
     "text": [
      "18:11:30 - cmdstanpy - INFO - Chain [1] start processing\n",
      "18:11:31 - cmdstanpy - INFO - Chain [1] done processing\n"
     ]
    },
    {
     "name": "stdout",
     "output_type": "stream",
     "text": [
      "Procesando registro/orden 1126...\n"
     ]
    },
    {
     "name": "stderr",
     "output_type": "stream",
     "text": [
      "18:11:36 - cmdstanpy - INFO - Chain [1] start processing\n",
      "18:11:37 - cmdstanpy - INFO - Chain [1] done processing\n"
     ]
    },
    {
     "name": "stdout",
     "output_type": "stream",
     "text": [
      "Procesando registro/orden 1127...\n"
     ]
    },
    {
     "name": "stderr",
     "output_type": "stream",
     "text": [
      "18:11:42 - cmdstanpy - INFO - Chain [1] start processing\n",
      "18:11:43 - cmdstanpy - INFO - Chain [1] done processing\n"
     ]
    },
    {
     "name": "stdout",
     "output_type": "stream",
     "text": [
      "Procesando registro/orden 1128...\n"
     ]
    },
    {
     "name": "stderr",
     "output_type": "stream",
     "text": [
      "18:11:47 - cmdstanpy - INFO - Chain [1] start processing\n",
      "18:11:48 - cmdstanpy - INFO - Chain [1] done processing\n"
     ]
    },
    {
     "name": "stdout",
     "output_type": "stream",
     "text": [
      "Procesando registro/orden 1129...\n"
     ]
    },
    {
     "name": "stderr",
     "output_type": "stream",
     "text": [
      "18:11:52 - cmdstanpy - INFO - Chain [1] start processing\n",
      "18:11:53 - cmdstanpy - INFO - Chain [1] done processing\n"
     ]
    },
    {
     "name": "stdout",
     "output_type": "stream",
     "text": [
      "Procesando registro/orden 1130...\n"
     ]
    },
    {
     "name": "stderr",
     "output_type": "stream",
     "text": [
      "18:11:58 - cmdstanpy - INFO - Chain [1] start processing\n",
      "18:11:59 - cmdstanpy - INFO - Chain [1] done processing\n"
     ]
    },
    {
     "name": "stdout",
     "output_type": "stream",
     "text": [
      "Procesando registro/orden 1131...\n"
     ]
    },
    {
     "name": "stderr",
     "output_type": "stream",
     "text": [
      "18:12:04 - cmdstanpy - INFO - Chain [1] start processing\n",
      "18:12:05 - cmdstanpy - INFO - Chain [1] done processing\n"
     ]
    },
    {
     "name": "stdout",
     "output_type": "stream",
     "text": [
      "Procesando registro/orden 1132...\n"
     ]
    },
    {
     "name": "stderr",
     "output_type": "stream",
     "text": [
      "18:12:11 - cmdstanpy - INFO - Chain [1] start processing\n",
      "18:12:12 - cmdstanpy - INFO - Chain [1] done processing\n"
     ]
    },
    {
     "name": "stdout",
     "output_type": "stream",
     "text": [
      "Procesando registro/orden 1133...\n"
     ]
    },
    {
     "name": "stderr",
     "output_type": "stream",
     "text": [
      "18:12:16 - cmdstanpy - INFO - Chain [1] start processing\n",
      "18:12:17 - cmdstanpy - INFO - Chain [1] done processing\n"
     ]
    },
    {
     "name": "stdout",
     "output_type": "stream",
     "text": [
      "Procesando registro/orden 1134...\n"
     ]
    },
    {
     "name": "stderr",
     "output_type": "stream",
     "text": [
      "18:12:21 - cmdstanpy - INFO - Chain [1] start processing\n",
      "18:12:22 - cmdstanpy - INFO - Chain [1] done processing\n"
     ]
    },
    {
     "name": "stdout",
     "output_type": "stream",
     "text": [
      "Procesando registro/orden 1135...\n"
     ]
    },
    {
     "name": "stderr",
     "output_type": "stream",
     "text": [
      "18:12:27 - cmdstanpy - INFO - Chain [1] start processing\n",
      "18:12:28 - cmdstanpy - INFO - Chain [1] done processing\n"
     ]
    },
    {
     "name": "stdout",
     "output_type": "stream",
     "text": [
      "Procesando registro/orden 1136...\n"
     ]
    },
    {
     "name": "stderr",
     "output_type": "stream",
     "text": [
      "18:12:32 - cmdstanpy - INFO - Chain [1] start processing\n",
      "18:12:33 - cmdstanpy - INFO - Chain [1] done processing\n"
     ]
    },
    {
     "name": "stdout",
     "output_type": "stream",
     "text": [
      "Procesando registro/orden 1137...\n"
     ]
    },
    {
     "name": "stderr",
     "output_type": "stream",
     "text": [
      "18:12:37 - cmdstanpy - INFO - Chain [1] start processing\n",
      "18:12:38 - cmdstanpy - INFO - Chain [1] done processing\n"
     ]
    },
    {
     "name": "stdout",
     "output_type": "stream",
     "text": [
      "Procesando registro/orden 1138...\n"
     ]
    },
    {
     "name": "stderr",
     "output_type": "stream",
     "text": [
      "18:12:43 - cmdstanpy - INFO - Chain [1] start processing\n",
      "18:12:44 - cmdstanpy - INFO - Chain [1] done processing\n"
     ]
    },
    {
     "name": "stdout",
     "output_type": "stream",
     "text": [
      "Procesando registro/orden 1139...\n"
     ]
    },
    {
     "name": "stderr",
     "output_type": "stream",
     "text": [
      "18:12:49 - cmdstanpy - INFO - Chain [1] start processing\n",
      "18:12:50 - cmdstanpy - INFO - Chain [1] done processing\n"
     ]
    },
    {
     "name": "stdout",
     "output_type": "stream",
     "text": [
      "Procesando registro/orden 1140...\n"
     ]
    },
    {
     "name": "stderr",
     "output_type": "stream",
     "text": [
      "18:12:54 - cmdstanpy - INFO - Chain [1] start processing\n",
      "18:12:55 - cmdstanpy - INFO - Chain [1] done processing\n"
     ]
    },
    {
     "name": "stdout",
     "output_type": "stream",
     "text": [
      "Procesando registro/orden 1141...\n"
     ]
    },
    {
     "name": "stderr",
     "output_type": "stream",
     "text": [
      "18:13:00 - cmdstanpy - INFO - Chain [1] start processing\n",
      "18:13:01 - cmdstanpy - INFO - Chain [1] done processing\n"
     ]
    },
    {
     "name": "stdout",
     "output_type": "stream",
     "text": [
      "Procesando registro/orden 1142...\n"
     ]
    },
    {
     "name": "stderr",
     "output_type": "stream",
     "text": [
      "18:13:06 - cmdstanpy - INFO - Chain [1] start processing\n",
      "18:13:06 - cmdstanpy - INFO - Chain [1] done processing\n"
     ]
    },
    {
     "name": "stdout",
     "output_type": "stream",
     "text": [
      "Procesando registro/orden 1143...\n"
     ]
    },
    {
     "name": "stderr",
     "output_type": "stream",
     "text": [
      "18:13:11 - cmdstanpy - INFO - Chain [1] start processing\n",
      "18:13:12 - cmdstanpy - INFO - Chain [1] done processing\n"
     ]
    },
    {
     "name": "stdout",
     "output_type": "stream",
     "text": [
      "Procesando registro/orden 1144...\n"
     ]
    },
    {
     "name": "stderr",
     "output_type": "stream",
     "text": [
      "18:13:18 - cmdstanpy - INFO - Chain [1] start processing\n",
      "18:13:19 - cmdstanpy - INFO - Chain [1] done processing\n"
     ]
    },
    {
     "name": "stdout",
     "output_type": "stream",
     "text": [
      "Procesando registro/orden 1145...\n"
     ]
    },
    {
     "name": "stderr",
     "output_type": "stream",
     "text": [
      "18:13:25 - cmdstanpy - INFO - Chain [1] start processing\n",
      "18:13:26 - cmdstanpy - INFO - Chain [1] done processing\n"
     ]
    },
    {
     "name": "stdout",
     "output_type": "stream",
     "text": [
      "Procesando registro/orden 1146...\n"
     ]
    },
    {
     "name": "stderr",
     "output_type": "stream",
     "text": [
      "18:13:31 - cmdstanpy - INFO - Chain [1] start processing\n",
      "18:13:33 - cmdstanpy - INFO - Chain [1] done processing\n"
     ]
    },
    {
     "name": "stdout",
     "output_type": "stream",
     "text": [
      "Procesando registro/orden 1147...\n"
     ]
    },
    {
     "name": "stderr",
     "output_type": "stream",
     "text": [
      "18:13:37 - cmdstanpy - INFO - Chain [1] start processing\n",
      "18:13:39 - cmdstanpy - INFO - Chain [1] done processing\n"
     ]
    },
    {
     "name": "stdout",
     "output_type": "stream",
     "text": [
      "Procesando registro/orden 1148...\n"
     ]
    },
    {
     "name": "stderr",
     "output_type": "stream",
     "text": [
      "18:13:44 - cmdstanpy - INFO - Chain [1] start processing\n",
      "18:13:45 - cmdstanpy - INFO - Chain [1] done processing\n"
     ]
    },
    {
     "name": "stdout",
     "output_type": "stream",
     "text": [
      "Procesando registro/orden 1149...\n"
     ]
    },
    {
     "name": "stderr",
     "output_type": "stream",
     "text": [
      "18:13:49 - cmdstanpy - INFO - Chain [1] start processing\n",
      "18:13:50 - cmdstanpy - INFO - Chain [1] done processing\n"
     ]
    },
    {
     "name": "stdout",
     "output_type": "stream",
     "text": [
      "Procesando registro/orden 1150...\n"
     ]
    },
    {
     "name": "stderr",
     "output_type": "stream",
     "text": [
      "18:13:55 - cmdstanpy - INFO - Chain [1] start processing\n",
      "18:13:56 - cmdstanpy - INFO - Chain [1] done processing\n"
     ]
    },
    {
     "name": "stdout",
     "output_type": "stream",
     "text": [
      "Procesando registro/orden 1151...\n"
     ]
    },
    {
     "name": "stderr",
     "output_type": "stream",
     "text": [
      "18:14:01 - cmdstanpy - INFO - Chain [1] start processing\n",
      "18:14:02 - cmdstanpy - INFO - Chain [1] done processing\n"
     ]
    },
    {
     "name": "stdout",
     "output_type": "stream",
     "text": [
      "Procesando registro/orden 1152...\n"
     ]
    },
    {
     "name": "stderr",
     "output_type": "stream",
     "text": [
      "18:14:06 - cmdstanpy - INFO - Chain [1] start processing\n",
      "18:14:08 - cmdstanpy - INFO - Chain [1] done processing\n"
     ]
    },
    {
     "name": "stdout",
     "output_type": "stream",
     "text": [
      "Procesando registro/orden 1153...\n"
     ]
    },
    {
     "name": "stderr",
     "output_type": "stream",
     "text": [
      "18:14:12 - cmdstanpy - INFO - Chain [1] start processing\n",
      "18:14:13 - cmdstanpy - INFO - Chain [1] done processing\n"
     ]
    },
    {
     "name": "stdout",
     "output_type": "stream",
     "text": [
      "Procesando registro/orden 1154...\n"
     ]
    },
    {
     "name": "stderr",
     "output_type": "stream",
     "text": [
      "18:14:17 - cmdstanpy - INFO - Chain [1] start processing\n",
      "18:14:18 - cmdstanpy - INFO - Chain [1] done processing\n"
     ]
    },
    {
     "name": "stdout",
     "output_type": "stream",
     "text": [
      "Procesando registro/orden 1155...\n"
     ]
    },
    {
     "name": "stderr",
     "output_type": "stream",
     "text": [
      "18:14:22 - cmdstanpy - INFO - Chain [1] start processing\n",
      "18:14:23 - cmdstanpy - INFO - Chain [1] done processing\n"
     ]
    },
    {
     "name": "stdout",
     "output_type": "stream",
     "text": [
      "Procesando registro/orden 1156...\n"
     ]
    },
    {
     "name": "stderr",
     "output_type": "stream",
     "text": [
      "18:14:28 - cmdstanpy - INFO - Chain [1] start processing\n",
      "18:14:30 - cmdstanpy - INFO - Chain [1] done processing\n"
     ]
    },
    {
     "name": "stdout",
     "output_type": "stream",
     "text": [
      "Procesando registro/orden 1157...\n"
     ]
    },
    {
     "name": "stderr",
     "output_type": "stream",
     "text": [
      "18:14:35 - cmdstanpy - INFO - Chain [1] start processing\n",
      "18:14:36 - cmdstanpy - INFO - Chain [1] done processing\n"
     ]
    },
    {
     "name": "stdout",
     "output_type": "stream",
     "text": [
      "Procesando registro/orden 1158...\n"
     ]
    },
    {
     "name": "stderr",
     "output_type": "stream",
     "text": [
      "18:14:40 - cmdstanpy - INFO - Chain [1] start processing\n",
      "18:14:42 - cmdstanpy - INFO - Chain [1] done processing\n"
     ]
    },
    {
     "name": "stdout",
     "output_type": "stream",
     "text": [
      "Procesando registro/orden 1159...\n"
     ]
    },
    {
     "name": "stderr",
     "output_type": "stream",
     "text": [
      "18:14:47 - cmdstanpy - INFO - Chain [1] start processing\n",
      "18:14:49 - cmdstanpy - INFO - Chain [1] done processing\n"
     ]
    },
    {
     "name": "stdout",
     "output_type": "stream",
     "text": [
      "Procesando registro/orden 1160...\n"
     ]
    },
    {
     "name": "stderr",
     "output_type": "stream",
     "text": [
      "18:14:53 - cmdstanpy - INFO - Chain [1] start processing\n",
      "18:14:54 - cmdstanpy - INFO - Chain [1] done processing\n"
     ]
    },
    {
     "name": "stdout",
     "output_type": "stream",
     "text": [
      "Procesando registro/orden 1161...\n"
     ]
    },
    {
     "name": "stderr",
     "output_type": "stream",
     "text": [
      "18:14:59 - cmdstanpy - INFO - Chain [1] start processing\n",
      "18:15:00 - cmdstanpy - INFO - Chain [1] done processing\n"
     ]
    },
    {
     "name": "stdout",
     "output_type": "stream",
     "text": [
      "Procesando registro/orden 1162...\n"
     ]
    },
    {
     "name": "stderr",
     "output_type": "stream",
     "text": [
      "18:15:05 - cmdstanpy - INFO - Chain [1] start processing\n",
      "18:15:07 - cmdstanpy - INFO - Chain [1] done processing\n"
     ]
    },
    {
     "name": "stdout",
     "output_type": "stream",
     "text": [
      "Procesando registro/orden 1163...\n"
     ]
    },
    {
     "name": "stderr",
     "output_type": "stream",
     "text": [
      "18:15:11 - cmdstanpy - INFO - Chain [1] start processing\n",
      "18:15:12 - cmdstanpy - INFO - Chain [1] done processing\n"
     ]
    },
    {
     "name": "stdout",
     "output_type": "stream",
     "text": [
      "Procesando registro/orden 1164...\n"
     ]
    },
    {
     "name": "stderr",
     "output_type": "stream",
     "text": [
      "18:15:17 - cmdstanpy - INFO - Chain [1] start processing\n",
      "18:15:18 - cmdstanpy - INFO - Chain [1] done processing\n"
     ]
    },
    {
     "name": "stdout",
     "output_type": "stream",
     "text": [
      "Procesando registro/orden 1165...\n"
     ]
    },
    {
     "name": "stderr",
     "output_type": "stream",
     "text": [
      "18:15:21 - cmdstanpy - INFO - Chain [1] start processing\n",
      "18:15:22 - cmdstanpy - INFO - Chain [1] done processing\n"
     ]
    },
    {
     "name": "stdout",
     "output_type": "stream",
     "text": [
      "Procesando registro/orden 1166...\n"
     ]
    },
    {
     "name": "stderr",
     "output_type": "stream",
     "text": [
      "18:15:28 - cmdstanpy - INFO - Chain [1] start processing\n",
      "18:15:29 - cmdstanpy - INFO - Chain [1] done processing\n"
     ]
    },
    {
     "name": "stdout",
     "output_type": "stream",
     "text": [
      "Procesando registro/orden 1167...\n"
     ]
    },
    {
     "name": "stderr",
     "output_type": "stream",
     "text": [
      "18:15:35 - cmdstanpy - INFO - Chain [1] start processing\n",
      "18:15:36 - cmdstanpy - INFO - Chain [1] done processing\n"
     ]
    },
    {
     "name": "stdout",
     "output_type": "stream",
     "text": [
      "Procesando registro/orden 1168...\n"
     ]
    },
    {
     "name": "stderr",
     "output_type": "stream",
     "text": [
      "18:15:41 - cmdstanpy - INFO - Chain [1] start processing\n",
      "18:15:43 - cmdstanpy - INFO - Chain [1] done processing\n"
     ]
    },
    {
     "name": "stdout",
     "output_type": "stream",
     "text": [
      "Procesando registro/orden 1169...\n"
     ]
    },
    {
     "name": "stderr",
     "output_type": "stream",
     "text": [
      "18:15:48 - cmdstanpy - INFO - Chain [1] start processing\n",
      "18:15:50 - cmdstanpy - INFO - Chain [1] done processing\n"
     ]
    },
    {
     "name": "stdout",
     "output_type": "stream",
     "text": [
      "Procesando registro/orden 1170...\n"
     ]
    },
    {
     "name": "stderr",
     "output_type": "stream",
     "text": [
      "18:15:54 - cmdstanpy - INFO - Chain [1] start processing\n",
      "18:15:55 - cmdstanpy - INFO - Chain [1] done processing\n"
     ]
    },
    {
     "name": "stdout",
     "output_type": "stream",
     "text": [
      "Procesando registro/orden 1171...\n"
     ]
    },
    {
     "name": "stderr",
     "output_type": "stream",
     "text": [
      "18:16:00 - cmdstanpy - INFO - Chain [1] start processing\n",
      "18:16:01 - cmdstanpy - INFO - Chain [1] done processing\n"
     ]
    },
    {
     "name": "stdout",
     "output_type": "stream",
     "text": [
      "Procesando registro/orden 1172...\n"
     ]
    },
    {
     "name": "stderr",
     "output_type": "stream",
     "text": [
      "18:16:04 - cmdstanpy - INFO - Chain [1] start processing\n",
      "18:16:06 - cmdstanpy - INFO - Chain [1] done processing\n"
     ]
    },
    {
     "name": "stdout",
     "output_type": "stream",
     "text": [
      "Procesando registro/orden 1173...\n"
     ]
    },
    {
     "name": "stderr",
     "output_type": "stream",
     "text": [
      "18:16:10 - cmdstanpy - INFO - Chain [1] start processing\n",
      "18:16:11 - cmdstanpy - INFO - Chain [1] done processing\n"
     ]
    },
    {
     "name": "stdout",
     "output_type": "stream",
     "text": [
      "Procesando registro/orden 1174...\n"
     ]
    },
    {
     "name": "stderr",
     "output_type": "stream",
     "text": [
      "18:16:17 - cmdstanpy - INFO - Chain [1] start processing\n",
      "18:16:18 - cmdstanpy - INFO - Chain [1] done processing\n"
     ]
    },
    {
     "name": "stdout",
     "output_type": "stream",
     "text": [
      "Procesando registro/orden 1175...\n"
     ]
    },
    {
     "name": "stderr",
     "output_type": "stream",
     "text": [
      "18:16:23 - cmdstanpy - INFO - Chain [1] start processing\n",
      "18:16:24 - cmdstanpy - INFO - Chain [1] done processing\n"
     ]
    },
    {
     "name": "stdout",
     "output_type": "stream",
     "text": [
      "Procesando registro/orden 1176...\n"
     ]
    },
    {
     "name": "stderr",
     "output_type": "stream",
     "text": [
      "18:16:28 - cmdstanpy - INFO - Chain [1] start processing\n",
      "18:16:29 - cmdstanpy - INFO - Chain [1] done processing\n"
     ]
    },
    {
     "name": "stdout",
     "output_type": "stream",
     "text": [
      "Procesando registro/orden 1177...\n"
     ]
    },
    {
     "name": "stderr",
     "output_type": "stream",
     "text": [
      "18:16:34 - cmdstanpy - INFO - Chain [1] start processing\n",
      "18:16:36 - cmdstanpy - INFO - Chain [1] done processing\n"
     ]
    },
    {
     "name": "stdout",
     "output_type": "stream",
     "text": [
      "Procesando registro/orden 1178...\n"
     ]
    },
    {
     "name": "stderr",
     "output_type": "stream",
     "text": [
      "18:16:40 - cmdstanpy - INFO - Chain [1] start processing\n",
      "18:16:41 - cmdstanpy - INFO - Chain [1] done processing\n"
     ]
    },
    {
     "name": "stdout",
     "output_type": "stream",
     "text": [
      "Procesando registro/orden 1179...\n"
     ]
    },
    {
     "name": "stderr",
     "output_type": "stream",
     "text": [
      "18:16:45 - cmdstanpy - INFO - Chain [1] start processing\n",
      "18:16:46 - cmdstanpy - INFO - Chain [1] done processing\n"
     ]
    },
    {
     "name": "stdout",
     "output_type": "stream",
     "text": [
      "Procesando registro/orden 1180...\n"
     ]
    },
    {
     "name": "stderr",
     "output_type": "stream",
     "text": [
      "18:16:51 - cmdstanpy - INFO - Chain [1] start processing\n",
      "18:16:53 - cmdstanpy - INFO - Chain [1] done processing\n"
     ]
    },
    {
     "name": "stdout",
     "output_type": "stream",
     "text": [
      "Procesando registro/orden 1181...\n"
     ]
    },
    {
     "name": "stderr",
     "output_type": "stream",
     "text": [
      "18:16:57 - cmdstanpy - INFO - Chain [1] start processing\n",
      "18:16:59 - cmdstanpy - INFO - Chain [1] done processing\n"
     ]
    },
    {
     "name": "stdout",
     "output_type": "stream",
     "text": [
      "Procesando registro/orden 1182...\n"
     ]
    },
    {
     "name": "stderr",
     "output_type": "stream",
     "text": [
      "18:17:03 - cmdstanpy - INFO - Chain [1] start processing\n",
      "18:17:04 - cmdstanpy - INFO - Chain [1] done processing\n"
     ]
    },
    {
     "name": "stdout",
     "output_type": "stream",
     "text": [
      "Procesando registro/orden 1183...\n"
     ]
    },
    {
     "name": "stderr",
     "output_type": "stream",
     "text": [
      "18:17:08 - cmdstanpy - INFO - Chain [1] start processing\n",
      "18:17:09 - cmdstanpy - INFO - Chain [1] done processing\n"
     ]
    },
    {
     "name": "stdout",
     "output_type": "stream",
     "text": [
      "Procesando registro/orden 1184...\n"
     ]
    },
    {
     "name": "stderr",
     "output_type": "stream",
     "text": [
      "18:17:13 - cmdstanpy - INFO - Chain [1] start processing\n",
      "18:17:14 - cmdstanpy - INFO - Chain [1] done processing\n"
     ]
    },
    {
     "name": "stdout",
     "output_type": "stream",
     "text": [
      "Procesando registro/orden 1185...\n"
     ]
    },
    {
     "name": "stderr",
     "output_type": "stream",
     "text": [
      "18:17:18 - cmdstanpy - INFO - Chain [1] start processing\n",
      "18:17:20 - cmdstanpy - INFO - Chain [1] done processing\n"
     ]
    },
    {
     "name": "stdout",
     "output_type": "stream",
     "text": [
      "Procesando registro/orden 1186...\n"
     ]
    },
    {
     "name": "stderr",
     "output_type": "stream",
     "text": [
      "18:17:24 - cmdstanpy - INFO - Chain [1] start processing\n",
      "18:17:25 - cmdstanpy - INFO - Chain [1] done processing\n"
     ]
    },
    {
     "name": "stdout",
     "output_type": "stream",
     "text": [
      "Procesando registro/orden 1187...\n"
     ]
    },
    {
     "name": "stderr",
     "output_type": "stream",
     "text": [
      "18:17:29 - cmdstanpy - INFO - Chain [1] start processing\n",
      "18:17:30 - cmdstanpy - INFO - Chain [1] done processing\n"
     ]
    },
    {
     "name": "stdout",
     "output_type": "stream",
     "text": [
      "Procesando registro/orden 1188...\n"
     ]
    },
    {
     "name": "stderr",
     "output_type": "stream",
     "text": [
      "18:17:35 - cmdstanpy - INFO - Chain [1] start processing\n",
      "18:17:36 - cmdstanpy - INFO - Chain [1] done processing\n"
     ]
    },
    {
     "name": "stdout",
     "output_type": "stream",
     "text": [
      "Procesando registro/orden 1189...\n"
     ]
    },
    {
     "name": "stderr",
     "output_type": "stream",
     "text": [
      "18:17:40 - cmdstanpy - INFO - Chain [1] start processing\n",
      "18:17:41 - cmdstanpy - INFO - Chain [1] done processing\n"
     ]
    },
    {
     "name": "stdout",
     "output_type": "stream",
     "text": [
      "Procesando registro/orden 1190...\n"
     ]
    },
    {
     "name": "stderr",
     "output_type": "stream",
     "text": [
      "18:17:46 - cmdstanpy - INFO - Chain [1] start processing\n",
      "18:17:46 - cmdstanpy - INFO - Chain [1] done processing\n"
     ]
    },
    {
     "name": "stdout",
     "output_type": "stream",
     "text": [
      "Procesando registro/orden 1191...\n"
     ]
    },
    {
     "name": "stderr",
     "output_type": "stream",
     "text": [
      "18:17:50 - cmdstanpy - INFO - Chain [1] start processing\n",
      "18:17:51 - cmdstanpy - INFO - Chain [1] done processing\n"
     ]
    },
    {
     "name": "stdout",
     "output_type": "stream",
     "text": [
      "Procesando registro/orden 1192...\n"
     ]
    },
    {
     "name": "stderr",
     "output_type": "stream",
     "text": [
      "18:17:55 - cmdstanpy - INFO - Chain [1] start processing\n",
      "18:17:56 - cmdstanpy - INFO - Chain [1] done processing\n"
     ]
    },
    {
     "name": "stdout",
     "output_type": "stream",
     "text": [
      "Procesando registro/orden 1193...\n"
     ]
    },
    {
     "name": "stderr",
     "output_type": "stream",
     "text": [
      "18:18:01 - cmdstanpy - INFO - Chain [1] start processing\n",
      "18:18:02 - cmdstanpy - INFO - Chain [1] done processing\n"
     ]
    },
    {
     "name": "stdout",
     "output_type": "stream",
     "text": [
      "Procesando registro/orden 1194...\n"
     ]
    },
    {
     "name": "stderr",
     "output_type": "stream",
     "text": [
      "18:18:07 - cmdstanpy - INFO - Chain [1] start processing\n",
      "18:18:08 - cmdstanpy - INFO - Chain [1] done processing\n"
     ]
    },
    {
     "name": "stdout",
     "output_type": "stream",
     "text": [
      "Procesando registro/orden 1195...\n"
     ]
    },
    {
     "name": "stderr",
     "output_type": "stream",
     "text": [
      "18:18:13 - cmdstanpy - INFO - Chain [1] start processing\n",
      "18:18:14 - cmdstanpy - INFO - Chain [1] done processing\n"
     ]
    },
    {
     "name": "stdout",
     "output_type": "stream",
     "text": [
      "Procesando registro/orden 1196...\n"
     ]
    },
    {
     "name": "stderr",
     "output_type": "stream",
     "text": [
      "18:18:20 - cmdstanpy - INFO - Chain [1] start processing\n",
      "18:18:21 - cmdstanpy - INFO - Chain [1] done processing\n"
     ]
    },
    {
     "name": "stdout",
     "output_type": "stream",
     "text": [
      "Procesando registro/orden 1197...\n"
     ]
    },
    {
     "name": "stderr",
     "output_type": "stream",
     "text": [
      "18:18:25 - cmdstanpy - INFO - Chain [1] start processing\n",
      "18:18:26 - cmdstanpy - INFO - Chain [1] done processing\n"
     ]
    },
    {
     "name": "stdout",
     "output_type": "stream",
     "text": [
      "Procesando registro/orden 1198...\n"
     ]
    },
    {
     "name": "stderr",
     "output_type": "stream",
     "text": [
      "18:18:32 - cmdstanpy - INFO - Chain [1] start processing\n",
      "18:18:33 - cmdstanpy - INFO - Chain [1] done processing\n"
     ]
    },
    {
     "name": "stdout",
     "output_type": "stream",
     "text": [
      "Procesando registro/orden 1199...\n"
     ]
    },
    {
     "name": "stderr",
     "output_type": "stream",
     "text": [
      "18:18:37 - cmdstanpy - INFO - Chain [1] start processing\n",
      "18:18:38 - cmdstanpy - INFO - Chain [1] done processing\n"
     ]
    },
    {
     "name": "stdout",
     "output_type": "stream",
     "text": [
      "Procesando registro/orden 1200...\n"
     ]
    },
    {
     "name": "stderr",
     "output_type": "stream",
     "text": [
      "18:18:44 - cmdstanpy - INFO - Chain [1] start processing\n",
      "18:18:44 - cmdstanpy - INFO - Chain [1] done processing\n"
     ]
    },
    {
     "name": "stdout",
     "output_type": "stream",
     "text": [
      "Procesando registro/orden 1201...\n"
     ]
    },
    {
     "name": "stderr",
     "output_type": "stream",
     "text": [
      "18:18:49 - cmdstanpy - INFO - Chain [1] start processing\n",
      "18:18:50 - cmdstanpy - INFO - Chain [1] done processing\n"
     ]
    },
    {
     "name": "stdout",
     "output_type": "stream",
     "text": [
      "Procesando registro/orden 1202...\n"
     ]
    },
    {
     "name": "stderr",
     "output_type": "stream",
     "text": [
      "18:18:55 - cmdstanpy - INFO - Chain [1] start processing\n",
      "18:18:56 - cmdstanpy - INFO - Chain [1] done processing\n"
     ]
    },
    {
     "name": "stdout",
     "output_type": "stream",
     "text": [
      "Procesando registro/orden 1203...\n"
     ]
    },
    {
     "name": "stderr",
     "output_type": "stream",
     "text": [
      "18:19:01 - cmdstanpy - INFO - Chain [1] start processing\n",
      "18:19:01 - cmdstanpy - INFO - Chain [1] done processing\n"
     ]
    },
    {
     "name": "stdout",
     "output_type": "stream",
     "text": [
      "Procesando registro/orden 1204...\n"
     ]
    },
    {
     "name": "stderr",
     "output_type": "stream",
     "text": [
      "18:19:06 - cmdstanpy - INFO - Chain [1] start processing\n",
      "18:19:07 - cmdstanpy - INFO - Chain [1] done processing\n"
     ]
    },
    {
     "name": "stdout",
     "output_type": "stream",
     "text": [
      "Procesando registro/orden 1205...\n"
     ]
    },
    {
     "name": "stderr",
     "output_type": "stream",
     "text": [
      "18:19:12 - cmdstanpy - INFO - Chain [1] start processing\n",
      "18:19:13 - cmdstanpy - INFO - Chain [1] done processing\n"
     ]
    },
    {
     "name": "stdout",
     "output_type": "stream",
     "text": [
      "Procesando registro/orden 1206...\n"
     ]
    },
    {
     "name": "stderr",
     "output_type": "stream",
     "text": [
      "18:19:18 - cmdstanpy - INFO - Chain [1] start processing\n",
      "18:19:19 - cmdstanpy - INFO - Chain [1] done processing\n"
     ]
    },
    {
     "name": "stdout",
     "output_type": "stream",
     "text": [
      "Procesando registro/orden 1207...\n"
     ]
    },
    {
     "name": "stderr",
     "output_type": "stream",
     "text": [
      "18:19:24 - cmdstanpy - INFO - Chain [1] start processing\n",
      "18:19:24 - cmdstanpy - INFO - Chain [1] done processing\n"
     ]
    },
    {
     "name": "stdout",
     "output_type": "stream",
     "text": [
      "Procesando registro/orden 1208...\n"
     ]
    },
    {
     "name": "stderr",
     "output_type": "stream",
     "text": [
      "18:19:29 - cmdstanpy - INFO - Chain [1] start processing\n",
      "18:19:30 - cmdstanpy - INFO - Chain [1] done processing\n"
     ]
    },
    {
     "name": "stdout",
     "output_type": "stream",
     "text": [
      "Procesando registro/orden 1209...\n"
     ]
    },
    {
     "name": "stderr",
     "output_type": "stream",
     "text": [
      "18:19:34 - cmdstanpy - INFO - Chain [1] start processing\n",
      "18:19:35 - cmdstanpy - INFO - Chain [1] done processing\n"
     ]
    },
    {
     "name": "stdout",
     "output_type": "stream",
     "text": [
      "Procesando registro/orden 1210...\n"
     ]
    },
    {
     "name": "stderr",
     "output_type": "stream",
     "text": [
      "18:19:39 - cmdstanpy - INFO - Chain [1] start processing\n",
      "18:19:40 - cmdstanpy - INFO - Chain [1] done processing\n"
     ]
    },
    {
     "name": "stdout",
     "output_type": "stream",
     "text": [
      "Procesando registro/orden 1211...\n"
     ]
    },
    {
     "name": "stderr",
     "output_type": "stream",
     "text": [
      "18:19:45 - cmdstanpy - INFO - Chain [1] start processing\n",
      "18:19:46 - cmdstanpy - INFO - Chain [1] done processing\n"
     ]
    },
    {
     "name": "stdout",
     "output_type": "stream",
     "text": [
      "Procesando registro/orden 1212...\n"
     ]
    },
    {
     "name": "stderr",
     "output_type": "stream",
     "text": [
      "18:19:51 - cmdstanpy - INFO - Chain [1] start processing\n",
      "18:19:52 - cmdstanpy - INFO - Chain [1] done processing\n"
     ]
    },
    {
     "name": "stdout",
     "output_type": "stream",
     "text": [
      "Procesando registro/orden 1213...\n"
     ]
    },
    {
     "name": "stderr",
     "output_type": "stream",
     "text": [
      "18:19:57 - cmdstanpy - INFO - Chain [1] start processing\n",
      "18:19:58 - cmdstanpy - INFO - Chain [1] done processing\n"
     ]
    },
    {
     "name": "stdout",
     "output_type": "stream",
     "text": [
      "Procesando registro/orden 1214...\n"
     ]
    },
    {
     "name": "stderr",
     "output_type": "stream",
     "text": [
      "18:20:03 - cmdstanpy - INFO - Chain [1] start processing\n",
      "18:20:04 - cmdstanpy - INFO - Chain [1] done processing\n"
     ]
    },
    {
     "name": "stdout",
     "output_type": "stream",
     "text": [
      "Procesando registro/orden 1215...\n"
     ]
    },
    {
     "name": "stderr",
     "output_type": "stream",
     "text": [
      "18:20:09 - cmdstanpy - INFO - Chain [1] start processing\n",
      "18:20:10 - cmdstanpy - INFO - Chain [1] done processing\n"
     ]
    },
    {
     "name": "stdout",
     "output_type": "stream",
     "text": [
      "Procesando registro/orden 1216...\n"
     ]
    },
    {
     "name": "stderr",
     "output_type": "stream",
     "text": [
      "18:20:16 - cmdstanpy - INFO - Chain [1] start processing\n",
      "18:20:18 - cmdstanpy - INFO - Chain [1] done processing\n"
     ]
    },
    {
     "name": "stdout",
     "output_type": "stream",
     "text": [
      "Procesando registro/orden 1217...\n"
     ]
    },
    {
     "name": "stderr",
     "output_type": "stream",
     "text": [
      "18:20:23 - cmdstanpy - INFO - Chain [1] start processing\n",
      "18:20:25 - cmdstanpy - INFO - Chain [1] done processing\n"
     ]
    },
    {
     "name": "stdout",
     "output_type": "stream",
     "text": [
      "Procesando registro/orden 1218...\n"
     ]
    },
    {
     "name": "stderr",
     "output_type": "stream",
     "text": [
      "18:20:29 - cmdstanpy - INFO - Chain [1] start processing\n",
      "18:20:30 - cmdstanpy - INFO - Chain [1] done processing\n"
     ]
    },
    {
     "name": "stdout",
     "output_type": "stream",
     "text": [
      "Procesando registro/orden 1219...\n"
     ]
    },
    {
     "name": "stderr",
     "output_type": "stream",
     "text": [
      "18:20:34 - cmdstanpy - INFO - Chain [1] start processing\n",
      "18:20:35 - cmdstanpy - INFO - Chain [1] done processing\n"
     ]
    },
    {
     "name": "stdout",
     "output_type": "stream",
     "text": [
      "Procesando registro/orden 1220...\n"
     ]
    },
    {
     "name": "stderr",
     "output_type": "stream",
     "text": [
      "18:20:39 - cmdstanpy - INFO - Chain [1] start processing\n",
      "18:20:40 - cmdstanpy - INFO - Chain [1] done processing\n"
     ]
    },
    {
     "name": "stdout",
     "output_type": "stream",
     "text": [
      "Procesando registro/orden 1221...\n"
     ]
    },
    {
     "name": "stderr",
     "output_type": "stream",
     "text": [
      "18:20:45 - cmdstanpy - INFO - Chain [1] start processing\n",
      "18:20:46 - cmdstanpy - INFO - Chain [1] done processing\n"
     ]
    },
    {
     "name": "stdout",
     "output_type": "stream",
     "text": [
      "Procesando registro/orden 1222...\n"
     ]
    },
    {
     "name": "stderr",
     "output_type": "stream",
     "text": [
      "18:20:50 - cmdstanpy - INFO - Chain [1] start processing\n",
      "18:20:51 - cmdstanpy - INFO - Chain [1] done processing\n"
     ]
    },
    {
     "name": "stdout",
     "output_type": "stream",
     "text": [
      "Procesando registro/orden 1223...\n"
     ]
    },
    {
     "name": "stderr",
     "output_type": "stream",
     "text": [
      "18:20:55 - cmdstanpy - INFO - Chain [1] start processing\n",
      "18:20:55 - cmdstanpy - INFO - Chain [1] done processing\n"
     ]
    },
    {
     "name": "stdout",
     "output_type": "stream",
     "text": [
      "Procesando registro/orden 1224...\n"
     ]
    },
    {
     "name": "stderr",
     "output_type": "stream",
     "text": [
      "18:21:01 - cmdstanpy - INFO - Chain [1] start processing\n",
      "18:21:01 - cmdstanpy - INFO - Chain [1] done processing\n"
     ]
    },
    {
     "name": "stdout",
     "output_type": "stream",
     "text": [
      "Procesando registro/orden 1225...\n"
     ]
    },
    {
     "name": "stderr",
     "output_type": "stream",
     "text": [
      "18:21:06 - cmdstanpy - INFO - Chain [1] start processing\n",
      "18:21:08 - cmdstanpy - INFO - Chain [1] done processing\n"
     ]
    },
    {
     "name": "stdout",
     "output_type": "stream",
     "text": [
      "Procesando registro/orden 1226...\n"
     ]
    },
    {
     "name": "stderr",
     "output_type": "stream",
     "text": [
      "18:21:13 - cmdstanpy - INFO - Chain [1] start processing\n",
      "18:21:15 - cmdstanpy - INFO - Chain [1] done processing\n"
     ]
    },
    {
     "name": "stdout",
     "output_type": "stream",
     "text": [
      "Procesando registro/orden 1227...\n"
     ]
    },
    {
     "name": "stderr",
     "output_type": "stream",
     "text": [
      "18:21:20 - cmdstanpy - INFO - Chain [1] start processing\n",
      "18:21:20 - cmdstanpy - INFO - Chain [1] done processing\n"
     ]
    },
    {
     "name": "stdout",
     "output_type": "stream",
     "text": [
      "Procesando registro/orden 1228...\n"
     ]
    },
    {
     "name": "stderr",
     "output_type": "stream",
     "text": [
      "18:21:26 - cmdstanpy - INFO - Chain [1] start processing\n",
      "18:21:26 - cmdstanpy - INFO - Chain [1] done processing\n"
     ]
    },
    {
     "name": "stdout",
     "output_type": "stream",
     "text": [
      "Procesando registro/orden 1229...\n"
     ]
    },
    {
     "name": "stderr",
     "output_type": "stream",
     "text": [
      "18:21:30 - cmdstanpy - INFO - Chain [1] start processing\n",
      "18:21:31 - cmdstanpy - INFO - Chain [1] done processing\n"
     ]
    },
    {
     "name": "stdout",
     "output_type": "stream",
     "text": [
      "Procesando registro/orden 1230...\n"
     ]
    },
    {
     "name": "stderr",
     "output_type": "stream",
     "text": [
      "18:21:36 - cmdstanpy - INFO - Chain [1] start processing\n",
      "18:21:37 - cmdstanpy - INFO - Chain [1] done processing\n"
     ]
    },
    {
     "name": "stdout",
     "output_type": "stream",
     "text": [
      "Procesando registro/orden 1231...\n"
     ]
    },
    {
     "name": "stderr",
     "output_type": "stream",
     "text": [
      "18:21:42 - cmdstanpy - INFO - Chain [1] start processing\n",
      "18:21:44 - cmdstanpy - INFO - Chain [1] done processing\n"
     ]
    },
    {
     "name": "stdout",
     "output_type": "stream",
     "text": [
      "Procesando registro/orden 1232...\n"
     ]
    },
    {
     "name": "stderr",
     "output_type": "stream",
     "text": [
      "18:21:49 - cmdstanpy - INFO - Chain [1] start processing\n",
      "18:21:50 - cmdstanpy - INFO - Chain [1] done processing\n"
     ]
    },
    {
     "name": "stdout",
     "output_type": "stream",
     "text": [
      "Procesando registro/orden 1233...\n"
     ]
    },
    {
     "name": "stderr",
     "output_type": "stream",
     "text": [
      "18:21:54 - cmdstanpy - INFO - Chain [1] start processing\n",
      "18:21:56 - cmdstanpy - INFO - Chain [1] done processing\n"
     ]
    },
    {
     "name": "stdout",
     "output_type": "stream",
     "text": [
      "Procesando registro/orden 1234...\n"
     ]
    },
    {
     "name": "stderr",
     "output_type": "stream",
     "text": [
      "18:22:02 - cmdstanpy - INFO - Chain [1] start processing\n",
      "18:22:03 - cmdstanpy - INFO - Chain [1] done processing\n"
     ]
    },
    {
     "name": "stdout",
     "output_type": "stream",
     "text": [
      "Procesando registro/orden 1235...\n"
     ]
    },
    {
     "name": "stderr",
     "output_type": "stream",
     "text": [
      "18:22:07 - cmdstanpy - INFO - Chain [1] start processing\n",
      "18:22:08 - cmdstanpy - INFO - Chain [1] done processing\n"
     ]
    },
    {
     "name": "stdout",
     "output_type": "stream",
     "text": [
      "Procesando registro/orden 1236...\n"
     ]
    },
    {
     "name": "stderr",
     "output_type": "stream",
     "text": [
      "18:22:13 - cmdstanpy - INFO - Chain [1] start processing\n",
      "18:22:14 - cmdstanpy - INFO - Chain [1] done processing\n"
     ]
    },
    {
     "name": "stdout",
     "output_type": "stream",
     "text": [
      "Procesando registro/orden 1237...\n"
     ]
    },
    {
     "name": "stderr",
     "output_type": "stream",
     "text": [
      "18:22:19 - cmdstanpy - INFO - Chain [1] start processing\n",
      "18:22:20 - cmdstanpy - INFO - Chain [1] done processing\n"
     ]
    },
    {
     "name": "stdout",
     "output_type": "stream",
     "text": [
      "Procesando registro/orden 1238...\n"
     ]
    },
    {
     "name": "stderr",
     "output_type": "stream",
     "text": [
      "18:22:24 - cmdstanpy - INFO - Chain [1] start processing\n",
      "18:22:25 - cmdstanpy - INFO - Chain [1] done processing\n"
     ]
    },
    {
     "name": "stdout",
     "output_type": "stream",
     "text": [
      "Procesando registro/orden 1239...\n"
     ]
    },
    {
     "name": "stderr",
     "output_type": "stream",
     "text": [
      "18:22:29 - cmdstanpy - INFO - Chain [1] start processing\n",
      "18:22:29 - cmdstanpy - INFO - Chain [1] done processing\n"
     ]
    },
    {
     "name": "stdout",
     "output_type": "stream",
     "text": [
      "Procesando registro/orden 1240...\n"
     ]
    },
    {
     "name": "stderr",
     "output_type": "stream",
     "text": [
      "18:22:34 - cmdstanpy - INFO - Chain [1] start processing\n",
      "18:22:35 - cmdstanpy - INFO - Chain [1] done processing\n"
     ]
    },
    {
     "name": "stdout",
     "output_type": "stream",
     "text": [
      "Procesando registro/orden 1241...\n"
     ]
    },
    {
     "name": "stderr",
     "output_type": "stream",
     "text": [
      "18:22:40 - cmdstanpy - INFO - Chain [1] start processing\n",
      "18:22:41 - cmdstanpy - INFO - Chain [1] done processing\n"
     ]
    },
    {
     "name": "stdout",
     "output_type": "stream",
     "text": [
      "Procesando registro/orden 1242...\n"
     ]
    },
    {
     "name": "stderr",
     "output_type": "stream",
     "text": [
      "18:22:46 - cmdstanpy - INFO - Chain [1] start processing\n",
      "18:22:47 - cmdstanpy - INFO - Chain [1] done processing\n"
     ]
    },
    {
     "name": "stdout",
     "output_type": "stream",
     "text": [
      "Procesando registro/orden 1243...\n"
     ]
    },
    {
     "name": "stderr",
     "output_type": "stream",
     "text": [
      "18:22:52 - cmdstanpy - INFO - Chain [1] start processing\n",
      "18:22:53 - cmdstanpy - INFO - Chain [1] done processing\n"
     ]
    },
    {
     "name": "stdout",
     "output_type": "stream",
     "text": [
      "Procesando registro/orden 1244...\n"
     ]
    },
    {
     "name": "stderr",
     "output_type": "stream",
     "text": [
      "18:22:57 - cmdstanpy - INFO - Chain [1] start processing\n",
      "18:22:58 - cmdstanpy - INFO - Chain [1] done processing\n"
     ]
    },
    {
     "name": "stdout",
     "output_type": "stream",
     "text": [
      "Procesando registro/orden 1245...\n"
     ]
    },
    {
     "name": "stderr",
     "output_type": "stream",
     "text": [
      "18:23:03 - cmdstanpy - INFO - Chain [1] start processing\n",
      "18:23:04 - cmdstanpy - INFO - Chain [1] done processing\n"
     ]
    },
    {
     "name": "stdout",
     "output_type": "stream",
     "text": [
      "Procesando registro/orden 1246...\n"
     ]
    },
    {
     "name": "stderr",
     "output_type": "stream",
     "text": [
      "18:23:08 - cmdstanpy - INFO - Chain [1] start processing\n",
      "18:23:09 - cmdstanpy - INFO - Chain [1] done processing\n"
     ]
    },
    {
     "name": "stdout",
     "output_type": "stream",
     "text": [
      "Procesando registro/orden 1247...\n"
     ]
    },
    {
     "name": "stderr",
     "output_type": "stream",
     "text": [
      "18:23:13 - cmdstanpy - INFO - Chain [1] start processing\n",
      "18:23:14 - cmdstanpy - INFO - Chain [1] done processing\n"
     ]
    },
    {
     "name": "stdout",
     "output_type": "stream",
     "text": [
      "Procesando registro/orden 1248...\n"
     ]
    },
    {
     "name": "stderr",
     "output_type": "stream",
     "text": [
      "18:23:17 - cmdstanpy - INFO - Chain [1] start processing\n",
      "18:23:18 - cmdstanpy - INFO - Chain [1] done processing\n"
     ]
    },
    {
     "name": "stdout",
     "output_type": "stream",
     "text": [
      "Procesando registro/orden 1249...\n"
     ]
    },
    {
     "name": "stderr",
     "output_type": "stream",
     "text": [
      "18:23:22 - cmdstanpy - INFO - Chain [1] start processing\n",
      "18:23:23 - cmdstanpy - INFO - Chain [1] done processing\n"
     ]
    },
    {
     "name": "stdout",
     "output_type": "stream",
     "text": [
      "Procesando registro/orden 1250...\n"
     ]
    },
    {
     "name": "stderr",
     "output_type": "stream",
     "text": [
      "18:23:27 - cmdstanpy - INFO - Chain [1] start processing\n",
      "18:23:28 - cmdstanpy - INFO - Chain [1] done processing\n"
     ]
    },
    {
     "name": "stdout",
     "output_type": "stream",
     "text": [
      "Procesando registro/orden 1251...\n"
     ]
    },
    {
     "name": "stderr",
     "output_type": "stream",
     "text": [
      "18:23:32 - cmdstanpy - INFO - Chain [1] start processing\n",
      "18:23:33 - cmdstanpy - INFO - Chain [1] done processing\n"
     ]
    },
    {
     "name": "stdout",
     "output_type": "stream",
     "text": [
      "Procesando registro/orden 1252...\n"
     ]
    },
    {
     "name": "stderr",
     "output_type": "stream",
     "text": [
      "18:23:38 - cmdstanpy - INFO - Chain [1] start processing\n",
      "18:23:39 - cmdstanpy - INFO - Chain [1] done processing\n"
     ]
    },
    {
     "name": "stdout",
     "output_type": "stream",
     "text": [
      "Procesando registro/orden 1253...\n"
     ]
    },
    {
     "name": "stderr",
     "output_type": "stream",
     "text": [
      "18:23:43 - cmdstanpy - INFO - Chain [1] start processing\n",
      "18:23:44 - cmdstanpy - INFO - Chain [1] done processing\n"
     ]
    },
    {
     "name": "stdout",
     "output_type": "stream",
     "text": [
      "Procesando registro/orden 1254...\n"
     ]
    },
    {
     "name": "stderr",
     "output_type": "stream",
     "text": [
      "18:23:50 - cmdstanpy - INFO - Chain [1] start processing\n",
      "18:23:51 - cmdstanpy - INFO - Chain [1] done processing\n"
     ]
    },
    {
     "name": "stdout",
     "output_type": "stream",
     "text": [
      "Procesando registro/orden 1255...\n"
     ]
    },
    {
     "name": "stderr",
     "output_type": "stream",
     "text": [
      "18:23:56 - cmdstanpy - INFO - Chain [1] start processing\n",
      "18:23:57 - cmdstanpy - INFO - Chain [1] done processing\n"
     ]
    },
    {
     "name": "stdout",
     "output_type": "stream",
     "text": [
      "Procesando registro/orden 1256...\n"
     ]
    },
    {
     "name": "stderr",
     "output_type": "stream",
     "text": [
      "18:24:01 - cmdstanpy - INFO - Chain [1] start processing\n",
      "18:24:02 - cmdstanpy - INFO - Chain [1] done processing\n"
     ]
    },
    {
     "name": "stdout",
     "output_type": "stream",
     "text": [
      "Procesando registro/orden 1257...\n"
     ]
    },
    {
     "name": "stderr",
     "output_type": "stream",
     "text": [
      "18:24:06 - cmdstanpy - INFO - Chain [1] start processing\n",
      "18:24:06 - cmdstanpy - INFO - Chain [1] done processing\n"
     ]
    },
    {
     "name": "stdout",
     "output_type": "stream",
     "text": [
      "Procesando registro/orden 1258...\n"
     ]
    },
    {
     "name": "stderr",
     "output_type": "stream",
     "text": [
      "18:24:11 - cmdstanpy - INFO - Chain [1] start processing\n",
      "18:24:12 - cmdstanpy - INFO - Chain [1] done processing\n"
     ]
    },
    {
     "name": "stdout",
     "output_type": "stream",
     "text": [
      "Procesando registro/orden 1259...\n"
     ]
    },
    {
     "name": "stderr",
     "output_type": "stream",
     "text": [
      "18:24:18 - cmdstanpy - INFO - Chain [1] start processing\n",
      "18:24:19 - cmdstanpy - INFO - Chain [1] done processing\n"
     ]
    },
    {
     "name": "stdout",
     "output_type": "stream",
     "text": [
      "Procesando registro/orden 1260...\n"
     ]
    },
    {
     "name": "stderr",
     "output_type": "stream",
     "text": [
      "18:24:24 - cmdstanpy - INFO - Chain [1] start processing\n",
      "18:24:25 - cmdstanpy - INFO - Chain [1] done processing\n"
     ]
    },
    {
     "name": "stdout",
     "output_type": "stream",
     "text": [
      "Procesando registro/orden 1261...\n"
     ]
    },
    {
     "name": "stderr",
     "output_type": "stream",
     "text": [
      "18:24:29 - cmdstanpy - INFO - Chain [1] start processing\n",
      "18:24:31 - cmdstanpy - INFO - Chain [1] done processing\n"
     ]
    },
    {
     "name": "stdout",
     "output_type": "stream",
     "text": [
      "Procesando registro/orden 1262...\n"
     ]
    },
    {
     "name": "stderr",
     "output_type": "stream",
     "text": [
      "18:24:35 - cmdstanpy - INFO - Chain [1] start processing\n",
      "18:24:36 - cmdstanpy - INFO - Chain [1] done processing\n"
     ]
    },
    {
     "name": "stdout",
     "output_type": "stream",
     "text": [
      "Procesando registro/orden 1263...\n"
     ]
    },
    {
     "name": "stderr",
     "output_type": "stream",
     "text": [
      "18:24:41 - cmdstanpy - INFO - Chain [1] start processing\n",
      "18:24:42 - cmdstanpy - INFO - Chain [1] done processing\n"
     ]
    },
    {
     "name": "stdout",
     "output_type": "stream",
     "text": [
      "Procesando registro/orden 1264...\n"
     ]
    },
    {
     "name": "stderr",
     "output_type": "stream",
     "text": [
      "18:24:46 - cmdstanpy - INFO - Chain [1] start processing\n",
      "18:24:47 - cmdstanpy - INFO - Chain [1] done processing\n"
     ]
    },
    {
     "name": "stdout",
     "output_type": "stream",
     "text": [
      "Procesando registro/orden 1265...\n"
     ]
    },
    {
     "name": "stderr",
     "output_type": "stream",
     "text": [
      "18:24:52 - cmdstanpy - INFO - Chain [1] start processing\n",
      "18:24:53 - cmdstanpy - INFO - Chain [1] done processing\n"
     ]
    },
    {
     "name": "stdout",
     "output_type": "stream",
     "text": [
      "Procesando registro/orden 1266...\n"
     ]
    },
    {
     "name": "stderr",
     "output_type": "stream",
     "text": [
      "18:24:58 - cmdstanpy - INFO - Chain [1] start processing\n",
      "18:24:59 - cmdstanpy - INFO - Chain [1] done processing\n"
     ]
    },
    {
     "name": "stdout",
     "output_type": "stream",
     "text": [
      "Procesando registro/orden 1267...\n"
     ]
    },
    {
     "name": "stderr",
     "output_type": "stream",
     "text": [
      "18:25:03 - cmdstanpy - INFO - Chain [1] start processing\n",
      "18:25:04 - cmdstanpy - INFO - Chain [1] done processing\n"
     ]
    },
    {
     "name": "stdout",
     "output_type": "stream",
     "text": [
      "Procesando registro/orden 1268...\n"
     ]
    },
    {
     "name": "stderr",
     "output_type": "stream",
     "text": [
      "18:25:08 - cmdstanpy - INFO - Chain [1] start processing\n",
      "18:25:08 - cmdstanpy - INFO - Chain [1] done processing\n"
     ]
    },
    {
     "name": "stdout",
     "output_type": "stream",
     "text": [
      "Procesando registro/orden 1269...\n"
     ]
    },
    {
     "name": "stderr",
     "output_type": "stream",
     "text": [
      "18:25:12 - cmdstanpy - INFO - Chain [1] start processing\n",
      "18:25:13 - cmdstanpy - INFO - Chain [1] done processing\n"
     ]
    },
    {
     "name": "stdout",
     "output_type": "stream",
     "text": [
      "Procesando registro/orden 1270...\n"
     ]
    },
    {
     "name": "stderr",
     "output_type": "stream",
     "text": [
      "18:25:17 - cmdstanpy - INFO - Chain [1] start processing\n",
      "18:25:18 - cmdstanpy - INFO - Chain [1] done processing\n"
     ]
    },
    {
     "name": "stdout",
     "output_type": "stream",
     "text": [
      "Procesando registro/orden 1271...\n"
     ]
    },
    {
     "name": "stderr",
     "output_type": "stream",
     "text": [
      "18:25:22 - cmdstanpy - INFO - Chain [1] start processing\n",
      "18:25:23 - cmdstanpy - INFO - Chain [1] done processing\n"
     ]
    },
    {
     "name": "stdout",
     "output_type": "stream",
     "text": [
      "Procesando registro/orden 1272...\n"
     ]
    },
    {
     "name": "stderr",
     "output_type": "stream",
     "text": [
      "18:25:28 - cmdstanpy - INFO - Chain [1] start processing\n",
      "18:25:28 - cmdstanpy - INFO - Chain [1] done processing\n"
     ]
    },
    {
     "name": "stdout",
     "output_type": "stream",
     "text": [
      "Procesando registro/orden 1273...\n"
     ]
    },
    {
     "name": "stderr",
     "output_type": "stream",
     "text": [
      "18:25:33 - cmdstanpy - INFO - Chain [1] start processing\n",
      "18:25:34 - cmdstanpy - INFO - Chain [1] done processing\n"
     ]
    },
    {
     "name": "stdout",
     "output_type": "stream",
     "text": [
      "Procesando registro/orden 1274...\n"
     ]
    },
    {
     "name": "stderr",
     "output_type": "stream",
     "text": [
      "18:25:39 - cmdstanpy - INFO - Chain [1] start processing\n",
      "18:25:39 - cmdstanpy - INFO - Chain [1] done processing\n"
     ]
    },
    {
     "name": "stdout",
     "output_type": "stream",
     "text": [
      "Procesando registro/orden 1275...\n"
     ]
    },
    {
     "name": "stderr",
     "output_type": "stream",
     "text": [
      "18:25:44 - cmdstanpy - INFO - Chain [1] start processing\n",
      "18:25:45 - cmdstanpy - INFO - Chain [1] done processing\n"
     ]
    },
    {
     "name": "stdout",
     "output_type": "stream",
     "text": [
      "Procesando registro/orden 1276...\n"
     ]
    },
    {
     "name": "stderr",
     "output_type": "stream",
     "text": [
      "18:25:50 - cmdstanpy - INFO - Chain [1] start processing\n",
      "18:25:51 - cmdstanpy - INFO - Chain [1] done processing\n"
     ]
    },
    {
     "name": "stdout",
     "output_type": "stream",
     "text": [
      "Procesando registro/orden 1277...\n"
     ]
    },
    {
     "name": "stderr",
     "output_type": "stream",
     "text": [
      "18:25:55 - cmdstanpy - INFO - Chain [1] start processing\n",
      "18:25:56 - cmdstanpy - INFO - Chain [1] done processing\n"
     ]
    },
    {
     "name": "stdout",
     "output_type": "stream",
     "text": [
      "Procesando registro/orden 1278...\n"
     ]
    },
    {
     "name": "stderr",
     "output_type": "stream",
     "text": [
      "18:26:00 - cmdstanpy - INFO - Chain [1] start processing\n",
      "18:26:01 - cmdstanpy - INFO - Chain [1] done processing\n"
     ]
    },
    {
     "name": "stdout",
     "output_type": "stream",
     "text": [
      "Procesando registro/orden 1279...\n"
     ]
    },
    {
     "name": "stderr",
     "output_type": "stream",
     "text": [
      "18:26:05 - cmdstanpy - INFO - Chain [1] start processing\n",
      "18:26:06 - cmdstanpy - INFO - Chain [1] done processing\n"
     ]
    },
    {
     "name": "stdout",
     "output_type": "stream",
     "text": [
      "Procesando registro/orden 1280...\n"
     ]
    },
    {
     "name": "stderr",
     "output_type": "stream",
     "text": [
      "18:26:11 - cmdstanpy - INFO - Chain [1] start processing\n",
      "18:26:12 - cmdstanpy - INFO - Chain [1] done processing\n"
     ]
    },
    {
     "name": "stdout",
     "output_type": "stream",
     "text": [
      "Procesando registro/orden 1281...\n"
     ]
    },
    {
     "name": "stderr",
     "output_type": "stream",
     "text": [
      "18:26:16 - cmdstanpy - INFO - Chain [1] start processing\n",
      "18:26:17 - cmdstanpy - INFO - Chain [1] done processing\n"
     ]
    },
    {
     "name": "stdout",
     "output_type": "stream",
     "text": [
      "Procesando registro/orden 1282...\n"
     ]
    },
    {
     "name": "stderr",
     "output_type": "stream",
     "text": [
      "18:26:23 - cmdstanpy - INFO - Chain [1] start processing\n",
      "18:26:24 - cmdstanpy - INFO - Chain [1] done processing\n"
     ]
    },
    {
     "name": "stdout",
     "output_type": "stream",
     "text": [
      "Procesando registro/orden 1283...\n"
     ]
    },
    {
     "name": "stderr",
     "output_type": "stream",
     "text": [
      "18:26:29 - cmdstanpy - INFO - Chain [1] start processing\n",
      "18:26:29 - cmdstanpy - INFO - Chain [1] done processing\n"
     ]
    },
    {
     "name": "stdout",
     "output_type": "stream",
     "text": [
      "Procesando registro/orden 1284...\n"
     ]
    },
    {
     "name": "stderr",
     "output_type": "stream",
     "text": [
      "18:26:35 - cmdstanpy - INFO - Chain [1] start processing\n",
      "18:26:35 - cmdstanpy - INFO - Chain [1] done processing\n"
     ]
    },
    {
     "name": "stdout",
     "output_type": "stream",
     "text": [
      "Procesando registro/orden 1285...\n"
     ]
    },
    {
     "name": "stderr",
     "output_type": "stream",
     "text": [
      "18:26:40 - cmdstanpy - INFO - Chain [1] start processing\n",
      "18:26:40 - cmdstanpy - INFO - Chain [1] done processing\n"
     ]
    },
    {
     "name": "stdout",
     "output_type": "stream",
     "text": [
      "Procesando registro/orden 1286...\n"
     ]
    },
    {
     "name": "stderr",
     "output_type": "stream",
     "text": [
      "18:26:45 - cmdstanpy - INFO - Chain [1] start processing\n",
      "18:26:46 - cmdstanpy - INFO - Chain [1] done processing\n"
     ]
    },
    {
     "name": "stdout",
     "output_type": "stream",
     "text": [
      "Procesando registro/orden 1287...\n"
     ]
    },
    {
     "name": "stderr",
     "output_type": "stream",
     "text": [
      "18:26:52 - cmdstanpy - INFO - Chain [1] start processing\n",
      "18:26:53 - cmdstanpy - INFO - Chain [1] done processing\n"
     ]
    },
    {
     "name": "stdout",
     "output_type": "stream",
     "text": [
      "Procesando registro/orden 1288...\n"
     ]
    },
    {
     "name": "stderr",
     "output_type": "stream",
     "text": [
      "18:26:58 - cmdstanpy - INFO - Chain [1] start processing\n",
      "18:26:59 - cmdstanpy - INFO - Chain [1] done processing\n"
     ]
    },
    {
     "name": "stdout",
     "output_type": "stream",
     "text": [
      "Procesando registro/orden 1289...\n"
     ]
    },
    {
     "name": "stderr",
     "output_type": "stream",
     "text": [
      "18:27:06 - cmdstanpy - INFO - Chain [1] start processing\n",
      "18:27:07 - cmdstanpy - INFO - Chain [1] done processing\n"
     ]
    },
    {
     "name": "stdout",
     "output_type": "stream",
     "text": [
      "Procesando registro/orden 1290...\n"
     ]
    },
    {
     "name": "stderr",
     "output_type": "stream",
     "text": [
      "18:27:11 - cmdstanpy - INFO - Chain [1] start processing\n",
      "18:27:12 - cmdstanpy - INFO - Chain [1] done processing\n"
     ]
    },
    {
     "name": "stdout",
     "output_type": "stream",
     "text": [
      "Procesando registro/orden 1291...\n"
     ]
    },
    {
     "name": "stderr",
     "output_type": "stream",
     "text": [
      "18:27:18 - cmdstanpy - INFO - Chain [1] start processing\n",
      "18:27:19 - cmdstanpy - INFO - Chain [1] done processing\n"
     ]
    },
    {
     "name": "stdout",
     "output_type": "stream",
     "text": [
      "Procesando registro/orden 1292...\n"
     ]
    },
    {
     "name": "stderr",
     "output_type": "stream",
     "text": [
      "18:27:23 - cmdstanpy - INFO - Chain [1] start processing\n",
      "18:27:24 - cmdstanpy - INFO - Chain [1] done processing\n"
     ]
    },
    {
     "name": "stdout",
     "output_type": "stream",
     "text": [
      "Procesando registro/orden 1293...\n"
     ]
    },
    {
     "name": "stderr",
     "output_type": "stream",
     "text": [
      "18:27:28 - cmdstanpy - INFO - Chain [1] start processing\n",
      "18:27:29 - cmdstanpy - INFO - Chain [1] done processing\n"
     ]
    },
    {
     "name": "stdout",
     "output_type": "stream",
     "text": [
      "Procesando registro/orden 1294...\n"
     ]
    },
    {
     "name": "stderr",
     "output_type": "stream",
     "text": [
      "18:27:34 - cmdstanpy - INFO - Chain [1] start processing\n",
      "18:27:35 - cmdstanpy - INFO - Chain [1] done processing\n"
     ]
    },
    {
     "name": "stdout",
     "output_type": "stream",
     "text": [
      "Procesando registro/orden 1295...\n"
     ]
    },
    {
     "name": "stderr",
     "output_type": "stream",
     "text": [
      "18:27:39 - cmdstanpy - INFO - Chain [1] start processing\n",
      "18:27:40 - cmdstanpy - INFO - Chain [1] done processing\n"
     ]
    },
    {
     "name": "stdout",
     "output_type": "stream",
     "text": [
      "Procesando registro/orden 1296...\n"
     ]
    },
    {
     "name": "stderr",
     "output_type": "stream",
     "text": [
      "18:27:44 - cmdstanpy - INFO - Chain [1] start processing\n",
      "18:27:46 - cmdstanpy - INFO - Chain [1] done processing\n"
     ]
    },
    {
     "name": "stdout",
     "output_type": "stream",
     "text": [
      "Procesando registro/orden 1297...\n"
     ]
    },
    {
     "name": "stderr",
     "output_type": "stream",
     "text": [
      "18:27:51 - cmdstanpy - INFO - Chain [1] start processing\n",
      "18:27:53 - cmdstanpy - INFO - Chain [1] done processing\n"
     ]
    },
    {
     "name": "stdout",
     "output_type": "stream",
     "text": [
      "Procesando registro/orden 1298...\n"
     ]
    },
    {
     "name": "stderr",
     "output_type": "stream",
     "text": [
      "18:27:57 - cmdstanpy - INFO - Chain [1] start processing\n",
      "18:27:58 - cmdstanpy - INFO - Chain [1] done processing\n"
     ]
    },
    {
     "name": "stdout",
     "output_type": "stream",
     "text": [
      "Procesando registro/orden 1299...\n"
     ]
    },
    {
     "name": "stderr",
     "output_type": "stream",
     "text": [
      "18:28:02 - cmdstanpy - INFO - Chain [1] start processing\n",
      "18:28:03 - cmdstanpy - INFO - Chain [1] done processing\n"
     ]
    },
    {
     "name": "stdout",
     "output_type": "stream",
     "text": [
      "Procesando registro/orden 1300...\n"
     ]
    },
    {
     "name": "stderr",
     "output_type": "stream",
     "text": [
      "18:28:09 - cmdstanpy - INFO - Chain [1] start processing\n",
      "18:28:10 - cmdstanpy - INFO - Chain [1] done processing\n"
     ]
    },
    {
     "name": "stdout",
     "output_type": "stream",
     "text": [
      "Procesando registro/orden 1301...\n"
     ]
    },
    {
     "name": "stderr",
     "output_type": "stream",
     "text": [
      "18:28:15 - cmdstanpy - INFO - Chain [1] start processing\n",
      "18:28:16 - cmdstanpy - INFO - Chain [1] done processing\n"
     ]
    },
    {
     "name": "stdout",
     "output_type": "stream",
     "text": [
      "Procesando registro/orden 1302...\n"
     ]
    },
    {
     "name": "stderr",
     "output_type": "stream",
     "text": [
      "18:28:20 - cmdstanpy - INFO - Chain [1] start processing\n",
      "18:28:21 - cmdstanpy - INFO - Chain [1] done processing\n"
     ]
    },
    {
     "name": "stdout",
     "output_type": "stream",
     "text": [
      "Procesando registro/orden 1303...\n"
     ]
    },
    {
     "name": "stderr",
     "output_type": "stream",
     "text": [
      "18:28:25 - cmdstanpy - INFO - Chain [1] start processing\n",
      "18:28:27 - cmdstanpy - INFO - Chain [1] done processing\n"
     ]
    },
    {
     "name": "stdout",
     "output_type": "stream",
     "text": [
      "Procesando registro/orden 1304...\n"
     ]
    },
    {
     "name": "stderr",
     "output_type": "stream",
     "text": [
      "18:28:30 - cmdstanpy - INFO - Chain [1] start processing\n",
      "18:28:31 - cmdstanpy - INFO - Chain [1] done processing\n"
     ]
    },
    {
     "name": "stdout",
     "output_type": "stream",
     "text": [
      "Procesando registro/orden 1305...\n"
     ]
    },
    {
     "name": "stderr",
     "output_type": "stream",
     "text": [
      "18:28:35 - cmdstanpy - INFO - Chain [1] start processing\n",
      "18:28:36 - cmdstanpy - INFO - Chain [1] done processing\n"
     ]
    },
    {
     "name": "stdout",
     "output_type": "stream",
     "text": [
      "Procesando registro/orden 1306...\n"
     ]
    },
    {
     "name": "stderr",
     "output_type": "stream",
     "text": [
      "18:28:40 - cmdstanpy - INFO - Chain [1] start processing\n",
      "18:28:41 - cmdstanpy - INFO - Chain [1] done processing\n"
     ]
    },
    {
     "name": "stdout",
     "output_type": "stream",
     "text": [
      "Procesando registro/orden 1307...\n"
     ]
    },
    {
     "name": "stderr",
     "output_type": "stream",
     "text": [
      "18:28:45 - cmdstanpy - INFO - Chain [1] start processing\n",
      "18:28:47 - cmdstanpy - INFO - Chain [1] done processing\n"
     ]
    },
    {
     "name": "stdout",
     "output_type": "stream",
     "text": [
      "Procesando registro/orden 1308...\n"
     ]
    },
    {
     "name": "stderr",
     "output_type": "stream",
     "text": [
      "18:28:51 - cmdstanpy - INFO - Chain [1] start processing\n",
      "18:28:52 - cmdstanpy - INFO - Chain [1] done processing\n"
     ]
    },
    {
     "name": "stdout",
     "output_type": "stream",
     "text": [
      "Procesando registro/orden 1309...\n"
     ]
    },
    {
     "name": "stderr",
     "output_type": "stream",
     "text": [
      "18:28:57 - cmdstanpy - INFO - Chain [1] start processing\n",
      "18:28:58 - cmdstanpy - INFO - Chain [1] done processing\n"
     ]
    },
    {
     "name": "stdout",
     "output_type": "stream",
     "text": [
      "Procesando registro/orden 1310...\n"
     ]
    },
    {
     "name": "stderr",
     "output_type": "stream",
     "text": [
      "18:29:02 - cmdstanpy - INFO - Chain [1] start processing\n",
      "18:29:03 - cmdstanpy - INFO - Chain [1] done processing\n"
     ]
    },
    {
     "name": "stdout",
     "output_type": "stream",
     "text": [
      "Procesando registro/orden 1311...\n"
     ]
    },
    {
     "name": "stderr",
     "output_type": "stream",
     "text": [
      "18:29:06 - cmdstanpy - INFO - Chain [1] start processing\n",
      "18:29:07 - cmdstanpy - INFO - Chain [1] done processing\n"
     ]
    },
    {
     "name": "stdout",
     "output_type": "stream",
     "text": [
      "Procesando registro/orden 1312...\n"
     ]
    },
    {
     "name": "stderr",
     "output_type": "stream",
     "text": [
      "18:29:11 - cmdstanpy - INFO - Chain [1] start processing\n",
      "18:29:12 - cmdstanpy - INFO - Chain [1] done processing\n"
     ]
    },
    {
     "name": "stdout",
     "output_type": "stream",
     "text": [
      "Procesando registro/orden 1313...\n"
     ]
    },
    {
     "name": "stderr",
     "output_type": "stream",
     "text": [
      "18:29:18 - cmdstanpy - INFO - Chain [1] start processing\n",
      "18:29:19 - cmdstanpy - INFO - Chain [1] done processing\n"
     ]
    },
    {
     "name": "stdout",
     "output_type": "stream",
     "text": [
      "Procesando registro/orden 1314...\n"
     ]
    },
    {
     "name": "stderr",
     "output_type": "stream",
     "text": [
      "18:29:23 - cmdstanpy - INFO - Chain [1] start processing\n",
      "18:29:25 - cmdstanpy - INFO - Chain [1] done processing\n"
     ]
    },
    {
     "name": "stdout",
     "output_type": "stream",
     "text": [
      "Procesando registro/orden 1315...\n"
     ]
    },
    {
     "name": "stderr",
     "output_type": "stream",
     "text": [
      "18:29:29 - cmdstanpy - INFO - Chain [1] start processing\n",
      "18:29:31 - cmdstanpy - INFO - Chain [1] done processing\n"
     ]
    },
    {
     "name": "stdout",
     "output_type": "stream",
     "text": [
      "Procesando registro/orden 1316...\n"
     ]
    },
    {
     "name": "stderr",
     "output_type": "stream",
     "text": [
      "18:29:35 - cmdstanpy - INFO - Chain [1] start processing\n",
      "18:29:37 - cmdstanpy - INFO - Chain [1] done processing\n"
     ]
    },
    {
     "name": "stdout",
     "output_type": "stream",
     "text": [
      "Procesando registro/orden 1317...\n"
     ]
    },
    {
     "name": "stderr",
     "output_type": "stream",
     "text": [
      "18:29:41 - cmdstanpy - INFO - Chain [1] start processing\n",
      "18:29:42 - cmdstanpy - INFO - Chain [1] done processing\n"
     ]
    },
    {
     "name": "stdout",
     "output_type": "stream",
     "text": [
      "Procesando registro/orden 1318...\n"
     ]
    },
    {
     "name": "stderr",
     "output_type": "stream",
     "text": [
      "18:29:47 - cmdstanpy - INFO - Chain [1] start processing\n",
      "18:29:48 - cmdstanpy - INFO - Chain [1] done processing\n"
     ]
    },
    {
     "name": "stdout",
     "output_type": "stream",
     "text": [
      "Procesando registro/orden 1319...\n"
     ]
    },
    {
     "name": "stderr",
     "output_type": "stream",
     "text": [
      "18:29:53 - cmdstanpy - INFO - Chain [1] start processing\n",
      "18:29:54 - cmdstanpy - INFO - Chain [1] done processing\n"
     ]
    },
    {
     "name": "stdout",
     "output_type": "stream",
     "text": [
      "Procesando registro/orden 1320...\n"
     ]
    },
    {
     "name": "stderr",
     "output_type": "stream",
     "text": [
      "18:29:58 - cmdstanpy - INFO - Chain [1] start processing\n",
      "18:29:59 - cmdstanpy - INFO - Chain [1] done processing\n"
     ]
    },
    {
     "name": "stdout",
     "output_type": "stream",
     "text": [
      "Procesando registro/orden 1321...\n"
     ]
    },
    {
     "name": "stderr",
     "output_type": "stream",
     "text": [
      "18:30:03 - cmdstanpy - INFO - Chain [1] start processing\n",
      "18:30:04 - cmdstanpy - INFO - Chain [1] done processing\n"
     ]
    },
    {
     "name": "stdout",
     "output_type": "stream",
     "text": [
      "Procesando registro/orden 1322...\n"
     ]
    },
    {
     "name": "stderr",
     "output_type": "stream",
     "text": [
      "18:30:08 - cmdstanpy - INFO - Chain [1] start processing\n",
      "18:30:09 - cmdstanpy - INFO - Chain [1] done processing\n"
     ]
    },
    {
     "name": "stdout",
     "output_type": "stream",
     "text": [
      "Procesando registro/orden 1323...\n"
     ]
    },
    {
     "name": "stderr",
     "output_type": "stream",
     "text": [
      "18:30:14 - cmdstanpy - INFO - Chain [1] start processing\n",
      "18:30:14 - cmdstanpy - INFO - Chain [1] done processing\n"
     ]
    },
    {
     "name": "stdout",
     "output_type": "stream",
     "text": [
      "Procesando registro/orden 1324...\n"
     ]
    },
    {
     "name": "stderr",
     "output_type": "stream",
     "text": [
      "18:30:20 - cmdstanpy - INFO - Chain [1] start processing\n",
      "18:30:21 - cmdstanpy - INFO - Chain [1] done processing\n"
     ]
    },
    {
     "name": "stdout",
     "output_type": "stream",
     "text": [
      "Procesando registro/orden 1325...\n"
     ]
    },
    {
     "name": "stderr",
     "output_type": "stream",
     "text": [
      "18:30:26 - cmdstanpy - INFO - Chain [1] start processing\n",
      "18:30:27 - cmdstanpy - INFO - Chain [1] done processing\n"
     ]
    },
    {
     "name": "stdout",
     "output_type": "stream",
     "text": [
      "Procesando registro/orden 1326...\n"
     ]
    },
    {
     "name": "stderr",
     "output_type": "stream",
     "text": [
      "18:30:32 - cmdstanpy - INFO - Chain [1] start processing\n",
      "18:30:34 - cmdstanpy - INFO - Chain [1] done processing\n"
     ]
    },
    {
     "name": "stdout",
     "output_type": "stream",
     "text": [
      "Procesando registro/orden 1327...\n"
     ]
    },
    {
     "name": "stderr",
     "output_type": "stream",
     "text": [
      "18:30:38 - cmdstanpy - INFO - Chain [1] start processing\n",
      "18:30:38 - cmdstanpy - INFO - Chain [1] done processing\n"
     ]
    },
    {
     "name": "stdout",
     "output_type": "stream",
     "text": [
      "Procesando registro/orden 1328...\n"
     ]
    },
    {
     "name": "stderr",
     "output_type": "stream",
     "text": [
      "18:30:45 - cmdstanpy - INFO - Chain [1] start processing\n",
      "18:30:46 - cmdstanpy - INFO - Chain [1] done processing\n"
     ]
    },
    {
     "name": "stdout",
     "output_type": "stream",
     "text": [
      "Procesando registro/orden 1329...\n"
     ]
    },
    {
     "name": "stderr",
     "output_type": "stream",
     "text": [
      "18:30:51 - cmdstanpy - INFO - Chain [1] start processing\n",
      "18:30:53 - cmdstanpy - INFO - Chain [1] done processing\n"
     ]
    },
    {
     "name": "stdout",
     "output_type": "stream",
     "text": [
      "Procesando registro/orden 1330...\n"
     ]
    },
    {
     "name": "stderr",
     "output_type": "stream",
     "text": [
      "18:30:57 - cmdstanpy - INFO - Chain [1] start processing\n",
      "18:30:58 - cmdstanpy - INFO - Chain [1] done processing\n"
     ]
    },
    {
     "name": "stdout",
     "output_type": "stream",
     "text": [
      "Procesando registro/orden 1331...\n"
     ]
    },
    {
     "name": "stderr",
     "output_type": "stream",
     "text": [
      "18:31:02 - cmdstanpy - INFO - Chain [1] start processing\n",
      "18:31:03 - cmdstanpy - INFO - Chain [1] done processing\n"
     ]
    },
    {
     "name": "stdout",
     "output_type": "stream",
     "text": [
      "Procesando registro/orden 1332...\n"
     ]
    },
    {
     "name": "stderr",
     "output_type": "stream",
     "text": [
      "18:31:08 - cmdstanpy - INFO - Chain [1] start processing\n",
      "18:31:09 - cmdstanpy - INFO - Chain [1] done processing\n"
     ]
    },
    {
     "name": "stdout",
     "output_type": "stream",
     "text": [
      "Procesando registro/orden 1333...\n"
     ]
    },
    {
     "name": "stderr",
     "output_type": "stream",
     "text": [
      "18:31:13 - cmdstanpy - INFO - Chain [1] start processing\n",
      "18:31:14 - cmdstanpy - INFO - Chain [1] done processing\n"
     ]
    },
    {
     "name": "stdout",
     "output_type": "stream",
     "text": [
      "Procesando registro/orden 1334...\n"
     ]
    },
    {
     "name": "stderr",
     "output_type": "stream",
     "text": [
      "18:31:20 - cmdstanpy - INFO - Chain [1] start processing\n",
      "18:31:21 - cmdstanpy - INFO - Chain [1] done processing\n"
     ]
    },
    {
     "name": "stdout",
     "output_type": "stream",
     "text": [
      "Procesando registro/orden 1335...\n"
     ]
    },
    {
     "name": "stderr",
     "output_type": "stream",
     "text": [
      "18:31:25 - cmdstanpy - INFO - Chain [1] start processing\n",
      "18:31:27 - cmdstanpy - INFO - Chain [1] done processing\n"
     ]
    },
    {
     "name": "stdout",
     "output_type": "stream",
     "text": [
      "Procesando registro/orden 1336...\n"
     ]
    },
    {
     "name": "stderr",
     "output_type": "stream",
     "text": [
      "18:31:33 - cmdstanpy - INFO - Chain [1] start processing\n",
      "18:31:34 - cmdstanpy - INFO - Chain [1] done processing\n"
     ]
    },
    {
     "name": "stdout",
     "output_type": "stream",
     "text": [
      "Procesando registro/orden 1337...\n"
     ]
    },
    {
     "name": "stderr",
     "output_type": "stream",
     "text": [
      "18:31:38 - cmdstanpy - INFO - Chain [1] start processing\n",
      "18:31:40 - cmdstanpy - INFO - Chain [1] done processing\n"
     ]
    },
    {
     "name": "stdout",
     "output_type": "stream",
     "text": [
      "Procesando registro/orden 1338...\n"
     ]
    },
    {
     "name": "stderr",
     "output_type": "stream",
     "text": [
      "18:31:43 - cmdstanpy - INFO - Chain [1] start processing\n",
      "18:31:45 - cmdstanpy - INFO - Chain [1] done processing\n"
     ]
    },
    {
     "name": "stdout",
     "output_type": "stream",
     "text": [
      "Procesando registro/orden 1339...\n"
     ]
    },
    {
     "name": "stderr",
     "output_type": "stream",
     "text": [
      "18:31:50 - cmdstanpy - INFO - Chain [1] start processing\n",
      "18:31:51 - cmdstanpy - INFO - Chain [1] done processing\n"
     ]
    },
    {
     "name": "stdout",
     "output_type": "stream",
     "text": [
      "Procesando registro/orden 1340...\n"
     ]
    },
    {
     "name": "stderr",
     "output_type": "stream",
     "text": [
      "18:31:56 - cmdstanpy - INFO - Chain [1] start processing\n",
      "18:31:57 - cmdstanpy - INFO - Chain [1] done processing\n"
     ]
    },
    {
     "name": "stdout",
     "output_type": "stream",
     "text": [
      "Procesando registro/orden 1341...\n"
     ]
    },
    {
     "name": "stderr",
     "output_type": "stream",
     "text": [
      "18:32:00 - cmdstanpy - INFO - Chain [1] start processing\n",
      "18:32:01 - cmdstanpy - INFO - Chain [1] done processing\n"
     ]
    },
    {
     "name": "stdout",
     "output_type": "stream",
     "text": [
      "Procesando registro/orden 1342...\n"
     ]
    },
    {
     "name": "stderr",
     "output_type": "stream",
     "text": [
      "18:32:05 - cmdstanpy - INFO - Chain [1] start processing\n",
      "18:32:06 - cmdstanpy - INFO - Chain [1] done processing\n"
     ]
    },
    {
     "name": "stdout",
     "output_type": "stream",
     "text": [
      "Procesando registro/orden 1343...\n"
     ]
    },
    {
     "name": "stderr",
     "output_type": "stream",
     "text": [
      "18:32:11 - cmdstanpy - INFO - Chain [1] start processing\n",
      "18:32:12 - cmdstanpy - INFO - Chain [1] done processing\n"
     ]
    },
    {
     "name": "stdout",
     "output_type": "stream",
     "text": [
      "Procesando registro/orden 1344...\n"
     ]
    },
    {
     "name": "stderr",
     "output_type": "stream",
     "text": [
      "18:32:18 - cmdstanpy - INFO - Chain [1] start processing\n",
      "18:32:19 - cmdstanpy - INFO - Chain [1] done processing\n"
     ]
    },
    {
     "name": "stdout",
     "output_type": "stream",
     "text": [
      "Procesando registro/orden 1345...\n"
     ]
    },
    {
     "name": "stderr",
     "output_type": "stream",
     "text": [
      "18:32:24 - cmdstanpy - INFO - Chain [1] start processing\n",
      "18:32:25 - cmdstanpy - INFO - Chain [1] done processing\n"
     ]
    },
    {
     "name": "stdout",
     "output_type": "stream",
     "text": [
      "Procesando registro/orden 1346...\n"
     ]
    },
    {
     "name": "stderr",
     "output_type": "stream",
     "text": [
      "18:32:29 - cmdstanpy - INFO - Chain [1] start processing\n",
      "18:32:30 - cmdstanpy - INFO - Chain [1] done processing\n"
     ]
    },
    {
     "name": "stdout",
     "output_type": "stream",
     "text": [
      "Procesando registro/orden 1347...\n"
     ]
    },
    {
     "name": "stderr",
     "output_type": "stream",
     "text": [
      "18:32:35 - cmdstanpy - INFO - Chain [1] start processing\n",
      "18:32:37 - cmdstanpy - INFO - Chain [1] done processing\n"
     ]
    },
    {
     "name": "stdout",
     "output_type": "stream",
     "text": [
      "Procesando registro/orden 1348...\n"
     ]
    },
    {
     "name": "stderr",
     "output_type": "stream",
     "text": [
      "18:32:40 - cmdstanpy - INFO - Chain [1] start processing\n",
      "18:32:41 - cmdstanpy - INFO - Chain [1] done processing\n"
     ]
    },
    {
     "name": "stdout",
     "output_type": "stream",
     "text": [
      "Procesando registro/orden 1349...\n"
     ]
    },
    {
     "name": "stderr",
     "output_type": "stream",
     "text": [
      "18:32:46 - cmdstanpy - INFO - Chain [1] start processing\n",
      "18:32:47 - cmdstanpy - INFO - Chain [1] done processing\n"
     ]
    },
    {
     "name": "stdout",
     "output_type": "stream",
     "text": [
      "Procesando registro/orden 1350...\n"
     ]
    },
    {
     "name": "stderr",
     "output_type": "stream",
     "text": [
      "18:32:53 - cmdstanpy - INFO - Chain [1] start processing\n",
      "18:32:54 - cmdstanpy - INFO - Chain [1] done processing\n"
     ]
    },
    {
     "name": "stdout",
     "output_type": "stream",
     "text": [
      "Procesando registro/orden 1351...\n"
     ]
    },
    {
     "name": "stderr",
     "output_type": "stream",
     "text": [
      "18:32:58 - cmdstanpy - INFO - Chain [1] start processing\n",
      "18:32:59 - cmdstanpy - INFO - Chain [1] done processing\n"
     ]
    },
    {
     "name": "stdout",
     "output_type": "stream",
     "text": [
      "Procesando registro/orden 1352...\n"
     ]
    },
    {
     "name": "stderr",
     "output_type": "stream",
     "text": [
      "18:33:03 - cmdstanpy - INFO - Chain [1] start processing\n",
      "18:33:04 - cmdstanpy - INFO - Chain [1] done processing\n"
     ]
    },
    {
     "name": "stdout",
     "output_type": "stream",
     "text": [
      "Procesando registro/orden 1353...\n"
     ]
    },
    {
     "name": "stderr",
     "output_type": "stream",
     "text": [
      "18:33:09 - cmdstanpy - INFO - Chain [1] start processing\n",
      "18:33:11 - cmdstanpy - INFO - Chain [1] done processing\n"
     ]
    },
    {
     "name": "stdout",
     "output_type": "stream",
     "text": [
      "Procesando registro/orden 1354...\n"
     ]
    },
    {
     "name": "stderr",
     "output_type": "stream",
     "text": [
      "18:33:16 - cmdstanpy - INFO - Chain [1] start processing\n",
      "18:33:17 - cmdstanpy - INFO - Chain [1] done processing\n"
     ]
    },
    {
     "name": "stdout",
     "output_type": "stream",
     "text": [
      "Procesando registro/orden 1355...\n"
     ]
    },
    {
     "name": "stderr",
     "output_type": "stream",
     "text": [
      "18:33:21 - cmdstanpy - INFO - Chain [1] start processing\n",
      "18:33:23 - cmdstanpy - INFO - Chain [1] done processing\n"
     ]
    },
    {
     "name": "stdout",
     "output_type": "stream",
     "text": [
      "Procesando registro/orden 1356...\n"
     ]
    },
    {
     "name": "stderr",
     "output_type": "stream",
     "text": [
      "18:33:28 - cmdstanpy - INFO - Chain [1] start processing\n",
      "18:33:30 - cmdstanpy - INFO - Chain [1] done processing\n"
     ]
    },
    {
     "name": "stdout",
     "output_type": "stream",
     "text": [
      "Procesando registro/orden 1357...\n"
     ]
    },
    {
     "name": "stderr",
     "output_type": "stream",
     "text": [
      "18:33:34 - cmdstanpy - INFO - Chain [1] start processing\n",
      "18:33:35 - cmdstanpy - INFO - Chain [1] done processing\n"
     ]
    },
    {
     "name": "stdout",
     "output_type": "stream",
     "text": [
      "Procesando registro/orden 1358...\n"
     ]
    },
    {
     "name": "stderr",
     "output_type": "stream",
     "text": [
      "18:33:41 - cmdstanpy - INFO - Chain [1] start processing\n",
      "18:33:42 - cmdstanpy - INFO - Chain [1] done processing\n"
     ]
    },
    {
     "name": "stdout",
     "output_type": "stream",
     "text": [
      "Procesando registro/orden 1359...\n"
     ]
    },
    {
     "name": "stderr",
     "output_type": "stream",
     "text": [
      "18:33:47 - cmdstanpy - INFO - Chain [1] start processing\n",
      "18:33:48 - cmdstanpy - INFO - Chain [1] done processing\n"
     ]
    },
    {
     "name": "stdout",
     "output_type": "stream",
     "text": [
      "Procesando registro/orden 1360...\n"
     ]
    },
    {
     "name": "stderr",
     "output_type": "stream",
     "text": [
      "18:33:52 - cmdstanpy - INFO - Chain [1] start processing\n",
      "18:33:54 - cmdstanpy - INFO - Chain [1] done processing\n"
     ]
    },
    {
     "name": "stdout",
     "output_type": "stream",
     "text": [
      "Procesando registro/orden 1361...\n"
     ]
    },
    {
     "name": "stderr",
     "output_type": "stream",
     "text": [
      "18:33:58 - cmdstanpy - INFO - Chain [1] start processing\n",
      "18:33:59 - cmdstanpy - INFO - Chain [1] done processing\n"
     ]
    },
    {
     "name": "stdout",
     "output_type": "stream",
     "text": [
      "Procesando registro/orden 1362...\n"
     ]
    },
    {
     "name": "stderr",
     "output_type": "stream",
     "text": [
      "18:34:03 - cmdstanpy - INFO - Chain [1] start processing\n",
      "18:34:04 - cmdstanpy - INFO - Chain [1] done processing\n"
     ]
    },
    {
     "name": "stdout",
     "output_type": "stream",
     "text": [
      "Procesando registro/orden 1363...\n"
     ]
    },
    {
     "name": "stderr",
     "output_type": "stream",
     "text": [
      "18:34:07 - cmdstanpy - INFO - Chain [1] start processing\n",
      "18:34:09 - cmdstanpy - INFO - Chain [1] done processing\n"
     ]
    },
    {
     "name": "stdout",
     "output_type": "stream",
     "text": [
      "Procesando registro/orden 1364...\n"
     ]
    },
    {
     "name": "stderr",
     "output_type": "stream",
     "text": [
      "18:34:13 - cmdstanpy - INFO - Chain [1] start processing\n",
      "18:34:14 - cmdstanpy - INFO - Chain [1] done processing\n"
     ]
    },
    {
     "name": "stdout",
     "output_type": "stream",
     "text": [
      "Procesando registro/orden 1365...\n"
     ]
    },
    {
     "name": "stderr",
     "output_type": "stream",
     "text": [
      "18:34:17 - cmdstanpy - INFO - Chain [1] start processing\n",
      "18:34:18 - cmdstanpy - INFO - Chain [1] done processing\n"
     ]
    },
    {
     "name": "stdout",
     "output_type": "stream",
     "text": [
      "Procesando registro/orden 1366...\n"
     ]
    },
    {
     "name": "stderr",
     "output_type": "stream",
     "text": [
      "18:34:22 - cmdstanpy - INFO - Chain [1] start processing\n",
      "18:34:24 - cmdstanpy - INFO - Chain [1] done processing\n"
     ]
    },
    {
     "name": "stdout",
     "output_type": "stream",
     "text": [
      "Procesando registro/orden 1367...\n"
     ]
    },
    {
     "name": "stderr",
     "output_type": "stream",
     "text": [
      "18:34:28 - cmdstanpy - INFO - Chain [1] start processing\n",
      "18:34:28 - cmdstanpy - INFO - Chain [1] done processing\n"
     ]
    },
    {
     "name": "stdout",
     "output_type": "stream",
     "text": [
      "Procesando registro/orden 1368...\n"
     ]
    },
    {
     "name": "stderr",
     "output_type": "stream",
     "text": [
      "18:34:34 - cmdstanpy - INFO - Chain [1] start processing\n",
      "18:34:35 - cmdstanpy - INFO - Chain [1] done processing\n"
     ]
    },
    {
     "name": "stdout",
     "output_type": "stream",
     "text": [
      "Procesando registro/orden 1369...\n"
     ]
    },
    {
     "name": "stderr",
     "output_type": "stream",
     "text": [
      "18:34:39 - cmdstanpy - INFO - Chain [1] start processing\n",
      "18:34:40 - cmdstanpy - INFO - Chain [1] done processing\n"
     ]
    },
    {
     "name": "stdout",
     "output_type": "stream",
     "text": [
      "Procesando registro/orden 1370...\n"
     ]
    },
    {
     "name": "stderr",
     "output_type": "stream",
     "text": [
      "18:34:44 - cmdstanpy - INFO - Chain [1] start processing\n",
      "18:34:45 - cmdstanpy - INFO - Chain [1] done processing\n"
     ]
    },
    {
     "name": "stdout",
     "output_type": "stream",
     "text": [
      "Procesando registro/orden 1371...\n"
     ]
    },
    {
     "name": "stderr",
     "output_type": "stream",
     "text": [
      "18:34:49 - cmdstanpy - INFO - Chain [1] start processing\n",
      "18:34:51 - cmdstanpy - INFO - Chain [1] done processing\n"
     ]
    },
    {
     "name": "stdout",
     "output_type": "stream",
     "text": [
      "Procesando registro/orden 1372...\n"
     ]
    },
    {
     "name": "stderr",
     "output_type": "stream",
     "text": [
      "18:34:55 - cmdstanpy - INFO - Chain [1] start processing\n",
      "18:34:56 - cmdstanpy - INFO - Chain [1] done processing\n"
     ]
    },
    {
     "name": "stdout",
     "output_type": "stream",
     "text": [
      "Procesando registro/orden 1373...\n"
     ]
    },
    {
     "name": "stderr",
     "output_type": "stream",
     "text": [
      "18:35:00 - cmdstanpy - INFO - Chain [1] start processing\n",
      "18:35:01 - cmdstanpy - INFO - Chain [1] done processing\n"
     ]
    },
    {
     "name": "stdout",
     "output_type": "stream",
     "text": [
      "Procesando registro/orden 1374...\n"
     ]
    },
    {
     "name": "stderr",
     "output_type": "stream",
     "text": [
      "18:35:06 - cmdstanpy - INFO - Chain [1] start processing\n",
      "18:35:07 - cmdstanpy - INFO - Chain [1] done processing\n"
     ]
    },
    {
     "name": "stdout",
     "output_type": "stream",
     "text": [
      "Procesando registro/orden 1375...\n"
     ]
    },
    {
     "name": "stderr",
     "output_type": "stream",
     "text": [
      "18:35:12 - cmdstanpy - INFO - Chain [1] start processing\n",
      "18:35:13 - cmdstanpy - INFO - Chain [1] done processing\n"
     ]
    },
    {
     "name": "stdout",
     "output_type": "stream",
     "text": [
      "Procesando registro/orden 1376...\n"
     ]
    },
    {
     "name": "stderr",
     "output_type": "stream",
     "text": [
      "18:35:17 - cmdstanpy - INFO - Chain [1] start processing\n",
      "18:35:19 - cmdstanpy - INFO - Chain [1] done processing\n"
     ]
    },
    {
     "name": "stdout",
     "output_type": "stream",
     "text": [
      "Procesando registro/orden 1377...\n"
     ]
    },
    {
     "name": "stderr",
     "output_type": "stream",
     "text": [
      "18:35:23 - cmdstanpy - INFO - Chain [1] start processing\n",
      "18:35:24 - cmdstanpy - INFO - Chain [1] done processing\n"
     ]
    },
    {
     "name": "stdout",
     "output_type": "stream",
     "text": [
      "Procesando registro/orden 1378...\n"
     ]
    },
    {
     "name": "stderr",
     "output_type": "stream",
     "text": [
      "18:35:28 - cmdstanpy - INFO - Chain [1] start processing\n",
      "18:35:29 - cmdstanpy - INFO - Chain [1] done processing\n"
     ]
    },
    {
     "name": "stdout",
     "output_type": "stream",
     "text": [
      "Procesando registro/orden 1379...\n"
     ]
    },
    {
     "name": "stderr",
     "output_type": "stream",
     "text": [
      "18:35:33 - cmdstanpy - INFO - Chain [1] start processing\n",
      "18:35:34 - cmdstanpy - INFO - Chain [1] done processing\n"
     ]
    },
    {
     "name": "stdout",
     "output_type": "stream",
     "text": [
      "Procesando registro/orden 1380...\n"
     ]
    },
    {
     "name": "stderr",
     "output_type": "stream",
     "text": [
      "18:35:39 - cmdstanpy - INFO - Chain [1] start processing\n",
      "18:35:40 - cmdstanpy - INFO - Chain [1] done processing\n"
     ]
    },
    {
     "name": "stdout",
     "output_type": "stream",
     "text": [
      "Procesando registro/orden 1381...\n"
     ]
    },
    {
     "name": "stderr",
     "output_type": "stream",
     "text": [
      "18:35:43 - cmdstanpy - INFO - Chain [1] start processing\n",
      "18:35:44 - cmdstanpy - INFO - Chain [1] done processing\n"
     ]
    },
    {
     "name": "stdout",
     "output_type": "stream",
     "text": [
      "Procesando registro/orden 1382...\n"
     ]
    },
    {
     "name": "stderr",
     "output_type": "stream",
     "text": [
      "18:35:48 - cmdstanpy - INFO - Chain [1] start processing\n",
      "18:35:50 - cmdstanpy - INFO - Chain [1] done processing\n"
     ]
    },
    {
     "name": "stdout",
     "output_type": "stream",
     "text": [
      "Procesando registro/orden 1383...\n"
     ]
    },
    {
     "name": "stderr",
     "output_type": "stream",
     "text": [
      "18:35:54 - cmdstanpy - INFO - Chain [1] start processing\n",
      "18:35:55 - cmdstanpy - INFO - Chain [1] done processing\n"
     ]
    },
    {
     "name": "stdout",
     "output_type": "stream",
     "text": [
      "Procesando registro/orden 1384...\n"
     ]
    },
    {
     "name": "stderr",
     "output_type": "stream",
     "text": [
      "18:35:58 - cmdstanpy - INFO - Chain [1] start processing\n",
      "18:35:59 - cmdstanpy - INFO - Chain [1] done processing\n"
     ]
    },
    {
     "name": "stdout",
     "output_type": "stream",
     "text": [
      "Procesando registro/orden 1385...\n"
     ]
    },
    {
     "name": "stderr",
     "output_type": "stream",
     "text": [
      "18:36:03 - cmdstanpy - INFO - Chain [1] start processing\n",
      "18:36:04 - cmdstanpy - INFO - Chain [1] done processing\n"
     ]
    },
    {
     "name": "stdout",
     "output_type": "stream",
     "text": [
      "Procesando registro/orden 1386...\n"
     ]
    },
    {
     "name": "stderr",
     "output_type": "stream",
     "text": [
      "18:36:08 - cmdstanpy - INFO - Chain [1] start processing\n",
      "18:36:09 - cmdstanpy - INFO - Chain [1] done processing\n"
     ]
    },
    {
     "name": "stdout",
     "output_type": "stream",
     "text": [
      "Procesando registro/orden 1387...\n"
     ]
    },
    {
     "name": "stderr",
     "output_type": "stream",
     "text": [
      "18:36:13 - cmdstanpy - INFO - Chain [1] start processing\n",
      "18:36:14 - cmdstanpy - INFO - Chain [1] done processing\n"
     ]
    },
    {
     "name": "stdout",
     "output_type": "stream",
     "text": [
      "Procesando registro/orden 1388...\n"
     ]
    },
    {
     "name": "stderr",
     "output_type": "stream",
     "text": [
      "18:36:19 - cmdstanpy - INFO - Chain [1] start processing\n",
      "18:36:19 - cmdstanpy - INFO - Chain [1] done processing\n"
     ]
    },
    {
     "name": "stdout",
     "output_type": "stream",
     "text": [
      "Procesando registro/orden 1389...\n"
     ]
    },
    {
     "name": "stderr",
     "output_type": "stream",
     "text": [
      "18:36:24 - cmdstanpy - INFO - Chain [1] start processing\n",
      "18:36:25 - cmdstanpy - INFO - Chain [1] done processing\n"
     ]
    },
    {
     "name": "stdout",
     "output_type": "stream",
     "text": [
      "Procesando registro/orden 1390...\n"
     ]
    },
    {
     "name": "stderr",
     "output_type": "stream",
     "text": [
      "18:36:30 - cmdstanpy - INFO - Chain [1] start processing\n",
      "18:36:31 - cmdstanpy - INFO - Chain [1] done processing\n"
     ]
    },
    {
     "name": "stdout",
     "output_type": "stream",
     "text": [
      "Procesando registro/orden 1391...\n"
     ]
    },
    {
     "name": "stderr",
     "output_type": "stream",
     "text": [
      "18:36:36 - cmdstanpy - INFO - Chain [1] start processing\n",
      "18:36:37 - cmdstanpy - INFO - Chain [1] done processing\n"
     ]
    },
    {
     "name": "stdout",
     "output_type": "stream",
     "text": [
      "Procesando registro/orden 1392...\n"
     ]
    },
    {
     "name": "stderr",
     "output_type": "stream",
     "text": [
      "18:36:41 - cmdstanpy - INFO - Chain [1] start processing\n",
      "18:36:42 - cmdstanpy - INFO - Chain [1] done processing\n"
     ]
    },
    {
     "name": "stdout",
     "output_type": "stream",
     "text": [
      "Procesando registro/orden 1393...\n"
     ]
    },
    {
     "name": "stderr",
     "output_type": "stream",
     "text": [
      "18:36:47 - cmdstanpy - INFO - Chain [1] start processing\n",
      "18:36:48 - cmdstanpy - INFO - Chain [1] done processing\n"
     ]
    },
    {
     "name": "stdout",
     "output_type": "stream",
     "text": [
      "Procesando registro/orden 1394...\n"
     ]
    },
    {
     "name": "stderr",
     "output_type": "stream",
     "text": [
      "18:36:53 - cmdstanpy - INFO - Chain [1] start processing\n",
      "18:36:54 - cmdstanpy - INFO - Chain [1] done processing\n"
     ]
    },
    {
     "name": "stdout",
     "output_type": "stream",
     "text": [
      "Procesando registro/orden 1395...\n"
     ]
    },
    {
     "name": "stderr",
     "output_type": "stream",
     "text": [
      "18:36:58 - cmdstanpy - INFO - Chain [1] start processing\n",
      "18:36:59 - cmdstanpy - INFO - Chain [1] done processing\n"
     ]
    },
    {
     "name": "stdout",
     "output_type": "stream",
     "text": [
      "Procesando registro/orden 1396...\n"
     ]
    },
    {
     "name": "stderr",
     "output_type": "stream",
     "text": [
      "18:37:04 - cmdstanpy - INFO - Chain [1] start processing\n",
      "18:37:05 - cmdstanpy - INFO - Chain [1] done processing\n"
     ]
    },
    {
     "name": "stdout",
     "output_type": "stream",
     "text": [
      "Procesando registro/orden 1397...\n"
     ]
    },
    {
     "name": "stderr",
     "output_type": "stream",
     "text": [
      "18:37:09 - cmdstanpy - INFO - Chain [1] start processing\n",
      "18:37:11 - cmdstanpy - INFO - Chain [1] done processing\n"
     ]
    },
    {
     "name": "stdout",
     "output_type": "stream",
     "text": [
      "Procesando registro/orden 1398...\n"
     ]
    },
    {
     "name": "stderr",
     "output_type": "stream",
     "text": [
      "18:37:15 - cmdstanpy - INFO - Chain [1] start processing\n",
      "18:37:16 - cmdstanpy - INFO - Chain [1] done processing\n"
     ]
    },
    {
     "name": "stdout",
     "output_type": "stream",
     "text": [
      "Procesando registro/orden 1399...\n"
     ]
    },
    {
     "name": "stderr",
     "output_type": "stream",
     "text": [
      "18:37:21 - cmdstanpy - INFO - Chain [1] start processing\n",
      "18:37:23 - cmdstanpy - INFO - Chain [1] done processing\n"
     ]
    },
    {
     "name": "stdout",
     "output_type": "stream",
     "text": [
      "Procesando registro/orden 1400...\n"
     ]
    },
    {
     "name": "stderr",
     "output_type": "stream",
     "text": [
      "18:37:26 - cmdstanpy - INFO - Chain [1] start processing\n",
      "18:37:28 - cmdstanpy - INFO - Chain [1] done processing\n"
     ]
    },
    {
     "name": "stdout",
     "output_type": "stream",
     "text": [
      "Procesando registro/orden 1401...\n"
     ]
    },
    {
     "name": "stderr",
     "output_type": "stream",
     "text": [
      "18:37:33 - cmdstanpy - INFO - Chain [1] start processing\n",
      "18:37:34 - cmdstanpy - INFO - Chain [1] done processing\n"
     ]
    },
    {
     "name": "stdout",
     "output_type": "stream",
     "text": [
      "Procesando registro/orden 1402...\n"
     ]
    },
    {
     "name": "stderr",
     "output_type": "stream",
     "text": [
      "18:37:38 - cmdstanpy - INFO - Chain [1] start processing\n",
      "18:37:39 - cmdstanpy - INFO - Chain [1] done processing\n"
     ]
    },
    {
     "name": "stdout",
     "output_type": "stream",
     "text": [
      "Procesando registro/orden 1403...\n"
     ]
    },
    {
     "name": "stderr",
     "output_type": "stream",
     "text": [
      "18:37:44 - cmdstanpy - INFO - Chain [1] start processing\n",
      "18:37:45 - cmdstanpy - INFO - Chain [1] done processing\n"
     ]
    },
    {
     "name": "stdout",
     "output_type": "stream",
     "text": [
      "Procesando registro/orden 1404...\n"
     ]
    },
    {
     "name": "stderr",
     "output_type": "stream",
     "text": [
      "18:37:49 - cmdstanpy - INFO - Chain [1] start processing\n",
      "18:37:50 - cmdstanpy - INFO - Chain [1] done processing\n"
     ]
    },
    {
     "name": "stdout",
     "output_type": "stream",
     "text": [
      "Procesando registro/orden 1405...\n"
     ]
    },
    {
     "name": "stderr",
     "output_type": "stream",
     "text": [
      "18:37:54 - cmdstanpy - INFO - Chain [1] start processing\n",
      "18:37:55 - cmdstanpy - INFO - Chain [1] done processing\n"
     ]
    },
    {
     "name": "stdout",
     "output_type": "stream",
     "text": [
      "Procesando registro/orden 1406...\n"
     ]
    },
    {
     "name": "stderr",
     "output_type": "stream",
     "text": [
      "18:37:59 - cmdstanpy - INFO - Chain [1] start processing\n",
      "18:38:01 - cmdstanpy - INFO - Chain [1] done processing\n"
     ]
    },
    {
     "name": "stdout",
     "output_type": "stream",
     "text": [
      "Procesando registro/orden 1407...\n"
     ]
    },
    {
     "name": "stderr",
     "output_type": "stream",
     "text": [
      "18:38:06 - cmdstanpy - INFO - Chain [1] start processing\n",
      "18:38:07 - cmdstanpy - INFO - Chain [1] done processing\n"
     ]
    },
    {
     "name": "stdout",
     "output_type": "stream",
     "text": [
      "Procesando registro/orden 1408...\n"
     ]
    },
    {
     "name": "stderr",
     "output_type": "stream",
     "text": [
      "18:38:12 - cmdstanpy - INFO - Chain [1] start processing\n",
      "18:38:13 - cmdstanpy - INFO - Chain [1] done processing\n"
     ]
    },
    {
     "name": "stdout",
     "output_type": "stream",
     "text": [
      "Procesando registro/orden 1409...\n"
     ]
    },
    {
     "name": "stderr",
     "output_type": "stream",
     "text": [
      "18:38:17 - cmdstanpy - INFO - Chain [1] start processing\n",
      "18:38:18 - cmdstanpy - INFO - Chain [1] done processing\n"
     ]
    },
    {
     "name": "stdout",
     "output_type": "stream",
     "text": [
      "Procesando registro/orden 1410...\n"
     ]
    },
    {
     "name": "stderr",
     "output_type": "stream",
     "text": [
      "18:38:24 - cmdstanpy - INFO - Chain [1] start processing\n",
      "18:38:26 - cmdstanpy - INFO - Chain [1] done processing\n"
     ]
    },
    {
     "name": "stdout",
     "output_type": "stream",
     "text": [
      "Procesando registro/orden 1411...\n"
     ]
    },
    {
     "name": "stderr",
     "output_type": "stream",
     "text": [
      "18:38:30 - cmdstanpy - INFO - Chain [1] start processing\n",
      "18:38:32 - cmdstanpy - INFO - Chain [1] done processing\n"
     ]
    },
    {
     "name": "stdout",
     "output_type": "stream",
     "text": [
      "Procesando registro/orden 1412...\n"
     ]
    },
    {
     "name": "stderr",
     "output_type": "stream",
     "text": [
      "18:38:37 - cmdstanpy - INFO - Chain [1] start processing\n",
      "18:38:38 - cmdstanpy - INFO - Chain [1] done processing\n"
     ]
    },
    {
     "name": "stdout",
     "output_type": "stream",
     "text": [
      "Procesando registro/orden 1413...\n"
     ]
    },
    {
     "name": "stderr",
     "output_type": "stream",
     "text": [
      "18:38:42 - cmdstanpy - INFO - Chain [1] start processing\n",
      "18:38:44 - cmdstanpy - INFO - Chain [1] done processing\n"
     ]
    },
    {
     "name": "stdout",
     "output_type": "stream",
     "text": [
      "Procesando registro/orden 1414...\n"
     ]
    },
    {
     "name": "stderr",
     "output_type": "stream",
     "text": [
      "18:38:48 - cmdstanpy - INFO - Chain [1] start processing\n",
      "18:38:50 - cmdstanpy - INFO - Chain [1] done processing\n"
     ]
    },
    {
     "name": "stdout",
     "output_type": "stream",
     "text": [
      "Procesando registro/orden 1415...\n"
     ]
    },
    {
     "name": "stderr",
     "output_type": "stream",
     "text": [
      "18:38:55 - cmdstanpy - INFO - Chain [1] start processing\n",
      "18:38:56 - cmdstanpy - INFO - Chain [1] done processing\n"
     ]
    },
    {
     "name": "stdout",
     "output_type": "stream",
     "text": [
      "Procesando registro/orden 1416...\n"
     ]
    },
    {
     "name": "stderr",
     "output_type": "stream",
     "text": [
      "18:39:00 - cmdstanpy - INFO - Chain [1] start processing\n",
      "18:39:01 - cmdstanpy - INFO - Chain [1] done processing\n"
     ]
    },
    {
     "name": "stdout",
     "output_type": "stream",
     "text": [
      "Procesando registro/orden 1417...\n"
     ]
    },
    {
     "name": "stderr",
     "output_type": "stream",
     "text": [
      "18:39:05 - cmdstanpy - INFO - Chain [1] start processing\n",
      "18:39:06 - cmdstanpy - INFO - Chain [1] done processing\n"
     ]
    },
    {
     "name": "stdout",
     "output_type": "stream",
     "text": [
      "Procesando registro/orden 1418...\n"
     ]
    },
    {
     "name": "stderr",
     "output_type": "stream",
     "text": [
      "18:39:11 - cmdstanpy - INFO - Chain [1] start processing\n",
      "18:39:12 - cmdstanpy - INFO - Chain [1] done processing\n"
     ]
    },
    {
     "name": "stdout",
     "output_type": "stream",
     "text": [
      "Procesando registro/orden 1419...\n"
     ]
    },
    {
     "name": "stderr",
     "output_type": "stream",
     "text": [
      "18:39:18 - cmdstanpy - INFO - Chain [1] start processing\n",
      "18:39:19 - cmdstanpy - INFO - Chain [1] done processing\n"
     ]
    },
    {
     "name": "stdout",
     "output_type": "stream",
     "text": [
      "Procesando registro/orden 1420...\n"
     ]
    },
    {
     "name": "stderr",
     "output_type": "stream",
     "text": [
      "18:39:23 - cmdstanpy - INFO - Chain [1] start processing\n",
      "18:39:25 - cmdstanpy - INFO - Chain [1] done processing\n"
     ]
    },
    {
     "name": "stdout",
     "output_type": "stream",
     "text": [
      "Procesando registro/orden 1421...\n"
     ]
    },
    {
     "name": "stderr",
     "output_type": "stream",
     "text": [
      "18:39:28 - cmdstanpy - INFO - Chain [1] start processing\n",
      "18:39:29 - cmdstanpy - INFO - Chain [1] done processing\n"
     ]
    },
    {
     "name": "stdout",
     "output_type": "stream",
     "text": [
      "Procesando registro/orden 1422...\n"
     ]
    },
    {
     "name": "stderr",
     "output_type": "stream",
     "text": [
      "18:39:34 - cmdstanpy - INFO - Chain [1] start processing\n",
      "18:39:36 - cmdstanpy - INFO - Chain [1] done processing\n"
     ]
    },
    {
     "name": "stdout",
     "output_type": "stream",
     "text": [
      "Procesando registro/orden 1423...\n"
     ]
    },
    {
     "name": "stderr",
     "output_type": "stream",
     "text": [
      "18:39:41 - cmdstanpy - INFO - Chain [1] start processing\n",
      "18:39:42 - cmdstanpy - INFO - Chain [1] done processing\n"
     ]
    },
    {
     "name": "stdout",
     "output_type": "stream",
     "text": [
      "Procesando registro/orden 1424...\n"
     ]
    },
    {
     "name": "stderr",
     "output_type": "stream",
     "text": [
      "18:39:47 - cmdstanpy - INFO - Chain [1] start processing\n",
      "18:39:48 - cmdstanpy - INFO - Chain [1] done processing\n"
     ]
    },
    {
     "name": "stdout",
     "output_type": "stream",
     "text": [
      "Procesando registro/orden 1425...\n"
     ]
    },
    {
     "name": "stderr",
     "output_type": "stream",
     "text": [
      "18:39:52 - cmdstanpy - INFO - Chain [1] start processing\n",
      "18:39:53 - cmdstanpy - INFO - Chain [1] done processing\n"
     ]
    },
    {
     "name": "stdout",
     "output_type": "stream",
     "text": [
      "Procesando registro/orden 1426...\n"
     ]
    },
    {
     "name": "stderr",
     "output_type": "stream",
     "text": [
      "18:39:58 - cmdstanpy - INFO - Chain [1] start processing\n",
      "18:39:59 - cmdstanpy - INFO - Chain [1] done processing\n"
     ]
    },
    {
     "name": "stdout",
     "output_type": "stream",
     "text": [
      "Procesando registro/orden 1427...\n"
     ]
    },
    {
     "name": "stderr",
     "output_type": "stream",
     "text": [
      "18:40:06 - cmdstanpy - INFO - Chain [1] start processing\n",
      "18:40:07 - cmdstanpy - INFO - Chain [1] done processing\n"
     ]
    },
    {
     "name": "stdout",
     "output_type": "stream",
     "text": [
      "Procesando registro/orden 1428...\n"
     ]
    },
    {
     "name": "stderr",
     "output_type": "stream",
     "text": [
      "18:40:11 - cmdstanpy - INFO - Chain [1] start processing\n",
      "18:40:12 - cmdstanpy - INFO - Chain [1] done processing\n"
     ]
    },
    {
     "name": "stdout",
     "output_type": "stream",
     "text": [
      "Procesando registro/orden 1429...\n"
     ]
    },
    {
     "name": "stderr",
     "output_type": "stream",
     "text": [
      "18:40:16 - cmdstanpy - INFO - Chain [1] start processing\n",
      "18:40:17 - cmdstanpy - INFO - Chain [1] done processing\n"
     ]
    },
    {
     "name": "stdout",
     "output_type": "stream",
     "text": [
      "Procesando registro/orden 1430...\n"
     ]
    },
    {
     "name": "stderr",
     "output_type": "stream",
     "text": [
      "18:40:21 - cmdstanpy - INFO - Chain [1] start processing\n",
      "18:40:23 - cmdstanpy - INFO - Chain [1] done processing\n"
     ]
    },
    {
     "name": "stdout",
     "output_type": "stream",
     "text": [
      "Procesando registro/orden 1431...\n"
     ]
    },
    {
     "name": "stderr",
     "output_type": "stream",
     "text": [
      "18:40:28 - cmdstanpy - INFO - Chain [1] start processing\n",
      "18:40:29 - cmdstanpy - INFO - Chain [1] done processing\n"
     ]
    },
    {
     "name": "stdout",
     "output_type": "stream",
     "text": [
      "Procesando registro/orden 1432...\n"
     ]
    },
    {
     "name": "stderr",
     "output_type": "stream",
     "text": [
      "18:40:33 - cmdstanpy - INFO - Chain [1] start processing\n",
      "18:40:35 - cmdstanpy - INFO - Chain [1] done processing\n"
     ]
    },
    {
     "name": "stdout",
     "output_type": "stream",
     "text": [
      "Procesando registro/orden 1433...\n"
     ]
    },
    {
     "name": "stderr",
     "output_type": "stream",
     "text": [
      "18:40:38 - cmdstanpy - INFO - Chain [1] start processing\n",
      "18:40:39 - cmdstanpy - INFO - Chain [1] done processing\n"
     ]
    },
    {
     "name": "stdout",
     "output_type": "stream",
     "text": [
      "Procesando registro/orden 1434...\n"
     ]
    },
    {
     "name": "stderr",
     "output_type": "stream",
     "text": [
      "18:40:45 - cmdstanpy - INFO - Chain [1] start processing\n",
      "18:40:46 - cmdstanpy - INFO - Chain [1] done processing\n"
     ]
    },
    {
     "name": "stdout",
     "output_type": "stream",
     "text": [
      "Procesando registro/orden 1435...\n"
     ]
    },
    {
     "name": "stderr",
     "output_type": "stream",
     "text": [
      "18:40:52 - cmdstanpy - INFO - Chain [1] start processing\n",
      "18:40:53 - cmdstanpy - INFO - Chain [1] done processing\n"
     ]
    },
    {
     "name": "stdout",
     "output_type": "stream",
     "text": [
      "Procesando registro/orden 1436...\n"
     ]
    },
    {
     "name": "stderr",
     "output_type": "stream",
     "text": [
      "18:40:57 - cmdstanpy - INFO - Chain [1] start processing\n",
      "18:40:58 - cmdstanpy - INFO - Chain [1] done processing\n"
     ]
    },
    {
     "name": "stdout",
     "output_type": "stream",
     "text": [
      "Procesando registro/orden 1437...\n"
     ]
    },
    {
     "name": "stderr",
     "output_type": "stream",
     "text": [
      "18:41:03 - cmdstanpy - INFO - Chain [1] start processing\n",
      "18:41:04 - cmdstanpy - INFO - Chain [1] done processing\n"
     ]
    },
    {
     "name": "stdout",
     "output_type": "stream",
     "text": [
      "Procesando registro/orden 1438...\n"
     ]
    },
    {
     "name": "stderr",
     "output_type": "stream",
     "text": [
      "18:41:09 - cmdstanpy - INFO - Chain [1] start processing\n",
      "18:41:11 - cmdstanpy - INFO - Chain [1] done processing\n"
     ]
    },
    {
     "name": "stdout",
     "output_type": "stream",
     "text": [
      "Procesando registro/orden 1439...\n"
     ]
    },
    {
     "name": "stderr",
     "output_type": "stream",
     "text": [
      "18:41:15 - cmdstanpy - INFO - Chain [1] start processing\n",
      "18:41:16 - cmdstanpy - INFO - Chain [1] done processing\n"
     ]
    },
    {
     "name": "stdout",
     "output_type": "stream",
     "text": [
      "Procesando registro/orden 1440...\n"
     ]
    },
    {
     "name": "stderr",
     "output_type": "stream",
     "text": [
      "18:41:20 - cmdstanpy - INFO - Chain [1] start processing\n",
      "18:41:22 - cmdstanpy - INFO - Chain [1] done processing\n"
     ]
    },
    {
     "name": "stdout",
     "output_type": "stream",
     "text": [
      "Procesando registro/orden 1441...\n"
     ]
    },
    {
     "name": "stderr",
     "output_type": "stream",
     "text": [
      "18:41:26 - cmdstanpy - INFO - Chain [1] start processing\n",
      "18:41:28 - cmdstanpy - INFO - Chain [1] done processing\n"
     ]
    },
    {
     "name": "stdout",
     "output_type": "stream",
     "text": [
      "Procesando registro/orden 1442...\n"
     ]
    },
    {
     "name": "stderr",
     "output_type": "stream",
     "text": [
      "18:41:31 - cmdstanpy - INFO - Chain [1] start processing\n",
      "18:41:33 - cmdstanpy - INFO - Chain [1] done processing\n"
     ]
    },
    {
     "name": "stdout",
     "output_type": "stream",
     "text": [
      "Procesando registro/orden 1443...\n"
     ]
    },
    {
     "name": "stderr",
     "output_type": "stream",
     "text": [
      "18:41:38 - cmdstanpy - INFO - Chain [1] start processing\n",
      "18:41:39 - cmdstanpy - INFO - Chain [1] done processing\n"
     ]
    },
    {
     "name": "stdout",
     "output_type": "stream",
     "text": [
      "Procesando registro/orden 1444...\n"
     ]
    },
    {
     "name": "stderr",
     "output_type": "stream",
     "text": [
      "18:41:43 - cmdstanpy - INFO - Chain [1] start processing\n",
      "18:41:44 - cmdstanpy - INFO - Chain [1] done processing\n"
     ]
    },
    {
     "name": "stdout",
     "output_type": "stream",
     "text": [
      "Procesando registro/orden 1445...\n"
     ]
    },
    {
     "name": "stderr",
     "output_type": "stream",
     "text": [
      "18:41:49 - cmdstanpy - INFO - Chain [1] start processing\n",
      "18:41:50 - cmdstanpy - INFO - Chain [1] done processing\n"
     ]
    },
    {
     "name": "stdout",
     "output_type": "stream",
     "text": [
      "Procesando registro/orden 1446...\n"
     ]
    },
    {
     "name": "stderr",
     "output_type": "stream",
     "text": [
      "18:41:54 - cmdstanpy - INFO - Chain [1] start processing\n",
      "18:41:56 - cmdstanpy - INFO - Chain [1] done processing\n"
     ]
    },
    {
     "name": "stdout",
     "output_type": "stream",
     "text": [
      "Procesando registro/orden 1447...\n"
     ]
    },
    {
     "name": "stderr",
     "output_type": "stream",
     "text": [
      "18:42:01 - cmdstanpy - INFO - Chain [1] start processing\n",
      "18:42:03 - cmdstanpy - INFO - Chain [1] done processing\n"
     ]
    },
    {
     "name": "stdout",
     "output_type": "stream",
     "text": [
      "Procesando registro/orden 1448...\n"
     ]
    },
    {
     "name": "stderr",
     "output_type": "stream",
     "text": [
      "18:42:07 - cmdstanpy - INFO - Chain [1] start processing\n",
      "18:42:08 - cmdstanpy - INFO - Chain [1] done processing\n"
     ]
    },
    {
     "name": "stdout",
     "output_type": "stream",
     "text": [
      "Procesando registro/orden 1449...\n"
     ]
    },
    {
     "name": "stderr",
     "output_type": "stream",
     "text": [
      "18:42:14 - cmdstanpy - INFO - Chain [1] start processing\n",
      "18:42:15 - cmdstanpy - INFO - Chain [1] done processing\n"
     ]
    },
    {
     "name": "stdout",
     "output_type": "stream",
     "text": [
      "Procesando registro/orden 1450...\n"
     ]
    },
    {
     "name": "stderr",
     "output_type": "stream",
     "text": [
      "18:42:20 - cmdstanpy - INFO - Chain [1] start processing\n",
      "18:42:22 - cmdstanpy - INFO - Chain [1] done processing\n"
     ]
    },
    {
     "name": "stdout",
     "output_type": "stream",
     "text": [
      "Procesando registro/orden 1451...\n"
     ]
    },
    {
     "name": "stderr",
     "output_type": "stream",
     "text": [
      "18:42:25 - cmdstanpy - INFO - Chain [1] start processing\n",
      "18:42:27 - cmdstanpy - INFO - Chain [1] done processing\n"
     ]
    },
    {
     "name": "stdout",
     "output_type": "stream",
     "text": [
      "Procesando registro/orden 1452...\n"
     ]
    },
    {
     "name": "stderr",
     "output_type": "stream",
     "text": [
      "18:42:31 - cmdstanpy - INFO - Chain [1] start processing\n",
      "18:42:32 - cmdstanpy - INFO - Chain [1] done processing\n"
     ]
    },
    {
     "name": "stdout",
     "output_type": "stream",
     "text": [
      "Procesando registro/orden 1453...\n"
     ]
    },
    {
     "name": "stderr",
     "output_type": "stream",
     "text": [
      "18:42:37 - cmdstanpy - INFO - Chain [1] start processing\n",
      "18:42:38 - cmdstanpy - INFO - Chain [1] done processing\n"
     ]
    },
    {
     "name": "stdout",
     "output_type": "stream",
     "text": [
      "Procesando registro/orden 1454...\n"
     ]
    },
    {
     "name": "stderr",
     "output_type": "stream",
     "text": [
      "18:42:43 - cmdstanpy - INFO - Chain [1] start processing\n",
      "18:42:44 - cmdstanpy - INFO - Chain [1] done processing\n"
     ]
    },
    {
     "name": "stdout",
     "output_type": "stream",
     "text": [
      "Procesando registro/orden 1455...\n"
     ]
    },
    {
     "name": "stderr",
     "output_type": "stream",
     "text": [
      "18:42:48 - cmdstanpy - INFO - Chain [1] start processing\n",
      "18:42:49 - cmdstanpy - INFO - Chain [1] done processing\n"
     ]
    },
    {
     "name": "stdout",
     "output_type": "stream",
     "text": [
      "Procesando registro/orden 1456...\n"
     ]
    },
    {
     "name": "stderr",
     "output_type": "stream",
     "text": [
      "18:42:54 - cmdstanpy - INFO - Chain [1] start processing\n",
      "18:42:55 - cmdstanpy - INFO - Chain [1] done processing\n"
     ]
    },
    {
     "name": "stdout",
     "output_type": "stream",
     "text": [
      "Procesando registro/orden 1457...\n"
     ]
    },
    {
     "name": "stderr",
     "output_type": "stream",
     "text": [
      "18:42:59 - cmdstanpy - INFO - Chain [1] start processing\n",
      "18:43:01 - cmdstanpy - INFO - Chain [1] done processing\n"
     ]
    },
    {
     "name": "stdout",
     "output_type": "stream",
     "text": [
      "Procesando registro/orden 1458...\n"
     ]
    },
    {
     "name": "stderr",
     "output_type": "stream",
     "text": [
      "18:43:05 - cmdstanpy - INFO - Chain [1] start processing\n",
      "18:43:07 - cmdstanpy - INFO - Chain [1] done processing\n"
     ]
    },
    {
     "name": "stdout",
     "output_type": "stream",
     "text": [
      "Procesando registro/orden 1459...\n"
     ]
    },
    {
     "name": "stderr",
     "output_type": "stream",
     "text": [
      "18:43:12 - cmdstanpy - INFO - Chain [1] start processing\n",
      "18:43:14 - cmdstanpy - INFO - Chain [1] done processing\n"
     ]
    },
    {
     "name": "stdout",
     "output_type": "stream",
     "text": [
      "Procesando registro/orden 1460...\n"
     ]
    },
    {
     "name": "stderr",
     "output_type": "stream",
     "text": [
      "18:43:17 - cmdstanpy - INFO - Chain [1] start processing\n",
      "18:43:19 - cmdstanpy - INFO - Chain [1] done processing\n"
     ]
    },
    {
     "name": "stdout",
     "output_type": "stream",
     "text": [
      "Procesando registro/orden 1461...\n"
     ]
    },
    {
     "name": "stderr",
     "output_type": "stream",
     "text": [
      "18:43:23 - cmdstanpy - INFO - Chain [1] start processing\n",
      "18:43:24 - cmdstanpy - INFO - Chain [1] done processing\n"
     ]
    },
    {
     "name": "stdout",
     "output_type": "stream",
     "text": [
      "Procesando registro/orden 1462...\n"
     ]
    },
    {
     "name": "stderr",
     "output_type": "stream",
     "text": [
      "18:43:28 - cmdstanpy - INFO - Chain [1] start processing\n",
      "18:43:29 - cmdstanpy - INFO - Chain [1] done processing\n"
     ]
    },
    {
     "name": "stdout",
     "output_type": "stream",
     "text": [
      "Procesando registro/orden 1463...\n"
     ]
    },
    {
     "name": "stderr",
     "output_type": "stream",
     "text": [
      "18:43:34 - cmdstanpy - INFO - Chain [1] start processing\n",
      "18:43:35 - cmdstanpy - INFO - Chain [1] done processing\n"
     ]
    },
    {
     "name": "stdout",
     "output_type": "stream",
     "text": [
      "Procesando registro/orden 1464...\n"
     ]
    },
    {
     "name": "stderr",
     "output_type": "stream",
     "text": [
      "18:43:39 - cmdstanpy - INFO - Chain [1] start processing\n",
      "18:43:41 - cmdstanpy - INFO - Chain [1] done processing\n"
     ]
    },
    {
     "name": "stdout",
     "output_type": "stream",
     "text": [
      "Procesando registro/orden 1465...\n"
     ]
    },
    {
     "name": "stderr",
     "output_type": "stream",
     "text": [
      "18:43:46 - cmdstanpy - INFO - Chain [1] start processing\n",
      "18:43:47 - cmdstanpy - INFO - Chain [1] done processing\n"
     ]
    },
    {
     "name": "stdout",
     "output_type": "stream",
     "text": [
      "Procesando registro/orden 1466...\n"
     ]
    },
    {
     "name": "stderr",
     "output_type": "stream",
     "text": [
      "18:43:51 - cmdstanpy - INFO - Chain [1] start processing\n",
      "18:43:52 - cmdstanpy - INFO - Chain [1] done processing\n"
     ]
    },
    {
     "name": "stdout",
     "output_type": "stream",
     "text": [
      "Procesando registro/orden 1467...\n"
     ]
    },
    {
     "name": "stderr",
     "output_type": "stream",
     "text": [
      "18:43:56 - cmdstanpy - INFO - Chain [1] start processing\n",
      "18:43:57 - cmdstanpy - INFO - Chain [1] done processing\n"
     ]
    },
    {
     "name": "stdout",
     "output_type": "stream",
     "text": [
      "Procesando registro/orden 1468...\n"
     ]
    },
    {
     "name": "stderr",
     "output_type": "stream",
     "text": [
      "18:44:01 - cmdstanpy - INFO - Chain [1] start processing\n",
      "18:44:02 - cmdstanpy - INFO - Chain [1] done processing\n"
     ]
    },
    {
     "name": "stdout",
     "output_type": "stream",
     "text": [
      "Procesando registro/orden 1469...\n"
     ]
    },
    {
     "name": "stderr",
     "output_type": "stream",
     "text": [
      "18:44:07 - cmdstanpy - INFO - Chain [1] start processing\n",
      "18:44:08 - cmdstanpy - INFO - Chain [1] done processing\n"
     ]
    },
    {
     "name": "stdout",
     "output_type": "stream",
     "text": [
      "Procesando registro/orden 1470...\n"
     ]
    },
    {
     "name": "stderr",
     "output_type": "stream",
     "text": [
      "18:44:13 - cmdstanpy - INFO - Chain [1] start processing\n",
      "18:44:14 - cmdstanpy - INFO - Chain [1] done processing\n"
     ]
    },
    {
     "name": "stdout",
     "output_type": "stream",
     "text": [
      "Procesando registro/orden 1471...\n"
     ]
    },
    {
     "name": "stderr",
     "output_type": "stream",
     "text": [
      "18:44:19 - cmdstanpy - INFO - Chain [1] start processing\n",
      "18:44:20 - cmdstanpy - INFO - Chain [1] done processing\n"
     ]
    },
    {
     "name": "stdout",
     "output_type": "stream",
     "text": [
      "Procesando registro/orden 1472...\n"
     ]
    },
    {
     "name": "stderr",
     "output_type": "stream",
     "text": [
      "18:44:24 - cmdstanpy - INFO - Chain [1] start processing\n",
      "18:44:26 - cmdstanpy - INFO - Chain [1] done processing\n"
     ]
    },
    {
     "name": "stdout",
     "output_type": "stream",
     "text": [
      "Procesando registro/orden 1473...\n"
     ]
    },
    {
     "name": "stderr",
     "output_type": "stream",
     "text": [
      "18:44:30 - cmdstanpy - INFO - Chain [1] start processing\n",
      "18:44:31 - cmdstanpy - INFO - Chain [1] done processing\n"
     ]
    },
    {
     "name": "stdout",
     "output_type": "stream",
     "text": [
      "Procesando registro/orden 1474...\n"
     ]
    },
    {
     "name": "stderr",
     "output_type": "stream",
     "text": [
      "18:44:36 - cmdstanpy - INFO - Chain [1] start processing\n",
      "18:44:37 - cmdstanpy - INFO - Chain [1] done processing\n"
     ]
    },
    {
     "name": "stdout",
     "output_type": "stream",
     "text": [
      "Procesando registro/orden 1475...\n"
     ]
    },
    {
     "name": "stderr",
     "output_type": "stream",
     "text": [
      "18:44:41 - cmdstanpy - INFO - Chain [1] start processing\n",
      "18:44:43 - cmdstanpy - INFO - Chain [1] done processing\n"
     ]
    },
    {
     "name": "stdout",
     "output_type": "stream",
     "text": [
      "Procesando registro/orden 1476...\n"
     ]
    },
    {
     "name": "stderr",
     "output_type": "stream",
     "text": [
      "18:44:46 - cmdstanpy - INFO - Chain [1] start processing\n",
      "18:44:47 - cmdstanpy - INFO - Chain [1] done processing\n"
     ]
    },
    {
     "name": "stdout",
     "output_type": "stream",
     "text": [
      "Procesando registro/orden 1477...\n"
     ]
    },
    {
     "name": "stderr",
     "output_type": "stream",
     "text": [
      "18:44:52 - cmdstanpy - INFO - Chain [1] start processing\n",
      "18:44:53 - cmdstanpy - INFO - Chain [1] done processing\n"
     ]
    },
    {
     "name": "stdout",
     "output_type": "stream",
     "text": [
      "Procesando registro/orden 1478...\n"
     ]
    },
    {
     "name": "stderr",
     "output_type": "stream",
     "text": [
      "18:44:57 - cmdstanpy - INFO - Chain [1] start processing\n",
      "18:44:59 - cmdstanpy - INFO - Chain [1] done processing\n"
     ]
    },
    {
     "name": "stdout",
     "output_type": "stream",
     "text": [
      "Procesando registro/orden 1479...\n"
     ]
    },
    {
     "name": "stderr",
     "output_type": "stream",
     "text": [
      "18:45:03 - cmdstanpy - INFO - Chain [1] start processing\n",
      "18:45:04 - cmdstanpy - INFO - Chain [1] done processing\n"
     ]
    },
    {
     "name": "stdout",
     "output_type": "stream",
     "text": [
      "Procesando registro/orden 1480...\n"
     ]
    },
    {
     "name": "stderr",
     "output_type": "stream",
     "text": [
      "18:45:08 - cmdstanpy - INFO - Chain [1] start processing\n",
      "18:45:10 - cmdstanpy - INFO - Chain [1] done processing\n"
     ]
    },
    {
     "name": "stdout",
     "output_type": "stream",
     "text": [
      "Procesando registro/orden 1481...\n"
     ]
    },
    {
     "name": "stderr",
     "output_type": "stream",
     "text": [
      "18:45:13 - cmdstanpy - INFO - Chain [1] start processing\n",
      "18:45:15 - cmdstanpy - INFO - Chain [1] done processing\n"
     ]
    },
    {
     "name": "stdout",
     "output_type": "stream",
     "text": [
      "Procesando registro/orden 1482...\n"
     ]
    },
    {
     "name": "stderr",
     "output_type": "stream",
     "text": [
      "18:45:21 - cmdstanpy - INFO - Chain [1] start processing\n",
      "18:45:23 - cmdstanpy - INFO - Chain [1] done processing\n"
     ]
    },
    {
     "name": "stdout",
     "output_type": "stream",
     "text": [
      "Procesando registro/orden 1483...\n"
     ]
    },
    {
     "name": "stderr",
     "output_type": "stream",
     "text": [
      "18:45:28 - cmdstanpy - INFO - Chain [1] start processing\n",
      "18:45:30 - cmdstanpy - INFO - Chain [1] done processing\n"
     ]
    },
    {
     "name": "stdout",
     "output_type": "stream",
     "text": [
      "Procesando registro/orden 1484...\n"
     ]
    },
    {
     "name": "stderr",
     "output_type": "stream",
     "text": [
      "18:45:34 - cmdstanpy - INFO - Chain [1] start processing\n",
      "18:45:35 - cmdstanpy - INFO - Chain [1] done processing\n"
     ]
    },
    {
     "name": "stdout",
     "output_type": "stream",
     "text": [
      "Procesando registro/orden 1485...\n"
     ]
    },
    {
     "name": "stderr",
     "output_type": "stream",
     "text": [
      "18:45:39 - cmdstanpy - INFO - Chain [1] start processing\n",
      "18:45:40 - cmdstanpy - INFO - Chain [1] done processing\n"
     ]
    },
    {
     "name": "stdout",
     "output_type": "stream",
     "text": [
      "Procesando registro/orden 1486...\n"
     ]
    },
    {
     "name": "stderr",
     "output_type": "stream",
     "text": [
      "18:45:45 - cmdstanpy - INFO - Chain [1] start processing\n",
      "18:45:46 - cmdstanpy - INFO - Chain [1] done processing\n"
     ]
    },
    {
     "name": "stdout",
     "output_type": "stream",
     "text": [
      "Procesando registro/orden 1487...\n"
     ]
    },
    {
     "name": "stderr",
     "output_type": "stream",
     "text": [
      "18:45:51 - cmdstanpy - INFO - Chain [1] start processing\n",
      "18:45:52 - cmdstanpy - INFO - Chain [1] done processing\n"
     ]
    },
    {
     "name": "stdout",
     "output_type": "stream",
     "text": [
      "Procesando registro/orden 1488...\n"
     ]
    },
    {
     "name": "stderr",
     "output_type": "stream",
     "text": [
      "18:45:56 - cmdstanpy - INFO - Chain [1] start processing\n",
      "18:45:57 - cmdstanpy - INFO - Chain [1] done processing\n"
     ]
    },
    {
     "name": "stdout",
     "output_type": "stream",
     "text": [
      "Procesando registro/orden 1489...\n"
     ]
    },
    {
     "name": "stderr",
     "output_type": "stream",
     "text": [
      "18:46:01 - cmdstanpy - INFO - Chain [1] start processing\n",
      "18:46:02 - cmdstanpy - INFO - Chain [1] done processing\n"
     ]
    },
    {
     "name": "stdout",
     "output_type": "stream",
     "text": [
      "Procesando registro/orden 1490...\n"
     ]
    },
    {
     "name": "stderr",
     "output_type": "stream",
     "text": [
      "18:46:07 - cmdstanpy - INFO - Chain [1] start processing\n",
      "18:46:08 - cmdstanpy - INFO - Chain [1] done processing\n"
     ]
    },
    {
     "name": "stdout",
     "output_type": "stream",
     "text": [
      "Procesando registro/orden 1491...\n"
     ]
    },
    {
     "name": "stderr",
     "output_type": "stream",
     "text": [
      "18:46:12 - cmdstanpy - INFO - Chain [1] start processing\n",
      "18:46:14 - cmdstanpy - INFO - Chain [1] done processing\n"
     ]
    },
    {
     "name": "stdout",
     "output_type": "stream",
     "text": [
      "Procesando registro/orden 1492...\n"
     ]
    },
    {
     "name": "stderr",
     "output_type": "stream",
     "text": [
      "18:46:19 - cmdstanpy - INFO - Chain [1] start processing\n",
      "18:46:21 - cmdstanpy - INFO - Chain [1] done processing\n"
     ]
    },
    {
     "name": "stdout",
     "output_type": "stream",
     "text": [
      "Procesando registro/orden 1493...\n"
     ]
    },
    {
     "name": "stderr",
     "output_type": "stream",
     "text": [
      "18:46:26 - cmdstanpy - INFO - Chain [1] start processing\n",
      "18:46:27 - cmdstanpy - INFO - Chain [1] done processing\n"
     ]
    },
    {
     "name": "stdout",
     "output_type": "stream",
     "text": [
      "Procesando registro/orden 1494...\n"
     ]
    },
    {
     "name": "stderr",
     "output_type": "stream",
     "text": [
      "18:46:33 - cmdstanpy - INFO - Chain [1] start processing\n",
      "18:46:33 - cmdstanpy - INFO - Chain [1] done processing\n"
     ]
    },
    {
     "name": "stdout",
     "output_type": "stream",
     "text": [
      "Procesando registro/orden 1495...\n"
     ]
    },
    {
     "name": "stderr",
     "output_type": "stream",
     "text": [
      "18:46:38 - cmdstanpy - INFO - Chain [1] start processing\n",
      "18:46:39 - cmdstanpy - INFO - Chain [1] done processing\n"
     ]
    },
    {
     "name": "stdout",
     "output_type": "stream",
     "text": [
      "Procesando registro/orden 1496...\n"
     ]
    },
    {
     "name": "stderr",
     "output_type": "stream",
     "text": [
      "18:46:44 - cmdstanpy - INFO - Chain [1] start processing\n",
      "18:46:45 - cmdstanpy - INFO - Chain [1] done processing\n"
     ]
    },
    {
     "name": "stdout",
     "output_type": "stream",
     "text": [
      "Procesando registro/orden 1497...\n"
     ]
    },
    {
     "name": "stderr",
     "output_type": "stream",
     "text": [
      "18:46:49 - cmdstanpy - INFO - Chain [1] start processing\n",
      "18:46:50 - cmdstanpy - INFO - Chain [1] done processing\n"
     ]
    },
    {
     "name": "stdout",
     "output_type": "stream",
     "text": [
      "Procesando registro/orden 1498...\n"
     ]
    },
    {
     "name": "stderr",
     "output_type": "stream",
     "text": [
      "18:46:56 - cmdstanpy - INFO - Chain [1] start processing\n",
      "18:46:57 - cmdstanpy - INFO - Chain [1] done processing\n"
     ]
    },
    {
     "name": "stdout",
     "output_type": "stream",
     "text": [
      "Procesando registro/orden 1499...\n"
     ]
    },
    {
     "name": "stderr",
     "output_type": "stream",
     "text": [
      "18:47:01 - cmdstanpy - INFO - Chain [1] start processing\n",
      "18:47:02 - cmdstanpy - INFO - Chain [1] done processing\n"
     ]
    },
    {
     "name": "stdout",
     "output_type": "stream",
     "text": [
      "Procesando registro/orden 1500...\n"
     ]
    },
    {
     "name": "stderr",
     "output_type": "stream",
     "text": [
      "18:47:05 - cmdstanpy - INFO - Chain [1] start processing\n",
      "18:47:07 - cmdstanpy - INFO - Chain [1] done processing\n"
     ]
    },
    {
     "name": "stdout",
     "output_type": "stream",
     "text": [
      "Procesando registro/orden 1501...\n"
     ]
    },
    {
     "name": "stderr",
     "output_type": "stream",
     "text": [
      "18:47:12 - cmdstanpy - INFO - Chain [1] start processing\n",
      "18:47:13 - cmdstanpy - INFO - Chain [1] done processing\n"
     ]
    },
    {
     "name": "stdout",
     "output_type": "stream",
     "text": [
      "Procesando registro/orden 1502...\n"
     ]
    },
    {
     "name": "stderr",
     "output_type": "stream",
     "text": [
      "18:47:19 - cmdstanpy - INFO - Chain [1] start processing\n",
      "18:47:20 - cmdstanpy - INFO - Chain [1] done processing\n"
     ]
    },
    {
     "name": "stdout",
     "output_type": "stream",
     "text": [
      "Procesando registro/orden 1503...\n"
     ]
    },
    {
     "name": "stderr",
     "output_type": "stream",
     "text": [
      "18:47:26 - cmdstanpy - INFO - Chain [1] start processing\n",
      "18:47:27 - cmdstanpy - INFO - Chain [1] done processing\n"
     ]
    },
    {
     "name": "stdout",
     "output_type": "stream",
     "text": [
      "Procesando registro/orden 1504...\n"
     ]
    },
    {
     "name": "stderr",
     "output_type": "stream",
     "text": [
      "18:47:33 - cmdstanpy - INFO - Chain [1] start processing\n",
      "18:47:34 - cmdstanpy - INFO - Chain [1] done processing\n"
     ]
    },
    {
     "name": "stdout",
     "output_type": "stream",
     "text": [
      "Procesando registro/orden 1505...\n"
     ]
    },
    {
     "name": "stderr",
     "output_type": "stream",
     "text": [
      "18:47:38 - cmdstanpy - INFO - Chain [1] start processing\n",
      "18:47:39 - cmdstanpy - INFO - Chain [1] done processing\n"
     ]
    },
    {
     "name": "stdout",
     "output_type": "stream",
     "text": [
      "Procesando registro/orden 1506...\n"
     ]
    },
    {
     "name": "stderr",
     "output_type": "stream",
     "text": [
      "18:47:46 - cmdstanpy - INFO - Chain [1] start processing\n",
      "18:47:47 - cmdstanpy - INFO - Chain [1] done processing\n"
     ]
    },
    {
     "name": "stdout",
     "output_type": "stream",
     "text": [
      "Procesando registro/orden 1507...\n"
     ]
    },
    {
     "name": "stderr",
     "output_type": "stream",
     "text": [
      "18:47:52 - cmdstanpy - INFO - Chain [1] start processing\n",
      "18:47:53 - cmdstanpy - INFO - Chain [1] done processing\n"
     ]
    },
    {
     "name": "stdout",
     "output_type": "stream",
     "text": [
      "Procesando registro/orden 1508...\n"
     ]
    },
    {
     "name": "stderr",
     "output_type": "stream",
     "text": [
      "18:47:59 - cmdstanpy - INFO - Chain [1] start processing\n",
      "18:48:01 - cmdstanpy - INFO - Chain [1] done processing\n"
     ]
    },
    {
     "name": "stdout",
     "output_type": "stream",
     "text": [
      "Procesando registro/orden 1509...\n"
     ]
    },
    {
     "name": "stderr",
     "output_type": "stream",
     "text": [
      "18:48:05 - cmdstanpy - INFO - Chain [1] start processing\n",
      "18:48:07 - cmdstanpy - INFO - Chain [1] done processing\n"
     ]
    },
    {
     "name": "stdout",
     "output_type": "stream",
     "text": [
      "Procesando registro/orden 1510...\n"
     ]
    },
    {
     "name": "stderr",
     "output_type": "stream",
     "text": [
      "18:48:13 - cmdstanpy - INFO - Chain [1] start processing\n",
      "18:48:14 - cmdstanpy - INFO - Chain [1] done processing\n"
     ]
    },
    {
     "name": "stdout",
     "output_type": "stream",
     "text": [
      "Procesando registro/orden 1511...\n"
     ]
    },
    {
     "name": "stderr",
     "output_type": "stream",
     "text": [
      "18:48:20 - cmdstanpy - INFO - Chain [1] start processing\n",
      "18:48:22 - cmdstanpy - INFO - Chain [1] done processing\n"
     ]
    },
    {
     "name": "stdout",
     "output_type": "stream",
     "text": [
      "Procesando registro/orden 1512...\n"
     ]
    },
    {
     "name": "stderr",
     "output_type": "stream",
     "text": [
      "18:48:28 - cmdstanpy - INFO - Chain [1] start processing\n",
      "18:48:29 - cmdstanpy - INFO - Chain [1] done processing\n"
     ]
    },
    {
     "name": "stdout",
     "output_type": "stream",
     "text": [
      "Procesando registro/orden 1513...\n"
     ]
    },
    {
     "name": "stderr",
     "output_type": "stream",
     "text": [
      "18:48:33 - cmdstanpy - INFO - Chain [1] start processing\n",
      "18:48:35 - cmdstanpy - INFO - Chain [1] done processing\n"
     ]
    },
    {
     "name": "stdout",
     "output_type": "stream",
     "text": [
      "Procesando registro/orden 1514...\n"
     ]
    },
    {
     "name": "stderr",
     "output_type": "stream",
     "text": [
      "18:48:40 - cmdstanpy - INFO - Chain [1] start processing\n",
      "18:48:41 - cmdstanpy - INFO - Chain [1] done processing\n"
     ]
    },
    {
     "name": "stdout",
     "output_type": "stream",
     "text": [
      "Procesando registro/orden 1515...\n"
     ]
    },
    {
     "name": "stderr",
     "output_type": "stream",
     "text": [
      "18:48:47 - cmdstanpy - INFO - Chain [1] start processing\n",
      "18:48:48 - cmdstanpy - INFO - Chain [1] done processing\n"
     ]
    },
    {
     "name": "stdout",
     "output_type": "stream",
     "text": [
      "Procesando registro/orden 1516...\n"
     ]
    },
    {
     "name": "stderr",
     "output_type": "stream",
     "text": [
      "18:48:54 - cmdstanpy - INFO - Chain [1] start processing\n",
      "18:48:55 - cmdstanpy - INFO - Chain [1] done processing\n"
     ]
    },
    {
     "name": "stdout",
     "output_type": "stream",
     "text": [
      "Procesando registro/orden 1517...\n"
     ]
    },
    {
     "name": "stderr",
     "output_type": "stream",
     "text": [
      "18:49:01 - cmdstanpy - INFO - Chain [1] start processing\n",
      "18:49:02 - cmdstanpy - INFO - Chain [1] done processing\n"
     ]
    },
    {
     "name": "stdout",
     "output_type": "stream",
     "text": [
      "Procesando registro/orden 1518...\n"
     ]
    },
    {
     "name": "stderr",
     "output_type": "stream",
     "text": [
      "18:49:08 - cmdstanpy - INFO - Chain [1] start processing\n",
      "18:49:09 - cmdstanpy - INFO - Chain [1] done processing\n"
     ]
    },
    {
     "name": "stdout",
     "output_type": "stream",
     "text": [
      "Procesando registro/orden 1519...\n"
     ]
    },
    {
     "name": "stderr",
     "output_type": "stream",
     "text": [
      "18:49:16 - cmdstanpy - INFO - Chain [1] start processing\n",
      "18:49:17 - cmdstanpy - INFO - Chain [1] done processing\n"
     ]
    },
    {
     "name": "stdout",
     "output_type": "stream",
     "text": [
      "Procesando registro/orden 1520...\n"
     ]
    },
    {
     "name": "stderr",
     "output_type": "stream",
     "text": [
      "18:49:21 - cmdstanpy - INFO - Chain [1] start processing\n",
      "18:49:22 - cmdstanpy - INFO - Chain [1] done processing\n"
     ]
    },
    {
     "name": "stdout",
     "output_type": "stream",
     "text": [
      "Procesando registro/orden 1521...\n"
     ]
    },
    {
     "name": "stderr",
     "output_type": "stream",
     "text": [
      "18:49:26 - cmdstanpy - INFO - Chain [1] start processing\n",
      "18:49:27 - cmdstanpy - INFO - Chain [1] done processing\n"
     ]
    },
    {
     "name": "stdout",
     "output_type": "stream",
     "text": [
      "Procesando registro/orden 1522...\n"
     ]
    },
    {
     "name": "stderr",
     "output_type": "stream",
     "text": [
      "18:49:32 - cmdstanpy - INFO - Chain [1] start processing\n",
      "18:49:33 - cmdstanpy - INFO - Chain [1] done processing\n"
     ]
    },
    {
     "name": "stdout",
     "output_type": "stream",
     "text": [
      "Procesando registro/orden 1523...\n"
     ]
    },
    {
     "name": "stderr",
     "output_type": "stream",
     "text": [
      "18:49:38 - cmdstanpy - INFO - Chain [1] start processing\n",
      "18:49:39 - cmdstanpy - INFO - Chain [1] done processing\n"
     ]
    },
    {
     "name": "stdout",
     "output_type": "stream",
     "text": [
      "Procesando registro/orden 1524...\n"
     ]
    },
    {
     "name": "stderr",
     "output_type": "stream",
     "text": [
      "18:49:44 - cmdstanpy - INFO - Chain [1] start processing\n",
      "18:49:45 - cmdstanpy - INFO - Chain [1] done processing\n"
     ]
    },
    {
     "name": "stdout",
     "output_type": "stream",
     "text": [
      "Procesando registro/orden 1525...\n"
     ]
    },
    {
     "name": "stderr",
     "output_type": "stream",
     "text": [
      "18:49:51 - cmdstanpy - INFO - Chain [1] start processing\n",
      "18:49:51 - cmdstanpy - INFO - Chain [1] done processing\n"
     ]
    },
    {
     "name": "stdout",
     "output_type": "stream",
     "text": [
      "Procesando registro/orden 1526...\n"
     ]
    },
    {
     "name": "stderr",
     "output_type": "stream",
     "text": [
      "18:49:57 - cmdstanpy - INFO - Chain [1] start processing\n",
      "18:49:58 - cmdstanpy - INFO - Chain [1] done processing\n"
     ]
    },
    {
     "name": "stdout",
     "output_type": "stream",
     "text": [
      "Procesando registro/orden 1527...\n"
     ]
    },
    {
     "name": "stderr",
     "output_type": "stream",
     "text": [
      "18:50:04 - cmdstanpy - INFO - Chain [1] start processing\n",
      "18:50:05 - cmdstanpy - INFO - Chain [1] done processing\n"
     ]
    },
    {
     "name": "stdout",
     "output_type": "stream",
     "text": [
      "Procesando registro/orden 1528...\n"
     ]
    },
    {
     "name": "stderr",
     "output_type": "stream",
     "text": [
      "18:50:11 - cmdstanpy - INFO - Chain [1] start processing\n",
      "18:50:12 - cmdstanpy - INFO - Chain [1] done processing\n"
     ]
    },
    {
     "name": "stdout",
     "output_type": "stream",
     "text": [
      "Procesando registro/orden 1529...\n"
     ]
    },
    {
     "name": "stderr",
     "output_type": "stream",
     "text": [
      "18:50:16 - cmdstanpy - INFO - Chain [1] start processing\n",
      "18:50:17 - cmdstanpy - INFO - Chain [1] done processing\n"
     ]
    },
    {
     "name": "stdout",
     "output_type": "stream",
     "text": [
      "Procesando registro/orden 1530...\n"
     ]
    },
    {
     "name": "stderr",
     "output_type": "stream",
     "text": [
      "18:50:22 - cmdstanpy - INFO - Chain [1] start processing\n",
      "18:50:23 - cmdstanpy - INFO - Chain [1] done processing\n"
     ]
    },
    {
     "name": "stdout",
     "output_type": "stream",
     "text": [
      "Procesando registro/orden 1531...\n"
     ]
    },
    {
     "name": "stderr",
     "output_type": "stream",
     "text": [
      "18:50:27 - cmdstanpy - INFO - Chain [1] start processing\n",
      "18:50:28 - cmdstanpy - INFO - Chain [1] done processing\n"
     ]
    },
    {
     "name": "stdout",
     "output_type": "stream",
     "text": [
      "Procesando registro/orden 1532...\n"
     ]
    },
    {
     "name": "stderr",
     "output_type": "stream",
     "text": [
      "18:50:32 - cmdstanpy - INFO - Chain [1] start processing\n",
      "18:50:33 - cmdstanpy - INFO - Chain [1] done processing\n"
     ]
    },
    {
     "name": "stdout",
     "output_type": "stream",
     "text": [
      "Procesando registro/orden 1533...\n"
     ]
    },
    {
     "name": "stderr",
     "output_type": "stream",
     "text": [
      "18:50:36 - cmdstanpy - INFO - Chain [1] start processing\n",
      "18:50:37 - cmdstanpy - INFO - Chain [1] done processing\n"
     ]
    },
    {
     "name": "stdout",
     "output_type": "stream",
     "text": [
      "Procesando registro/orden 1534...\n"
     ]
    },
    {
     "name": "stderr",
     "output_type": "stream",
     "text": [
      "18:50:44 - cmdstanpy - INFO - Chain [1] start processing\n",
      "18:50:45 - cmdstanpy - INFO - Chain [1] done processing\n"
     ]
    },
    {
     "name": "stdout",
     "output_type": "stream",
     "text": [
      "Procesando registro/orden 1535...\n"
     ]
    },
    {
     "name": "stderr",
     "output_type": "stream",
     "text": [
      "18:50:49 - cmdstanpy - INFO - Chain [1] start processing\n",
      "18:50:50 - cmdstanpy - INFO - Chain [1] done processing\n"
     ]
    },
    {
     "name": "stdout",
     "output_type": "stream",
     "text": [
      "Procesando registro/orden 1536...\n"
     ]
    },
    {
     "name": "stderr",
     "output_type": "stream",
     "text": [
      "18:50:54 - cmdstanpy - INFO - Chain [1] start processing\n",
      "18:50:55 - cmdstanpy - INFO - Chain [1] done processing\n"
     ]
    },
    {
     "name": "stdout",
     "output_type": "stream",
     "text": [
      "Procesando registro/orden 1537...\n"
     ]
    },
    {
     "name": "stderr",
     "output_type": "stream",
     "text": [
      "18:50:59 - cmdstanpy - INFO - Chain [1] start processing\n",
      "18:51:00 - cmdstanpy - INFO - Chain [1] done processing\n"
     ]
    },
    {
     "name": "stdout",
     "output_type": "stream",
     "text": [
      "Procesando registro/orden 1538...\n"
     ]
    },
    {
     "name": "stderr",
     "output_type": "stream",
     "text": [
      "18:51:06 - cmdstanpy - INFO - Chain [1] start processing\n",
      "18:51:08 - cmdstanpy - INFO - Chain [1] done processing\n"
     ]
    },
    {
     "name": "stdout",
     "output_type": "stream",
     "text": [
      "Procesando registro/orden 1539...\n"
     ]
    },
    {
     "name": "stderr",
     "output_type": "stream",
     "text": [
      "18:51:13 - cmdstanpy - INFO - Chain [1] start processing\n",
      "18:51:14 - cmdstanpy - INFO - Chain [1] done processing\n"
     ]
    },
    {
     "name": "stdout",
     "output_type": "stream",
     "text": [
      "Procesando registro/orden 1540...\n"
     ]
    },
    {
     "name": "stderr",
     "output_type": "stream",
     "text": [
      "18:51:19 - cmdstanpy - INFO - Chain [1] start processing\n",
      "18:51:21 - cmdstanpy - INFO - Chain [1] done processing\n"
     ]
    },
    {
     "name": "stdout",
     "output_type": "stream",
     "text": [
      "Procesando registro/orden 1541...\n"
     ]
    },
    {
     "name": "stderr",
     "output_type": "stream",
     "text": [
      "18:51:26 - cmdstanpy - INFO - Chain [1] start processing\n",
      "18:51:27 - cmdstanpy - INFO - Chain [1] done processing\n"
     ]
    },
    {
     "name": "stdout",
     "output_type": "stream",
     "text": [
      "Procesando registro/orden 1542...\n"
     ]
    },
    {
     "name": "stderr",
     "output_type": "stream",
     "text": [
      "18:51:33 - cmdstanpy - INFO - Chain [1] start processing\n",
      "18:51:34 - cmdstanpy - INFO - Chain [1] done processing\n"
     ]
    },
    {
     "name": "stdout",
     "output_type": "stream",
     "text": [
      "Procesando registro/orden 1543...\n"
     ]
    },
    {
     "name": "stderr",
     "output_type": "stream",
     "text": [
      "18:51:39 - cmdstanpy - INFO - Chain [1] start processing\n",
      "18:51:40 - cmdstanpy - INFO - Chain [1] done processing\n"
     ]
    },
    {
     "name": "stdout",
     "output_type": "stream",
     "text": [
      "Procesando registro/orden 1544...\n"
     ]
    },
    {
     "name": "stderr",
     "output_type": "stream",
     "text": [
      "18:51:47 - cmdstanpy - INFO - Chain [1] start processing\n",
      "18:51:48 - cmdstanpy - INFO - Chain [1] done processing\n"
     ]
    },
    {
     "name": "stdout",
     "output_type": "stream",
     "text": [
      "Procesando registro/orden 1545...\n"
     ]
    },
    {
     "name": "stderr",
     "output_type": "stream",
     "text": [
      "18:51:54 - cmdstanpy - INFO - Chain [1] start processing\n",
      "18:51:55 - cmdstanpy - INFO - Chain [1] done processing\n"
     ]
    },
    {
     "name": "stdout",
     "output_type": "stream",
     "text": [
      "Procesando registro/orden 1546...\n"
     ]
    },
    {
     "name": "stderr",
     "output_type": "stream",
     "text": [
      "18:51:59 - cmdstanpy - INFO - Chain [1] start processing\n",
      "18:52:00 - cmdstanpy - INFO - Chain [1] done processing\n"
     ]
    },
    {
     "name": "stdout",
     "output_type": "stream",
     "text": [
      "Procesando registro/orden 1547...\n"
     ]
    },
    {
     "name": "stderr",
     "output_type": "stream",
     "text": [
      "18:52:06 - cmdstanpy - INFO - Chain [1] start processing\n",
      "18:52:07 - cmdstanpy - INFO - Chain [1] done processing\n"
     ]
    },
    {
     "name": "stdout",
     "output_type": "stream",
     "text": [
      "Procesando registro/orden 1548...\n"
     ]
    },
    {
     "name": "stderr",
     "output_type": "stream",
     "text": [
      "18:52:11 - cmdstanpy - INFO - Chain [1] start processing\n",
      "18:52:12 - cmdstanpy - INFO - Chain [1] done processing\n"
     ]
    },
    {
     "name": "stdout",
     "output_type": "stream",
     "text": [
      "Procesando registro/orden 1549...\n"
     ]
    },
    {
     "name": "stderr",
     "output_type": "stream",
     "text": [
      "18:52:16 - cmdstanpy - INFO - Chain [1] start processing\n",
      "18:52:17 - cmdstanpy - INFO - Chain [1] done processing\n"
     ]
    },
    {
     "name": "stdout",
     "output_type": "stream",
     "text": [
      "Procesando registro/orden 1550...\n"
     ]
    },
    {
     "name": "stderr",
     "output_type": "stream",
     "text": [
      "18:52:22 - cmdstanpy - INFO - Chain [1] start processing\n",
      "18:52:23 - cmdstanpy - INFO - Chain [1] done processing\n"
     ]
    },
    {
     "name": "stdout",
     "output_type": "stream",
     "text": [
      "Procesando registro/orden 1551...\n"
     ]
    },
    {
     "name": "stderr",
     "output_type": "stream",
     "text": [
      "18:52:27 - cmdstanpy - INFO - Chain [1] start processing\n",
      "18:52:28 - cmdstanpy - INFO - Chain [1] done processing\n"
     ]
    },
    {
     "name": "stdout",
     "output_type": "stream",
     "text": [
      "Procesando registro/orden 1552...\n"
     ]
    },
    {
     "name": "stderr",
     "output_type": "stream",
     "text": [
      "18:52:33 - cmdstanpy - INFO - Chain [1] start processing\n",
      "18:52:34 - cmdstanpy - INFO - Chain [1] done processing\n"
     ]
    },
    {
     "name": "stdout",
     "output_type": "stream",
     "text": [
      "Procesando registro/orden 1553...\n"
     ]
    },
    {
     "name": "stderr",
     "output_type": "stream",
     "text": [
      "18:52:39 - cmdstanpy - INFO - Chain [1] start processing\n",
      "18:52:39 - cmdstanpy - INFO - Chain [1] done processing\n"
     ]
    },
    {
     "name": "stdout",
     "output_type": "stream",
     "text": [
      "Procesando registro/orden 1554...\n"
     ]
    },
    {
     "name": "stderr",
     "output_type": "stream",
     "text": [
      "18:52:44 - cmdstanpy - INFO - Chain [1] start processing\n",
      "18:52:45 - cmdstanpy - INFO - Chain [1] done processing\n"
     ]
    },
    {
     "name": "stdout",
     "output_type": "stream",
     "text": [
      "Procesando registro/orden 1555...\n"
     ]
    },
    {
     "name": "stderr",
     "output_type": "stream",
     "text": [
      "18:52:51 - cmdstanpy - INFO - Chain [1] start processing\n",
      "18:52:52 - cmdstanpy - INFO - Chain [1] done processing\n"
     ]
    },
    {
     "name": "stdout",
     "output_type": "stream",
     "text": [
      "Procesando registro/orden 1556...\n"
     ]
    },
    {
     "name": "stderr",
     "output_type": "stream",
     "text": [
      "18:52:57 - cmdstanpy - INFO - Chain [1] start processing\n",
      "18:52:59 - cmdstanpy - INFO - Chain [1] done processing\n"
     ]
    },
    {
     "name": "stdout",
     "output_type": "stream",
     "text": [
      "Procesando registro/orden 1557...\n"
     ]
    },
    {
     "name": "stderr",
     "output_type": "stream",
     "text": [
      "18:53:04 - cmdstanpy - INFO - Chain [1] start processing\n",
      "18:53:05 - cmdstanpy - INFO - Chain [1] done processing\n"
     ]
    },
    {
     "name": "stdout",
     "output_type": "stream",
     "text": [
      "Procesando registro/orden 1558...\n"
     ]
    },
    {
     "name": "stderr",
     "output_type": "stream",
     "text": [
      "18:53:10 - cmdstanpy - INFO - Chain [1] start processing\n",
      "18:53:11 - cmdstanpy - INFO - Chain [1] done processing\n"
     ]
    },
    {
     "name": "stdout",
     "output_type": "stream",
     "text": [
      "Procesando registro/orden 1559...\n"
     ]
    },
    {
     "name": "stderr",
     "output_type": "stream",
     "text": [
      "18:53:17 - cmdstanpy - INFO - Chain [1] start processing\n",
      "18:53:18 - cmdstanpy - INFO - Chain [1] done processing\n"
     ]
    },
    {
     "name": "stdout",
     "output_type": "stream",
     "text": [
      "Procesando registro/orden 1560...\n"
     ]
    },
    {
     "name": "stderr",
     "output_type": "stream",
     "text": [
      "18:53:24 - cmdstanpy - INFO - Chain [1] start processing\n",
      "18:53:25 - cmdstanpy - INFO - Chain [1] done processing\n"
     ]
    },
    {
     "name": "stdout",
     "output_type": "stream",
     "text": [
      "Procesando registro/orden 1561...\n"
     ]
    },
    {
     "name": "stderr",
     "output_type": "stream",
     "text": [
      "18:53:30 - cmdstanpy - INFO - Chain [1] start processing\n",
      "18:53:31 - cmdstanpy - INFO - Chain [1] done processing\n"
     ]
    },
    {
     "name": "stdout",
     "output_type": "stream",
     "text": [
      "Procesando registro/orden 1562...\n"
     ]
    },
    {
     "name": "stderr",
     "output_type": "stream",
     "text": [
      "18:53:35 - cmdstanpy - INFO - Chain [1] start processing\n",
      "18:53:37 - cmdstanpy - INFO - Chain [1] done processing\n"
     ]
    },
    {
     "name": "stdout",
     "output_type": "stream",
     "text": [
      "Procesando registro/orden 1563...\n"
     ]
    },
    {
     "name": "stderr",
     "output_type": "stream",
     "text": [
      "18:53:42 - cmdstanpy - INFO - Chain [1] start processing\n",
      "18:53:43 - cmdstanpy - INFO - Chain [1] done processing\n"
     ]
    },
    {
     "name": "stdout",
     "output_type": "stream",
     "text": [
      "Procesando registro/orden 1564...\n"
     ]
    },
    {
     "name": "stderr",
     "output_type": "stream",
     "text": [
      "18:53:48 - cmdstanpy - INFO - Chain [1] start processing\n",
      "18:53:48 - cmdstanpy - INFO - Chain [1] done processing\n"
     ]
    },
    {
     "name": "stdout",
     "output_type": "stream",
     "text": [
      "Procesando registro/orden 1565...\n"
     ]
    },
    {
     "name": "stderr",
     "output_type": "stream",
     "text": [
      "18:53:53 - cmdstanpy - INFO - Chain [1] start processing\n",
      "18:53:54 - cmdstanpy - INFO - Chain [1] done processing\n"
     ]
    },
    {
     "name": "stdout",
     "output_type": "stream",
     "text": [
      "Procesando registro/orden 1566...\n"
     ]
    },
    {
     "name": "stderr",
     "output_type": "stream",
     "text": [
      "18:54:00 - cmdstanpy - INFO - Chain [1] start processing\n",
      "18:54:01 - cmdstanpy - INFO - Chain [1] done processing\n"
     ]
    },
    {
     "name": "stdout",
     "output_type": "stream",
     "text": [
      "Procesando registro/orden 1567...\n"
     ]
    },
    {
     "name": "stderr",
     "output_type": "stream",
     "text": [
      "18:54:06 - cmdstanpy - INFO - Chain [1] start processing\n",
      "18:54:07 - cmdstanpy - INFO - Chain [1] done processing\n"
     ]
    },
    {
     "name": "stdout",
     "output_type": "stream",
     "text": [
      "Procesando registro/orden 1568...\n"
     ]
    },
    {
     "name": "stderr",
     "output_type": "stream",
     "text": [
      "18:54:12 - cmdstanpy - INFO - Chain [1] start processing\n",
      "18:54:13 - cmdstanpy - INFO - Chain [1] done processing\n"
     ]
    },
    {
     "name": "stdout",
     "output_type": "stream",
     "text": [
      "Procesando registro/orden 1569...\n"
     ]
    },
    {
     "name": "stderr",
     "output_type": "stream",
     "text": [
      "18:54:16 - cmdstanpy - INFO - Chain [1] start processing\n",
      "18:54:18 - cmdstanpy - INFO - Chain [1] done processing\n"
     ]
    },
    {
     "name": "stdout",
     "output_type": "stream",
     "text": [
      "Procesando registro/orden 1570...\n"
     ]
    },
    {
     "name": "stderr",
     "output_type": "stream",
     "text": [
      "18:54:24 - cmdstanpy - INFO - Chain [1] start processing\n",
      "18:54:25 - cmdstanpy - INFO - Chain [1] done processing\n"
     ]
    },
    {
     "name": "stdout",
     "output_type": "stream",
     "text": [
      "Procesando registro/orden 1571...\n"
     ]
    },
    {
     "name": "stderr",
     "output_type": "stream",
     "text": [
      "18:54:30 - cmdstanpy - INFO - Chain [1] start processing\n",
      "18:54:31 - cmdstanpy - INFO - Chain [1] done processing\n"
     ]
    },
    {
     "name": "stdout",
     "output_type": "stream",
     "text": [
      "Procesando registro/orden 1572...\n"
     ]
    },
    {
     "name": "stderr",
     "output_type": "stream",
     "text": [
      "18:54:36 - cmdstanpy - INFO - Chain [1] start processing\n",
      "18:54:36 - cmdstanpy - INFO - Chain [1] done processing\n"
     ]
    },
    {
     "name": "stdout",
     "output_type": "stream",
     "text": [
      "Procesando registro/orden 1573...\n"
     ]
    },
    {
     "name": "stderr",
     "output_type": "stream",
     "text": [
      "18:54:40 - cmdstanpy - INFO - Chain [1] start processing\n",
      "18:54:41 - cmdstanpy - INFO - Chain [1] done processing\n"
     ]
    },
    {
     "name": "stdout",
     "output_type": "stream",
     "text": [
      "Procesando registro/orden 1574...\n"
     ]
    },
    {
     "name": "stderr",
     "output_type": "stream",
     "text": [
      "18:54:45 - cmdstanpy - INFO - Chain [1] start processing\n",
      "18:54:46 - cmdstanpy - INFO - Chain [1] done processing\n"
     ]
    },
    {
     "name": "stdout",
     "output_type": "stream",
     "text": [
      "Procesando registro/orden 1575...\n"
     ]
    },
    {
     "name": "stderr",
     "output_type": "stream",
     "text": [
      "18:54:52 - cmdstanpy - INFO - Chain [1] start processing\n",
      "18:54:53 - cmdstanpy - INFO - Chain [1] done processing\n"
     ]
    },
    {
     "name": "stdout",
     "output_type": "stream",
     "text": [
      "Procesando registro/orden 1576...\n"
     ]
    },
    {
     "name": "stderr",
     "output_type": "stream",
     "text": [
      "18:54:57 - cmdstanpy - INFO - Chain [1] start processing\n",
      "18:54:58 - cmdstanpy - INFO - Chain [1] done processing\n"
     ]
    },
    {
     "name": "stdout",
     "output_type": "stream",
     "text": [
      "Procesando registro/orden 1577...\n"
     ]
    },
    {
     "name": "stderr",
     "output_type": "stream",
     "text": [
      "18:55:02 - cmdstanpy - INFO - Chain [1] start processing\n",
      "18:55:03 - cmdstanpy - INFO - Chain [1] done processing\n"
     ]
    },
    {
     "name": "stdout",
     "output_type": "stream",
     "text": [
      "Procesando registro/orden 1578...\n"
     ]
    },
    {
     "name": "stderr",
     "output_type": "stream",
     "text": [
      "18:55:07 - cmdstanpy - INFO - Chain [1] start processing\n",
      "18:55:08 - cmdstanpy - INFO - Chain [1] done processing\n"
     ]
    },
    {
     "name": "stdout",
     "output_type": "stream",
     "text": [
      "Procesando registro/orden 1579...\n"
     ]
    },
    {
     "name": "stderr",
     "output_type": "stream",
     "text": [
      "18:55:11 - cmdstanpy - INFO - Chain [1] start processing\n",
      "18:55:13 - cmdstanpy - INFO - Chain [1] done processing\n"
     ]
    },
    {
     "name": "stdout",
     "output_type": "stream",
     "text": [
      "Procesando registro/orden 1580...\n"
     ]
    },
    {
     "name": "stderr",
     "output_type": "stream",
     "text": [
      "18:55:18 - cmdstanpy - INFO - Chain [1] start processing\n",
      "18:55:19 - cmdstanpy - INFO - Chain [1] done processing\n"
     ]
    },
    {
     "name": "stdout",
     "output_type": "stream",
     "text": [
      "Procesando registro/orden 1581...\n"
     ]
    },
    {
     "name": "stderr",
     "output_type": "stream",
     "text": [
      "18:55:23 - cmdstanpy - INFO - Chain [1] start processing\n",
      "18:55:24 - cmdstanpy - INFO - Chain [1] done processing\n"
     ]
    },
    {
     "name": "stdout",
     "output_type": "stream",
     "text": [
      "Procesando registro/orden 1582...\n"
     ]
    },
    {
     "name": "stderr",
     "output_type": "stream",
     "text": [
      "18:55:31 - cmdstanpy - INFO - Chain [1] start processing\n",
      "18:55:32 - cmdstanpy - INFO - Chain [1] done processing\n"
     ]
    },
    {
     "name": "stdout",
     "output_type": "stream",
     "text": [
      "Procesando registro/orden 1583...\n"
     ]
    },
    {
     "name": "stderr",
     "output_type": "stream",
     "text": [
      "18:55:37 - cmdstanpy - INFO - Chain [1] start processing\n",
      "18:55:38 - cmdstanpy - INFO - Chain [1] done processing\n"
     ]
    },
    {
     "name": "stdout",
     "output_type": "stream",
     "text": [
      "Procesando registro/orden 1584...\n"
     ]
    },
    {
     "name": "stderr",
     "output_type": "stream",
     "text": [
      "18:55:43 - cmdstanpy - INFO - Chain [1] start processing\n",
      "18:55:44 - cmdstanpy - INFO - Chain [1] done processing\n"
     ]
    },
    {
     "name": "stdout",
     "output_type": "stream",
     "text": [
      "Procesando registro/orden 1585...\n"
     ]
    },
    {
     "name": "stderr",
     "output_type": "stream",
     "text": [
      "18:55:48 - cmdstanpy - INFO - Chain [1] start processing\n",
      "18:55:49 - cmdstanpy - INFO - Chain [1] done processing\n"
     ]
    },
    {
     "name": "stdout",
     "output_type": "stream",
     "text": [
      "Procesando registro/orden 1586...\n"
     ]
    },
    {
     "name": "stderr",
     "output_type": "stream",
     "text": [
      "18:55:53 - cmdstanpy - INFO - Chain [1] start processing\n",
      "18:55:54 - cmdstanpy - INFO - Chain [1] done processing\n"
     ]
    },
    {
     "name": "stdout",
     "output_type": "stream",
     "text": [
      "Procesando registro/orden 1587...\n"
     ]
    },
    {
     "name": "stderr",
     "output_type": "stream",
     "text": [
      "18:55:59 - cmdstanpy - INFO - Chain [1] start processing\n",
      "18:56:00 - cmdstanpy - INFO - Chain [1] done processing\n"
     ]
    },
    {
     "name": "stdout",
     "output_type": "stream",
     "text": [
      "Procesando registro/orden 1588...\n"
     ]
    },
    {
     "name": "stderr",
     "output_type": "stream",
     "text": [
      "18:56:05 - cmdstanpy - INFO - Chain [1] start processing\n",
      "18:56:06 - cmdstanpy - INFO - Chain [1] done processing\n"
     ]
    },
    {
     "name": "stdout",
     "output_type": "stream",
     "text": [
      "Procesando registro/orden 1589...\n"
     ]
    },
    {
     "name": "stderr",
     "output_type": "stream",
     "text": [
      "18:56:10 - cmdstanpy - INFO - Chain [1] start processing\n",
      "18:56:11 - cmdstanpy - INFO - Chain [1] done processing\n"
     ]
    },
    {
     "name": "stdout",
     "output_type": "stream",
     "text": [
      "Procesando registro/orden 1590...\n"
     ]
    },
    {
     "name": "stderr",
     "output_type": "stream",
     "text": [
      "18:56:16 - cmdstanpy - INFO - Chain [1] start processing\n",
      "18:56:17 - cmdstanpy - INFO - Chain [1] done processing\n"
     ]
    },
    {
     "name": "stdout",
     "output_type": "stream",
     "text": [
      "Procesando registro/orden 1591...\n"
     ]
    },
    {
     "name": "stderr",
     "output_type": "stream",
     "text": [
      "18:56:22 - cmdstanpy - INFO - Chain [1] start processing\n",
      "18:56:23 - cmdstanpy - INFO - Chain [1] done processing\n"
     ]
    },
    {
     "name": "stdout",
     "output_type": "stream",
     "text": [
      "Procesando registro/orden 1592...\n"
     ]
    },
    {
     "name": "stderr",
     "output_type": "stream",
     "text": [
      "18:56:27 - cmdstanpy - INFO - Chain [1] start processing\n",
      "18:56:28 - cmdstanpy - INFO - Chain [1] done processing\n"
     ]
    },
    {
     "name": "stdout",
     "output_type": "stream",
     "text": [
      "Procesando registro/orden 1593...\n"
     ]
    },
    {
     "name": "stderr",
     "output_type": "stream",
     "text": [
      "18:56:32 - cmdstanpy - INFO - Chain [1] start processing\n",
      "18:56:33 - cmdstanpy - INFO - Chain [1] done processing\n"
     ]
    },
    {
     "name": "stdout",
     "output_type": "stream",
     "text": [
      "Procesando registro/orden 1594...\n"
     ]
    },
    {
     "name": "stderr",
     "output_type": "stream",
     "text": [
      "18:56:37 - cmdstanpy - INFO - Chain [1] start processing\n",
      "18:56:38 - cmdstanpy - INFO - Chain [1] done processing\n"
     ]
    },
    {
     "name": "stdout",
     "output_type": "stream",
     "text": [
      "Procesando registro/orden 1595...\n"
     ]
    },
    {
     "name": "stderr",
     "output_type": "stream",
     "text": [
      "18:56:44 - cmdstanpy - INFO - Chain [1] start processing\n",
      "18:56:45 - cmdstanpy - INFO - Chain [1] done processing\n"
     ]
    },
    {
     "name": "stdout",
     "output_type": "stream",
     "text": [
      "Procesando registro/orden 1596...\n"
     ]
    },
    {
     "name": "stderr",
     "output_type": "stream",
     "text": [
      "18:56:51 - cmdstanpy - INFO - Chain [1] start processing\n",
      "18:56:51 - cmdstanpy - INFO - Chain [1] done processing\n"
     ]
    },
    {
     "name": "stdout",
     "output_type": "stream",
     "text": [
      "Procesando registro/orden 1597...\n"
     ]
    },
    {
     "name": "stderr",
     "output_type": "stream",
     "text": [
      "18:56:56 - cmdstanpy - INFO - Chain [1] start processing\n",
      "18:56:57 - cmdstanpy - INFO - Chain [1] done processing\n"
     ]
    },
    {
     "name": "stdout",
     "output_type": "stream",
     "text": [
      "Procesando registro/orden 1598...\n"
     ]
    },
    {
     "name": "stderr",
     "output_type": "stream",
     "text": [
      "18:57:01 - cmdstanpy - INFO - Chain [1] start processing\n",
      "18:57:02 - cmdstanpy - INFO - Chain [1] done processing\n"
     ]
    },
    {
     "name": "stdout",
     "output_type": "stream",
     "text": [
      "Procesando registro/orden 1599...\n"
     ]
    },
    {
     "name": "stderr",
     "output_type": "stream",
     "text": [
      "18:57:07 - cmdstanpy - INFO - Chain [1] start processing\n",
      "18:57:08 - cmdstanpy - INFO - Chain [1] done processing\n"
     ]
    },
    {
     "name": "stdout",
     "output_type": "stream",
     "text": [
      "Procesando registro/orden 1600...\n"
     ]
    },
    {
     "name": "stderr",
     "output_type": "stream",
     "text": [
      "18:57:13 - cmdstanpy - INFO - Chain [1] start processing\n",
      "18:57:14 - cmdstanpy - INFO - Chain [1] done processing\n"
     ]
    },
    {
     "name": "stdout",
     "output_type": "stream",
     "text": [
      "Procesando registro/orden 1601...\n"
     ]
    },
    {
     "name": "stderr",
     "output_type": "stream",
     "text": [
      "18:57:17 - cmdstanpy - INFO - Chain [1] start processing\n",
      "18:57:19 - cmdstanpy - INFO - Chain [1] done processing\n"
     ]
    },
    {
     "name": "stdout",
     "output_type": "stream",
     "text": [
      "Procesando registro/orden 1602...\n"
     ]
    },
    {
     "name": "stderr",
     "output_type": "stream",
     "text": [
      "18:57:23 - cmdstanpy - INFO - Chain [1] start processing\n",
      "18:57:24 - cmdstanpy - INFO - Chain [1] done processing\n"
     ]
    },
    {
     "name": "stdout",
     "output_type": "stream",
     "text": [
      "Procesando registro/orden 1603...\n"
     ]
    },
    {
     "name": "stderr",
     "output_type": "stream",
     "text": [
      "18:57:28 - cmdstanpy - INFO - Chain [1] start processing\n",
      "18:57:29 - cmdstanpy - INFO - Chain [1] done processing\n"
     ]
    },
    {
     "name": "stdout",
     "output_type": "stream",
     "text": [
      "Procesando registro/orden 1604...\n"
     ]
    },
    {
     "name": "stderr",
     "output_type": "stream",
     "text": [
      "18:57:33 - cmdstanpy - INFO - Chain [1] start processing\n",
      "18:57:34 - cmdstanpy - INFO - Chain [1] done processing\n"
     ]
    },
    {
     "name": "stdout",
     "output_type": "stream",
     "text": [
      "Procesando registro/orden 1605...\n"
     ]
    },
    {
     "name": "stderr",
     "output_type": "stream",
     "text": [
      "18:57:38 - cmdstanpy - INFO - Chain [1] start processing\n",
      "18:57:39 - cmdstanpy - INFO - Chain [1] done processing\n"
     ]
    },
    {
     "name": "stdout",
     "output_type": "stream",
     "text": [
      "Procesando registro/orden 1606...\n"
     ]
    },
    {
     "name": "stderr",
     "output_type": "stream",
     "text": [
      "18:57:44 - cmdstanpy - INFO - Chain [1] start processing\n",
      "18:57:45 - cmdstanpy - INFO - Chain [1] done processing\n"
     ]
    },
    {
     "name": "stdout",
     "output_type": "stream",
     "text": [
      "Procesando registro/orden 1607...\n"
     ]
    },
    {
     "name": "stderr",
     "output_type": "stream",
     "text": [
      "18:57:50 - cmdstanpy - INFO - Chain [1] start processing\n",
      "18:57:51 - cmdstanpy - INFO - Chain [1] done processing\n"
     ]
    },
    {
     "name": "stdout",
     "output_type": "stream",
     "text": [
      "Procesando registro/orden 1608...\n"
     ]
    },
    {
     "name": "stderr",
     "output_type": "stream",
     "text": [
      "18:57:55 - cmdstanpy - INFO - Chain [1] start processing\n",
      "18:57:56 - cmdstanpy - INFO - Chain [1] done processing\n"
     ]
    },
    {
     "name": "stdout",
     "output_type": "stream",
     "text": [
      "Procesando registro/orden 1609...\n"
     ]
    },
    {
     "name": "stderr",
     "output_type": "stream",
     "text": [
      "18:58:01 - cmdstanpy - INFO - Chain [1] start processing\n",
      "18:58:01 - cmdstanpy - INFO - Chain [1] done processing\n"
     ]
    },
    {
     "name": "stdout",
     "output_type": "stream",
     "text": [
      "Procesando registro/orden 1610...\n"
     ]
    },
    {
     "name": "stderr",
     "output_type": "stream",
     "text": [
      "18:58:05 - cmdstanpy - INFO - Chain [1] start processing\n",
      "18:58:06 - cmdstanpy - INFO - Chain [1] done processing\n"
     ]
    },
    {
     "name": "stdout",
     "output_type": "stream",
     "text": [
      "Procesando registro/orden 1611...\n"
     ]
    },
    {
     "name": "stderr",
     "output_type": "stream",
     "text": [
      "18:58:11 - cmdstanpy - INFO - Chain [1] start processing\n",
      "18:58:12 - cmdstanpy - INFO - Chain [1] done processing\n"
     ]
    },
    {
     "name": "stdout",
     "output_type": "stream",
     "text": [
      "Procesando registro/orden 1612...\n"
     ]
    },
    {
     "name": "stderr",
     "output_type": "stream",
     "text": [
      "18:58:18 - cmdstanpy - INFO - Chain [1] start processing\n",
      "18:58:19 - cmdstanpy - INFO - Chain [1] done processing\n"
     ]
    },
    {
     "name": "stdout",
     "output_type": "stream",
     "text": [
      "Procesando registro/orden 1613...\n"
     ]
    },
    {
     "name": "stderr",
     "output_type": "stream",
     "text": [
      "18:58:23 - cmdstanpy - INFO - Chain [1] start processing\n",
      "18:58:24 - cmdstanpy - INFO - Chain [1] done processing\n"
     ]
    },
    {
     "name": "stdout",
     "output_type": "stream",
     "text": [
      "Procesando registro/orden 1614...\n"
     ]
    },
    {
     "name": "stderr",
     "output_type": "stream",
     "text": [
      "18:58:28 - cmdstanpy - INFO - Chain [1] start processing\n",
      "18:58:29 - cmdstanpy - INFO - Chain [1] done processing\n"
     ]
    },
    {
     "name": "stdout",
     "output_type": "stream",
     "text": [
      "Procesando registro/orden 1615...\n"
     ]
    },
    {
     "name": "stderr",
     "output_type": "stream",
     "text": [
      "18:58:35 - cmdstanpy - INFO - Chain [1] start processing\n",
      "18:58:36 - cmdstanpy - INFO - Chain [1] done processing\n"
     ]
    },
    {
     "name": "stdout",
     "output_type": "stream",
     "text": [
      "Procesando registro/orden 1616...\n"
     ]
    },
    {
     "name": "stderr",
     "output_type": "stream",
     "text": [
      "18:58:39 - cmdstanpy - INFO - Chain [1] start processing\n",
      "18:58:41 - cmdstanpy - INFO - Chain [1] done processing\n"
     ]
    },
    {
     "name": "stdout",
     "output_type": "stream",
     "text": [
      "Procesando registro/orden 1617...\n"
     ]
    },
    {
     "name": "stderr",
     "output_type": "stream",
     "text": [
      "18:58:45 - cmdstanpy - INFO - Chain [1] start processing\n",
      "18:58:46 - cmdstanpy - INFO - Chain [1] done processing\n"
     ]
    },
    {
     "name": "stdout",
     "output_type": "stream",
     "text": [
      "Procesando registro/orden 1618...\n"
     ]
    },
    {
     "name": "stderr",
     "output_type": "stream",
     "text": [
      "18:58:50 - cmdstanpy - INFO - Chain [1] start processing\n",
      "18:58:51 - cmdstanpy - INFO - Chain [1] done processing\n"
     ]
    },
    {
     "name": "stdout",
     "output_type": "stream",
     "text": [
      "Procesando registro/orden 1619...\n"
     ]
    },
    {
     "name": "stderr",
     "output_type": "stream",
     "text": [
      "18:58:55 - cmdstanpy - INFO - Chain [1] start processing\n",
      "18:58:56 - cmdstanpy - INFO - Chain [1] done processing\n"
     ]
    },
    {
     "name": "stdout",
     "output_type": "stream",
     "text": [
      "Procesando registro/orden 1620...\n"
     ]
    },
    {
     "name": "stderr",
     "output_type": "stream",
     "text": [
      "18:59:00 - cmdstanpy - INFO - Chain [1] start processing\n",
      "18:59:01 - cmdstanpy - INFO - Chain [1] done processing\n"
     ]
    },
    {
     "name": "stdout",
     "output_type": "stream",
     "text": [
      "Procesando registro/orden 1621...\n"
     ]
    },
    {
     "name": "stderr",
     "output_type": "stream",
     "text": [
      "18:59:07 - cmdstanpy - INFO - Chain [1] start processing\n",
      "18:59:08 - cmdstanpy - INFO - Chain [1] done processing\n"
     ]
    },
    {
     "name": "stdout",
     "output_type": "stream",
     "text": [
      "Procesando registro/orden 1622...\n"
     ]
    },
    {
     "name": "stderr",
     "output_type": "stream",
     "text": [
      "18:59:13 - cmdstanpy - INFO - Chain [1] start processing\n",
      "18:59:14 - cmdstanpy - INFO - Chain [1] done processing\n"
     ]
    },
    {
     "name": "stdout",
     "output_type": "stream",
     "text": [
      "Procesando registro/orden 1623...\n"
     ]
    },
    {
     "name": "stderr",
     "output_type": "stream",
     "text": [
      "18:59:19 - cmdstanpy - INFO - Chain [1] start processing\n",
      "18:59:20 - cmdstanpy - INFO - Chain [1] done processing\n"
     ]
    },
    {
     "name": "stdout",
     "output_type": "stream",
     "text": [
      "Procesando registro/orden 1624...\n"
     ]
    },
    {
     "name": "stderr",
     "output_type": "stream",
     "text": [
      "18:59:24 - cmdstanpy - INFO - Chain [1] start processing\n",
      "18:59:25 - cmdstanpy - INFO - Chain [1] done processing\n"
     ]
    },
    {
     "name": "stdout",
     "output_type": "stream",
     "text": [
      "Procesando registro/orden 1625...\n"
     ]
    },
    {
     "name": "stderr",
     "output_type": "stream",
     "text": [
      "18:59:29 - cmdstanpy - INFO - Chain [1] start processing\n",
      "18:59:30 - cmdstanpy - INFO - Chain [1] done processing\n"
     ]
    },
    {
     "name": "stdout",
     "output_type": "stream",
     "text": [
      "Procesando registro/orden 1626...\n"
     ]
    },
    {
     "name": "stderr",
     "output_type": "stream",
     "text": [
      "18:59:35 - cmdstanpy - INFO - Chain [1] start processing\n",
      "18:59:36 - cmdstanpy - INFO - Chain [1] done processing\n"
     ]
    },
    {
     "name": "stdout",
     "output_type": "stream",
     "text": [
      "Procesando registro/orden 1627...\n"
     ]
    },
    {
     "name": "stderr",
     "output_type": "stream",
     "text": [
      "18:59:41 - cmdstanpy - INFO - Chain [1] start processing\n",
      "18:59:42 - cmdstanpy - INFO - Chain [1] done processing\n"
     ]
    },
    {
     "name": "stdout",
     "output_type": "stream",
     "text": [
      "Procesando registro/orden 1628...\n"
     ]
    },
    {
     "name": "stderr",
     "output_type": "stream",
     "text": [
      "18:59:47 - cmdstanpy - INFO - Chain [1] start processing\n",
      "18:59:48 - cmdstanpy - INFO - Chain [1] done processing\n"
     ]
    },
    {
     "name": "stdout",
     "output_type": "stream",
     "text": [
      "Procesando registro/orden 1629...\n"
     ]
    },
    {
     "name": "stderr",
     "output_type": "stream",
     "text": [
      "18:59:52 - cmdstanpy - INFO - Chain [1] start processing\n",
      "18:59:53 - cmdstanpy - INFO - Chain [1] done processing\n"
     ]
    },
    {
     "name": "stdout",
     "output_type": "stream",
     "text": [
      "Procesando registro/orden 1630...\n"
     ]
    },
    {
     "name": "stderr",
     "output_type": "stream",
     "text": [
      "18:59:58 - cmdstanpy - INFO - Chain [1] start processing\n",
      "18:59:59 - cmdstanpy - INFO - Chain [1] done processing\n"
     ]
    },
    {
     "name": "stdout",
     "output_type": "stream",
     "text": [
      "Procesando registro/orden 1631...\n"
     ]
    },
    {
     "name": "stderr",
     "output_type": "stream",
     "text": [
      "19:00:04 - cmdstanpy - INFO - Chain [1] start processing\n",
      "19:00:05 - cmdstanpy - INFO - Chain [1] done processing\n"
     ]
    },
    {
     "name": "stdout",
     "output_type": "stream",
     "text": [
      "Procesando registro/orden 1632...\n"
     ]
    },
    {
     "name": "stderr",
     "output_type": "stream",
     "text": [
      "19:00:10 - cmdstanpy - INFO - Chain [1] start processing\n",
      "19:00:11 - cmdstanpy - INFO - Chain [1] done processing\n"
     ]
    },
    {
     "name": "stdout",
     "output_type": "stream",
     "text": [
      "Procesando registro/orden 1633...\n"
     ]
    },
    {
     "name": "stderr",
     "output_type": "stream",
     "text": [
      "19:00:16 - cmdstanpy - INFO - Chain [1] start processing\n",
      "19:00:16 - cmdstanpy - INFO - Chain [1] done processing\n"
     ]
    },
    {
     "name": "stdout",
     "output_type": "stream",
     "text": [
      "Procesando registro/orden 1634...\n"
     ]
    },
    {
     "name": "stderr",
     "output_type": "stream",
     "text": [
      "19:00:20 - cmdstanpy - INFO - Chain [1] start processing\n",
      "19:00:20 - cmdstanpy - INFO - Chain [1] done processing\n"
     ]
    },
    {
     "name": "stdout",
     "output_type": "stream",
     "text": [
      "Procesando registro/orden 1635...\n"
     ]
    },
    {
     "name": "stderr",
     "output_type": "stream",
     "text": [
      "19:00:25 - cmdstanpy - INFO - Chain [1] start processing\n",
      "19:00:26 - cmdstanpy - INFO - Chain [1] done processing\n"
     ]
    },
    {
     "name": "stdout",
     "output_type": "stream",
     "text": [
      "Procesando registro/orden 1636...\n"
     ]
    },
    {
     "name": "stderr",
     "output_type": "stream",
     "text": [
      "19:00:30 - cmdstanpy - INFO - Chain [1] start processing\n",
      "19:00:31 - cmdstanpy - INFO - Chain [1] done processing\n"
     ]
    },
    {
     "name": "stdout",
     "output_type": "stream",
     "text": [
      "Procesando registro/orden 1637...\n"
     ]
    },
    {
     "name": "stderr",
     "output_type": "stream",
     "text": [
      "19:00:35 - cmdstanpy - INFO - Chain [1] start processing\n",
      "19:00:36 - cmdstanpy - INFO - Chain [1] done processing\n"
     ]
    },
    {
     "name": "stdout",
     "output_type": "stream",
     "text": [
      "Procesando registro/orden 1638...\n"
     ]
    },
    {
     "name": "stderr",
     "output_type": "stream",
     "text": [
      "19:00:41 - cmdstanpy - INFO - Chain [1] start processing\n",
      "19:00:42 - cmdstanpy - INFO - Chain [1] done processing\n"
     ]
    },
    {
     "name": "stdout",
     "output_type": "stream",
     "text": [
      "Procesando registro/orden 1639...\n"
     ]
    },
    {
     "name": "stderr",
     "output_type": "stream",
     "text": [
      "19:00:47 - cmdstanpy - INFO - Chain [1] start processing\n",
      "19:00:48 - cmdstanpy - INFO - Chain [1] done processing\n"
     ]
    },
    {
     "name": "stdout",
     "output_type": "stream",
     "text": [
      "Procesando registro/orden 1640...\n"
     ]
    },
    {
     "name": "stderr",
     "output_type": "stream",
     "text": [
      "19:00:53 - cmdstanpy - INFO - Chain [1] start processing\n",
      "19:00:54 - cmdstanpy - INFO - Chain [1] done processing\n"
     ]
    },
    {
     "name": "stdout",
     "output_type": "stream",
     "text": [
      "Procesando registro/orden 1641...\n"
     ]
    },
    {
     "name": "stderr",
     "output_type": "stream",
     "text": [
      "19:00:59 - cmdstanpy - INFO - Chain [1] start processing\n",
      "19:01:00 - cmdstanpy - INFO - Chain [1] done processing\n"
     ]
    },
    {
     "name": "stdout",
     "output_type": "stream",
     "text": [
      "Procesando registro/orden 1642...\n"
     ]
    },
    {
     "name": "stderr",
     "output_type": "stream",
     "text": [
      "19:01:04 - cmdstanpy - INFO - Chain [1] start processing\n",
      "19:01:06 - cmdstanpy - INFO - Chain [1] done processing\n"
     ]
    },
    {
     "name": "stdout",
     "output_type": "stream",
     "text": [
      "Procesando registro/orden 1643...\n"
     ]
    },
    {
     "name": "stderr",
     "output_type": "stream",
     "text": [
      "19:01:16 - cmdstanpy - INFO - Chain [1] start processing\n",
      "19:01:17 - cmdstanpy - INFO - Chain [1] done processing\n"
     ]
    },
    {
     "name": "stdout",
     "output_type": "stream",
     "text": [
      "Procesando registro/orden 1644...\n"
     ]
    },
    {
     "name": "stderr",
     "output_type": "stream",
     "text": [
      "19:01:22 - cmdstanpy - INFO - Chain [1] start processing\n",
      "19:01:23 - cmdstanpy - INFO - Chain [1] done processing\n"
     ]
    },
    {
     "name": "stdout",
     "output_type": "stream",
     "text": [
      "Procesando registro/orden 1645...\n"
     ]
    },
    {
     "name": "stderr",
     "output_type": "stream",
     "text": [
      "19:01:27 - cmdstanpy - INFO - Chain [1] start processing\n",
      "19:01:28 - cmdstanpy - INFO - Chain [1] done processing\n"
     ]
    },
    {
     "name": "stdout",
     "output_type": "stream",
     "text": [
      "Procesando registro/orden 1646...\n"
     ]
    },
    {
     "name": "stderr",
     "output_type": "stream",
     "text": [
      "19:01:32 - cmdstanpy - INFO - Chain [1] start processing\n",
      "19:01:33 - cmdstanpy - INFO - Chain [1] done processing\n"
     ]
    },
    {
     "name": "stdout",
     "output_type": "stream",
     "text": [
      "Procesando registro/orden 1647...\n"
     ]
    },
    {
     "name": "stderr",
     "output_type": "stream",
     "text": [
      "19:01:37 - cmdstanpy - INFO - Chain [1] start processing\n",
      "19:01:38 - cmdstanpy - INFO - Chain [1] done processing\n"
     ]
    },
    {
     "name": "stdout",
     "output_type": "stream",
     "text": [
      "Procesando registro/orden 1648...\n"
     ]
    },
    {
     "name": "stderr",
     "output_type": "stream",
     "text": [
      "19:01:42 - cmdstanpy - INFO - Chain [1] start processing\n",
      "19:01:43 - cmdstanpy - INFO - Chain [1] done processing\n"
     ]
    },
    {
     "name": "stdout",
     "output_type": "stream",
     "text": [
      "Procesando registro/orden 1649...\n"
     ]
    },
    {
     "name": "stderr",
     "output_type": "stream",
     "text": [
      "19:01:47 - cmdstanpy - INFO - Chain [1] start processing\n",
      "19:01:48 - cmdstanpy - INFO - Chain [1] done processing\n"
     ]
    },
    {
     "name": "stdout",
     "output_type": "stream",
     "text": [
      "Procesando registro/orden 1650...\n"
     ]
    },
    {
     "name": "stderr",
     "output_type": "stream",
     "text": [
      "19:01:53 - cmdstanpy - INFO - Chain [1] start processing\n",
      "19:01:54 - cmdstanpy - INFO - Chain [1] done processing\n"
     ]
    },
    {
     "name": "stdout",
     "output_type": "stream",
     "text": [
      "Procesando registro/orden 1651...\n"
     ]
    },
    {
     "name": "stderr",
     "output_type": "stream",
     "text": [
      "19:01:59 - cmdstanpy - INFO - Chain [1] start processing\n",
      "19:02:00 - cmdstanpy - INFO - Chain [1] done processing\n"
     ]
    },
    {
     "name": "stdout",
     "output_type": "stream",
     "text": [
      "Procesando registro/orden 1652...\n"
     ]
    },
    {
     "name": "stderr",
     "output_type": "stream",
     "text": [
      "19:02:04 - cmdstanpy - INFO - Chain [1] start processing\n",
      "19:02:05 - cmdstanpy - INFO - Chain [1] done processing\n"
     ]
    },
    {
     "name": "stdout",
     "output_type": "stream",
     "text": [
      "Procesando registro/orden 1653...\n"
     ]
    },
    {
     "name": "stderr",
     "output_type": "stream",
     "text": [
      "19:02:09 - cmdstanpy - INFO - Chain [1] start processing\n",
      "19:02:10 - cmdstanpy - INFO - Chain [1] done processing\n"
     ]
    },
    {
     "name": "stdout",
     "output_type": "stream",
     "text": [
      "Procesando registro/orden 1654...\n"
     ]
    },
    {
     "name": "stderr",
     "output_type": "stream",
     "text": [
      "19:02:15 - cmdstanpy - INFO - Chain [1] start processing\n",
      "19:02:16 - cmdstanpy - INFO - Chain [1] done processing\n"
     ]
    },
    {
     "name": "stdout",
     "output_type": "stream",
     "text": [
      "Procesando registro/orden 1655...\n"
     ]
    },
    {
     "name": "stderr",
     "output_type": "stream",
     "text": [
      "19:02:20 - cmdstanpy - INFO - Chain [1] start processing\n",
      "19:02:21 - cmdstanpy - INFO - Chain [1] done processing\n"
     ]
    },
    {
     "name": "stdout",
     "output_type": "stream",
     "text": [
      "Procesando registro/orden 1656...\n"
     ]
    },
    {
     "name": "stderr",
     "output_type": "stream",
     "text": [
      "19:02:25 - cmdstanpy - INFO - Chain [1] start processing\n",
      "19:02:26 - cmdstanpy - INFO - Chain [1] done processing\n"
     ]
    },
    {
     "name": "stdout",
     "output_type": "stream",
     "text": [
      "Procesando registro/orden 1657...\n"
     ]
    },
    {
     "name": "stderr",
     "output_type": "stream",
     "text": [
      "19:02:30 - cmdstanpy - INFO - Chain [1] start processing\n",
      "19:02:31 - cmdstanpy - INFO - Chain [1] done processing\n"
     ]
    },
    {
     "name": "stdout",
     "output_type": "stream",
     "text": [
      "Procesando registro/orden 1658...\n"
     ]
    },
    {
     "name": "stderr",
     "output_type": "stream",
     "text": [
      "19:02:37 - cmdstanpy - INFO - Chain [1] start processing\n",
      "19:02:38 - cmdstanpy - INFO - Chain [1] done processing\n"
     ]
    },
    {
     "name": "stdout",
     "output_type": "stream",
     "text": [
      "Procesando registro/orden 1659...\n"
     ]
    },
    {
     "name": "stderr",
     "output_type": "stream",
     "text": [
      "19:02:42 - cmdstanpy - INFO - Chain [1] start processing\n",
      "19:02:43 - cmdstanpy - INFO - Chain [1] done processing\n"
     ]
    },
    {
     "name": "stdout",
     "output_type": "stream",
     "text": [
      "Procesando registro/orden 1660...\n"
     ]
    },
    {
     "name": "stderr",
     "output_type": "stream",
     "text": [
      "19:02:49 - cmdstanpy - INFO - Chain [1] start processing\n",
      "19:02:51 - cmdstanpy - INFO - Chain [1] done processing\n"
     ]
    },
    {
     "name": "stdout",
     "output_type": "stream",
     "text": [
      "Procesando registro/orden 1661...\n"
     ]
    },
    {
     "name": "stderr",
     "output_type": "stream",
     "text": [
      "19:02:56 - cmdstanpy - INFO - Chain [1] start processing\n",
      "19:02:57 - cmdstanpy - INFO - Chain [1] done processing\n"
     ]
    },
    {
     "name": "stdout",
     "output_type": "stream",
     "text": [
      "Procesando registro/orden 1662...\n"
     ]
    },
    {
     "name": "stderr",
     "output_type": "stream",
     "text": [
      "19:03:01 - cmdstanpy - INFO - Chain [1] start processing\n",
      "19:03:03 - cmdstanpy - INFO - Chain [1] done processing\n"
     ]
    },
    {
     "name": "stdout",
     "output_type": "stream",
     "text": [
      "Procesando registro/orden 1663...\n"
     ]
    },
    {
     "name": "stderr",
     "output_type": "stream",
     "text": [
      "19:03:08 - cmdstanpy - INFO - Chain [1] start processing\n",
      "19:03:09 - cmdstanpy - INFO - Chain [1] done processing\n"
     ]
    },
    {
     "name": "stdout",
     "output_type": "stream",
     "text": [
      "Procesando registro/orden 1664...\n"
     ]
    },
    {
     "name": "stderr",
     "output_type": "stream",
     "text": [
      "19:03:15 - cmdstanpy - INFO - Chain [1] start processing\n",
      "19:03:16 - cmdstanpy - INFO - Chain [1] done processing\n"
     ]
    },
    {
     "name": "stdout",
     "output_type": "stream",
     "text": [
      "Procesando registro/orden 1665...\n"
     ]
    },
    {
     "name": "stderr",
     "output_type": "stream",
     "text": [
      "19:03:21 - cmdstanpy - INFO - Chain [1] start processing\n",
      "19:03:22 - cmdstanpy - INFO - Chain [1] done processing\n"
     ]
    },
    {
     "name": "stdout",
     "output_type": "stream",
     "text": [
      "Procesando registro/orden 1666...\n"
     ]
    },
    {
     "name": "stderr",
     "output_type": "stream",
     "text": [
      "19:03:27 - cmdstanpy - INFO - Chain [1] start processing\n",
      "19:03:28 - cmdstanpy - INFO - Chain [1] done processing\n"
     ]
    },
    {
     "name": "stdout",
     "output_type": "stream",
     "text": [
      "Procesando registro/orden 1667...\n"
     ]
    },
    {
     "name": "stderr",
     "output_type": "stream",
     "text": [
      "19:03:33 - cmdstanpy - INFO - Chain [1] start processing\n",
      "19:03:34 - cmdstanpy - INFO - Chain [1] done processing\n"
     ]
    },
    {
     "name": "stdout",
     "output_type": "stream",
     "text": [
      "Procesando registro/orden 1668...\n"
     ]
    },
    {
     "name": "stderr",
     "output_type": "stream",
     "text": [
      "19:03:39 - cmdstanpy - INFO - Chain [1] start processing\n",
      "19:03:41 - cmdstanpy - INFO - Chain [1] done processing\n"
     ]
    },
    {
     "name": "stdout",
     "output_type": "stream",
     "text": [
      "Procesando registro/orden 1669...\n"
     ]
    },
    {
     "name": "stderr",
     "output_type": "stream",
     "text": [
      "19:03:45 - cmdstanpy - INFO - Chain [1] start processing\n",
      "19:03:47 - cmdstanpy - INFO - Chain [1] done processing\n"
     ]
    },
    {
     "name": "stdout",
     "output_type": "stream",
     "text": [
      "Procesando registro/orden 1670...\n"
     ]
    },
    {
     "name": "stderr",
     "output_type": "stream",
     "text": [
      "19:03:52 - cmdstanpy - INFO - Chain [1] start processing\n",
      "19:03:54 - cmdstanpy - INFO - Chain [1] done processing\n"
     ]
    },
    {
     "name": "stdout",
     "output_type": "stream",
     "text": [
      "Procesando registro/orden 1671...\n"
     ]
    },
    {
     "name": "stderr",
     "output_type": "stream",
     "text": [
      "19:03:58 - cmdstanpy - INFO - Chain [1] start processing\n",
      "19:04:00 - cmdstanpy - INFO - Chain [1] done processing\n"
     ]
    },
    {
     "name": "stdout",
     "output_type": "stream",
     "text": [
      "Procesando registro/orden 1672...\n"
     ]
    },
    {
     "name": "stderr",
     "output_type": "stream",
     "text": [
      "19:04:05 - cmdstanpy - INFO - Chain [1] start processing\n",
      "19:04:06 - cmdstanpy - INFO - Chain [1] done processing\n"
     ]
    },
    {
     "name": "stdout",
     "output_type": "stream",
     "text": [
      "Procesando registro/orden 1673...\n"
     ]
    },
    {
     "name": "stderr",
     "output_type": "stream",
     "text": [
      "19:04:11 - cmdstanpy - INFO - Chain [1] start processing\n",
      "19:04:12 - cmdstanpy - INFO - Chain [1] done processing\n"
     ]
    },
    {
     "name": "stdout",
     "output_type": "stream",
     "text": [
      "Procesando registro/orden 1674...\n"
     ]
    },
    {
     "name": "stderr",
     "output_type": "stream",
     "text": [
      "19:04:17 - cmdstanpy - INFO - Chain [1] start processing\n",
      "19:04:18 - cmdstanpy - INFO - Chain [1] done processing\n"
     ]
    },
    {
     "name": "stdout",
     "output_type": "stream",
     "text": [
      "Procesando registro/orden 1675...\n"
     ]
    },
    {
     "name": "stderr",
     "output_type": "stream",
     "text": [
      "19:04:24 - cmdstanpy - INFO - Chain [1] start processing\n",
      "19:04:25 - cmdstanpy - INFO - Chain [1] done processing\n"
     ]
    },
    {
     "name": "stdout",
     "output_type": "stream",
     "text": [
      "Procesando registro/orden 1676...\n"
     ]
    },
    {
     "name": "stderr",
     "output_type": "stream",
     "text": [
      "19:04:29 - cmdstanpy - INFO - Chain [1] start processing\n",
      "19:04:30 - cmdstanpy - INFO - Chain [1] done processing\n"
     ]
    },
    {
     "name": "stdout",
     "output_type": "stream",
     "text": [
      "Procesando registro/orden 1677...\n"
     ]
    },
    {
     "name": "stderr",
     "output_type": "stream",
     "text": [
      "19:04:35 - cmdstanpy - INFO - Chain [1] start processing\n",
      "19:04:36 - cmdstanpy - INFO - Chain [1] done processing\n"
     ]
    },
    {
     "name": "stdout",
     "output_type": "stream",
     "text": [
      "Procesando registro/orden 1678...\n"
     ]
    },
    {
     "name": "stderr",
     "output_type": "stream",
     "text": [
      "19:04:41 - cmdstanpy - INFO - Chain [1] start processing\n",
      "19:04:42 - cmdstanpy - INFO - Chain [1] done processing\n"
     ]
    },
    {
     "name": "stdout",
     "output_type": "stream",
     "text": [
      "Procesando registro/orden 1679...\n"
     ]
    },
    {
     "name": "stderr",
     "output_type": "stream",
     "text": [
      "19:04:48 - cmdstanpy - INFO - Chain [1] start processing\n",
      "19:04:49 - cmdstanpy - INFO - Chain [1] done processing\n"
     ]
    },
    {
     "name": "stdout",
     "output_type": "stream",
     "text": [
      "Procesando registro/orden 1680...\n"
     ]
    },
    {
     "name": "stderr",
     "output_type": "stream",
     "text": [
      "19:04:54 - cmdstanpy - INFO - Chain [1] start processing\n",
      "19:04:55 - cmdstanpy - INFO - Chain [1] done processing\n"
     ]
    },
    {
     "name": "stdout",
     "output_type": "stream",
     "text": [
      "Procesando registro/orden 1681...\n"
     ]
    },
    {
     "name": "stderr",
     "output_type": "stream",
     "text": [
      "19:05:00 - cmdstanpy - INFO - Chain [1] start processing\n",
      "19:05:01 - cmdstanpy - INFO - Chain [1] done processing\n"
     ]
    },
    {
     "name": "stdout",
     "output_type": "stream",
     "text": [
      "Procesando registro/orden 1682...\n"
     ]
    },
    {
     "name": "stderr",
     "output_type": "stream",
     "text": [
      "19:05:05 - cmdstanpy - INFO - Chain [1] start processing\n",
      "19:05:06 - cmdstanpy - INFO - Chain [1] done processing\n"
     ]
    },
    {
     "name": "stdout",
     "output_type": "stream",
     "text": [
      "Procesando registro/orden 1683...\n"
     ]
    },
    {
     "name": "stderr",
     "output_type": "stream",
     "text": [
      "19:05:11 - cmdstanpy - INFO - Chain [1] start processing\n",
      "19:05:13 - cmdstanpy - INFO - Chain [1] done processing\n"
     ]
    },
    {
     "name": "stdout",
     "output_type": "stream",
     "text": [
      "Procesando registro/orden 1684...\n"
     ]
    },
    {
     "name": "stderr",
     "output_type": "stream",
     "text": [
      "19:05:17 - cmdstanpy - INFO - Chain [1] start processing\n",
      "19:05:18 - cmdstanpy - INFO - Chain [1] done processing\n"
     ]
    },
    {
     "name": "stdout",
     "output_type": "stream",
     "text": [
      "Procesando registro/orden 1685...\n"
     ]
    },
    {
     "name": "stderr",
     "output_type": "stream",
     "text": [
      "19:05:23 - cmdstanpy - INFO - Chain [1] start processing\n",
      "19:05:24 - cmdstanpy - INFO - Chain [1] done processing\n"
     ]
    },
    {
     "name": "stdout",
     "output_type": "stream",
     "text": [
      "Procesando registro/orden 1686...\n"
     ]
    },
    {
     "name": "stderr",
     "output_type": "stream",
     "text": [
      "19:05:29 - cmdstanpy - INFO - Chain [1] start processing\n",
      "19:05:30 - cmdstanpy - INFO - Chain [1] done processing\n"
     ]
    },
    {
     "name": "stdout",
     "output_type": "stream",
     "text": [
      "Procesando registro/orden 1687...\n"
     ]
    },
    {
     "name": "stderr",
     "output_type": "stream",
     "text": [
      "19:05:35 - cmdstanpy - INFO - Chain [1] start processing\n",
      "19:05:37 - cmdstanpy - INFO - Chain [1] done processing\n"
     ]
    },
    {
     "name": "stdout",
     "output_type": "stream",
     "text": [
      "Procesando registro/orden 1688...\n"
     ]
    },
    {
     "name": "stderr",
     "output_type": "stream",
     "text": [
      "19:05:43 - cmdstanpy - INFO - Chain [1] start processing\n",
      "19:05:43 - cmdstanpy - INFO - Chain [1] done processing\n"
     ]
    },
    {
     "name": "stdout",
     "output_type": "stream",
     "text": [
      "Procesando registro/orden 1689...\n"
     ]
    },
    {
     "name": "stderr",
     "output_type": "stream",
     "text": [
      "19:05:48 - cmdstanpy - INFO - Chain [1] start processing\n",
      "19:05:49 - cmdstanpy - INFO - Chain [1] done processing\n"
     ]
    },
    {
     "name": "stdout",
     "output_type": "stream",
     "text": [
      "Procesando registro/orden 1690...\n"
     ]
    },
    {
     "name": "stderr",
     "output_type": "stream",
     "text": [
      "19:05:55 - cmdstanpy - INFO - Chain [1] start processing\n",
      "19:05:56 - cmdstanpy - INFO - Chain [1] done processing\n"
     ]
    },
    {
     "name": "stdout",
     "output_type": "stream",
     "text": [
      "Procesando registro/orden 1691...\n"
     ]
    },
    {
     "name": "stderr",
     "output_type": "stream",
     "text": [
      "19:06:02 - cmdstanpy - INFO - Chain [1] start processing\n",
      "19:06:03 - cmdstanpy - INFO - Chain [1] done processing\n"
     ]
    },
    {
     "name": "stdout",
     "output_type": "stream",
     "text": [
      "Procesando registro/orden 1692...\n"
     ]
    },
    {
     "name": "stderr",
     "output_type": "stream",
     "text": [
      "19:06:08 - cmdstanpy - INFO - Chain [1] start processing\n",
      "19:06:09 - cmdstanpy - INFO - Chain [1] done processing\n"
     ]
    },
    {
     "name": "stdout",
     "output_type": "stream",
     "text": [
      "Procesando registro/orden 1693...\n"
     ]
    },
    {
     "name": "stderr",
     "output_type": "stream",
     "text": [
      "19:06:13 - cmdstanpy - INFO - Chain [1] start processing\n",
      "19:06:14 - cmdstanpy - INFO - Chain [1] done processing\n"
     ]
    },
    {
     "name": "stdout",
     "output_type": "stream",
     "text": [
      "Procesando registro/orden 1694...\n"
     ]
    },
    {
     "name": "stderr",
     "output_type": "stream",
     "text": [
      "19:06:18 - cmdstanpy - INFO - Chain [1] start processing\n",
      "19:06:19 - cmdstanpy - INFO - Chain [1] done processing\n"
     ]
    },
    {
     "name": "stdout",
     "output_type": "stream",
     "text": [
      "Procesando registro/orden 1695...\n"
     ]
    },
    {
     "name": "stderr",
     "output_type": "stream",
     "text": [
      "19:06:23 - cmdstanpy - INFO - Chain [1] start processing\n",
      "19:06:24 - cmdstanpy - INFO - Chain [1] done processing\n"
     ]
    },
    {
     "name": "stdout",
     "output_type": "stream",
     "text": [
      "Procesando registro/orden 1696...\n"
     ]
    },
    {
     "name": "stderr",
     "output_type": "stream",
     "text": [
      "19:06:29 - cmdstanpy - INFO - Chain [1] start processing\n",
      "19:06:30 - cmdstanpy - INFO - Chain [1] done processing\n"
     ]
    },
    {
     "name": "stdout",
     "output_type": "stream",
     "text": [
      "Procesando registro/orden 1697...\n"
     ]
    },
    {
     "name": "stderr",
     "output_type": "stream",
     "text": [
      "19:06:35 - cmdstanpy - INFO - Chain [1] start processing\n",
      "19:06:36 - cmdstanpy - INFO - Chain [1] done processing\n"
     ]
    },
    {
     "name": "stdout",
     "output_type": "stream",
     "text": [
      "Procesando registro/orden 1698...\n"
     ]
    },
    {
     "name": "stderr",
     "output_type": "stream",
     "text": [
      "19:06:41 - cmdstanpy - INFO - Chain [1] start processing\n",
      "19:06:42 - cmdstanpy - INFO - Chain [1] done processing\n"
     ]
    },
    {
     "name": "stdout",
     "output_type": "stream",
     "text": [
      "Procesando registro/orden 1699...\n"
     ]
    },
    {
     "name": "stderr",
     "output_type": "stream",
     "text": [
      "19:06:49 - cmdstanpy - INFO - Chain [1] start processing\n",
      "19:06:50 - cmdstanpy - INFO - Chain [1] done processing\n"
     ]
    },
    {
     "name": "stdout",
     "output_type": "stream",
     "text": [
      "Procesando registro/orden 1700...\n"
     ]
    },
    {
     "name": "stderr",
     "output_type": "stream",
     "text": [
      "19:06:55 - cmdstanpy - INFO - Chain [1] start processing\n",
      "19:06:56 - cmdstanpy - INFO - Chain [1] done processing\n"
     ]
    },
    {
     "name": "stdout",
     "output_type": "stream",
     "text": [
      "Procesando registro/orden 1701...\n"
     ]
    },
    {
     "name": "stderr",
     "output_type": "stream",
     "text": [
      "19:07:01 - cmdstanpy - INFO - Chain [1] start processing\n",
      "19:07:02 - cmdstanpy - INFO - Chain [1] done processing\n"
     ]
    },
    {
     "name": "stdout",
     "output_type": "stream",
     "text": [
      "Procesando registro/orden 1702...\n"
     ]
    },
    {
     "name": "stderr",
     "output_type": "stream",
     "text": [
      "19:07:07 - cmdstanpy - INFO - Chain [1] start processing\n",
      "19:07:08 - cmdstanpy - INFO - Chain [1] done processing\n"
     ]
    },
    {
     "name": "stdout",
     "output_type": "stream",
     "text": [
      "Procesando registro/orden 1703...\n"
     ]
    },
    {
     "name": "stderr",
     "output_type": "stream",
     "text": [
      "19:07:12 - cmdstanpy - INFO - Chain [1] start processing\n",
      "19:07:13 - cmdstanpy - INFO - Chain [1] done processing\n"
     ]
    },
    {
     "name": "stdout",
     "output_type": "stream",
     "text": [
      "Procesando registro/orden 1704...\n"
     ]
    },
    {
     "name": "stderr",
     "output_type": "stream",
     "text": [
      "19:07:17 - cmdstanpy - INFO - Chain [1] start processing\n",
      "19:07:19 - cmdstanpy - INFO - Chain [1] done processing\n"
     ]
    },
    {
     "name": "stdout",
     "output_type": "stream",
     "text": [
      "Procesando registro/orden 1705...\n"
     ]
    },
    {
     "name": "stderr",
     "output_type": "stream",
     "text": [
      "19:07:24 - cmdstanpy - INFO - Chain [1] start processing\n",
      "19:07:25 - cmdstanpy - INFO - Chain [1] done processing\n"
     ]
    },
    {
     "name": "stdout",
     "output_type": "stream",
     "text": [
      "Procesando registro/orden 1706...\n"
     ]
    },
    {
     "name": "stderr",
     "output_type": "stream",
     "text": [
      "19:07:29 - cmdstanpy - INFO - Chain [1] start processing\n",
      "19:07:30 - cmdstanpy - INFO - Chain [1] done processing\n"
     ]
    },
    {
     "name": "stdout",
     "output_type": "stream",
     "text": [
      "Procesando registro/orden 1707...\n"
     ]
    },
    {
     "name": "stderr",
     "output_type": "stream",
     "text": [
      "19:07:35 - cmdstanpy - INFO - Chain [1] start processing\n",
      "19:07:36 - cmdstanpy - INFO - Chain [1] done processing\n"
     ]
    },
    {
     "name": "stdout",
     "output_type": "stream",
     "text": [
      "Procesando registro/orden 1708...\n"
     ]
    },
    {
     "name": "stderr",
     "output_type": "stream",
     "text": [
      "19:07:40 - cmdstanpy - INFO - Chain [1] start processing\n",
      "19:07:41 - cmdstanpy - INFO - Chain [1] done processing\n"
     ]
    },
    {
     "name": "stdout",
     "output_type": "stream",
     "text": [
      "Procesando registro/orden 1709...\n"
     ]
    },
    {
     "name": "stderr",
     "output_type": "stream",
     "text": [
      "19:07:45 - cmdstanpy - INFO - Chain [1] start processing\n",
      "19:07:46 - cmdstanpy - INFO - Chain [1] done processing\n"
     ]
    },
    {
     "name": "stdout",
     "output_type": "stream",
     "text": [
      "Procesando registro/orden 1710...\n"
     ]
    },
    {
     "name": "stderr",
     "output_type": "stream",
     "text": [
      "19:07:52 - cmdstanpy - INFO - Chain [1] start processing\n",
      "19:07:53 - cmdstanpy - INFO - Chain [1] done processing\n"
     ]
    },
    {
     "name": "stdout",
     "output_type": "stream",
     "text": [
      "Procesando registro/orden 1711...\n"
     ]
    },
    {
     "name": "stderr",
     "output_type": "stream",
     "text": [
      "19:07:57 - cmdstanpy - INFO - Chain [1] start processing\n",
      "19:07:58 - cmdstanpy - INFO - Chain [1] done processing\n"
     ]
    },
    {
     "name": "stdout",
     "output_type": "stream",
     "text": [
      "Procesando registro/orden 1712...\n"
     ]
    },
    {
     "name": "stderr",
     "output_type": "stream",
     "text": [
      "19:08:04 - cmdstanpy - INFO - Chain [1] start processing\n",
      "19:08:05 - cmdstanpy - INFO - Chain [1] done processing\n"
     ]
    },
    {
     "name": "stdout",
     "output_type": "stream",
     "text": [
      "Procesando registro/orden 1713...\n"
     ]
    },
    {
     "name": "stderr",
     "output_type": "stream",
     "text": [
      "19:08:10 - cmdstanpy - INFO - Chain [1] start processing\n",
      "19:08:11 - cmdstanpy - INFO - Chain [1] done processing\n"
     ]
    },
    {
     "name": "stdout",
     "output_type": "stream",
     "text": [
      "Procesando registro/orden 1714...\n"
     ]
    },
    {
     "name": "stderr",
     "output_type": "stream",
     "text": [
      "19:08:16 - cmdstanpy - INFO - Chain [1] start processing\n",
      "19:08:17 - cmdstanpy - INFO - Chain [1] done processing\n"
     ]
    },
    {
     "name": "stdout",
     "output_type": "stream",
     "text": [
      "Procesando registro/orden 1715...\n"
     ]
    },
    {
     "name": "stderr",
     "output_type": "stream",
     "text": [
      "19:08:23 - cmdstanpy - INFO - Chain [1] start processing\n",
      "19:08:24 - cmdstanpy - INFO - Chain [1] done processing\n"
     ]
    },
    {
     "name": "stdout",
     "output_type": "stream",
     "text": [
      "Procesando registro/orden 1716...\n"
     ]
    },
    {
     "name": "stderr",
     "output_type": "stream",
     "text": [
      "19:08:30 - cmdstanpy - INFO - Chain [1] start processing\n",
      "19:08:31 - cmdstanpy - INFO - Chain [1] done processing\n"
     ]
    }
   ],
   "source": [
    "res_aprobado = []\n",
    "res_desaprobado = []\n",
    "for i in range(len(df_simulacion)):\n",
    "    print(f\"Procesando registro/orden {i}...\")\n",
    "    reg_time = int(datetime.fromisoformat(df_simulacion.iloc[i][\"Time\"]).timestamp() * 1000)\n",
    "    df_temp = get_historical_data(reg_time,df_simulacion.iloc[i]['Symbol'],\"30\")\n",
    "    df_temp = CalculateSupertrend(df_temp)\n",
    "    # Ajustar dataset a estructura de entrenamiento\n",
    "    regressors = [\"ADX_14\", \"ATRr_14\"]\n",
    "    clean_temp = prepare_dataframe(df_temp, regressors)\n",
    "    #clean_temp = clean_temp.dropna(subset=[\"ADX_14\", \"ATRr_14\"])\n",
    "    #Entrenar modelo\n",
    "    model_prof = prophet.Prophet()\n",
    "    for col in regressors:\n",
    "        model_prof.add_regressor(col)\n",
    "    model_prof.fit(clean_temp)\n",
    "    #Predecir valores futuros basado en el modelo local\n",
    "    future = model_prof.make_future_dataframe(periods=96, freq='30min')\n",
    "    for col in regressors:\n",
    "        future[col] = clean_temp.iloc[-1][col] #Usar el ultimo valor conocido\n",
    "    forecast = model_prof.predict(future)\n",
    "    predicted_data = forecast[-96:][['ds', 'yhat', 'yhat_lower', 'yhat_upper']]\n",
    "    #Encontrar tendencia de crecimiento o decrecimiento\n",
    "    tendencia = predicted_data['yhat'].iloc[-1] - predicted_data['yhat'].iloc[0]\n",
    "    if df_simulacion.iloc[i][\"Polaridad\"] == \"Buy\":\n",
    "        if tendencia > 0:\n",
    "            res_aprobado.append(df_simulacion.iloc[i])\n",
    "        else:\n",
    "            res_desaprobado.append(df_simulacion.iloc[i])\n",
    "    else:\n",
    "        if tendencia < 0:\n",
    "            res_aprobado.append(df_simulacion.iloc[i])\n",
    "        else:\n",
    "            res_desaprobado.append(df_simulacion.iloc[i])"
   ]
  },
  {
   "cell_type": "code",
   "execution_count": 85,
   "metadata": {},
   "outputs": [],
   "source": [
    "df_aprobados = pd.concat(res_aprobado, axis=1)\n",
    "df_aprobados = df_aprobados.T\n",
    "df_aprobados.to_csv('Resources/Activos/Prophet_Simulation_Aprobados.csv')"
   ]
  },
  {
   "cell_type": "code",
   "execution_count": 86,
   "metadata": {},
   "outputs": [],
   "source": [
    "df_desaprobados = pd.concat(res_desaprobado, axis=1)\n",
    "df_desaprobados = df_desaprobados.T\n",
    "df_desaprobados.to_csv('Resources/Activos/Prophet_Simulation_Desaprobados.csv')"
   ]
  },
  {
   "cell_type": "code",
   "execution_count": 87,
   "metadata": {},
   "outputs": [
    {
     "data": {
      "image/png": "[encoded data removed]",
      "text/plain": [
       "<Figure size 640x480 with 1 Axes>"
      ]
     },
     "metadata": {},
     "output_type": "display_data"
    }
   ],
   "source": [
    "# Count the occurrences of stoploss_reached per stock symbol\n",
    "grouped = df_aprobados.groupby(['Symbol', 'Stoploss-Reached']).size().unstack(fill_value=0)\n",
    "\n",
    "# Plot\n",
    "grouped.plot(kind='bar', width=0.7)\n",
    "plt.title(\"Orders by Stoploss Status for Each Stock\")\n",
    "plt.xlabel(\"Stock Symbol\")\n",
    "plt.ylabel(\"Number of Orders\")\n",
    "plt.xticks(rotation=0)\n",
    "plt.legend(title='Stoploss Reached', labels=['No', 'Yes'])\n",
    "\n",
    "plt.show()"
   ]
  },
  {
   "cell_type": "code",
   "execution_count": 88,
   "metadata": {},
   "outputs": [
    {
     "data": {
      "image/png": "[encoded data removed]",
      "text/plain": [
       "<Figure size 640x480 with 1 Axes>"
      ]
     },
     "metadata": {},
     "output_type": "display_data"
    }
   ],
   "source": [
    "df_desaprobados\n",
    "grouped = df_desaprobados.groupby(['Symbol', 'Stoploss-Reached']).size().unstack(fill_value=0)\n",
    "\n",
    "# Plot\n",
    "grouped.plot(kind='bar', width=0.7)\n",
    "plt.title(\"Orders by Stoploss Status for Each Stock\")\n",
    "plt.xlabel(\"Stock Symbol\")\n",
    "plt.ylabel(\"Number of Orders\")\n",
    "plt.xticks(rotation=0)\n",
    "plt.legend(title='Stoploss Reached', labels=['No', 'Yes'])\n",
    "\n",
    "plt.show()"
   ]
  },
  {
   "cell_type": "code",
   "execution_count": null,
   "metadata": {},
   "outputs": [],
   "source": []
  }
 ],
 "metadata": {
  "kernelspec": {
   "display_name": "EDA_SS_IA",
   "language": "python",
   "name": "python3"
  },
  "language_info": {
   "codemirror_mode": {
    "name": "ipython",
    "version": 3
   },
   "file_extension": ".py",
   "mimetype": "text/x-python",
   "name": "python",
   "nbconvert_exporter": "python",
   "pygments_lexer": "ipython3",
   "version": "3.12.6"
  }
 },
 "nbformat": 4,
 "nbformat_minor": 2
}
